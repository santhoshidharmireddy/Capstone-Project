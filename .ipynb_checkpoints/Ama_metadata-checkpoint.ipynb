{
 "cells": [
  {
   "cell_type": "code",
   "execution_count": 8,
   "metadata": {},
   "outputs": [],
   "source": [
    "import numpy as np\n",
    "import pandas as pd"
   ]
  },
  {
   "cell_type": "code",
   "execution_count": 2,
   "metadata": {},
   "outputs": [],
   "source": [
    "meta_dat = [i.strip().split(\"::\") for i in open('../metadata.json', 'r',encoding = \"ISO-8859-1\").readlines()]"
   ]
  },
  {
   "cell_type": "code",
   "execution_count": 20,
   "metadata": {},
   "outputs": [],
   "source": [
    "c = meta_dat[0:5]"
   ]
  },
  {
   "cell_type": "code",
   "execution_count": 21,
   "metadata": {},
   "outputs": [],
   "source": [
    "d = pd.DataFrame(c)"
   ]
  },
  {
   "cell_type": "code",
   "execution_count": null,
   "metadata": {},
   "outputs": [],
   "source": [
    "# import gzip\n",
    "\n",
    "# def parse(path):\n",
    "#   g = gzip.open(path, 'rb')\n",
    "#   for l in g:\n",
    "#     yield eval(l)\n",
    "\n",
    "# def getDF(path):\n",
    "#   i = 0\n",
    "#   df = {}\n",
    "#   for d in parse(path):\n",
    "#     df[i] = d\n",
    "#     i += 1\n",
    "#   return pd.DataFrame.from_dict(df, orient='index')\n",
    "\n",
    "# df = getDF('../metadata.json.gz')"
   ]
  }
 ],
 "metadata": {
  "kernelspec": {
   "display_name": "Environment (conda_python3)",
   "language": "python",
   "name": "conda_python3"
  },
  "language_info": {
   "codemirror_mode": {
    "name": "ipython",
    "version": 3
   },
   "file_extension": ".py",
   "mimetype": "text/x-python",
   "name": "python",
   "nbconvert_exporter": "python",
   "pygments_lexer": "ipython3",
   "version": "3.6.6"
  }
 },
 "nbformat": 4,
 "nbformat_minor": 2
}
