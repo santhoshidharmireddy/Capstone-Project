{
 "cells": [
  {
   "cell_type": "code",
   "execution_count": 1,
   "metadata": {},
   "outputs": [],
   "source": [
    "import numpy as np\n",
    "import pandas as pd"
   ]
  },
  {
   "cell_type": "code",
   "execution_count": 2,
   "metadata": {},
   "outputs": [],
   "source": [
    "import matplotlib.pyplot as plt"
   ]
  },
  {
   "cell_type": "code",
   "execution_count": 3,
   "metadata": {},
   "outputs": [],
   "source": [
    "# Reading files stored in EC2 memory\n",
    "#books_ratings = pd.read_csv('../ratings_Books.csv', header=None)"
   ]
  },
  {
   "cell_type": "code",
   "execution_count": 4,
   "metadata": {},
   "outputs": [],
   "source": [
    "#books_ratings.columns = ['UserID','ItemID','rating','Timestamp']"
   ]
  },
  {
   "cell_type": "code",
   "execution_count": 5,
   "metadata": {},
   "outputs": [],
   "source": [
    "#books_ratings.head(5)"
   ]
  },
  {
   "cell_type": "code",
   "execution_count": 6,
   "metadata": {},
   "outputs": [
    {
     "name": "stdout",
     "output_type": "stream",
     "text": [
      "\n",
      "The following command must be run outside of the IPython shell:\n",
      "\n",
      "    $ pip install --upgrade pip \n",
      "\n",
      "The Python package manager (pip) can only be used from outside of IPython.\n",
      "Please reissue the `pip` command in a separate terminal or command prompt.\n",
      "\n",
      "See the Python documentation for more information on how to install packages:\n",
      "\n",
      "    https://docs.python.org/3/installing/\n"
     ]
    }
   ],
   "source": [
    "pip install --upgrade pip "
   ]
  },
  {
   "cell_type": "code",
   "execution_count": 7,
   "metadata": {},
   "outputs": [],
   "source": [
    "# Reading json data files from S3 using lazyread\n",
    "# import boto3\n",
    "# from lazyreader import lazyread\n",
    "# client = boto3.client('s3')\n",
    "# s3_object = client.get_object(Bucket='santhoshi-sparkle', Key='amazon-data/s3-test.json')\n",
    "# body = s3_object['Body']\n",
    "\n",
    "# for doc in lazyread(body, delimiter=b'\\n'):\n",
    "#     print(doc)"
   ]
  },
  {
   "cell_type": "code",
   "execution_count": 8,
   "metadata": {},
   "outputs": [
    {
     "name": "stdout",
     "output_type": "stream",
     "text": [
      "Requirement already up-to-date: pip in /home/ubuntu/anaconda3/envs/python3/lib/python3.6/site-packages (18.0)\n",
      "Requirement already satisfied: lazyreader in /home/ubuntu/anaconda3/envs/python3/lib/python3.6/site-packages (1.0.1)\n"
     ]
    }
   ],
   "source": [
    "import sys\n",
    "!{sys.executable} -m pip install --upgrade pip\n",
    "!{sys.executable} -m pip install lazyreader"
   ]
  },
  {
   "cell_type": "code",
   "execution_count": 9,
   "metadata": {},
   "outputs": [
    {
     "name": "stdout",
     "output_type": "stream",
     "text": [
      "Requirement already satisfied: smart_open in /home/ubuntu/anaconda3/envs/python3/lib/python3.6/site-packages (1.6.0)\n",
      "Requirement already satisfied: bz2file in /home/ubuntu/anaconda3/envs/python3/lib/python3.6/site-packages (from smart_open) (0.98)\n",
      "Requirement already satisfied: boto3 in /home/ubuntu/anaconda3/envs/python3/lib/python3.6/site-packages (from smart_open) (1.7.60)\n",
      "Requirement already satisfied: boto>=2.32 in /home/ubuntu/anaconda3/envs/python3/lib/python3.6/site-packages (from smart_open) (2.49.0)\n",
      "Requirement already satisfied: requests in /home/ubuntu/anaconda3/envs/python3/lib/python3.6/site-packages (from smart_open) (2.19.1)\n",
      "Requirement already satisfied: s3transfer<0.2.0,>=0.1.10 in /home/ubuntu/anaconda3/envs/python3/lib/python3.6/site-packages (from boto3->smart_open) (0.1.13)\n",
      "Requirement already satisfied: botocore<1.11.0,>=1.10.60 in /home/ubuntu/anaconda3/envs/python3/lib/python3.6/site-packages (from boto3->smart_open) (1.10.60)\n",
      "Requirement already satisfied: jmespath<1.0.0,>=0.7.1 in /home/ubuntu/anaconda3/envs/python3/lib/python3.6/site-packages (from boto3->smart_open) (0.9.3)\n",
      "Requirement already satisfied: idna<2.8,>=2.5 in /home/ubuntu/anaconda3/envs/python3/lib/python3.6/site-packages (from requests->smart_open) (2.7)\n",
      "Requirement already satisfied: chardet<3.1.0,>=3.0.2 in /home/ubuntu/anaconda3/envs/python3/lib/python3.6/site-packages (from requests->smart_open) (3.0.4)\n",
      "Requirement already satisfied: certifi>=2017.4.17 in /home/ubuntu/anaconda3/envs/python3/lib/python3.6/site-packages (from requests->smart_open) (2018.4.16)\n",
      "Requirement already satisfied: urllib3<1.24,>=1.21.1 in /home/ubuntu/anaconda3/envs/python3/lib/python3.6/site-packages (from requests->smart_open) (1.23)\n",
      "Requirement already satisfied: python-dateutil<3.0.0,>=2.1; python_version >= \"2.7\" in /home/ubuntu/anaconda3/envs/python3/lib/python3.6/site-packages (from botocore<1.11.0,>=1.10.60->boto3->smart_open) (2.7.3)\n",
      "Requirement already satisfied: docutils>=0.10 in /home/ubuntu/anaconda3/envs/python3/lib/python3.6/site-packages (from botocore<1.11.0,>=1.10.60->boto3->smart_open) (0.14)\n",
      "Requirement already satisfied: six>=1.5 in /home/ubuntu/anaconda3/envs/python3/lib/python3.6/site-packages (from python-dateutil<3.0.0,>=2.1; python_version >= \"2.7\"->botocore<1.11.0,>=1.10.60->boto3->smart_open) (1.11.0)\n"
     ]
    }
   ],
   "source": [
    "!{sys.executable} -m pip install smart_open"
   ]
  },
  {
   "cell_type": "code",
   "execution_count": 10,
   "metadata": {},
   "outputs": [],
   "source": [
    "from smart_open import smart_open"
   ]
  },
  {
   "cell_type": "code",
   "execution_count": 10,
   "metadata": {},
   "outputs": [],
   "source": [
    "# Reding csv file from S3 and converting it into dataframe\n",
    "#initial_df = pd.read_csv(smart_open('s3://santhoshi-sparkle/amazon-data/ratings_Clothing_Shoes_and_Jewelry.csv'), header = None)"
   ]
  },
  {
   "cell_type": "code",
   "execution_count": 8,
   "metadata": {},
   "outputs": [],
   "source": [
    "\n",
    "#initial_df.columns = ['UserID','ItemID','rating','Timestamp']"
   ]
  },
  {
   "cell_type": "code",
   "execution_count": 9,
   "metadata": {},
   "outputs": [],
   "source": [
    "#initial_df['Timestamp'] = pd.to_datetime(initial_df.Timestamp,unit='s')"
   ]
  },
  {
   "cell_type": "code",
   "execution_count": 25,
   "metadata": {},
   "outputs": [],
   "source": [
    "#initial_df['new'] = initial_df['Timestamp'].dt.date\n",
    "#initial_df.info()"
   ]
  },
  {
   "cell_type": "code",
   "execution_count": 26,
   "metadata": {},
   "outputs": [],
   "source": [
    "#initial_df.head(5)\n",
    "#new_df = initial_df.drop('Timestamp', axis = 1)"
   ]
  },
  {
   "cell_type": "code",
   "execution_count": 27,
   "metadata": {},
   "outputs": [],
   "source": [
    "#reviews_df = initial_df.drop_duplicates(subset=['UserID', 'ItemID','Timestamp'],inplace=True)\n",
    "#missings = new_df.isnull().sum()"
   ]
  },
  {
   "cell_type": "code",
   "execution_count": 28,
   "metadata": {},
   "outputs": [],
   "source": [
    "# initial_df.shape\n",
    "# missings"
   ]
  },
  {
   "cell_type": "code",
   "execution_count": 29,
   "metadata": {},
   "outputs": [],
   "source": [
    "#new_df.head(10).T"
   ]
  },
  {
   "cell_type": "code",
   "execution_count": 20,
   "metadata": {},
   "outputs": [],
   "source": [
    "import ast"
   ]
  },
  {
   "cell_type": "code",
   "execution_count": 393,
   "metadata": {},
   "outputs": [],
   "source": [
    "# Reading meta_Clothing_Shoes_and_Jewelry data into   EC2 console\n",
    "import json\n",
    "import ast \n",
    "records = []\n",
    "count = 1\n",
    "for line in smart_open('s3://santhoshi-sparkle/amazon-data/meta_Clothing_Shoes_and_Jewelry.json'):\n",
    "    mydict = ast.literal_eval(line.decode(\"utf-8\"))\n",
    "    count = count + 1\n",
    "    records.append(mydict)\n",
    "    if count > 2000000:\n",
    "        break\n",
    " "
   ]
  },
  {
   "cell_type": "code",
   "execution_count": 20,
   "metadata": {},
   "outputs": [],
   "source": [
    "#records"
   ]
  },
  {
   "cell_type": "code",
   "execution_count": 394,
   "metadata": {},
   "outputs": [],
   "source": [
    "# Converting list of dictionaries to dataframe\n",
    "meta_Clothing_Shoes_and_Jewelry_df = pd.DataFrame(records)"
   ]
  },
  {
   "cell_type": "code",
   "execution_count": 395,
   "metadata": {},
   "outputs": [
    {
     "data": {
      "text/html": [
       "<div>\n",
       "<style scoped>\n",
       "    .dataframe tbody tr th:only-of-type {\n",
       "        vertical-align: middle;\n",
       "    }\n",
       "\n",
       "    .dataframe tbody tr th {\n",
       "        vertical-align: top;\n",
       "    }\n",
       "\n",
       "    .dataframe thead th {\n",
       "        text-align: right;\n",
       "    }\n",
       "</style>\n",
       "<table border=\"1\" class=\"dataframe\">\n",
       "  <thead>\n",
       "    <tr style=\"text-align: right;\">\n",
       "      <th></th>\n",
       "      <th>0</th>\n",
       "      <th>1</th>\n",
       "      <th>2</th>\n",
       "      <th>3</th>\n",
       "      <th>4</th>\n",
       "    </tr>\n",
       "  </thead>\n",
       "  <tbody>\n",
       "    <tr>\n",
       "      <th>asin</th>\n",
       "      <td>0000037214</td>\n",
       "      <td>0000031887</td>\n",
       "      <td>0123456479</td>\n",
       "      <td>0456844570</td>\n",
       "      <td>0456808574</td>\n",
       "    </tr>\n",
       "    <tr>\n",
       "      <th>brand</th>\n",
       "      <td>Big Dreams</td>\n",
       "      <td>Boutique Cutie</td>\n",
       "      <td>NaN</td>\n",
       "      <td>NaN</td>\n",
       "      <td>NaN</td>\n",
       "    </tr>\n",
       "    <tr>\n",
       "      <th>categories</th>\n",
       "      <td>[[Clothing, Shoes &amp; Jewelry, Girls], [Clothing...</td>\n",
       "      <td>[[Clothing, Shoes &amp; Jewelry, Girls, Clothing, ...</td>\n",
       "      <td>[[Clothing, Shoes &amp; Jewelry, Novelty, Costumes...</td>\n",
       "      <td>[[Clothing, Shoes &amp; Jewelry, Women, Accessorie...</td>\n",
       "      <td>[[Clothing, Shoes &amp; Jewelry, Women, Accessorie...</td>\n",
       "    </tr>\n",
       "    <tr>\n",
       "      <th>description</th>\n",
       "      <td>NaN</td>\n",
       "      <td>This adorable basic ballerina tutu is perfect ...</td>\n",
       "      <td>Elegance par excellence. Hand-crafted of the f...</td>\n",
       "      <td>NaN</td>\n",
       "      <td>NaN</td>\n",
       "    </tr>\n",
       "    <tr>\n",
       "      <th>imUrl</th>\n",
       "      <td>http://ecx.images-amazon.com/images/I/31mCncNu...</td>\n",
       "      <td>http://ecx.images-amazon.com/images/I/314qZjYe...</td>\n",
       "      <td>http://ecx.images-amazon.com/images/I/413tGhqo...</td>\n",
       "      <td>http://ecx.images-amazon.com/images/I/31QZTHxv...</td>\n",
       "      <td>http://ecx.images-amazon.com/images/I/31UsrgT5...</td>\n",
       "    </tr>\n",
       "    <tr>\n",
       "      <th>price</th>\n",
       "      <td>6.99</td>\n",
       "      <td>6.79</td>\n",
       "      <td>64.98</td>\n",
       "      <td>NaN</td>\n",
       "      <td>NaN</td>\n",
       "    </tr>\n",
       "    <tr>\n",
       "      <th>related</th>\n",
       "      <td>{'also_viewed': ['B00JO8II76', 'B00DGN4R1Q', '...</td>\n",
       "      <td>{'also_bought': ['0000031852', '0000031895', '...</td>\n",
       "      <td>{'also_bought': ['B000BMTCK6', 'B0006JCGUM', '...</td>\n",
       "      <td>{'also_viewed': ['B008MTRT1O', 'B00BUG47S4', '...</td>\n",
       "      <td>{'also_viewed': ['B00A6JD8EA', 'B00BFL4FTA', '...</td>\n",
       "    </tr>\n",
       "    <tr>\n",
       "      <th>salesRank</th>\n",
       "      <td>{'Clothing': 1233557}</td>\n",
       "      <td>{'Sports &amp;amp; Outdoors': 8547}</td>\n",
       "      <td>{'Kitchen &amp; Dining': 16987}</td>\n",
       "      <td>{'Clothing': 1180499}</td>\n",
       "      <td>{'Clothing': 1038084}</td>\n",
       "    </tr>\n",
       "    <tr>\n",
       "      <th>title</th>\n",
       "      <td>Purple Sequin Tiny Dancer Tutu Ballet Dance Fa...</td>\n",
       "      <td>Ballet Dress-Up Fairy Tutu</td>\n",
       "      <td>SHINING IMAGE HUGE PINK LEATHER JEWELRY BOX / ...</td>\n",
       "      <td>RiZ Women's Beautify Crafted &amp;frac12; Rimmed F...</td>\n",
       "      <td>Lantin White Visor Wrap Around Ski Style Aviat...</td>\n",
       "    </tr>\n",
       "  </tbody>\n",
       "</table>\n",
       "</div>"
      ],
      "text/plain": [
       "                                                             0  \\\n",
       "asin                                                0000037214   \n",
       "brand                                               Big Dreams   \n",
       "categories   [[Clothing, Shoes & Jewelry, Girls], [Clothing...   \n",
       "description                                                NaN   \n",
       "imUrl        http://ecx.images-amazon.com/images/I/31mCncNu...   \n",
       "price                                                     6.99   \n",
       "related      {'also_viewed': ['B00JO8II76', 'B00DGN4R1Q', '...   \n",
       "salesRank                                {'Clothing': 1233557}   \n",
       "title        Purple Sequin Tiny Dancer Tutu Ballet Dance Fa...   \n",
       "\n",
       "                                                             1  \\\n",
       "asin                                                0000031887   \n",
       "brand                                           Boutique Cutie   \n",
       "categories   [[Clothing, Shoes & Jewelry, Girls, Clothing, ...   \n",
       "description  This adorable basic ballerina tutu is perfect ...   \n",
       "imUrl        http://ecx.images-amazon.com/images/I/314qZjYe...   \n",
       "price                                                     6.79   \n",
       "related      {'also_bought': ['0000031852', '0000031895', '...   \n",
       "salesRank                      {'Sports &amp; Outdoors': 8547}   \n",
       "title                               Ballet Dress-Up Fairy Tutu   \n",
       "\n",
       "                                                             2  \\\n",
       "asin                                                0123456479   \n",
       "brand                                                      NaN   \n",
       "categories   [[Clothing, Shoes & Jewelry, Novelty, Costumes...   \n",
       "description  Elegance par excellence. Hand-crafted of the f...   \n",
       "imUrl        http://ecx.images-amazon.com/images/I/413tGhqo...   \n",
       "price                                                    64.98   \n",
       "related      {'also_bought': ['B000BMTCK6', 'B0006JCGUM', '...   \n",
       "salesRank                          {'Kitchen & Dining': 16987}   \n",
       "title        SHINING IMAGE HUGE PINK LEATHER JEWELRY BOX / ...   \n",
       "\n",
       "                                                             3  \\\n",
       "asin                                                0456844570   \n",
       "brand                                                      NaN   \n",
       "categories   [[Clothing, Shoes & Jewelry, Women, Accessorie...   \n",
       "description                                                NaN   \n",
       "imUrl        http://ecx.images-amazon.com/images/I/31QZTHxv...   \n",
       "price                                                      NaN   \n",
       "related      {'also_viewed': ['B008MTRT1O', 'B00BUG47S4', '...   \n",
       "salesRank                                {'Clothing': 1180499}   \n",
       "title        RiZ Women's Beautify Crafted &frac12; Rimmed F...   \n",
       "\n",
       "                                                             4  \n",
       "asin                                                0456808574  \n",
       "brand                                                      NaN  \n",
       "categories   [[Clothing, Shoes & Jewelry, Women, Accessorie...  \n",
       "description                                                NaN  \n",
       "imUrl        http://ecx.images-amazon.com/images/I/31UsrgT5...  \n",
       "price                                                      NaN  \n",
       "related      {'also_viewed': ['B00A6JD8EA', 'B00BFL4FTA', '...  \n",
       "salesRank                                {'Clothing': 1038084}  \n",
       "title        Lantin White Visor Wrap Around Ski Style Aviat...  "
      ]
     },
     "execution_count": 395,
     "metadata": {},
     "output_type": "execute_result"
    }
   ],
   "source": [
    "meta_Clothing_Shoes_and_Jewelry_df.head(5).T"
   ]
  },
  {
   "cell_type": "code",
   "execution_count": 396,
   "metadata": {},
   "outputs": [
    {
     "data": {
      "text/plain": [
       "(1503384, 9)"
      ]
     },
     "execution_count": 396,
     "metadata": {},
     "output_type": "execute_result"
    }
   ],
   "source": [
    "meta_Clothing_Shoes_and_Jewelry_df.shape"
   ]
  },
  {
   "cell_type": "code",
   "execution_count": 397,
   "metadata": {},
   "outputs": [
    {
     "data": {
      "text/plain": [
       "{'ResponseMetadata': {'RequestId': '3D111D408EAD709D',\n",
       "  'HostId': 'T1XExJQP6a8q7IfXuROljKFlnqPHEWiNxZKh7KxcL83C1fHk9vNbV3UXioUoLqE69QZDr/bgU0s=',\n",
       "  'HTTPStatusCode': 200,\n",
       "  'HTTPHeaders': {'x-amz-id-2': 'T1XExJQP6a8q7IfXuROljKFlnqPHEWiNxZKh7KxcL83C1fHk9vNbV3UXioUoLqE69QZDr/bgU0s=',\n",
       "   'x-amz-request-id': '3D111D408EAD709D',\n",
       "   'date': 'Tue, 14 Aug 2018 09:08:41 GMT',\n",
       "   'etag': '\"3ee76e8d564a2e44699696f0a6d5b86f\"',\n",
       "   'content-length': '0',\n",
       "   'server': 'AmazonS3'},\n",
       "  'RetryAttempts': 0},\n",
       " 'ETag': '\"3ee76e8d564a2e44699696f0a6d5b86f\"'}"
      ]
     },
     "execution_count": 397,
     "metadata": {},
     "output_type": "execute_result"
    }
   ],
   "source": [
    "#Writing dataframes to csv and dump in S3 \n",
    "import boto3\n",
    "from io import StringIO\n",
    "\n",
    "csv_buffer = StringIO()\n",
    "meta_Clothing_Shoes_and_Jewelry_df.to_csv(csv_buffer)\n",
    "s3_resource = boto3.resource('s3')\n",
    "s3_resource.Object('santhoshi-sparkle', 'amazon-data/meta_Clothing_Shoes_and_Jewelry_df.csv').put(Body=csv_buffer.getvalue())"
   ]
  },
  {
   "cell_type": "code",
   "execution_count": 398,
   "metadata": {},
   "outputs": [],
   "source": [
    "# Reading csv from S3\n",
    "meta_Clothing_Shoes_and_Jewelry_df = pd.read_csv(smart_open('s3://santhoshi-sparkle/amazon-data/meta_Clothing_Shoes_and_Jewelry_df.csv'))"
   ]
  },
  {
   "cell_type": "code",
   "execution_count": 399,
   "metadata": {},
   "outputs": [
    {
     "name": "stdout",
     "output_type": "stream",
     "text": [
      "<class 'pandas.core.frame.DataFrame'>\n",
      "RangeIndex: 1503384 entries, 0 to 1503383\n",
      "Data columns (total 10 columns):\n",
      "Unnamed: 0     1503384 non-null int64\n",
      "asin           1503384 non-null object\n",
      "brand          97407 non-null object\n",
      "categories     1503384 non-null object\n",
      "description    84781 non-null object\n",
      "imUrl          1503305 non-null object\n",
      "price          574882 non-null float64\n",
      "related        1057123 non-null object\n",
      "salesRank      1422273 non-null object\n",
      "title          1502696 non-null object\n",
      "dtypes: float64(1), int64(1), object(8)\n",
      "memory usage: 114.7+ MB\n"
     ]
    }
   ],
   "source": [
    "meta_Clothing_Shoes_and_Jewelry_df.info()"
   ]
  },
  {
   "cell_type": "code",
   "execution_count": 12,
   "metadata": {},
   "outputs": [],
   "source": [
    "#meta_reviews_df = meta_Clothing_Shoes_and_Jewelry_df.drop_duplicates(subset=['UserID', 'ItemID','Timestamp'],inplace=True)\n",
    "## We use meta data for Content-based filtering"
   ]
  },
  {
   "cell_type": "code",
   "execution_count": 13,
   "metadata": {},
   "outputs": [
    {
     "data": {
      "text/html": [
       "<div>\n",
       "<style scoped>\n",
       "    .dataframe tbody tr th:only-of-type {\n",
       "        vertical-align: middle;\n",
       "    }\n",
       "\n",
       "    .dataframe tbody tr th {\n",
       "        vertical-align: top;\n",
       "    }\n",
       "\n",
       "    .dataframe thead th {\n",
       "        text-align: right;\n",
       "    }\n",
       "</style>\n",
       "<table border=\"1\" class=\"dataframe\">\n",
       "  <thead>\n",
       "    <tr style=\"text-align: right;\">\n",
       "      <th></th>\n",
       "      <th>0</th>\n",
       "      <th>1</th>\n",
       "      <th>2</th>\n",
       "      <th>3</th>\n",
       "      <th>4</th>\n",
       "    </tr>\n",
       "  </thead>\n",
       "  <tbody>\n",
       "    <tr>\n",
       "      <th>Unnamed: 0</th>\n",
       "      <td>0</td>\n",
       "      <td>1</td>\n",
       "      <td>2</td>\n",
       "      <td>3</td>\n",
       "      <td>4</td>\n",
       "    </tr>\n",
       "    <tr>\n",
       "      <th>asin</th>\n",
       "      <td>0000037214</td>\n",
       "      <td>0000031887</td>\n",
       "      <td>0123456479</td>\n",
       "      <td>0456844570</td>\n",
       "      <td>0456808574</td>\n",
       "    </tr>\n",
       "    <tr>\n",
       "      <th>brand</th>\n",
       "      <td>Big Dreams</td>\n",
       "      <td>Boutique Cutie</td>\n",
       "      <td>NaN</td>\n",
       "      <td>NaN</td>\n",
       "      <td>NaN</td>\n",
       "    </tr>\n",
       "    <tr>\n",
       "      <th>categories</th>\n",
       "      <td>[['Clothing, Shoes &amp; Jewelry', 'Girls'], ['Clo...</td>\n",
       "      <td>[['Clothing, Shoes &amp; Jewelry', 'Girls', 'Cloth...</td>\n",
       "      <td>[['Clothing, Shoes &amp; Jewelry', 'Novelty, Costu...</td>\n",
       "      <td>[['Clothing, Shoes &amp; Jewelry', 'Women', 'Acces...</td>\n",
       "      <td>[['Clothing, Shoes &amp; Jewelry', 'Women', 'Acces...</td>\n",
       "    </tr>\n",
       "    <tr>\n",
       "      <th>description</th>\n",
       "      <td>NaN</td>\n",
       "      <td>This adorable basic ballerina tutu is perfect ...</td>\n",
       "      <td>Elegance par excellence. Hand-crafted of the f...</td>\n",
       "      <td>NaN</td>\n",
       "      <td>NaN</td>\n",
       "    </tr>\n",
       "    <tr>\n",
       "      <th>imUrl</th>\n",
       "      <td>http://ecx.images-amazon.com/images/I/31mCncNu...</td>\n",
       "      <td>http://ecx.images-amazon.com/images/I/314qZjYe...</td>\n",
       "      <td>http://ecx.images-amazon.com/images/I/413tGhqo...</td>\n",
       "      <td>http://ecx.images-amazon.com/images/I/31QZTHxv...</td>\n",
       "      <td>http://ecx.images-amazon.com/images/I/31UsrgT5...</td>\n",
       "    </tr>\n",
       "    <tr>\n",
       "      <th>price</th>\n",
       "      <td>6.99</td>\n",
       "      <td>6.79</td>\n",
       "      <td>64.98</td>\n",
       "      <td>NaN</td>\n",
       "      <td>NaN</td>\n",
       "    </tr>\n",
       "    <tr>\n",
       "      <th>related</th>\n",
       "      <td>{'also_viewed': ['B00JO8II76', 'B00DGN4R1Q', '...</td>\n",
       "      <td>{'also_bought': ['0000031852', '0000031895', '...</td>\n",
       "      <td>{'also_bought': ['B000BMTCK6', 'B0006JCGUM', '...</td>\n",
       "      <td>{'also_viewed': ['B008MTRT1O', 'B00BUG47S4', '...</td>\n",
       "      <td>{'also_viewed': ['B00A6JD8EA', 'B00BFL4FTA', '...</td>\n",
       "    </tr>\n",
       "    <tr>\n",
       "      <th>salesRank</th>\n",
       "      <td>{'Clothing': 1233557}</td>\n",
       "      <td>{'Sports &amp;amp; Outdoors': 8547}</td>\n",
       "      <td>{'Kitchen &amp; Dining': 16987}</td>\n",
       "      <td>{'Clothing': 1180499}</td>\n",
       "      <td>{'Clothing': 1038084}</td>\n",
       "    </tr>\n",
       "    <tr>\n",
       "      <th>title</th>\n",
       "      <td>Purple Sequin Tiny Dancer Tutu Ballet Dance Fa...</td>\n",
       "      <td>Ballet Dress-Up Fairy Tutu</td>\n",
       "      <td>SHINING IMAGE HUGE PINK LEATHER JEWELRY BOX / ...</td>\n",
       "      <td>RiZ Women's Beautify Crafted &amp;frac12; Rimmed F...</td>\n",
       "      <td>Lantin White Visor Wrap Around Ski Style Aviat...</td>\n",
       "    </tr>\n",
       "  </tbody>\n",
       "</table>\n",
       "</div>"
      ],
      "text/plain": [
       "                                                             0  \\\n",
       "Unnamed: 0                                                   0   \n",
       "asin                                                0000037214   \n",
       "brand                                               Big Dreams   \n",
       "categories   [['Clothing, Shoes & Jewelry', 'Girls'], ['Clo...   \n",
       "description                                                NaN   \n",
       "imUrl        http://ecx.images-amazon.com/images/I/31mCncNu...   \n",
       "price                                                     6.99   \n",
       "related      {'also_viewed': ['B00JO8II76', 'B00DGN4R1Q', '...   \n",
       "salesRank                                {'Clothing': 1233557}   \n",
       "title        Purple Sequin Tiny Dancer Tutu Ballet Dance Fa...   \n",
       "\n",
       "                                                             1  \\\n",
       "Unnamed: 0                                                   1   \n",
       "asin                                                0000031887   \n",
       "brand                                           Boutique Cutie   \n",
       "categories   [['Clothing, Shoes & Jewelry', 'Girls', 'Cloth...   \n",
       "description  This adorable basic ballerina tutu is perfect ...   \n",
       "imUrl        http://ecx.images-amazon.com/images/I/314qZjYe...   \n",
       "price                                                     6.79   \n",
       "related      {'also_bought': ['0000031852', '0000031895', '...   \n",
       "salesRank                      {'Sports &amp; Outdoors': 8547}   \n",
       "title                               Ballet Dress-Up Fairy Tutu   \n",
       "\n",
       "                                                             2  \\\n",
       "Unnamed: 0                                                   2   \n",
       "asin                                                0123456479   \n",
       "brand                                                      NaN   \n",
       "categories   [['Clothing, Shoes & Jewelry', 'Novelty, Costu...   \n",
       "description  Elegance par excellence. Hand-crafted of the f...   \n",
       "imUrl        http://ecx.images-amazon.com/images/I/413tGhqo...   \n",
       "price                                                    64.98   \n",
       "related      {'also_bought': ['B000BMTCK6', 'B0006JCGUM', '...   \n",
       "salesRank                          {'Kitchen & Dining': 16987}   \n",
       "title        SHINING IMAGE HUGE PINK LEATHER JEWELRY BOX / ...   \n",
       "\n",
       "                                                             3  \\\n",
       "Unnamed: 0                                                   3   \n",
       "asin                                                0456844570   \n",
       "brand                                                      NaN   \n",
       "categories   [['Clothing, Shoes & Jewelry', 'Women', 'Acces...   \n",
       "description                                                NaN   \n",
       "imUrl        http://ecx.images-amazon.com/images/I/31QZTHxv...   \n",
       "price                                                      NaN   \n",
       "related      {'also_viewed': ['B008MTRT1O', 'B00BUG47S4', '...   \n",
       "salesRank                                {'Clothing': 1180499}   \n",
       "title        RiZ Women's Beautify Crafted &frac12; Rimmed F...   \n",
       "\n",
       "                                                             4  \n",
       "Unnamed: 0                                                   4  \n",
       "asin                                                0456808574  \n",
       "brand                                                      NaN  \n",
       "categories   [['Clothing, Shoes & Jewelry', 'Women', 'Acces...  \n",
       "description                                                NaN  \n",
       "imUrl        http://ecx.images-amazon.com/images/I/31UsrgT5...  \n",
       "price                                                      NaN  \n",
       "related      {'also_viewed': ['B00A6JD8EA', 'B00BFL4FTA', '...  \n",
       "salesRank                                {'Clothing': 1038084}  \n",
       "title        Lantin White Visor Wrap Around Ski Style Aviat...  "
      ]
     },
     "execution_count": 13,
     "metadata": {},
     "output_type": "execute_result"
    }
   ],
   "source": [
    "meta_Clothing_Shoes_and_Jewelry_df.head(5).T"
   ]
  },
  {
   "cell_type": "code",
   "execution_count": null,
   "metadata": {},
   "outputs": [],
   "source": []
  },
  {
   "cell_type": "code",
   "execution_count": 10,
   "metadata": {},
   "outputs": [],
   "source": [
    "# Reading reviews_Clothing_Shoes_and_Jewelry data into   EC2 console\n",
    "import json\n",
    "import ast \n",
    "records1 = []\n",
    "count = 1\n",
    "for line in smart_open('s3://santhoshi-sparkle/amazon-data/reviews_Clothing_Shoes_and_Jewelry.json'):\n",
    "    mydict = ast.literal_eval(line.decode(\"utf-8\"))\n",
    "    count = count + 1\n",
    "    records1.append(mydict)\n",
    "    if count > 5700000:\n",
    "        break"
   ]
  },
  {
   "cell_type": "code",
   "execution_count": 22,
   "metadata": {},
   "outputs": [],
   "source": [
    "#records1"
   ]
  },
  {
   "cell_type": "code",
   "execution_count": 23,
   "metadata": {},
   "outputs": [],
   "source": [
    "reviews_Clothing_Shoes_and_Jewelry_df = pd.DataFrame(records1)"
   ]
  },
  {
   "cell_type": "code",
   "execution_count": 24,
   "metadata": {},
   "outputs": [
    {
     "data": {
      "text/html": [
       "<div>\n",
       "<style scoped>\n",
       "    .dataframe tbody tr th:only-of-type {\n",
       "        vertical-align: middle;\n",
       "    }\n",
       "\n",
       "    .dataframe tbody tr th {\n",
       "        vertical-align: top;\n",
       "    }\n",
       "\n",
       "    .dataframe thead th {\n",
       "        text-align: right;\n",
       "    }\n",
       "</style>\n",
       "<table border=\"1\" class=\"dataframe\">\n",
       "  <thead>\n",
       "    <tr style=\"text-align: right;\">\n",
       "      <th></th>\n",
       "      <th>0</th>\n",
       "      <th>1</th>\n",
       "      <th>2</th>\n",
       "      <th>3</th>\n",
       "      <th>4</th>\n",
       "    </tr>\n",
       "  </thead>\n",
       "  <tbody>\n",
       "    <tr>\n",
       "      <th>asin</th>\n",
       "      <td>0000031887</td>\n",
       "      <td>0000031887</td>\n",
       "      <td>0000031887</td>\n",
       "      <td>0000031887</td>\n",
       "      <td>0000031887</td>\n",
       "    </tr>\n",
       "    <tr>\n",
       "      <th>helpful</th>\n",
       "      <td>[0, 0]</td>\n",
       "      <td>[1, 1]</td>\n",
       "      <td>[1, 1]</td>\n",
       "      <td>[0, 1]</td>\n",
       "      <td>[0, 0]</td>\n",
       "    </tr>\n",
       "    <tr>\n",
       "      <th>overall</th>\n",
       "      <td>5</td>\n",
       "      <td>4</td>\n",
       "      <td>2</td>\n",
       "      <td>1</td>\n",
       "      <td>4</td>\n",
       "    </tr>\n",
       "    <tr>\n",
       "      <th>reviewText</th>\n",
       "      <td>Perfect red tutu for the price. I baught it as...</td>\n",
       "      <td>This was a really cute tutu the only problem i...</td>\n",
       "      <td>the tutu color was very nice. the only issue w...</td>\n",
       "      <td>My 3-yr-old daughter received this as a gift f...</td>\n",
       "      <td>Bought it for my daughters first birthday whic...</td>\n",
       "    </tr>\n",
       "    <tr>\n",
       "      <th>reviewTime</th>\n",
       "      <td>11 4, 2013</td>\n",
       "      <td>05 26, 2012</td>\n",
       "      <td>02 17, 2013</td>\n",
       "      <td>03 21, 2013</td>\n",
       "      <td>01 23, 2014</td>\n",
       "    </tr>\n",
       "    <tr>\n",
       "      <th>reviewerID</th>\n",
       "      <td>A2XVJBSRI3SWDI</td>\n",
       "      <td>A2G0LNLN79Q6HR</td>\n",
       "      <td>A2R3K1KX09QBYP</td>\n",
       "      <td>A19PBP93OF896</td>\n",
       "      <td>A1P0IHU93EF9ZK</td>\n",
       "    </tr>\n",
       "    <tr>\n",
       "      <th>reviewerName</th>\n",
       "      <td>abigail</td>\n",
       "      <td>aj_18 \"Aj_18\"</td>\n",
       "      <td>alert consumer</td>\n",
       "      <td>Alinna Satake \"Can't Stop Eating\"</td>\n",
       "      <td>Amanda</td>\n",
       "    </tr>\n",
       "    <tr>\n",
       "      <th>summary</th>\n",
       "      <td>Nice tutu</td>\n",
       "      <td>Really Cute but rather short.</td>\n",
       "      <td>not very good material.</td>\n",
       "      <td>Tiny and Poorly Constructed!</td>\n",
       "      <td>i love it</td>\n",
       "    </tr>\n",
       "    <tr>\n",
       "      <th>unixReviewTime</th>\n",
       "      <td>1383523200</td>\n",
       "      <td>1337990400</td>\n",
       "      <td>1361059200</td>\n",
       "      <td>1363824000</td>\n",
       "      <td>1390435200</td>\n",
       "    </tr>\n",
       "  </tbody>\n",
       "</table>\n",
       "</div>"
      ],
      "text/plain": [
       "                                                                0  \\\n",
       "asin                                                   0000031887   \n",
       "helpful                                                    [0, 0]   \n",
       "overall                                                         5   \n",
       "reviewText      Perfect red tutu for the price. I baught it as...   \n",
       "reviewTime                                             11 4, 2013   \n",
       "reviewerID                                         A2XVJBSRI3SWDI   \n",
       "reviewerName                                              abigail   \n",
       "summary                                                 Nice tutu   \n",
       "unixReviewTime                                         1383523200   \n",
       "\n",
       "                                                                1  \\\n",
       "asin                                                   0000031887   \n",
       "helpful                                                    [1, 1]   \n",
       "overall                                                         4   \n",
       "reviewText      This was a really cute tutu the only problem i...   \n",
       "reviewTime                                            05 26, 2012   \n",
       "reviewerID                                         A2G0LNLN79Q6HR   \n",
       "reviewerName                                        aj_18 \"Aj_18\"   \n",
       "summary                             Really Cute but rather short.   \n",
       "unixReviewTime                                         1337990400   \n",
       "\n",
       "                                                                2  \\\n",
       "asin                                                   0000031887   \n",
       "helpful                                                    [1, 1]   \n",
       "overall                                                         2   \n",
       "reviewText      the tutu color was very nice. the only issue w...   \n",
       "reviewTime                                            02 17, 2013   \n",
       "reviewerID                                         A2R3K1KX09QBYP   \n",
       "reviewerName                                       alert consumer   \n",
       "summary                                   not very good material.   \n",
       "unixReviewTime                                         1361059200   \n",
       "\n",
       "                                                                3  \\\n",
       "asin                                                   0000031887   \n",
       "helpful                                                    [0, 1]   \n",
       "overall                                                         1   \n",
       "reviewText      My 3-yr-old daughter received this as a gift f...   \n",
       "reviewTime                                            03 21, 2013   \n",
       "reviewerID                                          A19PBP93OF896   \n",
       "reviewerName                    Alinna Satake \"Can't Stop Eating\"   \n",
       "summary                              Tiny and Poorly Constructed!   \n",
       "unixReviewTime                                         1363824000   \n",
       "\n",
       "                                                                4  \n",
       "asin                                                   0000031887  \n",
       "helpful                                                    [0, 0]  \n",
       "overall                                                         4  \n",
       "reviewText      Bought it for my daughters first birthday whic...  \n",
       "reviewTime                                            01 23, 2014  \n",
       "reviewerID                                         A1P0IHU93EF9ZK  \n",
       "reviewerName                                               Amanda  \n",
       "summary                                                 i love it  \n",
       "unixReviewTime                                         1390435200  "
      ]
     },
     "execution_count": 24,
     "metadata": {},
     "output_type": "execute_result"
    }
   ],
   "source": [
    "reviews_Clothing_Shoes_and_Jewelry_df.head(5).T"
   ]
  },
  {
   "cell_type": "code",
   "execution_count": 25,
   "metadata": {},
   "outputs": [
    {
     "data": {
      "text/plain": [
       "(2000000, 9)"
      ]
     },
     "execution_count": 25,
     "metadata": {},
     "output_type": "execute_result"
    }
   ],
   "source": [
    "reviews_Clothing_Shoes_and_Jewelry_df.shape"
   ]
  },
  {
   "cell_type": "code",
   "execution_count": 78,
   "metadata": {},
   "outputs": [
    {
     "data": {
      "text/plain": [
       "{'ResponseMetadata': {'RequestId': '10838E8AA9334743',\n",
       "  'HostId': '+l9DSC9IqR+3ZBRtVDNlpq8rohNihZVrAvgzM99vfsvT3S1vBmi5NCFJ82R0WPQqoFpEluNgysw=',\n",
       "  'HTTPStatusCode': 200,\n",
       "  'HTTPHeaders': {'x-amz-id-2': '+l9DSC9IqR+3ZBRtVDNlpq8rohNihZVrAvgzM99vfsvT3S1vBmi5NCFJ82R0WPQqoFpEluNgysw=',\n",
       "   'x-amz-request-id': '10838E8AA9334743',\n",
       "   'date': 'Fri, 10 Aug 2018 00:26:56 GMT',\n",
       "   'etag': '\"06d2b6282c3b9c1fd0b1051ac6a02386\"',\n",
       "   'content-length': '0',\n",
       "   'server': 'AmazonS3'},\n",
       "  'RetryAttempts': 0},\n",
       " 'ETag': '\"06d2b6282c3b9c1fd0b1051ac6a02386\"'}"
      ]
     },
     "execution_count": 78,
     "metadata": {},
     "output_type": "execute_result"
    }
   ],
   "source": [
    "#Writing dataframes to csv and dump in S3 \n",
    "import boto3\n",
    "from io import StringIO\n",
    "\n",
    "csv_buffer = StringIO()\n",
    "reviews_Clothing_Shoes_and_Jewelry_df.to_csv(csv_buffer)\n",
    "s3_resource = boto3.resource('s3')\n",
    "s3_resource.Object('santhoshi-sparkle', 'amazon-data/reviews_Clothing_Shoes_and_Jewelry_df.csv').put(Body=csv_buffer.getvalue())"
   ]
  },
  {
   "cell_type": "code",
   "execution_count": 7,
   "metadata": {},
   "outputs": [],
   "source": [
    "reviews_Clothing_Shoes_and_Jewelry_df = pd.read_csv(smart_open('s3://santhoshi-sparkle/amazon-data/reviews_Clothing_Shoes_and_Jewelry_df.csv'))"
   ]
  },
  {
   "cell_type": "code",
   "execution_count": 8,
   "metadata": {},
   "outputs": [
    {
     "data": {
      "text/html": [
       "<div>\n",
       "<style scoped>\n",
       "    .dataframe tbody tr th:only-of-type {\n",
       "        vertical-align: middle;\n",
       "    }\n",
       "\n",
       "    .dataframe tbody tr th {\n",
       "        vertical-align: top;\n",
       "    }\n",
       "\n",
       "    .dataframe thead th {\n",
       "        text-align: right;\n",
       "    }\n",
       "</style>\n",
       "<table border=\"1\" class=\"dataframe\">\n",
       "  <thead>\n",
       "    <tr style=\"text-align: right;\">\n",
       "      <th></th>\n",
       "      <th>0</th>\n",
       "      <th>1</th>\n",
       "      <th>2</th>\n",
       "      <th>3</th>\n",
       "    </tr>\n",
       "  </thead>\n",
       "  <tbody>\n",
       "    <tr>\n",
       "      <th>Unnamed: 0</th>\n",
       "      <td>0</td>\n",
       "      <td>1</td>\n",
       "      <td>2</td>\n",
       "      <td>3</td>\n",
       "    </tr>\n",
       "    <tr>\n",
       "      <th>asin</th>\n",
       "      <td>0000031887</td>\n",
       "      <td>0000031887</td>\n",
       "      <td>0000031887</td>\n",
       "      <td>0000031887</td>\n",
       "    </tr>\n",
       "    <tr>\n",
       "      <th>helpful</th>\n",
       "      <td>[0, 0]</td>\n",
       "      <td>[1, 1]</td>\n",
       "      <td>[1, 1]</td>\n",
       "      <td>[0, 1]</td>\n",
       "    </tr>\n",
       "    <tr>\n",
       "      <th>overall</th>\n",
       "      <td>5</td>\n",
       "      <td>4</td>\n",
       "      <td>2</td>\n",
       "      <td>1</td>\n",
       "    </tr>\n",
       "    <tr>\n",
       "      <th>reviewText</th>\n",
       "      <td>Perfect red tutu for the price. I baught it as...</td>\n",
       "      <td>This was a really cute tutu the only problem i...</td>\n",
       "      <td>the tutu color was very nice. the only issue w...</td>\n",
       "      <td>My 3-yr-old daughter received this as a gift f...</td>\n",
       "    </tr>\n",
       "    <tr>\n",
       "      <th>reviewTime</th>\n",
       "      <td>11 4, 2013</td>\n",
       "      <td>05 26, 2012</td>\n",
       "      <td>02 17, 2013</td>\n",
       "      <td>03 21, 2013</td>\n",
       "    </tr>\n",
       "    <tr>\n",
       "      <th>reviewerID</th>\n",
       "      <td>A2XVJBSRI3SWDI</td>\n",
       "      <td>A2G0LNLN79Q6HR</td>\n",
       "      <td>A2R3K1KX09QBYP</td>\n",
       "      <td>A19PBP93OF896</td>\n",
       "    </tr>\n",
       "    <tr>\n",
       "      <th>reviewerName</th>\n",
       "      <td>abigail</td>\n",
       "      <td>aj_18 \"Aj_18\"</td>\n",
       "      <td>alert consumer</td>\n",
       "      <td>Alinna Satake \"Can't Stop Eating\"</td>\n",
       "    </tr>\n",
       "    <tr>\n",
       "      <th>summary</th>\n",
       "      <td>Nice tutu</td>\n",
       "      <td>Really Cute but rather short.</td>\n",
       "      <td>not very good material.</td>\n",
       "      <td>Tiny and Poorly Constructed!</td>\n",
       "    </tr>\n",
       "    <tr>\n",
       "      <th>unixReviewTime</th>\n",
       "      <td>1383523200</td>\n",
       "      <td>1337990400</td>\n",
       "      <td>1361059200</td>\n",
       "      <td>1363824000</td>\n",
       "    </tr>\n",
       "  </tbody>\n",
       "</table>\n",
       "</div>"
      ],
      "text/plain": [
       "                                                                0  \\\n",
       "Unnamed: 0                                                      0   \n",
       "asin                                                   0000031887   \n",
       "helpful                                                    [0, 0]   \n",
       "overall                                                         5   \n",
       "reviewText      Perfect red tutu for the price. I baught it as...   \n",
       "reviewTime                                             11 4, 2013   \n",
       "reviewerID                                         A2XVJBSRI3SWDI   \n",
       "reviewerName                                              abigail   \n",
       "summary                                                 Nice tutu   \n",
       "unixReviewTime                                         1383523200   \n",
       "\n",
       "                                                                1  \\\n",
       "Unnamed: 0                                                      1   \n",
       "asin                                                   0000031887   \n",
       "helpful                                                    [1, 1]   \n",
       "overall                                                         4   \n",
       "reviewText      This was a really cute tutu the only problem i...   \n",
       "reviewTime                                            05 26, 2012   \n",
       "reviewerID                                         A2G0LNLN79Q6HR   \n",
       "reviewerName                                        aj_18 \"Aj_18\"   \n",
       "summary                             Really Cute but rather short.   \n",
       "unixReviewTime                                         1337990400   \n",
       "\n",
       "                                                                2  \\\n",
       "Unnamed: 0                                                      2   \n",
       "asin                                                   0000031887   \n",
       "helpful                                                    [1, 1]   \n",
       "overall                                                         2   \n",
       "reviewText      the tutu color was very nice. the only issue w...   \n",
       "reviewTime                                            02 17, 2013   \n",
       "reviewerID                                         A2R3K1KX09QBYP   \n",
       "reviewerName                                       alert consumer   \n",
       "summary                                   not very good material.   \n",
       "unixReviewTime                                         1361059200   \n",
       "\n",
       "                                                                3  \n",
       "Unnamed: 0                                                      3  \n",
       "asin                                                   0000031887  \n",
       "helpful                                                    [0, 1]  \n",
       "overall                                                         1  \n",
       "reviewText      My 3-yr-old daughter received this as a gift f...  \n",
       "reviewTime                                            03 21, 2013  \n",
       "reviewerID                                          A19PBP93OF896  \n",
       "reviewerName                    Alinna Satake \"Can't Stop Eating\"  \n",
       "summary                              Tiny and Poorly Constructed!  \n",
       "unixReviewTime                                         1363824000  "
      ]
     },
     "execution_count": 8,
     "metadata": {},
     "output_type": "execute_result"
    }
   ],
   "source": [
    "reviews_Clothing_Shoes_and_Jewelry_df.head(4).T"
   ]
  },
  {
   "cell_type": "code",
   "execution_count": 9,
   "metadata": {},
   "outputs": [],
   "source": [
    "reviews_Clothing_Shoes_and_Jewelry_df.drop_duplicates(subset=['asin', 'reviewerID','unixReviewTime'],inplace=True)\n"
   ]
  },
  {
   "cell_type": "code",
   "execution_count": 10,
   "metadata": {},
   "outputs": [
    {
     "data": {
      "text/plain": [
       "(2000000, 10)"
      ]
     },
     "execution_count": 10,
     "metadata": {},
     "output_type": "execute_result"
    }
   ],
   "source": [
    "reviews_Clothing_Shoes_and_Jewelry_df.shape"
   ]
  },
  {
   "cell_type": "code",
   "execution_count": 11,
   "metadata": {},
   "outputs": [],
   "source": [
    "reviews_Clothing_Shoes_and_Jewelry_df.drop('Unnamed: 0', axis = 1, inplace = True)"
   ]
  },
  {
   "cell_type": "code",
   "execution_count": 12,
   "metadata": {},
   "outputs": [],
   "source": [
    "reviews_Clothing_Shoes_and_Jewelry_df = reviews_Clothing_Shoes_and_Jewelry_df.sort_values(by = 'unixReviewTime', ascending=False)"
   ]
  },
  {
   "cell_type": "code",
   "execution_count": 13,
   "metadata": {},
   "outputs": [
    {
     "data": {
      "text/html": [
       "<div>\n",
       "<style scoped>\n",
       "    .dataframe tbody tr th:only-of-type {\n",
       "        vertical-align: middle;\n",
       "    }\n",
       "\n",
       "    .dataframe tbody tr th {\n",
       "        vertical-align: top;\n",
       "    }\n",
       "\n",
       "    .dataframe thead th {\n",
       "        text-align: right;\n",
       "    }\n",
       "</style>\n",
       "<table border=\"1\" class=\"dataframe\">\n",
       "  <thead>\n",
       "    <tr style=\"text-align: right;\">\n",
       "      <th></th>\n",
       "      <th>1779034</th>\n",
       "      <th>1950879</th>\n",
       "      <th>153860</th>\n",
       "      <th>1991076</th>\n",
       "      <th>614222</th>\n",
       "    </tr>\n",
       "  </thead>\n",
       "  <tbody>\n",
       "    <tr>\n",
       "      <th>asin</th>\n",
       "      <td>B0032Y1WJY</td>\n",
       "      <td>B003FL7CHK</td>\n",
       "      <td>B0007OERXA</td>\n",
       "      <td>B003IPMCZK</td>\n",
       "      <td>B000OQGTNW</td>\n",
       "    </tr>\n",
       "    <tr>\n",
       "      <th>helpful</th>\n",
       "      <td>[0, 0]</td>\n",
       "      <td>[0, 0]</td>\n",
       "      <td>[0, 0]</td>\n",
       "      <td>[0, 0]</td>\n",
       "      <td>[0, 0]</td>\n",
       "    </tr>\n",
       "    <tr>\n",
       "      <th>overall</th>\n",
       "      <td>5</td>\n",
       "      <td>1</td>\n",
       "      <td>5</td>\n",
       "      <td>5</td>\n",
       "      <td>5</td>\n",
       "    </tr>\n",
       "    <tr>\n",
       "      <th>reviewText</th>\n",
       "      <td>Comfortable &amp; Good support.  Purchased a few m...</td>\n",
       "      <td>Was not a wheel sneaker just a sneaker  no whe...</td>\n",
       "      <td>very good</td>\n",
       "      <td>I bought a similar pair from a different vendo...</td>\n",
       "      <td>beautiful</td>\n",
       "    </tr>\n",
       "    <tr>\n",
       "      <th>reviewTime</th>\n",
       "      <td>07 23, 2014</td>\n",
       "      <td>07 23, 2014</td>\n",
       "      <td>07 23, 2014</td>\n",
       "      <td>07 23, 2014</td>\n",
       "      <td>07 23, 2014</td>\n",
       "    </tr>\n",
       "    <tr>\n",
       "      <th>reviewerID</th>\n",
       "      <td>AJXW2U2VAURIX</td>\n",
       "      <td>AW8IA84M1YG6V</td>\n",
       "      <td>A3US3MUN4V1WBK</td>\n",
       "      <td>AD4ND3TCGAYG3</td>\n",
       "      <td>A2NIP2I4GFKUQX</td>\n",
       "    </tr>\n",
       "    <tr>\n",
       "      <th>reviewerName</th>\n",
       "      <td>NaN</td>\n",
       "      <td>natalie alvandi</td>\n",
       "      <td>NaN</td>\n",
       "      <td>NaN</td>\n",
       "      <td>NaN</td>\n",
       "    </tr>\n",
       "    <tr>\n",
       "      <th>summary</th>\n",
       "      <td>Very comfortable</td>\n",
       "      <td>One Star</td>\n",
       "      <td>Five Stars</td>\n",
       "      <td>Awesome</td>\n",
       "      <td>Five Stars</td>\n",
       "    </tr>\n",
       "    <tr>\n",
       "      <th>unixReviewTime</th>\n",
       "      <td>1406073600</td>\n",
       "      <td>1406073600</td>\n",
       "      <td>1406073600</td>\n",
       "      <td>1406073600</td>\n",
       "      <td>1406073600</td>\n",
       "    </tr>\n",
       "  </tbody>\n",
       "</table>\n",
       "</div>"
      ],
      "text/plain": [
       "                                                          1779034  \\\n",
       "asin                                                   B0032Y1WJY   \n",
       "helpful                                                    [0, 0]   \n",
       "overall                                                         5   \n",
       "reviewText      Comfortable & Good support.  Purchased a few m...   \n",
       "reviewTime                                            07 23, 2014   \n",
       "reviewerID                                          AJXW2U2VAURIX   \n",
       "reviewerName                                                  NaN   \n",
       "summary                                          Very comfortable   \n",
       "unixReviewTime                                         1406073600   \n",
       "\n",
       "                                                          1950879  \\\n",
       "asin                                                   B003FL7CHK   \n",
       "helpful                                                    [0, 0]   \n",
       "overall                                                         1   \n",
       "reviewText      Was not a wheel sneaker just a sneaker  no whe...   \n",
       "reviewTime                                            07 23, 2014   \n",
       "reviewerID                                          AW8IA84M1YG6V   \n",
       "reviewerName                                      natalie alvandi   \n",
       "summary                                                  One Star   \n",
       "unixReviewTime                                         1406073600   \n",
       "\n",
       "                       153860   \\\n",
       "asin                B0007OERXA   \n",
       "helpful                 [0, 0]   \n",
       "overall                      5   \n",
       "reviewText           very good   \n",
       "reviewTime         07 23, 2014   \n",
       "reviewerID      A3US3MUN4V1WBK   \n",
       "reviewerName               NaN   \n",
       "summary             Five Stars   \n",
       "unixReviewTime      1406073600   \n",
       "\n",
       "                                                          1991076  \\\n",
       "asin                                                   B003IPMCZK   \n",
       "helpful                                                    [0, 0]   \n",
       "overall                                                         5   \n",
       "reviewText      I bought a similar pair from a different vendo...   \n",
       "reviewTime                                            07 23, 2014   \n",
       "reviewerID                                          AD4ND3TCGAYG3   \n",
       "reviewerName                                                  NaN   \n",
       "summary                                                   Awesome   \n",
       "unixReviewTime                                         1406073600   \n",
       "\n",
       "                       614222   \n",
       "asin                B000OQGTNW  \n",
       "helpful                 [0, 0]  \n",
       "overall                      5  \n",
       "reviewText           beautiful  \n",
       "reviewTime         07 23, 2014  \n",
       "reviewerID      A2NIP2I4GFKUQX  \n",
       "reviewerName               NaN  \n",
       "summary             Five Stars  \n",
       "unixReviewTime      1406073600  "
      ]
     },
     "execution_count": 13,
     "metadata": {},
     "output_type": "execute_result"
    }
   ],
   "source": [
    "reviews_Clothing_Shoes_and_Jewelry_df.head(5).T"
   ]
  },
  {
   "cell_type": "code",
   "execution_count": 14,
   "metadata": {},
   "outputs": [],
   "source": [
    "## Splitting Date into train and test (Split the data based on unixReviewTime column)"
   ]
  },
  {
   "cell_type": "code",
   "execution_count": 15,
   "metadata": {},
   "outputs": [],
   "source": [
    "# Small Dataset for testing algorithms"
   ]
  },
  {
   "cell_type": "code",
   "execution_count": 16,
   "metadata": {},
   "outputs": [],
   "source": [
    "small_df = reviews_Clothing_Shoes_and_Jewelry_df.head(40000)"
   ]
  },
  {
   "cell_type": "code",
   "execution_count": 17,
   "metadata": {},
   "outputs": [],
   "source": [
    "new_df  =  small_df.reset_index()"
   ]
  },
  {
   "cell_type": "code",
   "execution_count": 18,
   "metadata": {},
   "outputs": [],
   "source": [
    "new_df.drop('index', axis = 1, inplace = True)"
   ]
  },
  {
   "cell_type": "code",
   "execution_count": 34,
   "metadata": {},
   "outputs": [
    {
     "data": {
      "text/html": [
       "<div>\n",
       "<style scoped>\n",
       "    .dataframe tbody tr th:only-of-type {\n",
       "        vertical-align: middle;\n",
       "    }\n",
       "\n",
       "    .dataframe tbody tr th {\n",
       "        vertical-align: top;\n",
       "    }\n",
       "\n",
       "    .dataframe thead th {\n",
       "        text-align: right;\n",
       "    }\n",
       "</style>\n",
       "<table border=\"1\" class=\"dataframe\">\n",
       "  <thead>\n",
       "    <tr style=\"text-align: right;\">\n",
       "      <th></th>\n",
       "      <th>asin</th>\n",
       "      <th>helpful</th>\n",
       "      <th>overall</th>\n",
       "      <th>reviewText</th>\n",
       "      <th>reviewTime</th>\n",
       "      <th>reviewerID</th>\n",
       "      <th>reviewerName</th>\n",
       "      <th>summary</th>\n",
       "      <th>unixReviewTime</th>\n",
       "    </tr>\n",
       "  </thead>\n",
       "  <tbody>\n",
       "    <tr>\n",
       "      <th>0</th>\n",
       "      <td>B0032Y1WJY</td>\n",
       "      <td>[0, 0]</td>\n",
       "      <td>5.0</td>\n",
       "      <td>Comfortable &amp; Good support.  Purchased a few m...</td>\n",
       "      <td>07 23, 2014</td>\n",
       "      <td>AJXW2U2VAURIX</td>\n",
       "      <td>NaN</td>\n",
       "      <td>Very comfortable</td>\n",
       "      <td>1406073600</td>\n",
       "    </tr>\n",
       "    <tr>\n",
       "      <th>1</th>\n",
       "      <td>B003FL7CHK</td>\n",
       "      <td>[0, 0]</td>\n",
       "      <td>1.0</td>\n",
       "      <td>Was not a wheel sneaker just a sneaker  no whe...</td>\n",
       "      <td>07 23, 2014</td>\n",
       "      <td>AW8IA84M1YG6V</td>\n",
       "      <td>natalie alvandi</td>\n",
       "      <td>One Star</td>\n",
       "      <td>1406073600</td>\n",
       "    </tr>\n",
       "    <tr>\n",
       "      <th>2</th>\n",
       "      <td>B0007OERXA</td>\n",
       "      <td>[0, 0]</td>\n",
       "      <td>5.0</td>\n",
       "      <td>very good</td>\n",
       "      <td>07 23, 2014</td>\n",
       "      <td>A3US3MUN4V1WBK</td>\n",
       "      <td>NaN</td>\n",
       "      <td>Five Stars</td>\n",
       "      <td>1406073600</td>\n",
       "    </tr>\n",
       "    <tr>\n",
       "      <th>3</th>\n",
       "      <td>B003IPMCZK</td>\n",
       "      <td>[0, 0]</td>\n",
       "      <td>5.0</td>\n",
       "      <td>I bought a similar pair from a different vendo...</td>\n",
       "      <td>07 23, 2014</td>\n",
       "      <td>AD4ND3TCGAYG3</td>\n",
       "      <td>NaN</td>\n",
       "      <td>Awesome</td>\n",
       "      <td>1406073600</td>\n",
       "    </tr>\n",
       "    <tr>\n",
       "      <th>4</th>\n",
       "      <td>B000OQGTNW</td>\n",
       "      <td>[0, 0]</td>\n",
       "      <td>5.0</td>\n",
       "      <td>beautiful</td>\n",
       "      <td>07 23, 2014</td>\n",
       "      <td>A2NIP2I4GFKUQX</td>\n",
       "      <td>NaN</td>\n",
       "      <td>Five Stars</td>\n",
       "      <td>1406073600</td>\n",
       "    </tr>\n",
       "  </tbody>\n",
       "</table>\n",
       "</div>"
      ],
      "text/plain": [
       "         asin helpful  overall  \\\n",
       "0  B0032Y1WJY  [0, 0]      5.0   \n",
       "1  B003FL7CHK  [0, 0]      1.0   \n",
       "2  B0007OERXA  [0, 0]      5.0   \n",
       "3  B003IPMCZK  [0, 0]      5.0   \n",
       "4  B000OQGTNW  [0, 0]      5.0   \n",
       "\n",
       "                                          reviewText   reviewTime  \\\n",
       "0  Comfortable & Good support.  Purchased a few m...  07 23, 2014   \n",
       "1  Was not a wheel sneaker just a sneaker  no whe...  07 23, 2014   \n",
       "2                                          very good  07 23, 2014   \n",
       "3  I bought a similar pair from a different vendo...  07 23, 2014   \n",
       "4                                          beautiful  07 23, 2014   \n",
       "\n",
       "       reviewerID     reviewerName           summary  unixReviewTime  \n",
       "0   AJXW2U2VAURIX              NaN  Very comfortable      1406073600  \n",
       "1   AW8IA84M1YG6V  natalie alvandi          One Star      1406073600  \n",
       "2  A3US3MUN4V1WBK              NaN        Five Stars      1406073600  \n",
       "3   AD4ND3TCGAYG3              NaN           Awesome      1406073600  \n",
       "4  A2NIP2I4GFKUQX              NaN        Five Stars      1406073600  "
      ]
     },
     "execution_count": 34,
     "metadata": {},
     "output_type": "execute_result"
    }
   ],
   "source": [
    "new_df.head(5)"
   ]
  },
  {
   "cell_type": "code",
   "execution_count": 35,
   "metadata": {},
   "outputs": [],
   "source": [
    "count = new_df.groupby(\"asin\", as_index=False).count()\n",
    "df_new = pd.merge(new_df, count, how = 'right', on = ['asin'])"
   ]
  },
  {
   "cell_type": "code",
   "execution_count": 36,
   "metadata": {},
   "outputs": [
    {
     "data": {
      "text/plain": [
       "(40000, 17)"
      ]
     },
     "execution_count": 36,
     "metadata": {},
     "output_type": "execute_result"
    }
   ],
   "source": [
    "df_new.shape"
   ]
  },
  {
   "cell_type": "code",
   "execution_count": 37,
   "metadata": {},
   "outputs": [],
   "source": [
    "df_data = df_new.rename(index=str, columns={\"reviewerID_y\": \"reviewscount\", \"overall_x\": \"overallreview\", \"summary_x\":\"summaryreview\"})"
   ]
  },
  {
   "cell_type": "code",
   "execution_count": 38,
   "metadata": {},
   "outputs": [],
   "source": [
    "df_data = df_data.sort_values(by = 'reviewscount', ascending=False)"
   ]
  },
  {
   "cell_type": "code",
   "execution_count": 39,
   "metadata": {},
   "outputs": [
    {
     "data": {
      "text/plain": [
       "(40000, 17)"
      ]
     },
     "execution_count": 39,
     "metadata": {},
     "output_type": "execute_result"
    }
   ],
   "source": [
    "df_data.shape"
   ]
  },
  {
   "cell_type": "code",
   "execution_count": 40,
   "metadata": {},
   "outputs": [],
   "source": [
    "df_test = df_data[df_data['reviewscount'] >= 20]"
   ]
  },
  {
   "cell_type": "code",
   "execution_count": 41,
   "metadata": {},
   "outputs": [],
   "source": [
    "df  =  df_test.reset_index()"
   ]
  },
  {
   "cell_type": "code",
   "execution_count": 42,
   "metadata": {},
   "outputs": [
    {
     "data": {
      "text/html": [
       "<div>\n",
       "<style scoped>\n",
       "    .dataframe tbody tr th:only-of-type {\n",
       "        vertical-align: middle;\n",
       "    }\n",
       "\n",
       "    .dataframe tbody tr th {\n",
       "        vertical-align: top;\n",
       "    }\n",
       "\n",
       "    .dataframe thead th {\n",
       "        text-align: right;\n",
       "    }\n",
       "</style>\n",
       "<table border=\"1\" class=\"dataframe\">\n",
       "  <thead>\n",
       "    <tr style=\"text-align: right;\">\n",
       "      <th></th>\n",
       "      <th>index</th>\n",
       "      <th>asin</th>\n",
       "      <th>helpful_x</th>\n",
       "      <th>overallreview</th>\n",
       "      <th>reviewText_x</th>\n",
       "      <th>reviewTime_x</th>\n",
       "      <th>reviewerID_x</th>\n",
       "      <th>reviewerName_x</th>\n",
       "      <th>summaryreview</th>\n",
       "      <th>unixReviewTime_x</th>\n",
       "      <th>helpful_y</th>\n",
       "      <th>overall_y</th>\n",
       "      <th>reviewText_y</th>\n",
       "      <th>reviewTime_y</th>\n",
       "      <th>reviewscount</th>\n",
       "      <th>reviewerName_y</th>\n",
       "      <th>summary_y</th>\n",
       "      <th>unixReviewTime_y</th>\n",
       "    </tr>\n",
       "  </thead>\n",
       "  <tbody>\n",
       "    <tr>\n",
       "      <th>0</th>\n",
       "      <td>18294</td>\n",
       "      <td>B000DZUGOM</td>\n",
       "      <td>[0, 0]</td>\n",
       "      <td>4.0</td>\n",
       "      <td>I love the squishy yoga mat and the base fit m...</td>\n",
       "      <td>07 8, 2014</td>\n",
       "      <td>A36BNC0NQ1UUMJ</td>\n",
       "      <td>JaJo</td>\n",
       "      <td>Straps not quite tight enough</td>\n",
       "      <td>1404777600</td>\n",
       "      <td>124</td>\n",
       "      <td>124</td>\n",
       "      <td>124</td>\n",
       "      <td>124</td>\n",
       "      <td>124</td>\n",
       "      <td>124</td>\n",
       "      <td>124</td>\n",
       "      <td>124</td>\n",
       "    </tr>\n",
       "    <tr>\n",
       "      <th>1</th>\n",
       "      <td>18333</td>\n",
       "      <td>B000DZUGOM</td>\n",
       "      <td>[0, 0]</td>\n",
       "      <td>5.0</td>\n",
       "      <td>Love, love. The only bad thing was remembering...</td>\n",
       "      <td>07 4, 2014</td>\n",
       "      <td>A286C2JSC7DWKH</td>\n",
       "      <td>Stacey parham</td>\n",
       "      <td>Awesomeness</td>\n",
       "      <td>1404432000</td>\n",
       "      <td>124</td>\n",
       "      <td>124</td>\n",
       "      <td>124</td>\n",
       "      <td>124</td>\n",
       "      <td>124</td>\n",
       "      <td>124</td>\n",
       "      <td>124</td>\n",
       "      <td>124</td>\n",
       "    </tr>\n",
       "    <tr>\n",
       "      <th>2</th>\n",
       "      <td>18320</td>\n",
       "      <td>B000DZUGOM</td>\n",
       "      <td>[0, 0]</td>\n",
       "      <td>5.0</td>\n",
       "      <td>Great shoes very comfortable ,love all the col...</td>\n",
       "      <td>07 6, 2014</td>\n",
       "      <td>A12Z3EKUIZGKYO</td>\n",
       "      <td>wendy kirby</td>\n",
       "      <td>Great idea</td>\n",
       "      <td>1404604800</td>\n",
       "      <td>124</td>\n",
       "      <td>124</td>\n",
       "      <td>124</td>\n",
       "      <td>124</td>\n",
       "      <td>124</td>\n",
       "      <td>124</td>\n",
       "      <td>124</td>\n",
       "      <td>124</td>\n",
       "    </tr>\n",
       "    <tr>\n",
       "      <th>3</th>\n",
       "      <td>18321</td>\n",
       "      <td>B000DZUGOM</td>\n",
       "      <td>[0, 0]</td>\n",
       "      <td>5.0</td>\n",
       "      <td>This is my 2nd pair &amp; I love, love, love them....</td>\n",
       "      <td>07 6, 2014</td>\n",
       "      <td>A3M70NWF5M93WI</td>\n",
       "      <td>Patti Bailey</td>\n",
       "      <td>Best flip flops ever made!!!</td>\n",
       "      <td>1404604800</td>\n",
       "      <td>124</td>\n",
       "      <td>124</td>\n",
       "      <td>124</td>\n",
       "      <td>124</td>\n",
       "      <td>124</td>\n",
       "      <td>124</td>\n",
       "      <td>124</td>\n",
       "      <td>124</td>\n",
       "    </tr>\n",
       "    <tr>\n",
       "      <th>4</th>\n",
       "      <td>18322</td>\n",
       "      <td>B000DZUGOM</td>\n",
       "      <td>[0, 0]</td>\n",
       "      <td>4.0</td>\n",
       "      <td>These are awesome flip flops as far as comfort...</td>\n",
       "      <td>07 6, 2014</td>\n",
       "      <td>A11L19K4VOWUVN</td>\n",
       "      <td>Annalise B.</td>\n",
       "      <td>Very Comfortable but Gets Too Hot</td>\n",
       "      <td>1404604800</td>\n",
       "      <td>124</td>\n",
       "      <td>124</td>\n",
       "      <td>124</td>\n",
       "      <td>124</td>\n",
       "      <td>124</td>\n",
       "      <td>124</td>\n",
       "      <td>124</td>\n",
       "      <td>124</td>\n",
       "    </tr>\n",
       "  </tbody>\n",
       "</table>\n",
       "</div>"
      ],
      "text/plain": [
       "   index        asin helpful_x  overallreview  \\\n",
       "0  18294  B000DZUGOM    [0, 0]            4.0   \n",
       "1  18333  B000DZUGOM    [0, 0]            5.0   \n",
       "2  18320  B000DZUGOM    [0, 0]            5.0   \n",
       "3  18321  B000DZUGOM    [0, 0]            5.0   \n",
       "4  18322  B000DZUGOM    [0, 0]            4.0   \n",
       "\n",
       "                                        reviewText_x reviewTime_x  \\\n",
       "0  I love the squishy yoga mat and the base fit m...   07 8, 2014   \n",
       "1  Love, love. The only bad thing was remembering...   07 4, 2014   \n",
       "2  Great shoes very comfortable ,love all the col...   07 6, 2014   \n",
       "3  This is my 2nd pair & I love, love, love them....   07 6, 2014   \n",
       "4  These are awesome flip flops as far as comfort...   07 6, 2014   \n",
       "\n",
       "     reviewerID_x reviewerName_x                      summaryreview  \\\n",
       "0  A36BNC0NQ1UUMJ           JaJo      Straps not quite tight enough   \n",
       "1  A286C2JSC7DWKH  Stacey parham                        Awesomeness   \n",
       "2  A12Z3EKUIZGKYO    wendy kirby                         Great idea   \n",
       "3  A3M70NWF5M93WI   Patti Bailey       Best flip flops ever made!!!   \n",
       "4  A11L19K4VOWUVN    Annalise B.  Very Comfortable but Gets Too Hot   \n",
       "\n",
       "   unixReviewTime_x  helpful_y  overall_y  reviewText_y  reviewTime_y  \\\n",
       "0        1404777600        124        124           124           124   \n",
       "1        1404432000        124        124           124           124   \n",
       "2        1404604800        124        124           124           124   \n",
       "3        1404604800        124        124           124           124   \n",
       "4        1404604800        124        124           124           124   \n",
       "\n",
       "   reviewscount  reviewerName_y  summary_y  unixReviewTime_y  \n",
       "0           124             124        124               124  \n",
       "1           124             124        124               124  \n",
       "2           124             124        124               124  \n",
       "3           124             124        124               124  \n",
       "4           124             124        124               124  "
      ]
     },
     "execution_count": 42,
     "metadata": {},
     "output_type": "execute_result"
    }
   ],
   "source": [
    "df.head(5)"
   ]
  },
  {
   "cell_type": "code",
   "execution_count": 43,
   "metadata": {},
   "outputs": [],
   "source": [
    "trainpct=0.8\n",
    "\n",
    "sm_train=df[df.index < trainpct*len(df)]\n",
    "sm_test=df[df.index >= trainpct*len(df)]\n"
   ]
  },
  {
   "cell_type": "code",
   "execution_count": 44,
   "metadata": {},
   "outputs": [
    {
     "data": {
      "text/plain": [
       "(3927, 18)"
      ]
     },
     "execution_count": 44,
     "metadata": {},
     "output_type": "execute_result"
    }
   ],
   "source": [
    "sm_train.shape"
   ]
  },
  {
   "cell_type": "code",
   "execution_count": 45,
   "metadata": {},
   "outputs": [
    {
     "data": {
      "text/plain": [
       "(981, 18)"
      ]
     },
     "execution_count": 45,
     "metadata": {},
     "output_type": "execute_result"
    }
   ],
   "source": [
    "sm_test.shape"
   ]
  },
  {
   "cell_type": "code",
   "execution_count": 46,
   "metadata": {},
   "outputs": [
    {
     "data": {
      "text/plain": [
       "{'ResponseMetadata': {'RequestId': 'B05AD2B086249867',\n",
       "  'HostId': 'MRE+y2sGFd8OkPoBvCarJVtOBjkLcQ+++7cIToGVrLWAZDd0c50uW4t2+848IYJXsqoY0xWeI1o=',\n",
       "  'HTTPStatusCode': 200,\n",
       "  'HTTPHeaders': {'x-amz-id-2': 'MRE+y2sGFd8OkPoBvCarJVtOBjkLcQ+++7cIToGVrLWAZDd0c50uW4t2+848IYJXsqoY0xWeI1o=',\n",
       "   'x-amz-request-id': 'B05AD2B086249867',\n",
       "   'date': 'Sun, 12 Aug 2018 23:07:46 GMT',\n",
       "   'etag': '\"a080a7f991123a7e80e43175b04c4e13\"',\n",
       "   'content-length': '0',\n",
       "   'server': 'AmazonS3'},\n",
       "  'RetryAttempts': 0},\n",
       " 'ETag': '\"a080a7f991123a7e80e43175b04c4e13\"'}"
      ]
     },
     "execution_count": 46,
     "metadata": {},
     "output_type": "execute_result"
    }
   ],
   "source": [
    "import boto3\n",
    "from io import StringIO\n",
    "csv_buffer = StringIO()\n",
    "sm_train.to_csv(csv_buffer)\n",
    "s3_resource = boto3.resource('s3')\n",
    "s3_resource.Object('santhoshi-sparkle', 'amazon-data/sm_train.csv').put(Body=csv_buffer.getvalue())"
   ]
  },
  {
   "cell_type": "code",
   "execution_count": 47,
   "metadata": {},
   "outputs": [
    {
     "data": {
      "text/plain": [
       "{'ResponseMetadata': {'RequestId': '90A24DC8CA256CDB',\n",
       "  'HostId': 'P58q/MscC5Zp0kOkEZURu0XOgnATIzv3Q8w3QfKMEBlYuHp+L1NUmTVBL+8h+NccJAVY2N+rvYo=',\n",
       "  'HTTPStatusCode': 200,\n",
       "  'HTTPHeaders': {'x-amz-id-2': 'P58q/MscC5Zp0kOkEZURu0XOgnATIzv3Q8w3QfKMEBlYuHp+L1NUmTVBL+8h+NccJAVY2N+rvYo=',\n",
       "   'x-amz-request-id': '90A24DC8CA256CDB',\n",
       "   'date': 'Sun, 12 Aug 2018 23:07:48 GMT',\n",
       "   'etag': '\"b2320ab170ebf912a4377fbe1cfa5f46\"',\n",
       "   'content-length': '0',\n",
       "   'server': 'AmazonS3'},\n",
       "  'RetryAttempts': 0},\n",
       " 'ETag': '\"b2320ab170ebf912a4377fbe1cfa5f46\"'}"
      ]
     },
     "execution_count": 47,
     "metadata": {},
     "output_type": "execute_result"
    }
   ],
   "source": [
    "csv_buffer = StringIO()\n",
    "sm_test.to_csv(csv_buffer)\n",
    "s3_resource = boto3.resource('s3')\n",
    "s3_resource.Object('santhoshi-sparkle', 'amazon-data/sm_test.csv').put(Body=csv_buffer.getvalue())"
   ]
  },
  {
   "cell_type": "code",
   "execution_count": 163,
   "metadata": {},
   "outputs": [],
   "source": [
    "## Read those files back into EC2"
   ]
  },
  {
   "cell_type": "code",
   "execution_count": 277,
   "metadata": {},
   "outputs": [],
   "source": [
    "train_df = pd.read_csv(smart_open('s3://santhoshi-sparkle/amazon-data/sm_train.csv'))"
   ]
  },
  {
   "cell_type": "code",
   "execution_count": 278,
   "metadata": {},
   "outputs": [
    {
     "data": {
      "text/plain": [
       "(3927, 19)"
      ]
     },
     "execution_count": 278,
     "metadata": {},
     "output_type": "execute_result"
    }
   ],
   "source": [
    "train_df.shape"
   ]
  },
  {
   "cell_type": "code",
   "execution_count": 279,
   "metadata": {},
   "outputs": [],
   "source": [
    "train_df.drop(['Unnamed: 0','index'], axis = 1, inplace = True)"
   ]
  },
  {
   "cell_type": "code",
   "execution_count": 280,
   "metadata": {},
   "outputs": [
    {
     "data": {
      "text/plain": [
       "(3927, 17)"
      ]
     },
     "execution_count": 280,
     "metadata": {},
     "output_type": "execute_result"
    }
   ],
   "source": [
    "train_df.shape"
   ]
  },
  {
   "cell_type": "code",
   "execution_count": 281,
   "metadata": {},
   "outputs": [
    {
     "data": {
      "text/plain": [
       "asin                 0\n",
       "helpful_x            0\n",
       "overallreview        0\n",
       "reviewText_x         0\n",
       "reviewTime_x         0\n",
       "reviewerID_x         0\n",
       "reviewerName_x      94\n",
       "summaryreview        0\n",
       "unixReviewTime_x     0\n",
       "helpful_y            0\n",
       "overall_y            0\n",
       "reviewText_y         0\n",
       "reviewTime_y         0\n",
       "reviewscount         0\n",
       "reviewerName_y       0\n",
       "summary_y            0\n",
       "unixReviewTime_y     0\n",
       "dtype: int64"
      ]
     },
     "execution_count": 281,
     "metadata": {},
     "output_type": "execute_result"
    }
   ],
   "source": [
    "train_df.isnull().sum()"
   ]
  },
  {
   "cell_type": "code",
   "execution_count": 282,
   "metadata": {},
   "outputs": [],
   "source": [
    "R_df =train_df.pivot(index = 'reviewerID_x', columns ='asin', values = 'overallreview')"
   ]
  },
  {
   "cell_type": "code",
   "execution_count": 17,
   "metadata": {},
   "outputs": [
    {
     "data": {
      "text/plain": [
       "(3855, 100)"
      ]
     },
     "execution_count": 17,
     "metadata": {},
     "output_type": "execute_result"
    }
   ],
   "source": [
    "R_df.shape"
   ]
  },
  {
   "cell_type": "code",
   "execution_count": 18,
   "metadata": {},
   "outputs": [],
   "source": [
    "#R_df.isnull().sum()"
   ]
  },
  {
   "cell_type": "code",
   "execution_count": 19,
   "metadata": {},
   "outputs": [],
   "source": [
    "R_df_new = R_df.fillna(R_df.mean())\n",
    "#R_df_new = R_df.fillna(0)"
   ]
  },
  {
   "cell_type": "code",
   "execution_count": 20,
   "metadata": {},
   "outputs": [
    {
     "data": {
      "text/html": [
       "<div>\n",
       "<style scoped>\n",
       "    .dataframe tbody tr th:only-of-type {\n",
       "        vertical-align: middle;\n",
       "    }\n",
       "\n",
       "    .dataframe tbody tr th {\n",
       "        vertical-align: top;\n",
       "    }\n",
       "\n",
       "    .dataframe thead th {\n",
       "        text-align: right;\n",
       "    }\n",
       "</style>\n",
       "<table border=\"1\" class=\"dataframe\">\n",
       "  <thead>\n",
       "    <tr style=\"text-align: right;\">\n",
       "      <th>asin</th>\n",
       "      <th>B00006XXGO</th>\n",
       "      <th>B000072UMJ</th>\n",
       "      <th>B0000ANHST</th>\n",
       "      <th>B0000C321X</th>\n",
       "      <th>B0000DCS5T</th>\n",
       "      <th>B0000V9E3S</th>\n",
       "      <th>B0000WLSCW</th>\n",
       "      <th>B00012O12A</th>\n",
       "      <th>B0001MQ60A</th>\n",
       "      <th>B0001YR54O</th>\n",
       "      <th>...</th>\n",
       "      <th>B002PHLVJA</th>\n",
       "      <th>B002QRBLUI</th>\n",
       "      <th>B002RADHJC</th>\n",
       "      <th>B002SSUQFG</th>\n",
       "      <th>B002YTJGDM</th>\n",
       "      <th>B0037Z37KK</th>\n",
       "      <th>B003AU5VZ6</th>\n",
       "      <th>B003BLPSM0</th>\n",
       "      <th>B003G4IM4S</th>\n",
       "      <th>B003IYYE84</th>\n",
       "    </tr>\n",
       "    <tr>\n",
       "      <th>reviewerID_x</th>\n",
       "      <th></th>\n",
       "      <th></th>\n",
       "      <th></th>\n",
       "      <th></th>\n",
       "      <th></th>\n",
       "      <th></th>\n",
       "      <th></th>\n",
       "      <th></th>\n",
       "      <th></th>\n",
       "      <th></th>\n",
       "      <th></th>\n",
       "      <th></th>\n",
       "      <th></th>\n",
       "      <th></th>\n",
       "      <th></th>\n",
       "      <th></th>\n",
       "      <th></th>\n",
       "      <th></th>\n",
       "      <th></th>\n",
       "      <th></th>\n",
       "      <th></th>\n",
       "    </tr>\n",
       "  </thead>\n",
       "  <tbody>\n",
       "    <tr>\n",
       "      <th>AZUBUCNJ05YA4</th>\n",
       "      <td>4.6875</td>\n",
       "      <td>4.388889</td>\n",
       "      <td>4.390244</td>\n",
       "      <td>4.184615</td>\n",
       "      <td>4.285714</td>\n",
       "      <td>4.769231</td>\n",
       "      <td>4.367347</td>\n",
       "      <td>4.377778</td>\n",
       "      <td>4.677419</td>\n",
       "      <td>4.428571</td>\n",
       "      <td>...</td>\n",
       "      <td>4.327273</td>\n",
       "      <td>4.6</td>\n",
       "      <td>4.125</td>\n",
       "      <td>3.82</td>\n",
       "      <td>4.666667</td>\n",
       "      <td>4.444444</td>\n",
       "      <td>4.576923</td>\n",
       "      <td>4.346939</td>\n",
       "      <td>4.551724</td>\n",
       "      <td>4.208333</td>\n",
       "    </tr>\n",
       "    <tr>\n",
       "      <th>AZVZ9BFMKKJQC</th>\n",
       "      <td>4.6875</td>\n",
       "      <td>4.388889</td>\n",
       "      <td>4.390244</td>\n",
       "      <td>4.184615</td>\n",
       "      <td>4.285714</td>\n",
       "      <td>4.769231</td>\n",
       "      <td>4.367347</td>\n",
       "      <td>4.377778</td>\n",
       "      <td>4.677419</td>\n",
       "      <td>4.428571</td>\n",
       "      <td>...</td>\n",
       "      <td>4.327273</td>\n",
       "      <td>4.6</td>\n",
       "      <td>4.125</td>\n",
       "      <td>3.82</td>\n",
       "      <td>4.666667</td>\n",
       "      <td>4.444444</td>\n",
       "      <td>4.576923</td>\n",
       "      <td>4.346939</td>\n",
       "      <td>4.551724</td>\n",
       "      <td>4.208333</td>\n",
       "    </tr>\n",
       "    <tr>\n",
       "      <th>AZXUSHNU34EWX</th>\n",
       "      <td>4.6875</td>\n",
       "      <td>4.388889</td>\n",
       "      <td>4.390244</td>\n",
       "      <td>4.184615</td>\n",
       "      <td>4.285714</td>\n",
       "      <td>4.769231</td>\n",
       "      <td>4.367347</td>\n",
       "      <td>4.377778</td>\n",
       "      <td>4.677419</td>\n",
       "      <td>4.428571</td>\n",
       "      <td>...</td>\n",
       "      <td>4.327273</td>\n",
       "      <td>4.6</td>\n",
       "      <td>4.125</td>\n",
       "      <td>3.82</td>\n",
       "      <td>4.666667</td>\n",
       "      <td>4.444444</td>\n",
       "      <td>4.576923</td>\n",
       "      <td>4.346939</td>\n",
       "      <td>4.551724</td>\n",
       "      <td>4.208333</td>\n",
       "    </tr>\n",
       "    <tr>\n",
       "      <th>AZYDOY4PT7UYV</th>\n",
       "      <td>4.6875</td>\n",
       "      <td>4.388889</td>\n",
       "      <td>4.390244</td>\n",
       "      <td>4.184615</td>\n",
       "      <td>4.285714</td>\n",
       "      <td>4.769231</td>\n",
       "      <td>4.367347</td>\n",
       "      <td>4.377778</td>\n",
       "      <td>4.677419</td>\n",
       "      <td>4.428571</td>\n",
       "      <td>...</td>\n",
       "      <td>4.327273</td>\n",
       "      <td>4.6</td>\n",
       "      <td>4.125</td>\n",
       "      <td>3.82</td>\n",
       "      <td>5.000000</td>\n",
       "      <td>4.444444</td>\n",
       "      <td>4.576923</td>\n",
       "      <td>4.346939</td>\n",
       "      <td>4.551724</td>\n",
       "      <td>4.208333</td>\n",
       "    </tr>\n",
       "    <tr>\n",
       "      <th>AZZQ37YAHZ36U</th>\n",
       "      <td>4.6875</td>\n",
       "      <td>4.388889</td>\n",
       "      <td>4.390244</td>\n",
       "      <td>4.184615</td>\n",
       "      <td>4.285714</td>\n",
       "      <td>4.769231</td>\n",
       "      <td>4.367347</td>\n",
       "      <td>4.377778</td>\n",
       "      <td>4.677419</td>\n",
       "      <td>4.428571</td>\n",
       "      <td>...</td>\n",
       "      <td>4.327273</td>\n",
       "      <td>4.6</td>\n",
       "      <td>4.125</td>\n",
       "      <td>3.82</td>\n",
       "      <td>4.666667</td>\n",
       "      <td>4.444444</td>\n",
       "      <td>4.576923</td>\n",
       "      <td>4.346939</td>\n",
       "      <td>4.551724</td>\n",
       "      <td>4.208333</td>\n",
       "    </tr>\n",
       "  </tbody>\n",
       "</table>\n",
       "<p>5 rows × 100 columns</p>\n",
       "</div>"
      ],
      "text/plain": [
       "asin           B00006XXGO  B000072UMJ  B0000ANHST  B0000C321X  B0000DCS5T  \\\n",
       "reviewerID_x                                                                \n",
       "AZUBUCNJ05YA4      4.6875    4.388889    4.390244    4.184615    4.285714   \n",
       "AZVZ9BFMKKJQC      4.6875    4.388889    4.390244    4.184615    4.285714   \n",
       "AZXUSHNU34EWX      4.6875    4.388889    4.390244    4.184615    4.285714   \n",
       "AZYDOY4PT7UYV      4.6875    4.388889    4.390244    4.184615    4.285714   \n",
       "AZZQ37YAHZ36U      4.6875    4.388889    4.390244    4.184615    4.285714   \n",
       "\n",
       "asin           B0000V9E3S  B0000WLSCW  B00012O12A  B0001MQ60A  B0001YR54O  \\\n",
       "reviewerID_x                                                                \n",
       "AZUBUCNJ05YA4    4.769231    4.367347    4.377778    4.677419    4.428571   \n",
       "AZVZ9BFMKKJQC    4.769231    4.367347    4.377778    4.677419    4.428571   \n",
       "AZXUSHNU34EWX    4.769231    4.367347    4.377778    4.677419    4.428571   \n",
       "AZYDOY4PT7UYV    4.769231    4.367347    4.377778    4.677419    4.428571   \n",
       "AZZQ37YAHZ36U    4.769231    4.367347    4.377778    4.677419    4.428571   \n",
       "\n",
       "asin              ...      B002PHLVJA  B002QRBLUI  B002RADHJC  B002SSUQFG  \\\n",
       "reviewerID_x      ...                                                       \n",
       "AZUBUCNJ05YA4     ...        4.327273         4.6       4.125        3.82   \n",
       "AZVZ9BFMKKJQC     ...        4.327273         4.6       4.125        3.82   \n",
       "AZXUSHNU34EWX     ...        4.327273         4.6       4.125        3.82   \n",
       "AZYDOY4PT7UYV     ...        4.327273         4.6       4.125        3.82   \n",
       "AZZQ37YAHZ36U     ...        4.327273         4.6       4.125        3.82   \n",
       "\n",
       "asin           B002YTJGDM  B0037Z37KK  B003AU5VZ6  B003BLPSM0  B003G4IM4S  \\\n",
       "reviewerID_x                                                                \n",
       "AZUBUCNJ05YA4    4.666667    4.444444    4.576923    4.346939    4.551724   \n",
       "AZVZ9BFMKKJQC    4.666667    4.444444    4.576923    4.346939    4.551724   \n",
       "AZXUSHNU34EWX    4.666667    4.444444    4.576923    4.346939    4.551724   \n",
       "AZYDOY4PT7UYV    5.000000    4.444444    4.576923    4.346939    4.551724   \n",
       "AZZQ37YAHZ36U    4.666667    4.444444    4.576923    4.346939    4.551724   \n",
       "\n",
       "asin           B003IYYE84  \n",
       "reviewerID_x               \n",
       "AZUBUCNJ05YA4    4.208333  \n",
       "AZVZ9BFMKKJQC    4.208333  \n",
       "AZXUSHNU34EWX    4.208333  \n",
       "AZYDOY4PT7UYV    4.208333  \n",
       "AZZQ37YAHZ36U    4.208333  \n",
       "\n",
       "[5 rows x 100 columns]"
      ]
     },
     "execution_count": 20,
     "metadata": {},
     "output_type": "execute_result"
    }
   ],
   "source": [
    "R_df_new.tail(5)"
   ]
  },
  {
   "cell_type": "code",
   "execution_count": 43,
   "metadata": {},
   "outputs": [
    {
     "data": {
      "text/plain": [
       "(3855, 100)"
      ]
     },
     "execution_count": 43,
     "metadata": {},
     "output_type": "execute_result"
    }
   ],
   "source": [
    "R_df_new.shape"
   ]
  },
  {
   "cell_type": "code",
   "execution_count": 44,
   "metadata": {},
   "outputs": [],
   "source": [
    "R = R_df_new.as_matrix()\n",
    "user_ratings_mean = np.mean(R, axis = 1)\n",
    "R_demeaned = R - user_ratings_mean.reshape(-1, 1)\n",
    "\n",
    "#Obtain mean of columns as you need, nanmean is just convenient.\n",
    "#col_mean = np.nanmean(R, axis=0)\n",
    "#Find indicies that you need to replace\n",
    "\n",
    "#inds = np.where(np.isnan(R))\n",
    "#Place column means in the indices. Align the arrays using take\n",
    "#R[inds] = np.take(col_mean, inds[1])"
   ]
  },
  {
   "cell_type": "code",
   "execution_count": 45,
   "metadata": {},
   "outputs": [
    {
     "data": {
      "text/plain": [
       "(3855,)"
      ]
     },
     "execution_count": 45,
     "metadata": {},
     "output_type": "execute_result"
    }
   ],
   "source": [
    "user_ratings_mean.shape\n",
    "#user_ratings_mean.reshape(-1, 1)"
   ]
  },
  {
   "cell_type": "markdown",
   "metadata": {},
   "source": [
    "# Funk SVD Algorithm implementation"
   ]
  },
  {
   "cell_type": "code",
   "execution_count": 46,
   "metadata": {},
   "outputs": [],
   "source": [
    "R_a = np.array(R_demeaned)\n",
    "N = len(R_a)\n",
    "M = len(R_a[0])\n",
    "K = 50\n",
    "P = np.random.rand(N,K)\n",
    "Q = np.random.rand(M,K)\n"
   ]
  },
  {
   "cell_type": "code",
   "execution_count": 47,
   "metadata": {},
   "outputs": [],
   "source": [
    "def SGD_FunkSVD(R_a, P, Q, K, steps=25, alpha=0.0002, beta=0.02):\n",
    "    Q = Q.T\n",
    "    def get_error(R_a, P, Q):\n",
    "        \n",
    "        return np.sum((R_a - np.dot(P, Q)) ** 2) / (len(R_a) * len(R_a[0]))\n",
    "    \n",
    "    MSE_List = []\n",
    "    for step in range(0, steps):\n",
    "        for i in range(0, len(R_a)):\n",
    "            for j in range(0, len(R_a[i])):\n",
    "                eij = R_a[i][j] - np.dot(P[i,:],Q[:,j])\n",
    "\n",
    "\n",
    "                for k in range(0, K):\n",
    "                    P[i][k] = P[i][k] + alpha * (2 * eij * Q[k][j] - beta * P[i][k])\n",
    "                    Q[k][j] = Q[k][j] + alpha * (2 * eij * P[i][k] - beta * Q[k][j])\n",
    "                    \n",
    "        eR = np.dot(P,Q)\n",
    "        MSE_List.append(get_error(R_a, P, Q))\n",
    "        e = 0\n",
    "        for i in range(0, len(R_a)):\n",
    "            for j in range(0, len(R_a[i])):\n",
    "                if R_a[i][j] > 0:\n",
    "                    e = e + pow(R_a[i][j] - np.dot(P[i,:],Q[:,j]), 2)\n",
    "                    for k in range(0, K):\n",
    "                        e = e + (beta/2) * (pow(P[i][k],2) + pow(Q[k][j],2))\n",
    "            \n",
    "                        \n",
    "            if e < 0.001:\n",
    "                break\n",
    "    \n",
    "    fig = plt.figure()\n",
    "    ax = fig.add_subplot(111)\n",
    "    plt.plot(range(1, len(MSE_List) + 1), MSE_List); plt.ylabel('Error'); plt.xlabel('Iteration')\n",
    "    plt.title('MSE by Iteration \\n with %d users and %d products' % R_a.shape);\n",
    "    plt.savefig('FunkSVD_MSE Graph.pdf', format='pdf')\n",
    "    plt.show()\n",
    "    return P, Q.T, MSE_List "
   ]
  },
  {
   "cell_type": "code",
   "execution_count": 48,
   "metadata": {},
   "outputs": [
    {
     "data": {
      "image/png": "[encoded data removed]",
      "text/plain": [
       "<Figure size 432x288 with 1 Axes>"
      ]
     },
     "metadata": {},
     "output_type": "display_data"
    }
   ],
   "source": [
    "nP, nQ, MSE_List = SGD_FunkSVD(R_a, P, Q, K)\n",
    "#nR = np.dot(nP, nQ.T) + user_ratings_mean.reshape(-1, 1)"
   ]
  },
  {
   "cell_type": "code",
   "execution_count": 49,
   "metadata": {},
   "outputs": [
    {
     "data": {
      "text/plain": [
       "[0.26232149846586617,\n",
       " 0.19834147343865813,\n",
       " 0.15120310474331775,\n",
       " 0.11625725271001261,\n",
       " 0.09022337208166466,\n",
       " 0.0707524664908495,\n",
       " 0.05614323632164733,\n",
       " 0.04515239365239332,\n",
       " 0.03686490015849623,\n",
       " 0.030603485683590604,\n",
       " 0.025864572830271205,\n",
       " 0.02227233165813461,\n",
       " 0.019545402309095065,\n",
       " 0.017472597323145097,\n",
       " 0.015895044429222443,\n",
       " 0.014692992929017018,\n",
       " 0.013776023305983843,\n",
       " 0.013075756035933323,\n",
       " 0.012540405215159723,\n",
       " 0.012130699769254745,\n",
       " 0.011816822058717794,\n",
       " 0.011576105627273644,\n",
       " 0.011391300838561066,\n",
       " 0.011249266269406463,\n",
       " 0.011139979921379968]"
      ]
     },
     "execution_count": 49,
     "metadata": {},
     "output_type": "execute_result"
    }
   ],
   "source": [
    "MSE_List"
   ]
  },
  {
   "cell_type": "code",
   "execution_count": 50,
   "metadata": {},
   "outputs": [],
   "source": [
    "nR = np.dot(nP, nQ.T) + user_ratings_mean.reshape(-1, 1)\n",
    "#nR = np.dot(nP, nQ.T) "
   ]
  },
  {
   "cell_type": "code",
   "execution_count": 51,
   "metadata": {},
   "outputs": [],
   "source": [
    "preds_df = pd.DataFrame(nR, columns = R_df.columns)\n"
   ]
  },
  {
   "cell_type": "code",
   "execution_count": 52,
   "metadata": {},
   "outputs": [],
   "source": [
    "#preds_df.min()"
   ]
  },
  {
   "cell_type": "code",
   "execution_count": 53,
   "metadata": {},
   "outputs": [],
   "source": [
    "pred_fsvd = pd.DataFrame(preds_df.stack())"
   ]
  },
  {
   "cell_type": "code",
   "execution_count": 54,
   "metadata": {},
   "outputs": [],
   "source": [
    "pred_fsvd.reset_index(inplace=True)"
   ]
  },
  {
   "cell_type": "code",
   "execution_count": 55,
   "metadata": {},
   "outputs": [],
   "source": [
    "pred_fsvd.columns = ['reviewerID', 'asin', 'overall']"
   ]
  },
  {
   "cell_type": "code",
   "execution_count": 56,
   "metadata": {},
   "outputs": [],
   "source": [
    "# match the index of pred_fsvd so that actual User_ID can be captured from previous data"
   ]
  },
  {
   "cell_type": "code",
   "execution_count": 57,
   "metadata": {},
   "outputs": [
    {
     "data": {
      "text/plain": [
       "(385500, 3)"
      ]
     },
     "execution_count": 57,
     "metadata": {},
     "output_type": "execute_result"
    }
   ],
   "source": [
    "pred_fsvd.shape"
   ]
  },
  {
   "cell_type": "code",
   "execution_count": null,
   "metadata": {},
   "outputs": [],
   "source": []
  },
  {
   "cell_type": "code",
   "execution_count": 58,
   "metadata": {},
   "outputs": [
    {
     "data": {
      "text/plain": [
       "{'ResponseMetadata': {'RequestId': 'CA65BC47AA7FF66A',\n",
       "  'HostId': '6iJ1Aduh4WkCipy+0U1u2HrOkxw7aVov0lbCOXguJa0h27cDXWFaoBnPwxMG9GHu+tOcAWdm+As=',\n",
       "  'HTTPStatusCode': 200,\n",
       "  'HTTPHeaders': {'x-amz-id-2': '6iJ1Aduh4WkCipy+0U1u2HrOkxw7aVov0lbCOXguJa0h27cDXWFaoBnPwxMG9GHu+tOcAWdm+As=',\n",
       "   'x-amz-request-id': 'CA65BC47AA7FF66A',\n",
       "   'date': 'Mon, 13 Aug 2018 19:53:55 GMT',\n",
       "   'etag': '\"390dca374d91363a9f592b14335d2975\"',\n",
       "   'content-length': '0',\n",
       "   'server': 'AmazonS3'},\n",
       "  'RetryAttempts': 0},\n",
       " 'ETag': '\"390dca374d91363a9f592b14335d2975\"'}"
      ]
     },
     "execution_count": 58,
     "metadata": {},
     "output_type": "execute_result"
    }
   ],
   "source": [
    "import boto3\n",
    "from io import StringIO\n",
    "csv_buffer = StringIO()\n",
    "pred_fsvd.to_csv(csv_buffer)\n",
    "s3_resource = boto3.resource('s3')\n",
    "s3_resource.Object('santhoshi-sparkle', 'amazon-data/pred_fsvd.csv').put(Body=csv_buffer.getvalue())"
   ]
  },
  {
   "cell_type": "code",
   "execution_count": 494,
   "metadata": {},
   "outputs": [],
   "source": [
    "fsvd_pred = pd.read_csv(smart_open('s3://santhoshi-sparkle/amazon-data/pred_fsvd.csv'))"
   ]
  },
  {
   "cell_type": "code",
   "execution_count": 495,
   "metadata": {},
   "outputs": [],
   "source": [
    "fsvd_pred.drop('Unnamed: 0', axis = 1, inplace = True)"
   ]
  },
  {
   "cell_type": "code",
   "execution_count": 496,
   "metadata": {},
   "outputs": [],
   "source": [
    "train_data = train_df[['reviewerID_x', 'asin', 'overallreview']]"
   ]
  },
  {
   "cell_type": "code",
   "execution_count": 497,
   "metadata": {},
   "outputs": [],
   "source": [
    "train_data = train_data.rename(index=str, columns={\"reviewerID_x\": \"reviewerID\", \"overallreview\": \"overall\"})"
   ]
  },
  {
   "cell_type": "code",
   "execution_count": 498,
   "metadata": {},
   "outputs": [],
   "source": [
    "train_data = train_data.reset_index()"
   ]
  },
  {
   "cell_type": "code",
   "execution_count": 499,
   "metadata": {},
   "outputs": [],
   "source": [
    "fsvd_pred = fsvd_pred.rename(index=str, columns={'reviewerID': 'index'})"
   ]
  },
  {
   "cell_type": "code",
   "execution_count": 500,
   "metadata": {},
   "outputs": [
    {
     "data": {
      "text/plain": [
       "index        int64\n",
       "asin        object\n",
       "overall    float64\n",
       "dtype: object"
      ]
     },
     "execution_count": 500,
     "metadata": {},
     "output_type": "execute_result"
    }
   ],
   "source": [
    "fsvd_pred.dtypes"
   ]
  },
  {
   "cell_type": "code",
   "execution_count": 501,
   "metadata": {},
   "outputs": [
    {
     "data": {
      "text/plain": [
       "index          object\n",
       "reviewerID     object\n",
       "asin           object\n",
       "overall       float64\n",
       "dtype: object"
      ]
     },
     "execution_count": 501,
     "metadata": {},
     "output_type": "execute_result"
    }
   ],
   "source": [
    "train_data.dtypes"
   ]
  },
  {
   "cell_type": "code",
   "execution_count": 502,
   "metadata": {},
   "outputs": [],
   "source": [
    "train_data['index'] = train_data.index.astype(np.int64)"
   ]
  },
  {
   "cell_type": "code",
   "execution_count": 503,
   "metadata": {},
   "outputs": [
    {
     "data": {
      "text/plain": [
       "index           int64\n",
       "reviewerID     object\n",
       "asin           object\n",
       "overall       float64\n",
       "dtype: object"
      ]
     },
     "execution_count": 503,
     "metadata": {},
     "output_type": "execute_result"
    }
   ],
   "source": [
    "train_data.dtypes"
   ]
  },
  {
   "cell_type": "code",
   "execution_count": 504,
   "metadata": {},
   "outputs": [],
   "source": [
    "final_pred = fsvd_pred.merge(train_data, on = 'index', how = 'left')"
   ]
  },
  {
   "cell_type": "code",
   "execution_count": 505,
   "metadata": {},
   "outputs": [],
   "source": [
    "fsvd_final_pred = final_pred[['reviewerID', 'asin_x', 'overall_x']]"
   ]
  },
  {
   "cell_type": "code",
   "execution_count": 506,
   "metadata": {},
   "outputs": [],
   "source": [
    "fsvd_final_pred = fsvd_final_pred.rename(index=str, columns={'asin_x': 'asin', 'overall_x': 'overall_pred'})"
   ]
  },
  {
   "cell_type": "code",
   "execution_count": 507,
   "metadata": {},
   "outputs": [
    {
     "data": {
      "text/html": [
       "<div>\n",
       "<style scoped>\n",
       "    .dataframe tbody tr th:only-of-type {\n",
       "        vertical-align: middle;\n",
       "    }\n",
       "\n",
       "    .dataframe tbody tr th {\n",
       "        vertical-align: top;\n",
       "    }\n",
       "\n",
       "    .dataframe thead th {\n",
       "        text-align: right;\n",
       "    }\n",
       "</style>\n",
       "<table border=\"1\" class=\"dataframe\">\n",
       "  <thead>\n",
       "    <tr style=\"text-align: right;\">\n",
       "      <th></th>\n",
       "      <th>reviewerID</th>\n",
       "      <th>asin</th>\n",
       "      <th>overall_pred</th>\n",
       "    </tr>\n",
       "  </thead>\n",
       "  <tbody>\n",
       "    <tr>\n",
       "      <th>0</th>\n",
       "      <td>A36BNC0NQ1UUMJ</td>\n",
       "      <td>B00006XXGO</td>\n",
       "      <td>4.543378</td>\n",
       "    </tr>\n",
       "    <tr>\n",
       "      <th>1</th>\n",
       "      <td>A36BNC0NQ1UUMJ</td>\n",
       "      <td>B000072UMJ</td>\n",
       "      <td>4.350297</td>\n",
       "    </tr>\n",
       "    <tr>\n",
       "      <th>2</th>\n",
       "      <td>A36BNC0NQ1UUMJ</td>\n",
       "      <td>B0000ANHST</td>\n",
       "      <td>4.398445</td>\n",
       "    </tr>\n",
       "    <tr>\n",
       "      <th>3</th>\n",
       "      <td>A36BNC0NQ1UUMJ</td>\n",
       "      <td>B0000C321X</td>\n",
       "      <td>4.207815</td>\n",
       "    </tr>\n",
       "    <tr>\n",
       "      <th>4</th>\n",
       "      <td>A36BNC0NQ1UUMJ</td>\n",
       "      <td>B0000DCS5T</td>\n",
       "      <td>4.299116</td>\n",
       "    </tr>\n",
       "  </tbody>\n",
       "</table>\n",
       "</div>"
      ],
      "text/plain": [
       "       reviewerID        asin  overall_pred\n",
       "0  A36BNC0NQ1UUMJ  B00006XXGO      4.543378\n",
       "1  A36BNC0NQ1UUMJ  B000072UMJ      4.350297\n",
       "2  A36BNC0NQ1UUMJ  B0000ANHST      4.398445\n",
       "3  A36BNC0NQ1UUMJ  B0000C321X      4.207815\n",
       "4  A36BNC0NQ1UUMJ  B0000DCS5T      4.299116"
      ]
     },
     "execution_count": 507,
     "metadata": {},
     "output_type": "execute_result"
    }
   ],
   "source": [
    "fsvd_final_pred.head(5)"
   ]
  },
  {
   "cell_type": "code",
   "execution_count": 508,
   "metadata": {},
   "outputs": [],
   "source": [
    "test_df = pd.read_csv(smart_open('s3://santhoshi-sparkle/amazon-data/sm_test.csv'))"
   ]
  },
  {
   "cell_type": "code",
   "execution_count": 509,
   "metadata": {},
   "outputs": [],
   "source": [
    "test_df.drop(['Unnamed: 0','index'], axis = 1, inplace = True)"
   ]
  },
  {
   "cell_type": "code",
   "execution_count": 261,
   "metadata": {},
   "outputs": [],
   "source": [
    "test_df = test_df[['reviewerID_x', 'asin', 'overallreview']]"
   ]
  },
  {
   "cell_type": "code",
   "execution_count": 262,
   "metadata": {},
   "outputs": [],
   "source": [
    "test = test_df.rename(index=str, columns={\"reviewerID_x\": \"reviewerID\", \"overallreview\": \"overall\"})"
   ]
  },
  {
   "cell_type": "code",
   "execution_count": 276,
   "metadata": {},
   "outputs": [],
   "source": [
    "#test.head(5)"
   ]
  },
  {
   "cell_type": "code",
   "execution_count": 272,
   "metadata": {},
   "outputs": [],
   "source": [
    "#MSE_df = pd.merge(test, fsvd_final_pred,  how='left', left_on=['reviewerID','asin'], right_on = ['reviewerID','asin'])\n"
   ]
  },
  {
   "cell_type": "markdown",
   "metadata": {},
   "source": [
    "## user recommendations"
   ]
  },
  {
   "cell_type": "code",
   "execution_count": 510,
   "metadata": {},
   "outputs": [],
   "source": [
    "R_df =train_df.pivot(index = 'reviewerID_x', columns ='asin', values = 'overallreview')"
   ]
  },
  {
   "cell_type": "code",
   "execution_count": 511,
   "metadata": {},
   "outputs": [],
   "source": [
    "user_one = R_df[0:1]"
   ]
  },
  {
   "cell_type": "code",
   "execution_count": 512,
   "metadata": {},
   "outputs": [
    {
     "data": {
      "text/plain": [
       "pandas.core.frame.DataFrame"
      ]
     },
     "execution_count": 512,
     "metadata": {},
     "output_type": "execute_result"
    }
   ],
   "source": [
    "type(user_one)"
   ]
  },
  {
   "cell_type": "code",
   "execution_count": 513,
   "metadata": {},
   "outputs": [],
   "source": [
    "d = {'reviewerID': ['A0129285DE57K0949O1Q'] * len(user_one.columns), 'asin': user_one.columns}"
   ]
  },
  {
   "cell_type": "code",
   "execution_count": 514,
   "metadata": {},
   "outputs": [],
   "source": [
    "df = pd.DataFrame(data=d)"
   ]
  },
  {
   "cell_type": "code",
   "execution_count": 515,
   "metadata": {},
   "outputs": [],
   "source": [
    "df = df[['reviewerID', 'asin']]"
   ]
  },
  {
   "cell_type": "code",
   "execution_count": 516,
   "metadata": {},
   "outputs": [
    {
     "data": {
      "text/html": [
       "<div>\n",
       "<style scoped>\n",
       "    .dataframe tbody tr th:only-of-type {\n",
       "        vertical-align: middle;\n",
       "    }\n",
       "\n",
       "    .dataframe tbody tr th {\n",
       "        vertical-align: top;\n",
       "    }\n",
       "\n",
       "    .dataframe thead th {\n",
       "        text-align: right;\n",
       "    }\n",
       "</style>\n",
       "<table border=\"1\" class=\"dataframe\">\n",
       "  <thead>\n",
       "    <tr style=\"text-align: right;\">\n",
       "      <th></th>\n",
       "      <th>reviewerID</th>\n",
       "      <th>asin</th>\n",
       "    </tr>\n",
       "  </thead>\n",
       "  <tbody>\n",
       "    <tr>\n",
       "      <th>0</th>\n",
       "      <td>A0129285DE57K0949O1Q</td>\n",
       "      <td>B00006XXGO</td>\n",
       "    </tr>\n",
       "    <tr>\n",
       "      <th>1</th>\n",
       "      <td>A0129285DE57K0949O1Q</td>\n",
       "      <td>B000072UMJ</td>\n",
       "    </tr>\n",
       "    <tr>\n",
       "      <th>2</th>\n",
       "      <td>A0129285DE57K0949O1Q</td>\n",
       "      <td>B0000ANHST</td>\n",
       "    </tr>\n",
       "    <tr>\n",
       "      <th>3</th>\n",
       "      <td>A0129285DE57K0949O1Q</td>\n",
       "      <td>B0000C321X</td>\n",
       "    </tr>\n",
       "    <tr>\n",
       "      <th>4</th>\n",
       "      <td>A0129285DE57K0949O1Q</td>\n",
       "      <td>B0000DCS5T</td>\n",
       "    </tr>\n",
       "  </tbody>\n",
       "</table>\n",
       "</div>"
      ],
      "text/plain": [
       "             reviewerID        asin\n",
       "0  A0129285DE57K0949O1Q  B00006XXGO\n",
       "1  A0129285DE57K0949O1Q  B000072UMJ\n",
       "2  A0129285DE57K0949O1Q  B0000ANHST\n",
       "3  A0129285DE57K0949O1Q  B0000C321X\n",
       "4  A0129285DE57K0949O1Q  B0000DCS5T"
      ]
     },
     "execution_count": 516,
     "metadata": {},
     "output_type": "execute_result"
    }
   ],
   "source": [
    "df.head(5)"
   ]
  },
  {
   "cell_type": "code",
   "execution_count": 517,
   "metadata": {},
   "outputs": [],
   "source": [
    "train_data = train_df[['reviewerID_x', 'asin', 'overallreview']]"
   ]
  },
  {
   "cell_type": "code",
   "execution_count": 518,
   "metadata": {},
   "outputs": [],
   "source": [
    "original_df= train_data.rename(index=str, columns={\"reviewerID_x\": \"reviewerID\", \"overallreview\": \"overall\"})"
   ]
  },
  {
   "cell_type": "code",
   "execution_count": 519,
   "metadata": {},
   "outputs": [
    {
     "data": {
      "text/html": [
       "<div>\n",
       "<style scoped>\n",
       "    .dataframe tbody tr th:only-of-type {\n",
       "        vertical-align: middle;\n",
       "    }\n",
       "\n",
       "    .dataframe tbody tr th {\n",
       "        vertical-align: top;\n",
       "    }\n",
       "\n",
       "    .dataframe thead th {\n",
       "        text-align: right;\n",
       "    }\n",
       "</style>\n",
       "<table border=\"1\" class=\"dataframe\">\n",
       "  <thead>\n",
       "    <tr style=\"text-align: right;\">\n",
       "      <th></th>\n",
       "      <th>reviewerID</th>\n",
       "      <th>asin</th>\n",
       "      <th>overall</th>\n",
       "    </tr>\n",
       "  </thead>\n",
       "  <tbody>\n",
       "    <tr>\n",
       "      <th>0</th>\n",
       "      <td>A36BNC0NQ1UUMJ</td>\n",
       "      <td>B000DZUGOM</td>\n",
       "      <td>4.0</td>\n",
       "    </tr>\n",
       "    <tr>\n",
       "      <th>1</th>\n",
       "      <td>A286C2JSC7DWKH</td>\n",
       "      <td>B000DZUGOM</td>\n",
       "      <td>5.0</td>\n",
       "    </tr>\n",
       "    <tr>\n",
       "      <th>2</th>\n",
       "      <td>A12Z3EKUIZGKYO</td>\n",
       "      <td>B000DZUGOM</td>\n",
       "      <td>5.0</td>\n",
       "    </tr>\n",
       "    <tr>\n",
       "      <th>3</th>\n",
       "      <td>A3M70NWF5M93WI</td>\n",
       "      <td>B000DZUGOM</td>\n",
       "      <td>5.0</td>\n",
       "    </tr>\n",
       "    <tr>\n",
       "      <th>4</th>\n",
       "      <td>A11L19K4VOWUVN</td>\n",
       "      <td>B000DZUGOM</td>\n",
       "      <td>4.0</td>\n",
       "    </tr>\n",
       "  </tbody>\n",
       "</table>\n",
       "</div>"
      ],
      "text/plain": [
       "       reviewerID        asin  overall\n",
       "0  A36BNC0NQ1UUMJ  B000DZUGOM      4.0\n",
       "1  A286C2JSC7DWKH  B000DZUGOM      5.0\n",
       "2  A12Z3EKUIZGKYO  B000DZUGOM      5.0\n",
       "3  A3M70NWF5M93WI  B000DZUGOM      5.0\n",
       "4  A11L19K4VOWUVN  B000DZUGOM      4.0"
      ]
     },
     "execution_count": 519,
     "metadata": {},
     "output_type": "execute_result"
    }
   ],
   "source": [
    "original_df.head(5)"
   ]
  },
  {
   "cell_type": "code",
   "execution_count": 520,
   "metadata": {},
   "outputs": [],
   "source": [
    "user_rated_product = pd.merge(df, original_df, how = 'inner', left_on = ['reviewerID', 'asin'], right_on = ['reviewerID', 'asin'])"
   ]
  },
  {
   "cell_type": "code",
   "execution_count": 521,
   "metadata": {},
   "outputs": [
    {
     "data": {
      "text/html": [
       "<div>\n",
       "<style scoped>\n",
       "    .dataframe tbody tr th:only-of-type {\n",
       "        vertical-align: middle;\n",
       "    }\n",
       "\n",
       "    .dataframe tbody tr th {\n",
       "        vertical-align: top;\n",
       "    }\n",
       "\n",
       "    .dataframe thead th {\n",
       "        text-align: right;\n",
       "    }\n",
       "</style>\n",
       "<table border=\"1\" class=\"dataframe\">\n",
       "  <thead>\n",
       "    <tr style=\"text-align: right;\">\n",
       "      <th></th>\n",
       "      <th>reviewerID</th>\n",
       "      <th>asin</th>\n",
       "      <th>overall</th>\n",
       "    </tr>\n",
       "  </thead>\n",
       "  <tbody>\n",
       "    <tr>\n",
       "      <th>0</th>\n",
       "      <td>A0129285DE57K0949O1Q</td>\n",
       "      <td>B000FH4JJQ</td>\n",
       "      <td>4.0</td>\n",
       "    </tr>\n",
       "  </tbody>\n",
       "</table>\n",
       "</div>"
      ],
      "text/plain": [
       "             reviewerID        asin  overall\n",
       "0  A0129285DE57K0949O1Q  B000FH4JJQ      4.0"
      ]
     },
     "execution_count": 521,
     "metadata": {},
     "output_type": "execute_result"
    }
   ],
   "source": [
    "user_rated_product"
   ]
  },
  {
   "cell_type": "code",
   "execution_count": 522,
   "metadata": {},
   "outputs": [],
   "source": [
    "user_df = pd.merge(df, fsvd_final_pred, how = 'inner', left_on = ['reviewerID', 'asin'], right_on = ['reviewerID', 'asin'])"
   ]
  },
  {
   "cell_type": "code",
   "execution_count": 523,
   "metadata": {},
   "outputs": [],
   "source": [
    "user_df = user_df.sort_values('overall_pred', ascending = False)"
   ]
  },
  {
   "cell_type": "code",
   "execution_count": 524,
   "metadata": {},
   "outputs": [],
   "source": [
    "## Five top most products recommended to user 'A0129285DE57K0949O1Q'\n",
    "five_top_products = user_df.head(10)"
   ]
  },
  {
   "cell_type": "code",
   "execution_count": 525,
   "metadata": {},
   "outputs": [
    {
     "data": {
      "text/html": [
       "<div>\n",
       "<style scoped>\n",
       "    .dataframe tbody tr th:only-of-type {\n",
       "        vertical-align: middle;\n",
       "    }\n",
       "\n",
       "    .dataframe tbody tr th {\n",
       "        vertical-align: top;\n",
       "    }\n",
       "\n",
       "    .dataframe thead th {\n",
       "        text-align: right;\n",
       "    }\n",
       "</style>\n",
       "<table border=\"1\" class=\"dataframe\">\n",
       "  <thead>\n",
       "    <tr style=\"text-align: right;\">\n",
       "      <th></th>\n",
       "      <th>reviewerID</th>\n",
       "      <th>asin</th>\n",
       "      <th>overall_pred</th>\n",
       "    </tr>\n",
       "  </thead>\n",
       "  <tbody>\n",
       "    <tr>\n",
       "      <th>89</th>\n",
       "      <td>A0129285DE57K0949O1Q</td>\n",
       "      <td>B002KMI7OC</td>\n",
       "      <td>4.708996</td>\n",
       "    </tr>\n",
       "    <tr>\n",
       "      <th>32</th>\n",
       "      <td>A0129285DE57K0949O1Q</td>\n",
       "      <td>B000DZUGOM</td>\n",
       "      <td>4.686123</td>\n",
       "    </tr>\n",
       "    <tr>\n",
       "      <th>74</th>\n",
       "      <td>A0129285DE57K0949O1Q</td>\n",
       "      <td>B0019MPRJW</td>\n",
       "      <td>4.678428</td>\n",
       "    </tr>\n",
       "    <tr>\n",
       "      <th>5</th>\n",
       "      <td>A0129285DE57K0949O1Q</td>\n",
       "      <td>B0000V9E3S</td>\n",
       "      <td>4.667864</td>\n",
       "    </tr>\n",
       "    <tr>\n",
       "      <th>61</th>\n",
       "      <td>A0129285DE57K0949O1Q</td>\n",
       "      <td>B000UWNFKK</td>\n",
       "      <td>4.634896</td>\n",
       "    </tr>\n",
       "    <tr>\n",
       "      <th>88</th>\n",
       "      <td>A0129285DE57K0949O1Q</td>\n",
       "      <td>B002KKCVPU</td>\n",
       "      <td>4.629932</td>\n",
       "    </tr>\n",
       "    <tr>\n",
       "      <th>65</th>\n",
       "      <td>A0129285DE57K0949O1Q</td>\n",
       "      <td>B000XPIZPE</td>\n",
       "      <td>4.627558</td>\n",
       "    </tr>\n",
       "    <tr>\n",
       "      <th>83</th>\n",
       "      <td>A0129285DE57K0949O1Q</td>\n",
       "      <td>B001Q5QLP6</td>\n",
       "      <td>4.622370</td>\n",
       "    </tr>\n",
       "    <tr>\n",
       "      <th>8</th>\n",
       "      <td>A0129285DE57K0949O1Q</td>\n",
       "      <td>B0001MQ60A</td>\n",
       "      <td>4.617056</td>\n",
       "    </tr>\n",
       "    <tr>\n",
       "      <th>0</th>\n",
       "      <td>A0129285DE57K0949O1Q</td>\n",
       "      <td>B00006XXGO</td>\n",
       "      <td>4.605090</td>\n",
       "    </tr>\n",
       "  </tbody>\n",
       "</table>\n",
       "</div>"
      ],
      "text/plain": [
       "              reviewerID        asin  overall_pred\n",
       "89  A0129285DE57K0949O1Q  B002KMI7OC      4.708996\n",
       "32  A0129285DE57K0949O1Q  B000DZUGOM      4.686123\n",
       "74  A0129285DE57K0949O1Q  B0019MPRJW      4.678428\n",
       "5   A0129285DE57K0949O1Q  B0000V9E3S      4.667864\n",
       "61  A0129285DE57K0949O1Q  B000UWNFKK      4.634896\n",
       "88  A0129285DE57K0949O1Q  B002KKCVPU      4.629932\n",
       "65  A0129285DE57K0949O1Q  B000XPIZPE      4.627558\n",
       "83  A0129285DE57K0949O1Q  B001Q5QLP6      4.622370\n",
       "8   A0129285DE57K0949O1Q  B0001MQ60A      4.617056\n",
       "0   A0129285DE57K0949O1Q  B00006XXGO      4.605090"
      ]
     },
     "execution_count": 525,
     "metadata": {},
     "output_type": "execute_result"
    }
   ],
   "source": [
    "five_top_products"
   ]
  },
  {
   "cell_type": "code",
   "execution_count": 526,
   "metadata": {},
   "outputs": [
    {
     "data": {
      "text/html": [
       "<div>\n",
       "<style scoped>\n",
       "    .dataframe tbody tr th:only-of-type {\n",
       "        vertical-align: middle;\n",
       "    }\n",
       "\n",
       "    .dataframe tbody tr th {\n",
       "        vertical-align: top;\n",
       "    }\n",
       "\n",
       "    .dataframe thead th {\n",
       "        text-align: right;\n",
       "    }\n",
       "</style>\n",
       "<table border=\"1\" class=\"dataframe\">\n",
       "  <thead>\n",
       "    <tr style=\"text-align: right;\">\n",
       "      <th></th>\n",
       "      <th>0</th>\n",
       "      <th>1</th>\n",
       "      <th>2</th>\n",
       "      <th>3</th>\n",
       "      <th>4</th>\n",
       "    </tr>\n",
       "  </thead>\n",
       "  <tbody>\n",
       "    <tr>\n",
       "      <th>asin</th>\n",
       "      <td>0000037214</td>\n",
       "      <td>0000031887</td>\n",
       "      <td>0123456479</td>\n",
       "      <td>0456844570</td>\n",
       "      <td>0456808574</td>\n",
       "    </tr>\n",
       "    <tr>\n",
       "      <th>brand</th>\n",
       "      <td>Big Dreams</td>\n",
       "      <td>Boutique Cutie</td>\n",
       "      <td>NaN</td>\n",
       "      <td>NaN</td>\n",
       "      <td>NaN</td>\n",
       "    </tr>\n",
       "    <tr>\n",
       "      <th>categories</th>\n",
       "      <td>[['Clothing, Shoes &amp; Jewelry', 'Girls'], ['Clo...</td>\n",
       "      <td>[['Clothing, Shoes &amp; Jewelry', 'Girls', 'Cloth...</td>\n",
       "      <td>[['Clothing, Shoes &amp; Jewelry', 'Novelty, Costu...</td>\n",
       "      <td>[['Clothing, Shoes &amp; Jewelry', 'Women', 'Acces...</td>\n",
       "      <td>[['Clothing, Shoes &amp; Jewelry', 'Women', 'Acces...</td>\n",
       "    </tr>\n",
       "    <tr>\n",
       "      <th>description</th>\n",
       "      <td>NaN</td>\n",
       "      <td>This adorable basic ballerina tutu is perfect ...</td>\n",
       "      <td>Elegance par excellence. Hand-crafted of the f...</td>\n",
       "      <td>NaN</td>\n",
       "      <td>NaN</td>\n",
       "    </tr>\n",
       "    <tr>\n",
       "      <th>imUrl</th>\n",
       "      <td>http://ecx.images-amazon.com/images/I/31mCncNu...</td>\n",
       "      <td>http://ecx.images-amazon.com/images/I/314qZjYe...</td>\n",
       "      <td>http://ecx.images-amazon.com/images/I/413tGhqo...</td>\n",
       "      <td>http://ecx.images-amazon.com/images/I/31QZTHxv...</td>\n",
       "      <td>http://ecx.images-amazon.com/images/I/31UsrgT5...</td>\n",
       "    </tr>\n",
       "    <tr>\n",
       "      <th>price</th>\n",
       "      <td>6.99</td>\n",
       "      <td>6.79</td>\n",
       "      <td>64.98</td>\n",
       "      <td>NaN</td>\n",
       "      <td>NaN</td>\n",
       "    </tr>\n",
       "    <tr>\n",
       "      <th>related</th>\n",
       "      <td>{'also_viewed': ['B00JO8II76', 'B00DGN4R1Q', '...</td>\n",
       "      <td>{'also_bought': ['0000031852', '0000031895', '...</td>\n",
       "      <td>{'also_bought': ['B000BMTCK6', 'B0006JCGUM', '...</td>\n",
       "      <td>{'also_viewed': ['B008MTRT1O', 'B00BUG47S4', '...</td>\n",
       "      <td>{'also_viewed': ['B00A6JD8EA', 'B00BFL4FTA', '...</td>\n",
       "    </tr>\n",
       "    <tr>\n",
       "      <th>salesRank</th>\n",
       "      <td>{'Clothing': 1233557}</td>\n",
       "      <td>{'Sports &amp;amp; Outdoors': 8547}</td>\n",
       "      <td>{'Kitchen &amp; Dining': 16987}</td>\n",
       "      <td>{'Clothing': 1180499}</td>\n",
       "      <td>{'Clothing': 1038084}</td>\n",
       "    </tr>\n",
       "    <tr>\n",
       "      <th>title</th>\n",
       "      <td>Purple Sequin Tiny Dancer Tutu Ballet Dance Fa...</td>\n",
       "      <td>Ballet Dress-Up Fairy Tutu</td>\n",
       "      <td>SHINING IMAGE HUGE PINK LEATHER JEWELRY BOX / ...</td>\n",
       "      <td>RiZ Women's Beautify Crafted &amp;frac12; Rimmed F...</td>\n",
       "      <td>Lantin White Visor Wrap Around Ski Style Aviat...</td>\n",
       "    </tr>\n",
       "  </tbody>\n",
       "</table>\n",
       "</div>"
      ],
      "text/plain": [
       "                                                             0  \\\n",
       "asin                                                0000037214   \n",
       "brand                                               Big Dreams   \n",
       "categories   [['Clothing, Shoes & Jewelry', 'Girls'], ['Clo...   \n",
       "description                                                NaN   \n",
       "imUrl        http://ecx.images-amazon.com/images/I/31mCncNu...   \n",
       "price                                                     6.99   \n",
       "related      {'also_viewed': ['B00JO8II76', 'B00DGN4R1Q', '...   \n",
       "salesRank                                {'Clothing': 1233557}   \n",
       "title        Purple Sequin Tiny Dancer Tutu Ballet Dance Fa...   \n",
       "\n",
       "                                                             1  \\\n",
       "asin                                                0000031887   \n",
       "brand                                           Boutique Cutie   \n",
       "categories   [['Clothing, Shoes & Jewelry', 'Girls', 'Cloth...   \n",
       "description  This adorable basic ballerina tutu is perfect ...   \n",
       "imUrl        http://ecx.images-amazon.com/images/I/314qZjYe...   \n",
       "price                                                     6.79   \n",
       "related      {'also_bought': ['0000031852', '0000031895', '...   \n",
       "salesRank                      {'Sports &amp; Outdoors': 8547}   \n",
       "title                               Ballet Dress-Up Fairy Tutu   \n",
       "\n",
       "                                                             2  \\\n",
       "asin                                                0123456479   \n",
       "brand                                                      NaN   \n",
       "categories   [['Clothing, Shoes & Jewelry', 'Novelty, Costu...   \n",
       "description  Elegance par excellence. Hand-crafted of the f...   \n",
       "imUrl        http://ecx.images-amazon.com/images/I/413tGhqo...   \n",
       "price                                                    64.98   \n",
       "related      {'also_bought': ['B000BMTCK6', 'B0006JCGUM', '...   \n",
       "salesRank                          {'Kitchen & Dining': 16987}   \n",
       "title        SHINING IMAGE HUGE PINK LEATHER JEWELRY BOX / ...   \n",
       "\n",
       "                                                             3  \\\n",
       "asin                                                0456844570   \n",
       "brand                                                      NaN   \n",
       "categories   [['Clothing, Shoes & Jewelry', 'Women', 'Acces...   \n",
       "description                                                NaN   \n",
       "imUrl        http://ecx.images-amazon.com/images/I/31QZTHxv...   \n",
       "price                                                      NaN   \n",
       "related      {'also_viewed': ['B008MTRT1O', 'B00BUG47S4', '...   \n",
       "salesRank                                {'Clothing': 1180499}   \n",
       "title        RiZ Women's Beautify Crafted &frac12; Rimmed F...   \n",
       "\n",
       "                                                             4  \n",
       "asin                                                0456808574  \n",
       "brand                                                      NaN  \n",
       "categories   [['Clothing, Shoes & Jewelry', 'Women', 'Acces...  \n",
       "description                                                NaN  \n",
       "imUrl        http://ecx.images-amazon.com/images/I/31UsrgT5...  \n",
       "price                                                      NaN  \n",
       "related      {'also_viewed': ['B00A6JD8EA', 'B00BFL4FTA', '...  \n",
       "salesRank                                {'Clothing': 1038084}  \n",
       "title        Lantin White Visor Wrap Around Ski Style Aviat...  "
      ]
     },
     "execution_count": 526,
     "metadata": {},
     "output_type": "execute_result"
    }
   ],
   "source": [
    "meta_Clothing_Shoes_and_Jewelry_df.head(5).T"
   ]
  },
  {
   "cell_type": "code",
   "execution_count": 528,
   "metadata": {},
   "outputs": [],
   "source": [
    "meta_Clothing_Shoes_and_Jewelry_df.drop(['Unnamed: 0'], axis = 1, inplace = True)"
   ]
  },
  {
   "cell_type": "code",
   "execution_count": 529,
   "metadata": {},
   "outputs": [],
   "source": [
    "user_prodcut_url = pd.merge(user_rated_product, meta_Clothing_Shoes_and_Jewelry_df, on = 'asin', how = 'inner')"
   ]
  },
  {
   "cell_type": "code",
   "execution_count": 530,
   "metadata": {},
   "outputs": [
    {
     "data": {
      "text/plain": [
       "0    http://ecx.images-amazon.com/images/I/31fH1sNn...\n",
       "Name: imUrl, dtype: object"
      ]
     },
     "execution_count": 530,
     "metadata": {},
     "output_type": "execute_result"
    }
   ],
   "source": [
    "user_prodcut_url.imUrl"
   ]
  },
  {
   "cell_type": "code",
   "execution_count": 531,
   "metadata": {},
   "outputs": [
    {
     "name": "stdout",
     "output_type": "stream",
     "text": [
      "http://ecx.images-amazon.com/images/I/31fH1sNnmhL._SX395_.jpg\n"
     ]
    }
   ],
   "source": [
    "user_prodcut_url['imUrl'].str.split('#', 1).str[0]\n",
    "print(user_prodcut_url['imUrl'].iloc[0])"
   ]
  },
  {
   "cell_type": "code",
   "execution_count": null,
   "metadata": {},
   "outputs": [],
   "source": [
    "# user_one already rated products"
   ]
  },
  {
   "cell_type": "code",
   "execution_count": 532,
   "metadata": {},
   "outputs": [],
   "source": [
    "user_recomm_prodcut_url = pd.merge(five_top_products, meta_Clothing_Shoes_and_Jewelry_df, on = 'asin', how = 'inner')"
   ]
  },
  {
   "cell_type": "code",
   "execution_count": 533,
   "metadata": {},
   "outputs": [],
   "source": [
    "recommenders = user_recomm_prodcut_url[['reviewerID', 'asin', 'imUrl']]"
   ]
  },
  {
   "cell_type": "code",
   "execution_count": 534,
   "metadata": {},
   "outputs": [
    {
     "data": {
      "text/html": [
       "<div>\n",
       "<style scoped>\n",
       "    .dataframe tbody tr th:only-of-type {\n",
       "        vertical-align: middle;\n",
       "    }\n",
       "\n",
       "    .dataframe tbody tr th {\n",
       "        vertical-align: top;\n",
       "    }\n",
       "\n",
       "    .dataframe thead th {\n",
       "        text-align: right;\n",
       "    }\n",
       "</style>\n",
       "<table border=\"1\" class=\"dataframe\">\n",
       "  <thead>\n",
       "    <tr style=\"text-align: right;\">\n",
       "      <th></th>\n",
       "      <th>reviewerID</th>\n",
       "      <th>asin</th>\n",
       "      <th>imUrl</th>\n",
       "    </tr>\n",
       "  </thead>\n",
       "  <tbody>\n",
       "    <tr>\n",
       "      <th>0</th>\n",
       "      <td>A0129285DE57K0949O1Q</td>\n",
       "      <td>B002KMI7OC</td>\n",
       "      <td>http://ecx.images-amazon.com/images/I/41aFCcyU...</td>\n",
       "    </tr>\n",
       "    <tr>\n",
       "      <th>1</th>\n",
       "      <td>A0129285DE57K0949O1Q</td>\n",
       "      <td>B000DZUGOM</td>\n",
       "      <td>http://ecx.images-amazon.com/images/I/41iV1fbc...</td>\n",
       "    </tr>\n",
       "    <tr>\n",
       "      <th>2</th>\n",
       "      <td>A0129285DE57K0949O1Q</td>\n",
       "      <td>B0019MPRJW</td>\n",
       "      <td>http://ecx.images-amazon.com/images/I/41dx44yE...</td>\n",
       "    </tr>\n",
       "    <tr>\n",
       "      <th>3</th>\n",
       "      <td>A0129285DE57K0949O1Q</td>\n",
       "      <td>B0000V9E3S</td>\n",
       "      <td>http://ecx.images-amazon.com/images/I/41i8XnIQ...</td>\n",
       "    </tr>\n",
       "    <tr>\n",
       "      <th>4</th>\n",
       "      <td>A0129285DE57K0949O1Q</td>\n",
       "      <td>B000UWNFKK</td>\n",
       "      <td>http://ecx.images-amazon.com/images/I/417GV4Bs...</td>\n",
       "    </tr>\n",
       "    <tr>\n",
       "      <th>5</th>\n",
       "      <td>A0129285DE57K0949O1Q</td>\n",
       "      <td>B002KKCVPU</td>\n",
       "      <td>http://ecx.images-amazon.com/images/I/41PzjPm1...</td>\n",
       "    </tr>\n",
       "    <tr>\n",
       "      <th>6</th>\n",
       "      <td>A0129285DE57K0949O1Q</td>\n",
       "      <td>B000XPIZPE</td>\n",
       "      <td>http://ecx.images-amazon.com/images/I/31IYdf-2...</td>\n",
       "    </tr>\n",
       "    <tr>\n",
       "      <th>7</th>\n",
       "      <td>A0129285DE57K0949O1Q</td>\n",
       "      <td>B001Q5QLP6</td>\n",
       "      <td>http://ecx.images-amazon.com/images/I/41bwhM5w...</td>\n",
       "    </tr>\n",
       "    <tr>\n",
       "      <th>8</th>\n",
       "      <td>A0129285DE57K0949O1Q</td>\n",
       "      <td>B0001MQ60A</td>\n",
       "      <td>http://ecx.images-amazon.com/images/I/41pRaO7f...</td>\n",
       "    </tr>\n",
       "    <tr>\n",
       "      <th>9</th>\n",
       "      <td>A0129285DE57K0949O1Q</td>\n",
       "      <td>B00006XXGO</td>\n",
       "      <td>http://ecx.images-amazon.com/images/I/41aKT01k...</td>\n",
       "    </tr>\n",
       "  </tbody>\n",
       "</table>\n",
       "</div>"
      ],
      "text/plain": [
       "             reviewerID        asin  \\\n",
       "0  A0129285DE57K0949O1Q  B002KMI7OC   \n",
       "1  A0129285DE57K0949O1Q  B000DZUGOM   \n",
       "2  A0129285DE57K0949O1Q  B0019MPRJW   \n",
       "3  A0129285DE57K0949O1Q  B0000V9E3S   \n",
       "4  A0129285DE57K0949O1Q  B000UWNFKK   \n",
       "5  A0129285DE57K0949O1Q  B002KKCVPU   \n",
       "6  A0129285DE57K0949O1Q  B000XPIZPE   \n",
       "7  A0129285DE57K0949O1Q  B001Q5QLP6   \n",
       "8  A0129285DE57K0949O1Q  B0001MQ60A   \n",
       "9  A0129285DE57K0949O1Q  B00006XXGO   \n",
       "\n",
       "                                               imUrl  \n",
       "0  http://ecx.images-amazon.com/images/I/41aFCcyU...  \n",
       "1  http://ecx.images-amazon.com/images/I/41iV1fbc...  \n",
       "2  http://ecx.images-amazon.com/images/I/41dx44yE...  \n",
       "3  http://ecx.images-amazon.com/images/I/41i8XnIQ...  \n",
       "4  http://ecx.images-amazon.com/images/I/417GV4Bs...  \n",
       "5  http://ecx.images-amazon.com/images/I/41PzjPm1...  \n",
       "6  http://ecx.images-amazon.com/images/I/31IYdf-2...  \n",
       "7  http://ecx.images-amazon.com/images/I/41bwhM5w...  \n",
       "8  http://ecx.images-amazon.com/images/I/41pRaO7f...  \n",
       "9  http://ecx.images-amazon.com/images/I/41aKT01k...  "
      ]
     },
     "execution_count": 534,
     "metadata": {},
     "output_type": "execute_result"
    }
   ],
   "source": [
    "recommenders"
   ]
  },
  {
   "cell_type": "code",
   "execution_count": 535,
   "metadata": {},
   "outputs": [
    {
     "name": "stdout",
     "output_type": "stream",
     "text": [
      "http://ecx.images-amazon.com/images/I/41aFCcyUaNL._SY395_.jpg\n",
      "http://ecx.images-amazon.com/images/I/41iV1fbcYbL._SX395_.jpg\n",
      "http://ecx.images-amazon.com/images/I/41dx44yEzcL._SY300_.jpg\n",
      "http://ecx.images-amazon.com/images/I/41i8XnIQ0YL._SY395_.jpg\n",
      "http://ecx.images-amazon.com/images/I/417GV4BsZiL._SX395_.jpg\n",
      "http://ecx.images-amazon.com/images/I/41PzjPm1pGL._SY395_.jpg\n",
      "http://ecx.images-amazon.com/images/I/31IYdf-2EqL._SX395_.jpg\n",
      "http://ecx.images-amazon.com/images/I/41bwhM5wr0L._SY395_.jpg\n",
      "http://ecx.images-amazon.com/images/I/41pRaO7fFSL._SX395_.jpg\n",
      "http://ecx.images-amazon.com/images/I/41aKT01kWTL._SX395_.jpg\n"
     ]
    }
   ],
   "source": [
    "recommenders['imUrl'].str.split('#', 1).str[0]\n",
    "for i in range(0, len(recommenders)):\n",
    "               print(recommenders['imUrl'].iloc[i])"
   ]
  },
  {
   "cell_type": "code",
   "execution_count": null,
   "metadata": {},
   "outputs": [],
   "source": []
  },
  {
   "cell_type": "markdown",
   "metadata": {},
   "source": [
    "# ALS Algorithm Implementation"
   ]
  },
  {
   "cell_type": "code",
   "execution_count": 21,
   "metadata": {},
   "outputs": [],
   "source": [
    "## ALS Algorithm\n",
    "import matplotlib.pyplot as plt"
   ]
  },
  {
   "cell_type": "code",
   "execution_count": 22,
   "metadata": {},
   "outputs": [],
   "source": [
    "## ALS + SVD algorithm\n",
    "R_df_new = R_df.fillna(0)\n",
    "R = R_df_new.as_matrix()\n",
    "n = len(R)\n",
    "m = len(R[0])\n",
    "K = 10\n",
    "\n",
    "G = R>0.5\n",
    "G[G == True] = 1\n",
    "G[G == False] = 0\n",
    "G= G.astype(np.float64, copy=False)\n",
    "P = 5 * np.random.rand(n, K)\n",
    "Q = 5 * np.random.rand(K, m)\n"
   ]
  },
  {
   "cell_type": "code",
   "execution_count": 23,
   "metadata": {},
   "outputs": [],
   "source": [
    "# ALS algorithm\n",
    "\n",
    "def ALS(R, G, P, Q, K = 10, steps = 25, lambda_ = 0.1):\n",
    "\n",
    "\n",
    "    def get_error(R, P, Q, G):\n",
    "        # This calculates the MSE of nonzero elements\n",
    "        return np.sum((G * (R - np.dot(P, Q))) ** 2) / np.sum(G)\n",
    "\n",
    "    MSE_List = []\n",
    "\n",
    "\n",
    "    for iter in range(steps):\n",
    "        for i, Gi in enumerate(G):\n",
    "            P[i] = np.linalg.solve(np.dot(Q, np.dot(np.diag(Gi), Q.T)) + lambda_ * np.eye(K),\n",
    "                                       np.dot(Q, np.dot(np.diag(Gi), R[i].T))).T\n",
    "        \n",
    "\n",
    "        for j, Gj in enumerate(G.T):\n",
    "            Q[:,j] = np.linalg.solve(np.dot(P.T, np.dot(np.diag(Gj), P)) + lambda_ * np.eye(K),\n",
    "                                     np.dot(P.T, np.dot(np.diag(Gj), R[:, j])))\n",
    "        \n",
    "\n",
    "        MSE_List.append(get_error(R, P, Q, G))\n",
    "        \n",
    "    \n",
    "    print(MSE_List)\n",
    "    fig = plt.figure()\n",
    "    ax = fig.add_subplot(111)\n",
    "    plt.plot(range(1, len(MSE_List) + 1), MSE_List); plt.ylabel('Error'); plt.xlabel('Iteration')\n",
    "    plt.title('MSE by Iteration \\n with %d users and %d products' % R.shape);\n",
    "    plt.savefig('ALS_MSE Graph.pdf', format='pdf')\n",
    "    plt.show()\n",
    "    return P, Q, MSE_List"
   ]
  },
  {
   "cell_type": "code",
   "execution_count": 24,
   "metadata": {},
   "outputs": [
    {
     "name": "stdout",
     "output_type": "stream",
     "text": [
      "[0.002976911057754526, 0.00276146341220956, 0.0025765419019206175, 0.002415651855597968, 0.002274110330886391, 0.0021484389008089534, 0.0020359884419245797, 0.001934698162239014, 0.001842935576574112, 0.0017593870690038363, 0.0016829810717252302, 0.0016128328595650865, 0.0015482040261232636, 0.0014884721682036318, 0.0014331078502275295, 0.0013816569146726206, 0.0013337268297937224, 0.0012889761211120503, 0.0012471061180071665, 0.0012078543816273248, 0.0011709893439128094, 0.0011363058633928275, 0.0011036215282273065, 0.0010727735873107599, 0.0010436163976401778]\n"
     ]
    },
    {
     "data": {
      "image/png": "[encoded data removed]",
      "text/plain": [
       "<Figure size 432x288 with 1 Axes>"
      ]
     },
     "metadata": {},
     "output_type": "display_data"
    }
   ],
   "source": [
    "U, V, MSE_List = ALS(R, G, P, Q, 10, 25, 0.1)"
   ]
  },
  {
   "cell_type": "code",
   "execution_count": 25,
   "metadata": {},
   "outputs": [],
   "source": [
    "R_result = np.dot(U, V)"
   ]
  },
  {
   "cell_type": "code",
   "execution_count": 26,
   "metadata": {},
   "outputs": [],
   "source": [
    "Als_preds_df = pd.DataFrame(R_result, columns = R_df.columns)"
   ]
  },
  {
   "cell_type": "code",
   "execution_count": 27,
   "metadata": {},
   "outputs": [
    {
     "data": {
      "text/html": [
       "<div>\n",
       "<style scoped>\n",
       "    .dataframe tbody tr th:only-of-type {\n",
       "        vertical-align: middle;\n",
       "    }\n",
       "\n",
       "    .dataframe tbody tr th {\n",
       "        vertical-align: top;\n",
       "    }\n",
       "\n",
       "    .dataframe thead th {\n",
       "        text-align: right;\n",
       "    }\n",
       "</style>\n",
       "<table border=\"1\" class=\"dataframe\">\n",
       "  <thead>\n",
       "    <tr style=\"text-align: right;\">\n",
       "      <th>asin</th>\n",
       "      <th>B00006XXGO</th>\n",
       "      <th>B000072UMJ</th>\n",
       "      <th>B0000ANHST</th>\n",
       "      <th>B0000C321X</th>\n",
       "      <th>B0000DCS5T</th>\n",
       "      <th>B0000V9E3S</th>\n",
       "      <th>B0000WLSCW</th>\n",
       "      <th>B00012O12A</th>\n",
       "      <th>B0001MQ60A</th>\n",
       "      <th>B0001YR54O</th>\n",
       "      <th>...</th>\n",
       "      <th>B002PHLVJA</th>\n",
       "      <th>B002QRBLUI</th>\n",
       "      <th>B002RADHJC</th>\n",
       "      <th>B002SSUQFG</th>\n",
       "      <th>B002YTJGDM</th>\n",
       "      <th>B0037Z37KK</th>\n",
       "      <th>B003AU5VZ6</th>\n",
       "      <th>B003BLPSM0</th>\n",
       "      <th>B003G4IM4S</th>\n",
       "      <th>B003IYYE84</th>\n",
       "    </tr>\n",
       "  </thead>\n",
       "  <tbody>\n",
       "    <tr>\n",
       "      <th>0</th>\n",
       "      <td>3.193834</td>\n",
       "      <td>3.504810</td>\n",
       "      <td>3.483646</td>\n",
       "      <td>2.995693</td>\n",
       "      <td>1.827357</td>\n",
       "      <td>3.988374</td>\n",
       "      <td>3.811460</td>\n",
       "      <td>3.215741</td>\n",
       "      <td>3.237158</td>\n",
       "      <td>2.373442</td>\n",
       "      <td>...</td>\n",
       "      <td>2.986417</td>\n",
       "      <td>3.394724</td>\n",
       "      <td>3.076885</td>\n",
       "      <td>4.046222</td>\n",
       "      <td>3.266103</td>\n",
       "      <td>2.608579</td>\n",
       "      <td>3.128560</td>\n",
       "      <td>2.886711</td>\n",
       "      <td>2.807704</td>\n",
       "      <td>3.546153</td>\n",
       "    </tr>\n",
       "    <tr>\n",
       "      <th>1</th>\n",
       "      <td>3.952376</td>\n",
       "      <td>4.250621</td>\n",
       "      <td>4.201253</td>\n",
       "      <td>3.384950</td>\n",
       "      <td>2.402629</td>\n",
       "      <td>3.939200</td>\n",
       "      <td>4.703369</td>\n",
       "      <td>3.263996</td>\n",
       "      <td>3.774639</td>\n",
       "      <td>3.091724</td>\n",
       "      <td>...</td>\n",
       "      <td>4.282260</td>\n",
       "      <td>3.628172</td>\n",
       "      <td>4.167708</td>\n",
       "      <td>4.318045</td>\n",
       "      <td>3.627389</td>\n",
       "      <td>3.362914</td>\n",
       "      <td>3.571527</td>\n",
       "      <td>3.823547</td>\n",
       "      <td>3.154702</td>\n",
       "      <td>4.077180</td>\n",
       "    </tr>\n",
       "    <tr>\n",
       "      <th>2</th>\n",
       "      <td>3.945522</td>\n",
       "      <td>4.416284</td>\n",
       "      <td>4.222931</td>\n",
       "      <td>4.241477</td>\n",
       "      <td>2.933812</td>\n",
       "      <td>4.214837</td>\n",
       "      <td>5.380767</td>\n",
       "      <td>3.884349</td>\n",
       "      <td>3.721556</td>\n",
       "      <td>3.686446</td>\n",
       "      <td>...</td>\n",
       "      <td>5.369721</td>\n",
       "      <td>3.765237</td>\n",
       "      <td>4.824854</td>\n",
       "      <td>4.108166</td>\n",
       "      <td>4.229518</td>\n",
       "      <td>4.812376</td>\n",
       "      <td>3.223117</td>\n",
       "      <td>5.091858</td>\n",
       "      <td>3.812762</td>\n",
       "      <td>4.111744</td>\n",
       "    </tr>\n",
       "    <tr>\n",
       "      <th>3</th>\n",
       "      <td>3.597803</td>\n",
       "      <td>3.825658</td>\n",
       "      <td>3.926464</td>\n",
       "      <td>3.561628</td>\n",
       "      <td>2.078082</td>\n",
       "      <td>3.797084</td>\n",
       "      <td>4.505768</td>\n",
       "      <td>2.966856</td>\n",
       "      <td>3.595487</td>\n",
       "      <td>3.070990</td>\n",
       "      <td>...</td>\n",
       "      <td>3.638852</td>\n",
       "      <td>3.447704</td>\n",
       "      <td>3.385709</td>\n",
       "      <td>3.763394</td>\n",
       "      <td>3.809458</td>\n",
       "      <td>3.096885</td>\n",
       "      <td>3.112719</td>\n",
       "      <td>3.650707</td>\n",
       "      <td>3.017945</td>\n",
       "      <td>3.643386</td>\n",
       "    </tr>\n",
       "    <tr>\n",
       "      <th>4</th>\n",
       "      <td>4.697078</td>\n",
       "      <td>5.355999</td>\n",
       "      <td>4.626411</td>\n",
       "      <td>4.015621</td>\n",
       "      <td>2.498598</td>\n",
       "      <td>4.639837</td>\n",
       "      <td>5.717652</td>\n",
       "      <td>3.704376</td>\n",
       "      <td>5.039287</td>\n",
       "      <td>3.321994</td>\n",
       "      <td>...</td>\n",
       "      <td>5.908425</td>\n",
       "      <td>4.155705</td>\n",
       "      <td>5.398850</td>\n",
       "      <td>4.514688</td>\n",
       "      <td>4.603224</td>\n",
       "      <td>3.962772</td>\n",
       "      <td>4.197096</td>\n",
       "      <td>4.925411</td>\n",
       "      <td>3.604584</td>\n",
       "      <td>4.642820</td>\n",
       "    </tr>\n",
       "  </tbody>\n",
       "</table>\n",
       "<p>5 rows × 100 columns</p>\n",
       "</div>"
      ],
      "text/plain": [
       "asin  B00006XXGO  B000072UMJ  B0000ANHST  B0000C321X  B0000DCS5T  B0000V9E3S  \\\n",
       "0       3.193834    3.504810    3.483646    2.995693    1.827357    3.988374   \n",
       "1       3.952376    4.250621    4.201253    3.384950    2.402629    3.939200   \n",
       "2       3.945522    4.416284    4.222931    4.241477    2.933812    4.214837   \n",
       "3       3.597803    3.825658    3.926464    3.561628    2.078082    3.797084   \n",
       "4       4.697078    5.355999    4.626411    4.015621    2.498598    4.639837   \n",
       "\n",
       "asin  B0000WLSCW  B00012O12A  B0001MQ60A  B0001YR54O     ...      B002PHLVJA  \\\n",
       "0       3.811460    3.215741    3.237158    2.373442     ...        2.986417   \n",
       "1       4.703369    3.263996    3.774639    3.091724     ...        4.282260   \n",
       "2       5.380767    3.884349    3.721556    3.686446     ...        5.369721   \n",
       "3       4.505768    2.966856    3.595487    3.070990     ...        3.638852   \n",
       "4       5.717652    3.704376    5.039287    3.321994     ...        5.908425   \n",
       "\n",
       "asin  B002QRBLUI  B002RADHJC  B002SSUQFG  B002YTJGDM  B0037Z37KK  B003AU5VZ6  \\\n",
       "0       3.394724    3.076885    4.046222    3.266103    2.608579    3.128560   \n",
       "1       3.628172    4.167708    4.318045    3.627389    3.362914    3.571527   \n",
       "2       3.765237    4.824854    4.108166    4.229518    4.812376    3.223117   \n",
       "3       3.447704    3.385709    3.763394    3.809458    3.096885    3.112719   \n",
       "4       4.155705    5.398850    4.514688    4.603224    3.962772    4.197096   \n",
       "\n",
       "asin  B003BLPSM0  B003G4IM4S  B003IYYE84  \n",
       "0       2.886711    2.807704    3.546153  \n",
       "1       3.823547    3.154702    4.077180  \n",
       "2       5.091858    3.812762    4.111744  \n",
       "3       3.650707    3.017945    3.643386  \n",
       "4       4.925411    3.604584    4.642820  \n",
       "\n",
       "[5 rows x 100 columns]"
      ]
     },
     "execution_count": 27,
     "metadata": {},
     "output_type": "execute_result"
    }
   ],
   "source": [
    "Als_preds_df.head(5)"
   ]
  },
  {
   "cell_type": "code",
   "execution_count": 450,
   "metadata": {},
   "outputs": [],
   "source": [
    "#Als_preds_df.min()"
   ]
  },
  {
   "cell_type": "code",
   "execution_count": 29,
   "metadata": {},
   "outputs": [],
   "source": [
    "als_preds = pd.DataFrame(Als_preds_df.stack())"
   ]
  },
  {
   "cell_type": "code",
   "execution_count": 30,
   "metadata": {},
   "outputs": [],
   "source": [
    "als_preds.reset_index(inplace=True)"
   ]
  },
  {
   "cell_type": "code",
   "execution_count": 31,
   "metadata": {},
   "outputs": [],
   "source": [
    "als_preds.columns = ['reviewerID', 'asin', 'overall']"
   ]
  },
  {
   "cell_type": "code",
   "execution_count": 32,
   "metadata": {},
   "outputs": [
    {
     "data": {
      "text/plain": [
       "(385500, 3)"
      ]
     },
     "execution_count": 32,
     "metadata": {},
     "output_type": "execute_result"
    }
   ],
   "source": [
    "als_preds.shape"
   ]
  },
  {
   "cell_type": "code",
   "execution_count": 33,
   "metadata": {},
   "outputs": [
    {
     "data": {
      "text/html": [
       "<div>\n",
       "<style scoped>\n",
       "    .dataframe tbody tr th:only-of-type {\n",
       "        vertical-align: middle;\n",
       "    }\n",
       "\n",
       "    .dataframe tbody tr th {\n",
       "        vertical-align: top;\n",
       "    }\n",
       "\n",
       "    .dataframe thead th {\n",
       "        text-align: right;\n",
       "    }\n",
       "</style>\n",
       "<table border=\"1\" class=\"dataframe\">\n",
       "  <thead>\n",
       "    <tr style=\"text-align: right;\">\n",
       "      <th></th>\n",
       "      <th>reviewerID</th>\n",
       "      <th>asin</th>\n",
       "      <th>overall</th>\n",
       "    </tr>\n",
       "  </thead>\n",
       "  <tbody>\n",
       "    <tr>\n",
       "      <th>0</th>\n",
       "      <td>0</td>\n",
       "      <td>B00006XXGO</td>\n",
       "      <td>3.193834</td>\n",
       "    </tr>\n",
       "    <tr>\n",
       "      <th>1</th>\n",
       "      <td>0</td>\n",
       "      <td>B000072UMJ</td>\n",
       "      <td>3.504810</td>\n",
       "    </tr>\n",
       "    <tr>\n",
       "      <th>2</th>\n",
       "      <td>0</td>\n",
       "      <td>B0000ANHST</td>\n",
       "      <td>3.483646</td>\n",
       "    </tr>\n",
       "    <tr>\n",
       "      <th>3</th>\n",
       "      <td>0</td>\n",
       "      <td>B0000C321X</td>\n",
       "      <td>2.995693</td>\n",
       "    </tr>\n",
       "    <tr>\n",
       "      <th>4</th>\n",
       "      <td>0</td>\n",
       "      <td>B0000DCS5T</td>\n",
       "      <td>1.827357</td>\n",
       "    </tr>\n",
       "  </tbody>\n",
       "</table>\n",
       "</div>"
      ],
      "text/plain": [
       "   reviewerID        asin   overall\n",
       "0           0  B00006XXGO  3.193834\n",
       "1           0  B000072UMJ  3.504810\n",
       "2           0  B0000ANHST  3.483646\n",
       "3           0  B0000C321X  2.995693\n",
       "4           0  B0000DCS5T  1.827357"
      ]
     },
     "execution_count": 33,
     "metadata": {},
     "output_type": "execute_result"
    }
   ],
   "source": [
    "als_preds.head(5)"
   ]
  },
  {
   "cell_type": "code",
   "execution_count": 34,
   "metadata": {},
   "outputs": [
    {
     "data": {
      "text/plain": [
       "{'ResponseMetadata': {'RequestId': '716C5AFFDF828857',\n",
       "  'HostId': 'bnPGvPQwJvoyicFNSd9+s+eFmVKqGAKJyXOjIzlRiScPIDKTP5AyA8cnXzUZZGA5jeaaRWLjfYY=',\n",
       "  'HTTPStatusCode': 200,\n",
       "  'HTTPHeaders': {'x-amz-id-2': 'bnPGvPQwJvoyicFNSd9+s+eFmVKqGAKJyXOjIzlRiScPIDKTP5AyA8cnXzUZZGA5jeaaRWLjfYY=',\n",
       "   'x-amz-request-id': '716C5AFFDF828857',\n",
       "   'date': 'Mon, 13 Aug 2018 19:15:50 GMT',\n",
       "   'etag': '\"81d0e0d55e2049ef479a535ab3db98c5\"',\n",
       "   'content-length': '0',\n",
       "   'server': 'AmazonS3'},\n",
       "  'RetryAttempts': 0},\n",
       " 'ETag': '\"81d0e0d55e2049ef479a535ab3db98c5\"'}"
      ]
     },
     "execution_count": 34,
     "metadata": {},
     "output_type": "execute_result"
    }
   ],
   "source": [
    "import boto3\n",
    "from io import StringIO\n",
    "csv_buffer = StringIO()\n",
    "als_preds.to_csv(csv_buffer)\n",
    "s3_resource = boto3.resource('s3')\n",
    "s3_resource.Object('santhoshi-sparkle', 'amazon-data/als_preds.csv').put(Body=csv_buffer.getvalue())"
   ]
  },
  {
   "cell_type": "code",
   "execution_count": 456,
   "metadata": {},
   "outputs": [],
   "source": [
    "als_preds = pd.read_csv(smart_open('s3://santhoshi-sparkle/amazon-data/als_preds.csv'))"
   ]
  },
  {
   "cell_type": "code",
   "execution_count": 457,
   "metadata": {},
   "outputs": [
    {
     "data": {
      "text/html": [
       "<div>\n",
       "<style scoped>\n",
       "    .dataframe tbody tr th:only-of-type {\n",
       "        vertical-align: middle;\n",
       "    }\n",
       "\n",
       "    .dataframe tbody tr th {\n",
       "        vertical-align: top;\n",
       "    }\n",
       "\n",
       "    .dataframe thead th {\n",
       "        text-align: right;\n",
       "    }\n",
       "</style>\n",
       "<table border=\"1\" class=\"dataframe\">\n",
       "  <thead>\n",
       "    <tr style=\"text-align: right;\">\n",
       "      <th></th>\n",
       "      <th>Unnamed: 0</th>\n",
       "      <th>reviewerID</th>\n",
       "      <th>asin</th>\n",
       "      <th>overall</th>\n",
       "    </tr>\n",
       "  </thead>\n",
       "  <tbody>\n",
       "    <tr>\n",
       "      <th>0</th>\n",
       "      <td>0</td>\n",
       "      <td>0</td>\n",
       "      <td>B00006XXGO</td>\n",
       "      <td>3.193834</td>\n",
       "    </tr>\n",
       "    <tr>\n",
       "      <th>1</th>\n",
       "      <td>1</td>\n",
       "      <td>0</td>\n",
       "      <td>B000072UMJ</td>\n",
       "      <td>3.504810</td>\n",
       "    </tr>\n",
       "    <tr>\n",
       "      <th>2</th>\n",
       "      <td>2</td>\n",
       "      <td>0</td>\n",
       "      <td>B0000ANHST</td>\n",
       "      <td>3.483646</td>\n",
       "    </tr>\n",
       "    <tr>\n",
       "      <th>3</th>\n",
       "      <td>3</td>\n",
       "      <td>0</td>\n",
       "      <td>B0000C321X</td>\n",
       "      <td>2.995693</td>\n",
       "    </tr>\n",
       "    <tr>\n",
       "      <th>4</th>\n",
       "      <td>4</td>\n",
       "      <td>0</td>\n",
       "      <td>B0000DCS5T</td>\n",
       "      <td>1.827357</td>\n",
       "    </tr>\n",
       "  </tbody>\n",
       "</table>\n",
       "</div>"
      ],
      "text/plain": [
       "   Unnamed: 0  reviewerID        asin   overall\n",
       "0           0           0  B00006XXGO  3.193834\n",
       "1           1           0  B000072UMJ  3.504810\n",
       "2           2           0  B0000ANHST  3.483646\n",
       "3           3           0  B0000C321X  2.995693\n",
       "4           4           0  B0000DCS5T  1.827357"
      ]
     },
     "execution_count": 457,
     "metadata": {},
     "output_type": "execute_result"
    }
   ],
   "source": [
    "als_preds.head(5)"
   ]
  },
  {
   "cell_type": "code",
   "execution_count": 458,
   "metadata": {},
   "outputs": [],
   "source": [
    "als_preds.drop('Unnamed: 0', axis = 1, inplace = True)"
   ]
  },
  {
   "cell_type": "code",
   "execution_count": 459,
   "metadata": {},
   "outputs": [],
   "source": [
    "train_data = train_df[['reviewerID_x', 'asin', 'overallreview']]"
   ]
  },
  {
   "cell_type": "code",
   "execution_count": 460,
   "metadata": {},
   "outputs": [],
   "source": [
    "train_data = train_data.rename(index=str, columns={\"reviewerID_x\": \"reviewerID\", \"overallreview\": \"overall\"})"
   ]
  },
  {
   "cell_type": "code",
   "execution_count": 462,
   "metadata": {},
   "outputs": [],
   "source": [
    "train_data = train_data.reset_index()"
   ]
  },
  {
   "cell_type": "code",
   "execution_count": 463,
   "metadata": {},
   "outputs": [],
   "source": [
    "als_preds = als_preds.rename(index=str, columns={'reviewerID': 'index'})"
   ]
  },
  {
   "cell_type": "code",
   "execution_count": 464,
   "metadata": {},
   "outputs": [],
   "source": [
    "train_data['index'] = train_data.index.astype(np.int64)"
   ]
  },
  {
   "cell_type": "code",
   "execution_count": 465,
   "metadata": {},
   "outputs": [],
   "source": [
    "als_final_pred = als_preds.merge(train_data, on = 'index', how = 'left')"
   ]
  },
  {
   "cell_type": "code",
   "execution_count": 466,
   "metadata": {},
   "outputs": [],
   "source": [
    "als_final_preds = als_final_pred[['reviewerID', 'asin_x', 'overall_x']]"
   ]
  },
  {
   "cell_type": "code",
   "execution_count": 469,
   "metadata": {},
   "outputs": [],
   "source": [
    "als_final_preds = als_final_preds.rename(index=str, columns={'asin_x': 'asin', 'overall_x': 'overall_pred'})"
   ]
  },
  {
   "cell_type": "code",
   "execution_count": 470,
   "metadata": {},
   "outputs": [
    {
     "data": {
      "text/html": [
       "<div>\n",
       "<style scoped>\n",
       "    .dataframe tbody tr th:only-of-type {\n",
       "        vertical-align: middle;\n",
       "    }\n",
       "\n",
       "    .dataframe tbody tr th {\n",
       "        vertical-align: top;\n",
       "    }\n",
       "\n",
       "    .dataframe thead th {\n",
       "        text-align: right;\n",
       "    }\n",
       "</style>\n",
       "<table border=\"1\" class=\"dataframe\">\n",
       "  <thead>\n",
       "    <tr style=\"text-align: right;\">\n",
       "      <th></th>\n",
       "      <th>reviewerID</th>\n",
       "      <th>asin</th>\n",
       "      <th>overall_pred</th>\n",
       "    </tr>\n",
       "  </thead>\n",
       "  <tbody>\n",
       "    <tr>\n",
       "      <th>0</th>\n",
       "      <td>A36BNC0NQ1UUMJ</td>\n",
       "      <td>B00006XXGO</td>\n",
       "      <td>3.193834</td>\n",
       "    </tr>\n",
       "    <tr>\n",
       "      <th>1</th>\n",
       "      <td>A36BNC0NQ1UUMJ</td>\n",
       "      <td>B000072UMJ</td>\n",
       "      <td>3.504810</td>\n",
       "    </tr>\n",
       "    <tr>\n",
       "      <th>2</th>\n",
       "      <td>A36BNC0NQ1UUMJ</td>\n",
       "      <td>B0000ANHST</td>\n",
       "      <td>3.483646</td>\n",
       "    </tr>\n",
       "    <tr>\n",
       "      <th>3</th>\n",
       "      <td>A36BNC0NQ1UUMJ</td>\n",
       "      <td>B0000C321X</td>\n",
       "      <td>2.995693</td>\n",
       "    </tr>\n",
       "    <tr>\n",
       "      <th>4</th>\n",
       "      <td>A36BNC0NQ1UUMJ</td>\n",
       "      <td>B0000DCS5T</td>\n",
       "      <td>1.827357</td>\n",
       "    </tr>\n",
       "  </tbody>\n",
       "</table>\n",
       "</div>"
      ],
      "text/plain": [
       "       reviewerID        asin  overall_pred\n",
       "0  A36BNC0NQ1UUMJ  B00006XXGO      3.193834\n",
       "1  A36BNC0NQ1UUMJ  B000072UMJ      3.504810\n",
       "2  A36BNC0NQ1UUMJ  B0000ANHST      3.483646\n",
       "3  A36BNC0NQ1UUMJ  B0000C321X      2.995693\n",
       "4  A36BNC0NQ1UUMJ  B0000DCS5T      1.827357"
      ]
     },
     "execution_count": 470,
     "metadata": {},
     "output_type": "execute_result"
    }
   ],
   "source": [
    "als_final_preds.head(5)"
   ]
  },
  {
   "cell_type": "markdown",
   "metadata": {},
   "source": [
    "## User Recommendations"
   ]
  },
  {
   "cell_type": "code",
   "execution_count": 468,
   "metadata": {},
   "outputs": [],
   "source": [
    "R_df =train_df.pivot(index = 'reviewerID_x', columns ='asin', values = 'overallreview')"
   ]
  },
  {
   "cell_type": "code",
   "execution_count": 471,
   "metadata": {},
   "outputs": [],
   "source": [
    "user_one = R_df[0:1]"
   ]
  },
  {
   "cell_type": "code",
   "execution_count": 472,
   "metadata": {},
   "outputs": [],
   "source": [
    "d = {'reviewerID': ['A0129285DE57K0949O1Q'] * len(user_one.columns), 'asin': user_one.columns}"
   ]
  },
  {
   "cell_type": "code",
   "execution_count": 473,
   "metadata": {},
   "outputs": [],
   "source": [
    "df = pd.DataFrame(data=d)"
   ]
  },
  {
   "cell_type": "code",
   "execution_count": 474,
   "metadata": {},
   "outputs": [],
   "source": [
    "df = df[['reviewerID', 'asin']]"
   ]
  },
  {
   "cell_type": "code",
   "execution_count": 475,
   "metadata": {},
   "outputs": [],
   "source": [
    "train_data = train_df[['reviewerID_x', 'asin', 'overallreview']]"
   ]
  },
  {
   "cell_type": "code",
   "execution_count": 476,
   "metadata": {},
   "outputs": [],
   "source": [
    "original_df= train_data.rename(index=str, columns={\"reviewerID_x\": \"reviewerID\", \"overallreview\": \"overall\"})"
   ]
  },
  {
   "cell_type": "code",
   "execution_count": 477,
   "metadata": {},
   "outputs": [],
   "source": [
    "user_rated_product = pd.merge(df, original_df, how = 'inner', left_on = ['reviewerID', 'asin'], right_on = ['reviewerID', 'asin'])"
   ]
  },
  {
   "cell_type": "code",
   "execution_count": 478,
   "metadata": {},
   "outputs": [],
   "source": [
    "user_df = pd.merge(df, als_final_preds, how = 'inner', left_on = ['reviewerID', 'asin'], right_on = ['reviewerID', 'asin'])"
   ]
  },
  {
   "cell_type": "code",
   "execution_count": 479,
   "metadata": {},
   "outputs": [],
   "source": [
    "user_df = user_df.sort_values('overall_pred', ascending = False)"
   ]
  },
  {
   "cell_type": "code",
   "execution_count": 487,
   "metadata": {},
   "outputs": [],
   "source": [
    "## Five top most products recommended to user 'A0129285DE57K0949O1Q'\n",
    "five_top_products = user_df.head(10)"
   ]
  },
  {
   "cell_type": "code",
   "execution_count": 488,
   "metadata": {},
   "outputs": [],
   "source": [
    "user_prodcut_url = pd.merge(user_rated_product, meta_Clothing_Shoes_and_Jewelry_df, on = 'asin', how = 'inner')"
   ]
  },
  {
   "cell_type": "code",
   "execution_count": 489,
   "metadata": {},
   "outputs": [
    {
     "name": "stdout",
     "output_type": "stream",
     "text": [
      "http://ecx.images-amazon.com/images/I/31fH1sNnmhL._SX395_.jpg\n"
     ]
    }
   ],
   "source": [
    "user_prodcut_url['imUrl'].str.split('#', 1).str[0]\n",
    "print(user_prodcut_url['imUrl'].iloc[0])"
   ]
  },
  {
   "cell_type": "code",
   "execution_count": 490,
   "metadata": {},
   "outputs": [],
   "source": [
    "user_recomm_prodcut_url = pd.merge(five_top_products, meta_Clothing_Shoes_and_Jewelry_df, on = 'asin', how = 'inner')"
   ]
  },
  {
   "cell_type": "code",
   "execution_count": 491,
   "metadata": {},
   "outputs": [],
   "source": [
    "recommenders = user_recomm_prodcut_url[['reviewerID', 'asin', 'imUrl']]"
   ]
  },
  {
   "cell_type": "code",
   "execution_count": 492,
   "metadata": {},
   "outputs": [
    {
     "data": {
      "text/html": [
       "<div>\n",
       "<style scoped>\n",
       "    .dataframe tbody tr th:only-of-type {\n",
       "        vertical-align: middle;\n",
       "    }\n",
       "\n",
       "    .dataframe tbody tr th {\n",
       "        vertical-align: top;\n",
       "    }\n",
       "\n",
       "    .dataframe thead th {\n",
       "        text-align: right;\n",
       "    }\n",
       "</style>\n",
       "<table border=\"1\" class=\"dataframe\">\n",
       "  <thead>\n",
       "    <tr style=\"text-align: right;\">\n",
       "      <th></th>\n",
       "      <th>reviewerID</th>\n",
       "      <th>asin</th>\n",
       "      <th>imUrl</th>\n",
       "    </tr>\n",
       "  </thead>\n",
       "  <tbody>\n",
       "    <tr>\n",
       "      <th>0</th>\n",
       "      <td>A0129285DE57K0949O1Q</td>\n",
       "      <td>B000FBO0DM</td>\n",
       "      <td>http://ecx.images-amazon.com/images/I/31bKuIyO...</td>\n",
       "    </tr>\n",
       "    <tr>\n",
       "      <th>1</th>\n",
       "      <td>A0129285DE57K0949O1Q</td>\n",
       "      <td>B000DZUGOM</td>\n",
       "      <td>http://ecx.images-amazon.com/images/I/41iV1fbc...</td>\n",
       "    </tr>\n",
       "    <tr>\n",
       "      <th>2</th>\n",
       "      <td>A0129285DE57K0949O1Q</td>\n",
       "      <td>B001CHG1YY</td>\n",
       "      <td>http://ecx.images-amazon.com/images/I/41HKKMoE...</td>\n",
       "    </tr>\n",
       "    <tr>\n",
       "      <th>3</th>\n",
       "      <td>A0129285DE57K0949O1Q</td>\n",
       "      <td>B001Q5QLP6</td>\n",
       "      <td>http://ecx.images-amazon.com/images/I/41bwhM5w...</td>\n",
       "    </tr>\n",
       "    <tr>\n",
       "      <th>4</th>\n",
       "      <td>A0129285DE57K0949O1Q</td>\n",
       "      <td>B000UWNFKK</td>\n",
       "      <td>http://ecx.images-amazon.com/images/I/417GV4Bs...</td>\n",
       "    </tr>\n",
       "    <tr>\n",
       "      <th>5</th>\n",
       "      <td>A0129285DE57K0949O1Q</td>\n",
       "      <td>B000O32MLI</td>\n",
       "      <td>http://ecx.images-amazon.com/images/I/41u8Keyk...</td>\n",
       "    </tr>\n",
       "    <tr>\n",
       "      <th>6</th>\n",
       "      <td>A0129285DE57K0949O1Q</td>\n",
       "      <td>B002SSUQFG</td>\n",
       "      <td>http://ecx.images-amazon.com/images/I/41-w4H%2...</td>\n",
       "    </tr>\n",
       "    <tr>\n",
       "      <th>7</th>\n",
       "      <td>A0129285DE57K0949O1Q</td>\n",
       "      <td>B001IB70JY</td>\n",
       "      <td>http://ecx.images-amazon.com/images/I/51zJWSJI...</td>\n",
       "    </tr>\n",
       "    <tr>\n",
       "      <th>8</th>\n",
       "      <td>A0129285DE57K0949O1Q</td>\n",
       "      <td>B0000V9E3S</td>\n",
       "      <td>http://ecx.images-amazon.com/images/I/41i8XnIQ...</td>\n",
       "    </tr>\n",
       "    <tr>\n",
       "      <th>9</th>\n",
       "      <td>A0129285DE57K0949O1Q</td>\n",
       "      <td>B000FH4JJQ</td>\n",
       "      <td>http://ecx.images-amazon.com/images/I/31fH1sNn...</td>\n",
       "    </tr>\n",
       "  </tbody>\n",
       "</table>\n",
       "</div>"
      ],
      "text/plain": [
       "             reviewerID        asin  \\\n",
       "0  A0129285DE57K0949O1Q  B000FBO0DM   \n",
       "1  A0129285DE57K0949O1Q  B000DZUGOM   \n",
       "2  A0129285DE57K0949O1Q  B001CHG1YY   \n",
       "3  A0129285DE57K0949O1Q  B001Q5QLP6   \n",
       "4  A0129285DE57K0949O1Q  B000UWNFKK   \n",
       "5  A0129285DE57K0949O1Q  B000O32MLI   \n",
       "6  A0129285DE57K0949O1Q  B002SSUQFG   \n",
       "7  A0129285DE57K0949O1Q  B001IB70JY   \n",
       "8  A0129285DE57K0949O1Q  B0000V9E3S   \n",
       "9  A0129285DE57K0949O1Q  B000FH4JJQ   \n",
       "\n",
       "                                               imUrl  \n",
       "0  http://ecx.images-amazon.com/images/I/31bKuIyO...  \n",
       "1  http://ecx.images-amazon.com/images/I/41iV1fbc...  \n",
       "2  http://ecx.images-amazon.com/images/I/41HKKMoE...  \n",
       "3  http://ecx.images-amazon.com/images/I/41bwhM5w...  \n",
       "4  http://ecx.images-amazon.com/images/I/417GV4Bs...  \n",
       "5  http://ecx.images-amazon.com/images/I/41u8Keyk...  \n",
       "6  http://ecx.images-amazon.com/images/I/41-w4H%2...  \n",
       "7  http://ecx.images-amazon.com/images/I/51zJWSJI...  \n",
       "8  http://ecx.images-amazon.com/images/I/41i8XnIQ...  \n",
       "9  http://ecx.images-amazon.com/images/I/31fH1sNn...  "
      ]
     },
     "execution_count": 492,
     "metadata": {},
     "output_type": "execute_result"
    }
   ],
   "source": [
    "recommenders"
   ]
  },
  {
   "cell_type": "code",
   "execution_count": 493,
   "metadata": {},
   "outputs": [
    {
     "name": "stdout",
     "output_type": "stream",
     "text": [
      "http://ecx.images-amazon.com/images/I/31bKuIyO8KL._SX342_.jpg\n",
      "http://ecx.images-amazon.com/images/I/41iV1fbcYbL._SX395_.jpg\n",
      "http://ecx.images-amazon.com/images/I/41HKKMoEj5L._SX395_.jpg\n",
      "http://ecx.images-amazon.com/images/I/41bwhM5wr0L._SY395_.jpg\n",
      "http://ecx.images-amazon.com/images/I/417GV4BsZiL._SX395_.jpg\n",
      "http://ecx.images-amazon.com/images/I/41u8Keyk%2B-L._SY395_.jpg\n",
      "http://ecx.images-amazon.com/images/I/41-w4H%2BiDsL._SY300_.jpg\n",
      "http://ecx.images-amazon.com/images/I/51zJWSJInxL._SY300_.jpg\n",
      "http://ecx.images-amazon.com/images/I/41i8XnIQ0YL._SY395_.jpg\n",
      "http://ecx.images-amazon.com/images/I/31fH1sNnmhL._SX395_.jpg\n"
     ]
    }
   ],
   "source": [
    "recommenders['imUrl'].str.split('#', 1).str[0]\n",
    "for i in range(0, len(recommenders)):\n",
    "               print(recommenders['imUrl'].iloc[i])"
   ]
  },
  {
   "cell_type": "code",
   "execution_count": null,
   "metadata": {},
   "outputs": [],
   "source": []
  },
  {
   "cell_type": "code",
   "execution_count": null,
   "metadata": {},
   "outputs": [],
   "source": []
  },
  {
   "cell_type": "code",
   "execution_count": null,
   "metadata": {},
   "outputs": [],
   "source": []
  },
  {
   "cell_type": "code",
   "execution_count": null,
   "metadata": {},
   "outputs": [],
   "source": []
  },
  {
   "cell_type": "code",
   "execution_count": 452,
   "metadata": {},
   "outputs": [],
   "source": [
    "#Als_preds_df.max()"
   ]
  },
  {
   "cell_type": "code",
   "execution_count": 453,
   "metadata": {},
   "outputs": [],
   "source": [
    "## Content - Based Filtering\n",
    "# We use meta data along with reviews data for content - based filtering"
   ]
  },
  {
   "cell_type": "code",
   "execution_count": 455,
   "metadata": {},
   "outputs": [
    {
     "data": {
      "text/html": [
       "<div>\n",
       "<style scoped>\n",
       "    .dataframe tbody tr th:only-of-type {\n",
       "        vertical-align: middle;\n",
       "    }\n",
       "\n",
       "    .dataframe tbody tr th {\n",
       "        vertical-align: top;\n",
       "    }\n",
       "\n",
       "    .dataframe thead th {\n",
       "        text-align: right;\n",
       "    }\n",
       "</style>\n",
       "<table border=\"1\" class=\"dataframe\">\n",
       "  <thead>\n",
       "    <tr style=\"text-align: right;\">\n",
       "      <th></th>\n",
       "      <th>0</th>\n",
       "      <th>1</th>\n",
       "      <th>2</th>\n",
       "      <th>3</th>\n",
       "      <th>4</th>\n",
       "    </tr>\n",
       "  </thead>\n",
       "  <tbody>\n",
       "    <tr>\n",
       "      <th>asin</th>\n",
       "      <td>0000037214</td>\n",
       "      <td>0000031887</td>\n",
       "      <td>0123456479</td>\n",
       "      <td>0456844570</td>\n",
       "      <td>0456808574</td>\n",
       "    </tr>\n",
       "    <tr>\n",
       "      <th>brand</th>\n",
       "      <td>Big Dreams</td>\n",
       "      <td>Boutique Cutie</td>\n",
       "      <td>NaN</td>\n",
       "      <td>NaN</td>\n",
       "      <td>NaN</td>\n",
       "    </tr>\n",
       "    <tr>\n",
       "      <th>categories</th>\n",
       "      <td>[['Clothing, Shoes &amp; Jewelry', 'Girls'], ['Clo...</td>\n",
       "      <td>[['Clothing, Shoes &amp; Jewelry', 'Girls', 'Cloth...</td>\n",
       "      <td>[['Clothing, Shoes &amp; Jewelry', 'Novelty, Costu...</td>\n",
       "      <td>[['Clothing, Shoes &amp; Jewelry', 'Women', 'Acces...</td>\n",
       "      <td>[['Clothing, Shoes &amp; Jewelry', 'Women', 'Acces...</td>\n",
       "    </tr>\n",
       "    <tr>\n",
       "      <th>description</th>\n",
       "      <td>NaN</td>\n",
       "      <td>This adorable basic ballerina tutu is perfect ...</td>\n",
       "      <td>Elegance par excellence. Hand-crafted of the f...</td>\n",
       "      <td>NaN</td>\n",
       "      <td>NaN</td>\n",
       "    </tr>\n",
       "    <tr>\n",
       "      <th>imUrl</th>\n",
       "      <td>http://ecx.images-amazon.com/images/I/31mCncNu...</td>\n",
       "      <td>http://ecx.images-amazon.com/images/I/314qZjYe...</td>\n",
       "      <td>http://ecx.images-amazon.com/images/I/413tGhqo...</td>\n",
       "      <td>http://ecx.images-amazon.com/images/I/31QZTHxv...</td>\n",
       "      <td>http://ecx.images-amazon.com/images/I/31UsrgT5...</td>\n",
       "    </tr>\n",
       "    <tr>\n",
       "      <th>price</th>\n",
       "      <td>6.99</td>\n",
       "      <td>6.79</td>\n",
       "      <td>64.98</td>\n",
       "      <td>NaN</td>\n",
       "      <td>NaN</td>\n",
       "    </tr>\n",
       "    <tr>\n",
       "      <th>related</th>\n",
       "      <td>{'also_viewed': ['B00JO8II76', 'B00DGN4R1Q', '...</td>\n",
       "      <td>{'also_bought': ['0000031852', '0000031895', '...</td>\n",
       "      <td>{'also_bought': ['B000BMTCK6', 'B0006JCGUM', '...</td>\n",
       "      <td>{'also_viewed': ['B008MTRT1O', 'B00BUG47S4', '...</td>\n",
       "      <td>{'also_viewed': ['B00A6JD8EA', 'B00BFL4FTA', '...</td>\n",
       "    </tr>\n",
       "    <tr>\n",
       "      <th>salesRank</th>\n",
       "      <td>{'Clothing': 1233557}</td>\n",
       "      <td>{'Sports &amp;amp; Outdoors': 8547}</td>\n",
       "      <td>{'Kitchen &amp; Dining': 16987}</td>\n",
       "      <td>{'Clothing': 1180499}</td>\n",
       "      <td>{'Clothing': 1038084}</td>\n",
       "    </tr>\n",
       "    <tr>\n",
       "      <th>title</th>\n",
       "      <td>Purple Sequin Tiny Dancer Tutu Ballet Dance Fa...</td>\n",
       "      <td>Ballet Dress-Up Fairy Tutu</td>\n",
       "      <td>SHINING IMAGE HUGE PINK LEATHER JEWELRY BOX / ...</td>\n",
       "      <td>RiZ Women's Beautify Crafted &amp;frac12; Rimmed F...</td>\n",
       "      <td>Lantin White Visor Wrap Around Ski Style Aviat...</td>\n",
       "    </tr>\n",
       "  </tbody>\n",
       "</table>\n",
       "</div>"
      ],
      "text/plain": [
       "                                                             0  \\\n",
       "asin                                                0000037214   \n",
       "brand                                               Big Dreams   \n",
       "categories   [['Clothing, Shoes & Jewelry', 'Girls'], ['Clo...   \n",
       "description                                                NaN   \n",
       "imUrl        http://ecx.images-amazon.com/images/I/31mCncNu...   \n",
       "price                                                     6.99   \n",
       "related      {'also_viewed': ['B00JO8II76', 'B00DGN4R1Q', '...   \n",
       "salesRank                                {'Clothing': 1233557}   \n",
       "title        Purple Sequin Tiny Dancer Tutu Ballet Dance Fa...   \n",
       "\n",
       "                                                             1  \\\n",
       "asin                                                0000031887   \n",
       "brand                                           Boutique Cutie   \n",
       "categories   [['Clothing, Shoes & Jewelry', 'Girls', 'Cloth...   \n",
       "description  This adorable basic ballerina tutu is perfect ...   \n",
       "imUrl        http://ecx.images-amazon.com/images/I/314qZjYe...   \n",
       "price                                                     6.79   \n",
       "related      {'also_bought': ['0000031852', '0000031895', '...   \n",
       "salesRank                      {'Sports &amp; Outdoors': 8547}   \n",
       "title                               Ballet Dress-Up Fairy Tutu   \n",
       "\n",
       "                                                             2  \\\n",
       "asin                                                0123456479   \n",
       "brand                                                      NaN   \n",
       "categories   [['Clothing, Shoes & Jewelry', 'Novelty, Costu...   \n",
       "description  Elegance par excellence. Hand-crafted of the f...   \n",
       "imUrl        http://ecx.images-amazon.com/images/I/413tGhqo...   \n",
       "price                                                    64.98   \n",
       "related      {'also_bought': ['B000BMTCK6', 'B0006JCGUM', '...   \n",
       "salesRank                          {'Kitchen & Dining': 16987}   \n",
       "title        SHINING IMAGE HUGE PINK LEATHER JEWELRY BOX / ...   \n",
       "\n",
       "                                                             3  \\\n",
       "asin                                                0456844570   \n",
       "brand                                                      NaN   \n",
       "categories   [['Clothing, Shoes & Jewelry', 'Women', 'Acces...   \n",
       "description                                                NaN   \n",
       "imUrl        http://ecx.images-amazon.com/images/I/31QZTHxv...   \n",
       "price                                                      NaN   \n",
       "related      {'also_viewed': ['B008MTRT1O', 'B00BUG47S4', '...   \n",
       "salesRank                                {'Clothing': 1180499}   \n",
       "title        RiZ Women's Beautify Crafted &frac12; Rimmed F...   \n",
       "\n",
       "                                                             4  \n",
       "asin                                                0456808574  \n",
       "brand                                                      NaN  \n",
       "categories   [['Clothing, Shoes & Jewelry', 'Women', 'Acces...  \n",
       "description                                                NaN  \n",
       "imUrl        http://ecx.images-amazon.com/images/I/31UsrgT5...  \n",
       "price                                                      NaN  \n",
       "related      {'also_viewed': ['B00A6JD8EA', 'B00BFL4FTA', '...  \n",
       "salesRank                                {'Clothing': 1038084}  \n",
       "title        Lantin White Visor Wrap Around Ski Style Aviat...  "
      ]
     },
     "execution_count": 455,
     "metadata": {},
     "output_type": "execute_result"
    }
   ],
   "source": [
    "meta_Clothing_Shoes_and_Jewelry_df.head(5).T"
   ]
  },
  {
   "cell_type": "code",
   "execution_count": 16,
   "metadata": {},
   "outputs": [],
   "source": [
    "meta_Clothing_Shoes_and_Jewelry_df.drop_duplicates(subset=['asin'],inplace=True)\n"
   ]
  },
  {
   "cell_type": "code",
   "execution_count": 17,
   "metadata": {},
   "outputs": [
    {
     "data": {
      "text/plain": [
       "asin                0\n",
       "brand          929039\n",
       "categories          0\n",
       "description    933745\n",
       "imUrl              77\n",
       "price          655375\n",
       "related        377571\n",
       "salesRank       58090\n",
       "title             604\n",
       "dtype: int64"
      ]
     },
     "execution_count": 17,
     "metadata": {},
     "output_type": "execute_result"
    }
   ],
   "source": [
    "meta_Clothing_Shoes_and_Jewelry_df.isnull().sum()"
   ]
  },
  {
   "cell_type": "code",
   "execution_count": null,
   "metadata": {},
   "outputs": [],
   "source": []
  },
  {
   "cell_type": "code",
   "execution_count": 18,
   "metadata": {
    "scrolled": true
   },
   "outputs": [
    {
     "data": {
      "text/plain": [
       "0                                                  NaN\n",
       "1    This adorable basic ballerina tutu is perfect ...\n",
       "2    Elegance par excellence. Hand-crafted of the f...\n",
       "3                                                  NaN\n",
       "4                                                  NaN\n",
       "Name: description, dtype: object"
      ]
     },
     "execution_count": 18,
     "metadata": {},
     "output_type": "execute_result"
    }
   ],
   "source": [
    "meta_Clothing_Shoes_and_Jewelry_df['description'].head(5)"
   ]
  },
  {
   "cell_type": "markdown",
   "metadata": {},
   "source": [
    "# Basic Content based Filtering model:"
   ]
  },
  {
   "cell_type": "code",
   "execution_count": 18,
   "metadata": {},
   "outputs": [
    {
     "name": "stdout",
     "output_type": "stream",
     "text": [
      "Requirement already satisfied: sklearn in /home/ubuntu/anaconda3/envs/python3/lib/python3.6/site-packages (0.0)\n",
      "Requirement already satisfied: scikit-learn in /home/ubuntu/anaconda3/envs/python3/lib/python3.6/site-packages (from sklearn) (0.19.2)\n",
      "Requirement already satisfied: scipy in /home/ubuntu/anaconda3/envs/python3/lib/python3.6/site-packages (1.1.0)\n",
      "Requirement already satisfied: numpy>=1.8.2 in /home/ubuntu/anaconda3/envs/python3/lib/python3.6/site-packages (from scipy) (1.14.5)\n"
     ]
    }
   ],
   "source": [
    "# Split data into train and test\n",
    "!{sys.executable} -m pip install sklearn\n",
    "!{sys.executable} -m pip install scipy\n",
    "from sklearn.model_selection import train_test_split"
   ]
  },
  {
   "cell_type": "code",
   "execution_count": 243,
   "metadata": {},
   "outputs": [
    {
     "name": "stdout",
     "output_type": "stream",
     "text": [
      "Collecting seaborn\n",
      "\u001b[?25l  Downloading https://files.pythonhosted.org/packages/a8/76/220ba4420459d9c4c9c9587c6ce607bf56c25b3d3d2de62056efe482dadc/seaborn-0.9.0-py3-none-any.whl (208kB)\n",
      "\u001b[K    100% |████████████████████████████████| 215kB 16.4MB/s ta 0:00:01\n",
      "\u001b[?25hRequirement already satisfied: numpy>=1.9.3 in /home/ubuntu/anaconda3/envs/python3/lib/python3.6/site-packages (from seaborn) (1.14.5)\n",
      "Collecting scipy>=0.14.0 (from seaborn)\n",
      "\u001b[?25l  Downloading https://files.pythonhosted.org/packages/a8/0b/f163da98d3a01b3e0ef1cab8dd2123c34aee2bafbb1c5bffa354cc8a1730/scipy-1.1.0-cp36-cp36m-manylinux1_x86_64.whl (31.2MB)\n",
      "\u001b[K    100% |████████████████████████████████| 31.2MB 2.2MB/s eta 0:00:01\n",
      "\u001b[?25hRequirement already satisfied: matplotlib>=1.4.3 in /home/ubuntu/anaconda3/envs/python3/lib/python3.6/site-packages (from seaborn) (2.2.2)\n",
      "Requirement already satisfied: pandas>=0.15.2 in /home/ubuntu/anaconda3/envs/python3/lib/python3.6/site-packages (from seaborn) (0.22.0)\n",
      "Requirement already satisfied: six>=1.10 in /home/ubuntu/anaconda3/envs/python3/lib/python3.6/site-packages (from matplotlib>=1.4.3->seaborn) (1.11.0)\n",
      "Requirement already satisfied: pytz in /home/ubuntu/anaconda3/envs/python3/lib/python3.6/site-packages (from matplotlib>=1.4.3->seaborn) (2018.5)\n",
      "Requirement already satisfied: pyparsing!=2.0.4,!=2.1.2,!=2.1.6,>=2.0.1 in /home/ubuntu/anaconda3/envs/python3/lib/python3.6/site-packages (from matplotlib>=1.4.3->seaborn) (2.2.0)\n",
      "Requirement already satisfied: kiwisolver>=1.0.1 in /home/ubuntu/anaconda3/envs/python3/lib/python3.6/site-packages (from matplotlib>=1.4.3->seaborn) (1.0.1)\n",
      "Requirement already satisfied: cycler>=0.10 in /home/ubuntu/anaconda3/envs/python3/lib/python3.6/site-packages (from matplotlib>=1.4.3->seaborn) (0.10.0)\n",
      "Requirement already satisfied: python-dateutil>=2.1 in /home/ubuntu/anaconda3/envs/python3/lib/python3.6/site-packages (from matplotlib>=1.4.3->seaborn) (2.7.3)\n",
      "Requirement already satisfied: setuptools in /home/ubuntu/anaconda3/envs/python3/lib/python3.6/site-packages (from kiwisolver>=1.0.1->matplotlib>=1.4.3->seaborn) (39.2.0)\n",
      "Installing collected packages: scipy, seaborn\n",
      "Successfully installed scipy-1.1.0 seaborn-0.9.0\n",
      "Collecting ast\n",
      "  Downloading https://files.pythonhosted.org/packages/4b/fb/2b954d2a38c9a0ef1da6a46737a75b4dbf6f60e5dad0f267a4ec5ece20de/AST-0.0.2.tar.gz\n",
      "    Complete output from command python setup.py egg_info:\n",
      "    Traceback (most recent call last):\n",
      "      File \"<string>\", line 1, in <module>\n",
      "      File \"/tmp/pip-install-24hitfm_/ast/setup.py\", line 6, in <module>\n",
      "        README = codecs.open(os.path.join(here, 'AST/README'), encoding='utf8').read()\n",
      "      File \"/home/ubuntu/anaconda3/envs/python3/lib/python3.6/codecs.py\", line 897, in open\n",
      "        file = builtins.open(filename, mode, buffering)\n",
      "    FileNotFoundError: [Errno 2] No such file or directory: '/tmp/pip-install-24hitfm_/ast/AST/README'\n",
      "    \n",
      "    ----------------------------------------\n",
      "\u001b[31mCommand \"python setup.py egg_info\" failed with error code 1 in /tmp/pip-install-24hitfm_/ast/\u001b[0m\n",
      "Collecting nltk\n",
      "\u001b[?25l  Downloading https://files.pythonhosted.org/packages/50/09/3b1755d528ad9156ee7243d52aa5cd2b809ef053a0f31b53d92853dd653a/nltk-3.3.0.zip (1.4MB)\n",
      "\u001b[K    100% |████████████████████████████████| 1.4MB 24.4MB/s ta 0:00:01\n",
      "\u001b[?25hRequirement already satisfied: six in /home/ubuntu/anaconda3/envs/python3/lib/python3.6/site-packages (from nltk) (1.11.0)\n",
      "Building wheels for collected packages: nltk\n",
      "  Running setup.py bdist_wheel for nltk ... \u001b[?25ldone\n",
      "\u001b[?25h  Stored in directory: /home/ubuntu/.cache/pip/wheels/d1/ab/40/3bceea46922767e42986aef7606a600538ca80de6062dc266c\n",
      "Successfully built nltk\n",
      "Installing collected packages: nltk\n",
      "Successfully installed nltk-3.3\n"
     ]
    }
   ],
   "source": [
    "!{sys.executable} -m pip install seaborn\n",
    "!{sys.executable} -m pip install ast\n",
    "!{sys.executable} -m pip install nltk"
   ]
  },
  {
   "cell_type": "code",
   "execution_count": 20,
   "metadata": {},
   "outputs": [],
   "source": [
    "import seaborn as sns\n",
    "from scipy import stats\n",
    "from ast import literal_eval\n",
    "from sklearn.feature_extraction.text import TfidfVectorizer, CountVectorizer\n",
    "from sklearn.metrics.pairwise import linear_kernel, cosine_similarity\n",
    "from nltk.stem.snowball import SnowballStemmer\n",
    "from nltk.stem.wordnet import WordNetLemmatizer\n",
    "from nltk.corpus import wordnet"
   ]
  },
  {
   "cell_type": "code",
   "execution_count": 21,
   "metadata": {},
   "outputs": [],
   "source": [
    "#Import TfIdfVectorizer from scikit-learn\n",
    "from sklearn.feature_extraction.text import TfidfVectorizer "
   ]
  },
  {
   "cell_type": "code",
   "execution_count": 24,
   "metadata": {},
   "outputs": [],
   "source": [
    "#reviews_Clothing_Shoes_and_Jewelry_df.drop_duplicates(subset=['asin', 'reviewerID','unixReviewTime'],inplace=True) "
   ]
  },
  {
   "cell_type": "code",
   "execution_count": 25,
   "metadata": {},
   "outputs": [
    {
     "data": {
      "text/html": [
       "<div>\n",
       "<style scoped>\n",
       "    .dataframe tbody tr th:only-of-type {\n",
       "        vertical-align: middle;\n",
       "    }\n",
       "\n",
       "    .dataframe tbody tr th {\n",
       "        vertical-align: top;\n",
       "    }\n",
       "\n",
       "    .dataframe thead th {\n",
       "        text-align: right;\n",
       "    }\n",
       "</style>\n",
       "<table border=\"1\" class=\"dataframe\">\n",
       "  <thead>\n",
       "    <tr style=\"text-align: right;\">\n",
       "      <th></th>\n",
       "      <th>0</th>\n",
       "      <th>1</th>\n",
       "      <th>2</th>\n",
       "      <th>3</th>\n",
       "      <th>4</th>\n",
       "    </tr>\n",
       "  </thead>\n",
       "  <tbody>\n",
       "    <tr>\n",
       "      <th>asin</th>\n",
       "      <td>0000037214</td>\n",
       "      <td>0000031887</td>\n",
       "      <td>0123456479</td>\n",
       "      <td>0456844570</td>\n",
       "      <td>0456808574</td>\n",
       "    </tr>\n",
       "    <tr>\n",
       "      <th>brand</th>\n",
       "      <td>Big Dreams</td>\n",
       "      <td>Boutique Cutie</td>\n",
       "      <td>NaN</td>\n",
       "      <td>NaN</td>\n",
       "      <td>NaN</td>\n",
       "    </tr>\n",
       "    <tr>\n",
       "      <th>categories</th>\n",
       "      <td>[['Clothing, Shoes &amp; Jewelry', 'Girls'], ['Clo...</td>\n",
       "      <td>[['Clothing, Shoes &amp; Jewelry', 'Girls', 'Cloth...</td>\n",
       "      <td>[['Clothing, Shoes &amp; Jewelry', 'Novelty, Costu...</td>\n",
       "      <td>[['Clothing, Shoes &amp; Jewelry', 'Women', 'Acces...</td>\n",
       "      <td>[['Clothing, Shoes &amp; Jewelry', 'Women', 'Acces...</td>\n",
       "    </tr>\n",
       "    <tr>\n",
       "      <th>description</th>\n",
       "      <td>NaN</td>\n",
       "      <td>This adorable basic ballerina tutu is perfect ...</td>\n",
       "      <td>Elegance par excellence. Hand-crafted of the f...</td>\n",
       "      <td>NaN</td>\n",
       "      <td>NaN</td>\n",
       "    </tr>\n",
       "    <tr>\n",
       "      <th>imUrl</th>\n",
       "      <td>http://ecx.images-amazon.com/images/I/31mCncNu...</td>\n",
       "      <td>http://ecx.images-amazon.com/images/I/314qZjYe...</td>\n",
       "      <td>http://ecx.images-amazon.com/images/I/413tGhqo...</td>\n",
       "      <td>http://ecx.images-amazon.com/images/I/31QZTHxv...</td>\n",
       "      <td>http://ecx.images-amazon.com/images/I/31UsrgT5...</td>\n",
       "    </tr>\n",
       "    <tr>\n",
       "      <th>price</th>\n",
       "      <td>6.99</td>\n",
       "      <td>6.79</td>\n",
       "      <td>64.98</td>\n",
       "      <td>NaN</td>\n",
       "      <td>NaN</td>\n",
       "    </tr>\n",
       "    <tr>\n",
       "      <th>related</th>\n",
       "      <td>{'also_viewed': ['B00JO8II76', 'B00DGN4R1Q', '...</td>\n",
       "      <td>{'also_bought': ['0000031852', '0000031895', '...</td>\n",
       "      <td>{'also_bought': ['B000BMTCK6', 'B0006JCGUM', '...</td>\n",
       "      <td>{'also_viewed': ['B008MTRT1O', 'B00BUG47S4', '...</td>\n",
       "      <td>{'also_viewed': ['B00A6JD8EA', 'B00BFL4FTA', '...</td>\n",
       "    </tr>\n",
       "    <tr>\n",
       "      <th>salesRank</th>\n",
       "      <td>{'Clothing': 1233557}</td>\n",
       "      <td>{'Sports &amp;amp; Outdoors': 8547}</td>\n",
       "      <td>{'Kitchen &amp; Dining': 16987}</td>\n",
       "      <td>{'Clothing': 1180499}</td>\n",
       "      <td>{'Clothing': 1038084}</td>\n",
       "    </tr>\n",
       "    <tr>\n",
       "      <th>title</th>\n",
       "      <td>Purple Sequin Tiny Dancer Tutu Ballet Dance Fa...</td>\n",
       "      <td>Ballet Dress-Up Fairy Tutu</td>\n",
       "      <td>SHINING IMAGE HUGE PINK LEATHER JEWELRY BOX / ...</td>\n",
       "      <td>RiZ Women's Beautify Crafted &amp;frac12; Rimmed F...</td>\n",
       "      <td>Lantin White Visor Wrap Around Ski Style Aviat...</td>\n",
       "    </tr>\n",
       "  </tbody>\n",
       "</table>\n",
       "</div>"
      ],
      "text/plain": [
       "                                                             0  \\\n",
       "asin                                                0000037214   \n",
       "brand                                               Big Dreams   \n",
       "categories   [['Clothing, Shoes & Jewelry', 'Girls'], ['Clo...   \n",
       "description                                                NaN   \n",
       "imUrl        http://ecx.images-amazon.com/images/I/31mCncNu...   \n",
       "price                                                     6.99   \n",
       "related      {'also_viewed': ['B00JO8II76', 'B00DGN4R1Q', '...   \n",
       "salesRank                                {'Clothing': 1233557}   \n",
       "title        Purple Sequin Tiny Dancer Tutu Ballet Dance Fa...   \n",
       "\n",
       "                                                             1  \\\n",
       "asin                                                0000031887   \n",
       "brand                                           Boutique Cutie   \n",
       "categories   [['Clothing, Shoes & Jewelry', 'Girls', 'Cloth...   \n",
       "description  This adorable basic ballerina tutu is perfect ...   \n",
       "imUrl        http://ecx.images-amazon.com/images/I/314qZjYe...   \n",
       "price                                                     6.79   \n",
       "related      {'also_bought': ['0000031852', '0000031895', '...   \n",
       "salesRank                      {'Sports &amp; Outdoors': 8547}   \n",
       "title                               Ballet Dress-Up Fairy Tutu   \n",
       "\n",
       "                                                             2  \\\n",
       "asin                                                0123456479   \n",
       "brand                                                      NaN   \n",
       "categories   [['Clothing, Shoes & Jewelry', 'Novelty, Costu...   \n",
       "description  Elegance par excellence. Hand-crafted of the f...   \n",
       "imUrl        http://ecx.images-amazon.com/images/I/413tGhqo...   \n",
       "price                                                    64.98   \n",
       "related      {'also_bought': ['B000BMTCK6', 'B0006JCGUM', '...   \n",
       "salesRank                          {'Kitchen & Dining': 16987}   \n",
       "title        SHINING IMAGE HUGE PINK LEATHER JEWELRY BOX / ...   \n",
       "\n",
       "                                                             3  \\\n",
       "asin                                                0456844570   \n",
       "brand                                                      NaN   \n",
       "categories   [['Clothing, Shoes & Jewelry', 'Women', 'Acces...   \n",
       "description                                                NaN   \n",
       "imUrl        http://ecx.images-amazon.com/images/I/31QZTHxv...   \n",
       "price                                                      NaN   \n",
       "related      {'also_viewed': ['B008MTRT1O', 'B00BUG47S4', '...   \n",
       "salesRank                                {'Clothing': 1180499}   \n",
       "title        RiZ Women's Beautify Crafted &frac12; Rimmed F...   \n",
       "\n",
       "                                                             4  \n",
       "asin                                                0456808574  \n",
       "brand                                                      NaN  \n",
       "categories   [['Clothing, Shoes & Jewelry', 'Women', 'Acces...  \n",
       "description                                                NaN  \n",
       "imUrl        http://ecx.images-amazon.com/images/I/31UsrgT5...  \n",
       "price                                                      NaN  \n",
       "related      {'also_viewed': ['B00A6JD8EA', 'B00BFL4FTA', '...  \n",
       "salesRank                                {'Clothing': 1038084}  \n",
       "title        Lantin White Visor Wrap Around Ski Style Aviat...  "
      ]
     },
     "execution_count": 25,
     "metadata": {},
     "output_type": "execute_result"
    }
   ],
   "source": [
    "meta_Clothing_Shoes_and_Jewelry_df.head(5).T"
   ]
  },
  {
   "cell_type": "code",
   "execution_count": null,
   "metadata": {},
   "outputs": [],
   "source": [
    "# Product description based recommender"
   ]
  },
  {
   "cell_type": "code",
   "execution_count": 66,
   "metadata": {},
   "outputs": [],
   "source": [
    "meta_Clothing_Shoes_and_Jewelry_df['description'] = meta_Clothing_Shoes_and_Jewelry_df['description'].fillna('')\n",
    "meta_Clothing_Shoes_and_Jewelry_df['brand'] = meta_Clothing_Shoes_and_Jewelry_df['brand'].fillna('')"
   ]
  },
  {
   "cell_type": "code",
   "execution_count": 67,
   "metadata": {},
   "outputs": [],
   "source": [
    "new_df = meta_Clothing_Shoes_and_Jewelry_df.head(600)"
   ]
  },
  {
   "cell_type": "code",
   "execution_count": 68,
   "metadata": {},
   "outputs": [
    {
     "data": {
      "text/plain": [
       "(600, 9)"
      ]
     },
     "execution_count": 68,
     "metadata": {},
     "output_type": "execute_result"
    }
   ],
   "source": [
    "new_df.shape"
   ]
  },
  {
   "cell_type": "code",
   "execution_count": 69,
   "metadata": {},
   "outputs": [
    {
     "data": {
      "text/html": [
       "<div>\n",
       "<style scoped>\n",
       "    .dataframe tbody tr th:only-of-type {\n",
       "        vertical-align: middle;\n",
       "    }\n",
       "\n",
       "    .dataframe tbody tr th {\n",
       "        vertical-align: top;\n",
       "    }\n",
       "\n",
       "    .dataframe thead th {\n",
       "        text-align: right;\n",
       "    }\n",
       "</style>\n",
       "<table border=\"1\" class=\"dataframe\">\n",
       "  <thead>\n",
       "    <tr style=\"text-align: right;\">\n",
       "      <th></th>\n",
       "      <th>asin</th>\n",
       "      <th>brand</th>\n",
       "      <th>categories</th>\n",
       "      <th>description</th>\n",
       "      <th>imUrl</th>\n",
       "      <th>price</th>\n",
       "      <th>related</th>\n",
       "      <th>salesRank</th>\n",
       "      <th>title</th>\n",
       "    </tr>\n",
       "  </thead>\n",
       "  <tbody>\n",
       "    <tr>\n",
       "      <th>0</th>\n",
       "      <td>0000037214</td>\n",
       "      <td>Big Dreams</td>\n",
       "      <td>[['Clothing, Shoes &amp; Jewelry', 'Girls'], ['Clo...</td>\n",
       "      <td></td>\n",
       "      <td>http://ecx.images-amazon.com/images/I/31mCncNu...</td>\n",
       "      <td>6.99</td>\n",
       "      <td>{'also_viewed': ['B00JO8II76', 'B00DGN4R1Q', '...</td>\n",
       "      <td>{'Clothing': 1233557}</td>\n",
       "      <td>Purple Sequin Tiny Dancer Tutu Ballet Dance Fa...</td>\n",
       "    </tr>\n",
       "    <tr>\n",
       "      <th>1</th>\n",
       "      <td>0000031887</td>\n",
       "      <td>Boutique Cutie</td>\n",
       "      <td>[['Clothing, Shoes &amp; Jewelry', 'Girls', 'Cloth...</td>\n",
       "      <td>This adorable basic ballerina tutu is perfect ...</td>\n",
       "      <td>http://ecx.images-amazon.com/images/I/314qZjYe...</td>\n",
       "      <td>6.79</td>\n",
       "      <td>{'also_bought': ['0000031852', '0000031895', '...</td>\n",
       "      <td>{'Sports &amp;amp; Outdoors': 8547}</td>\n",
       "      <td>Ballet Dress-Up Fairy Tutu</td>\n",
       "    </tr>\n",
       "    <tr>\n",
       "      <th>2</th>\n",
       "      <td>0123456479</td>\n",
       "      <td></td>\n",
       "      <td>[['Clothing, Shoes &amp; Jewelry', 'Novelty, Costu...</td>\n",
       "      <td>Elegance par excellence. Hand-crafted of the f...</td>\n",
       "      <td>http://ecx.images-amazon.com/images/I/413tGhqo...</td>\n",
       "      <td>64.98</td>\n",
       "      <td>{'also_bought': ['B000BMTCK6', 'B0006JCGUM', '...</td>\n",
       "      <td>{'Kitchen &amp; Dining': 16987}</td>\n",
       "      <td>SHINING IMAGE HUGE PINK LEATHER JEWELRY BOX / ...</td>\n",
       "    </tr>\n",
       "    <tr>\n",
       "      <th>3</th>\n",
       "      <td>0456844570</td>\n",
       "      <td></td>\n",
       "      <td>[['Clothing, Shoes &amp; Jewelry', 'Women', 'Acces...</td>\n",
       "      <td></td>\n",
       "      <td>http://ecx.images-amazon.com/images/I/31QZTHxv...</td>\n",
       "      <td>NaN</td>\n",
       "      <td>{'also_viewed': ['B008MTRT1O', 'B00BUG47S4', '...</td>\n",
       "      <td>{'Clothing': 1180499}</td>\n",
       "      <td>RiZ Women's Beautify Crafted &amp;frac12; Rimmed F...</td>\n",
       "    </tr>\n",
       "    <tr>\n",
       "      <th>4</th>\n",
       "      <td>0456808574</td>\n",
       "      <td></td>\n",
       "      <td>[['Clothing, Shoes &amp; Jewelry', 'Women', 'Acces...</td>\n",
       "      <td></td>\n",
       "      <td>http://ecx.images-amazon.com/images/I/31UsrgT5...</td>\n",
       "      <td>NaN</td>\n",
       "      <td>{'also_viewed': ['B00A6JD8EA', 'B00BFL4FTA', '...</td>\n",
       "      <td>{'Clothing': 1038084}</td>\n",
       "      <td>Lantin White Visor Wrap Around Ski Style Aviat...</td>\n",
       "    </tr>\n",
       "  </tbody>\n",
       "</table>\n",
       "</div>"
      ],
      "text/plain": [
       "         asin           brand  \\\n",
       "0  0000037214      Big Dreams   \n",
       "1  0000031887  Boutique Cutie   \n",
       "2  0123456479                   \n",
       "3  0456844570                   \n",
       "4  0456808574                   \n",
       "\n",
       "                                          categories  \\\n",
       "0  [['Clothing, Shoes & Jewelry', 'Girls'], ['Clo...   \n",
       "1  [['Clothing, Shoes & Jewelry', 'Girls', 'Cloth...   \n",
       "2  [['Clothing, Shoes & Jewelry', 'Novelty, Costu...   \n",
       "3  [['Clothing, Shoes & Jewelry', 'Women', 'Acces...   \n",
       "4  [['Clothing, Shoes & Jewelry', 'Women', 'Acces...   \n",
       "\n",
       "                                         description  \\\n",
       "0                                                      \n",
       "1  This adorable basic ballerina tutu is perfect ...   \n",
       "2  Elegance par excellence. Hand-crafted of the f...   \n",
       "3                                                      \n",
       "4                                                      \n",
       "\n",
       "                                               imUrl  price  \\\n",
       "0  http://ecx.images-amazon.com/images/I/31mCncNu...   6.99   \n",
       "1  http://ecx.images-amazon.com/images/I/314qZjYe...   6.79   \n",
       "2  http://ecx.images-amazon.com/images/I/413tGhqo...  64.98   \n",
       "3  http://ecx.images-amazon.com/images/I/31QZTHxv...    NaN   \n",
       "4  http://ecx.images-amazon.com/images/I/31UsrgT5...    NaN   \n",
       "\n",
       "                                             related  \\\n",
       "0  {'also_viewed': ['B00JO8II76', 'B00DGN4R1Q', '...   \n",
       "1  {'also_bought': ['0000031852', '0000031895', '...   \n",
       "2  {'also_bought': ['B000BMTCK6', 'B0006JCGUM', '...   \n",
       "3  {'also_viewed': ['B008MTRT1O', 'B00BUG47S4', '...   \n",
       "4  {'also_viewed': ['B00A6JD8EA', 'B00BFL4FTA', '...   \n",
       "\n",
       "                         salesRank  \\\n",
       "0            {'Clothing': 1233557}   \n",
       "1  {'Sports &amp; Outdoors': 8547}   \n",
       "2      {'Kitchen & Dining': 16987}   \n",
       "3            {'Clothing': 1180499}   \n",
       "4            {'Clothing': 1038084}   \n",
       "\n",
       "                                               title  \n",
       "0  Purple Sequin Tiny Dancer Tutu Ballet Dance Fa...  \n",
       "1                         Ballet Dress-Up Fairy Tutu  \n",
       "2  SHINING IMAGE HUGE PINK LEATHER JEWELRY BOX / ...  \n",
       "3  RiZ Women's Beautify Crafted &frac12; Rimmed F...  \n",
       "4  Lantin White Visor Wrap Around Ski Style Aviat...  "
      ]
     },
     "execution_count": 69,
     "metadata": {},
     "output_type": "execute_result"
    }
   ],
   "source": [
    "new_df.head(5)"
   ]
  },
  {
   "cell_type": "code",
   "execution_count": 60,
   "metadata": {},
   "outputs": [],
   "source": [
    "#Define a TF-IDF Vectorizer Object. Remove all english stop words such as 'the', 'a'\n",
    "tf_idf = TfidfVectorizer(analyzer='word',ngram_range=(1, 2),min_df=0, stop_words='english')\n",
    "tfidf_matrix = tf_idf.fit_transform(new_df['description'])"
   ]
  },
  {
   "cell_type": "code",
   "execution_count": 61,
   "metadata": {},
   "outputs": [
    {
     "data": {
      "text/plain": [
       "(600, 10866)"
      ]
     },
     "execution_count": 61,
     "metadata": {},
     "output_type": "execute_result"
    }
   ],
   "source": [
    "tfidf_matrix.shape"
   ]
  },
  {
   "cell_type": "code",
   "execution_count": 62,
   "metadata": {},
   "outputs": [],
   "source": [
    "# Since we have used TF-IDF Vectorizer, calculating the Dot Product will directly give us the Cosine Similarity Score. \n",
    "#Therefore, we will use sklearn's linear_kernel instead of cosine_similarities since it is much faster."
   ]
  },
  {
   "cell_type": "code",
   "execution_count": 63,
   "metadata": {},
   "outputs": [],
   "source": [
    "cosine_similarity = linear_kernel(tfidf_matrix, tfidf_matrix)"
   ]
  },
  {
   "cell_type": "code",
   "execution_count": 64,
   "metadata": {},
   "outputs": [],
   "source": [
    "# We now have a pairwise cosine similarity matrix for all the products in our dataset. \n",
    "#The next step is to write a function that returns the 10 most similar products based on the cosine similarity score."
   ]
  },
  {
   "cell_type": "code",
   "execution_count": 65,
   "metadata": {},
   "outputs": [
    {
     "data": {
      "text/html": [
       "<div>\n",
       "<style scoped>\n",
       "    .dataframe tbody tr th:only-of-type {\n",
       "        vertical-align: middle;\n",
       "    }\n",
       "\n",
       "    .dataframe tbody tr th {\n",
       "        vertical-align: top;\n",
       "    }\n",
       "\n",
       "    .dataframe thead th {\n",
       "        text-align: right;\n",
       "    }\n",
       "</style>\n",
       "<table border=\"1\" class=\"dataframe\">\n",
       "  <thead>\n",
       "    <tr style=\"text-align: right;\">\n",
       "      <th></th>\n",
       "      <th>index</th>\n",
       "      <th>asin</th>\n",
       "      <th>brand</th>\n",
       "      <th>categories</th>\n",
       "      <th>description</th>\n",
       "      <th>imUrl</th>\n",
       "      <th>price</th>\n",
       "      <th>related</th>\n",
       "      <th>salesRank</th>\n",
       "      <th>title</th>\n",
       "    </tr>\n",
       "  </thead>\n",
       "  <tbody>\n",
       "    <tr>\n",
       "      <th>0</th>\n",
       "      <td>0</td>\n",
       "      <td>0000037214</td>\n",
       "      <td>Big Dreams</td>\n",
       "      <td>[['Clothing, Shoes &amp; Jewelry', 'Girls'], ['Clo...</td>\n",
       "      <td></td>\n",
       "      <td>http://ecx.images-amazon.com/images/I/31mCncNu...</td>\n",
       "      <td>6.99</td>\n",
       "      <td>{'also_viewed': ['B00JO8II76', 'B00DGN4R1Q', '...</td>\n",
       "      <td>{'Clothing': 1233557}</td>\n",
       "      <td>Purple Sequin Tiny Dancer Tutu Ballet Dance Fa...</td>\n",
       "    </tr>\n",
       "    <tr>\n",
       "      <th>1</th>\n",
       "      <td>1</td>\n",
       "      <td>0000031887</td>\n",
       "      <td>Boutique Cutie</td>\n",
       "      <td>[['Clothing, Shoes &amp; Jewelry', 'Girls', 'Cloth...</td>\n",
       "      <td>This adorable basic ballerina tutu is perfect ...</td>\n",
       "      <td>http://ecx.images-amazon.com/images/I/314qZjYe...</td>\n",
       "      <td>6.79</td>\n",
       "      <td>{'also_bought': ['0000031852', '0000031895', '...</td>\n",
       "      <td>{'Sports &amp;amp; Outdoors': 8547}</td>\n",
       "      <td>Ballet Dress-Up Fairy Tutu</td>\n",
       "    </tr>\n",
       "    <tr>\n",
       "      <th>2</th>\n",
       "      <td>2</td>\n",
       "      <td>0123456479</td>\n",
       "      <td></td>\n",
       "      <td>[['Clothing, Shoes &amp; Jewelry', 'Novelty, Costu...</td>\n",
       "      <td>Elegance par excellence. Hand-crafted of the f...</td>\n",
       "      <td>http://ecx.images-amazon.com/images/I/413tGhqo...</td>\n",
       "      <td>64.98</td>\n",
       "      <td>{'also_bought': ['B000BMTCK6', 'B0006JCGUM', '...</td>\n",
       "      <td>{'Kitchen &amp; Dining': 16987}</td>\n",
       "      <td>SHINING IMAGE HUGE PINK LEATHER JEWELRY BOX / ...</td>\n",
       "    </tr>\n",
       "    <tr>\n",
       "      <th>3</th>\n",
       "      <td>3</td>\n",
       "      <td>0456844570</td>\n",
       "      <td></td>\n",
       "      <td>[['Clothing, Shoes &amp; Jewelry', 'Women', 'Acces...</td>\n",
       "      <td></td>\n",
       "      <td>http://ecx.images-amazon.com/images/I/31QZTHxv...</td>\n",
       "      <td>NaN</td>\n",
       "      <td>{'also_viewed': ['B008MTRT1O', 'B00BUG47S4', '...</td>\n",
       "      <td>{'Clothing': 1180499}</td>\n",
       "      <td>RiZ Women's Beautify Crafted &amp;frac12; Rimmed F...</td>\n",
       "    </tr>\n",
       "    <tr>\n",
       "      <th>4</th>\n",
       "      <td>4</td>\n",
       "      <td>0456808574</td>\n",
       "      <td></td>\n",
       "      <td>[['Clothing, Shoes &amp; Jewelry', 'Women', 'Acces...</td>\n",
       "      <td></td>\n",
       "      <td>http://ecx.images-amazon.com/images/I/31UsrgT5...</td>\n",
       "      <td>NaN</td>\n",
       "      <td>{'also_viewed': ['B00A6JD8EA', 'B00BFL4FTA', '...</td>\n",
       "      <td>{'Clothing': 1038084}</td>\n",
       "      <td>Lantin White Visor Wrap Around Ski Style Aviat...</td>\n",
       "    </tr>\n",
       "  </tbody>\n",
       "</table>\n",
       "</div>"
      ],
      "text/plain": [
       "   index        asin           brand  \\\n",
       "0      0  0000037214      Big Dreams   \n",
       "1      1  0000031887  Boutique Cutie   \n",
       "2      2  0123456479                   \n",
       "3      3  0456844570                   \n",
       "4      4  0456808574                   \n",
       "\n",
       "                                          categories  \\\n",
       "0  [['Clothing, Shoes & Jewelry', 'Girls'], ['Clo...   \n",
       "1  [['Clothing, Shoes & Jewelry', 'Girls', 'Cloth...   \n",
       "2  [['Clothing, Shoes & Jewelry', 'Novelty, Costu...   \n",
       "3  [['Clothing, Shoes & Jewelry', 'Women', 'Acces...   \n",
       "4  [['Clothing, Shoes & Jewelry', 'Women', 'Acces...   \n",
       "\n",
       "                                         description  \\\n",
       "0                                                      \n",
       "1  This adorable basic ballerina tutu is perfect ...   \n",
       "2  Elegance par excellence. Hand-crafted of the f...   \n",
       "3                                                      \n",
       "4                                                      \n",
       "\n",
       "                                               imUrl  price  \\\n",
       "0  http://ecx.images-amazon.com/images/I/31mCncNu...   6.99   \n",
       "1  http://ecx.images-amazon.com/images/I/314qZjYe...   6.79   \n",
       "2  http://ecx.images-amazon.com/images/I/413tGhqo...  64.98   \n",
       "3  http://ecx.images-amazon.com/images/I/31QZTHxv...    NaN   \n",
       "4  http://ecx.images-amazon.com/images/I/31UsrgT5...    NaN   \n",
       "\n",
       "                                             related  \\\n",
       "0  {'also_viewed': ['B00JO8II76', 'B00DGN4R1Q', '...   \n",
       "1  {'also_bought': ['0000031852', '0000031895', '...   \n",
       "2  {'also_bought': ['B000BMTCK6', 'B0006JCGUM', '...   \n",
       "3  {'also_viewed': ['B008MTRT1O', 'B00BUG47S4', '...   \n",
       "4  {'also_viewed': ['B00A6JD8EA', 'B00BFL4FTA', '...   \n",
       "\n",
       "                         salesRank  \\\n",
       "0            {'Clothing': 1233557}   \n",
       "1  {'Sports &amp; Outdoors': 8547}   \n",
       "2      {'Kitchen & Dining': 16987}   \n",
       "3            {'Clothing': 1180499}   \n",
       "4            {'Clothing': 1038084}   \n",
       "\n",
       "                                               title  \n",
       "0  Purple Sequin Tiny Dancer Tutu Ballet Dance Fa...  \n",
       "1                         Ballet Dress-Up Fairy Tutu  \n",
       "2  SHINING IMAGE HUGE PINK LEATHER JEWELRY BOX / ...  \n",
       "3  RiZ Women's Beautify Crafted &frac12; Rimmed F...  \n",
       "4  Lantin White Visor Wrap Around Ski Style Aviat...  "
      ]
     },
     "execution_count": 65,
     "metadata": {},
     "output_type": "execute_result"
    }
   ],
   "source": [
    "new_df  =  new_df.reset_index()\n",
    "titles = new_df['title']\n",
    "prod_id  = new_df['asin']\n",
    "#indices = pd.Series(new_df.index, index=new_df['title'])\n",
    "new_df.head(5)\n"
   ]
  },
  {
   "cell_type": "code",
   "execution_count": null,
   "metadata": {},
   "outputs": [],
   "source": []
  },
  {
   "cell_type": "code",
   "execution_count": 47,
   "metadata": {},
   "outputs": [],
   "source": [
    "images = new_df['imUrl']\n",
    "product_id = new_df['asin']"
   ]
  },
  {
   "cell_type": "code",
   "execution_count": 35,
   "metadata": {},
   "outputs": [
    {
     "data": {
      "text/plain": [
       "(600, 10)"
      ]
     },
     "execution_count": 35,
     "metadata": {},
     "output_type": "execute_result"
    }
   ],
   "source": [
    "new_df.shape"
   ]
  },
  {
   "cell_type": "code",
   "execution_count": 36,
   "metadata": {},
   "outputs": [],
   "source": [
    "indices = pd.Series(new_df.index, index=new_df['title'])"
   ]
  },
  {
   "cell_type": "code",
   "execution_count": 48,
   "metadata": {},
   "outputs": [],
   "source": [
    "\n",
    "# recommend 10 most similar products\n",
    "def get_recommendations(title):\n",
    "    idx = indices[title]\n",
    "    sim_scores = list(enumerate(cosine_similarity[idx]))\n",
    "    sim_scores = sorted(sim_scores, key=lambda x: x[1], reverse=True)\n",
    "    sim_scores = sim_scores[1:11]\n",
    "    product_indices = [i[0] for i in sim_scores]\n",
    "    return product_id.iloc[product_indices]"
   ]
  },
  {
   "cell_type": "code",
   "execution_count": 49,
   "metadata": {
    "scrolled": true
   },
   "outputs": [
    {
     "data": {
      "text/plain": [
       "211    9881716179\n",
       "74     2485907463\n",
       "367    B00005BUTU\n",
       "17     0765599864\n",
       "25     1397458135\n",
       "28     1340918064\n",
       "375    B00005JHLG\n",
       "82     4759817492\n",
       "280    B00002N7X0\n",
       "114    7111324579\n",
       "Name: asin, dtype: object"
      ]
     },
     "execution_count": 49,
     "metadata": {},
     "output_type": "execute_result"
    }
   ],
   "source": [
    "get_recommendations('Ballet Dress-Up Fairy Tutu')"
   ]
  },
  {
   "cell_type": "markdown",
   "metadata": {},
   "source": [
    "## User Behavior Analysis:"
   ]
  },
  {
   "cell_type": "code",
   "execution_count": 392,
   "metadata": {},
   "outputs": [],
   "source": [
    "sample_df = reviews_Clothing_Shoes_and_Jewelry_df.head(1000000)"
   ]
  },
  {
   "cell_type": "markdown",
   "metadata": {},
   "source": [
    "In order to review each and every user, it will be useful if we group reviews by userid. Then, we can apply aggregate functions to get the summary details of each user.\n"
   ]
  },
  {
   "cell_type": "code",
   "execution_count": 393,
   "metadata": {},
   "outputs": [],
   "source": [
    "sample_df = sample_df.reset_index()"
   ]
  },
  {
   "cell_type": "code",
   "execution_count": 394,
   "metadata": {},
   "outputs": [],
   "source": [
    "sample_df.drop('index', axis = 1, inplace = True)"
   ]
  },
  {
   "cell_type": "code",
   "execution_count": 395,
   "metadata": {},
   "outputs": [],
   "source": [
    "\n",
    "users_df = sample_df.groupby(['reviewerID']).agg({'overall': ['mean','count']})"
   ]
  },
  {
   "cell_type": "code",
   "execution_count": 396,
   "metadata": {},
   "outputs": [
    {
     "data": {
      "text/html": [
       "<div>\n",
       "<style scoped>\n",
       "    .dataframe tbody tr th:only-of-type {\n",
       "        vertical-align: middle;\n",
       "    }\n",
       "\n",
       "    .dataframe tbody tr th {\n",
       "        vertical-align: top;\n",
       "    }\n",
       "\n",
       "    .dataframe thead tr th {\n",
       "        text-align: left;\n",
       "    }\n",
       "\n",
       "    .dataframe thead tr:last-of-type th {\n",
       "        text-align: right;\n",
       "    }\n",
       "</style>\n",
       "<table border=\"1\" class=\"dataframe\">\n",
       "  <thead>\n",
       "    <tr>\n",
       "      <th></th>\n",
       "      <th colspan=\"2\" halign=\"left\">overall</th>\n",
       "    </tr>\n",
       "    <tr>\n",
       "      <th></th>\n",
       "      <th>mean</th>\n",
       "      <th>count</th>\n",
       "    </tr>\n",
       "    <tr>\n",
       "      <th>reviewerID</th>\n",
       "      <th></th>\n",
       "      <th></th>\n",
       "    </tr>\n",
       "  </thead>\n",
       "  <tbody>\n",
       "    <tr>\n",
       "      <th>A0000188NWOSI5X2PMSN</th>\n",
       "      <td>1.0</td>\n",
       "      <td>1</td>\n",
       "    </tr>\n",
       "    <tr>\n",
       "      <th>A000063614T1OE0BUSKUT</th>\n",
       "      <td>5.0</td>\n",
       "      <td>1</td>\n",
       "    </tr>\n",
       "    <tr>\n",
       "      <th>A00028781NF0U7YEN9U19</th>\n",
       "      <td>5.0</td>\n",
       "      <td>1</td>\n",
       "    </tr>\n",
       "  </tbody>\n",
       "</table>\n",
       "</div>"
      ],
      "text/plain": [
       "                      overall      \n",
       "                         mean count\n",
       "reviewerID                         \n",
       "A0000188NWOSI5X2PMSN      1.0     1\n",
       "A000063614T1OE0BUSKUT     5.0     1\n",
       "A00028781NF0U7YEN9U19     5.0     1"
      ]
     },
     "execution_count": 396,
     "metadata": {},
     "output_type": "execute_result"
    }
   ],
   "source": [
    "users_df.head(3)"
   ]
  },
  {
   "cell_type": "code",
   "execution_count": 397,
   "metadata": {},
   "outputs": [],
   "source": [
    "users_df.columns = users_df.columns.get_level_values(1)"
   ]
  },
  {
   "cell_type": "code",
   "execution_count": 398,
   "metadata": {},
   "outputs": [],
   "source": [
    "users_df.columns = ['UserRatingsMean', 'UserRatingsCount']"
   ]
  },
  {
   "cell_type": "code",
   "execution_count": 399,
   "metadata": {},
   "outputs": [],
   "source": [
    "users_df = users_df.sort_values('UserRatingsCount', ascending = False) "
   ]
  },
  {
   "cell_type": "code",
   "execution_count": 400,
   "metadata": {},
   "outputs": [
    {
     "data": {
      "text/html": [
       "<div>\n",
       "<style scoped>\n",
       "    .dataframe tbody tr th:only-of-type {\n",
       "        vertical-align: middle;\n",
       "    }\n",
       "\n",
       "    .dataframe tbody tr th {\n",
       "        vertical-align: top;\n",
       "    }\n",
       "\n",
       "    .dataframe thead th {\n",
       "        text-align: right;\n",
       "    }\n",
       "</style>\n",
       "<table border=\"1\" class=\"dataframe\">\n",
       "  <thead>\n",
       "    <tr style=\"text-align: right;\">\n",
       "      <th></th>\n",
       "      <th>UserRatingsMean</th>\n",
       "      <th>UserRatingsCount</th>\n",
       "    </tr>\n",
       "    <tr>\n",
       "      <th>reviewerID</th>\n",
       "      <th></th>\n",
       "      <th></th>\n",
       "    </tr>\n",
       "  </thead>\n",
       "  <tbody>\n",
       "    <tr>\n",
       "      <th>A2J4XMWKR8PPD0</th>\n",
       "      <td>5.000000</td>\n",
       "      <td>59</td>\n",
       "    </tr>\n",
       "    <tr>\n",
       "      <th>A1Y09QLADQYQJG</th>\n",
       "      <td>4.714286</td>\n",
       "      <td>42</td>\n",
       "    </tr>\n",
       "    <tr>\n",
       "      <th>A26IRZJV6D220M</th>\n",
       "      <td>4.097561</td>\n",
       "      <td>41</td>\n",
       "    </tr>\n",
       "    <tr>\n",
       "      <th>A33C5QNFASA2EH</th>\n",
       "      <td>4.000000</td>\n",
       "      <td>33</td>\n",
       "    </tr>\n",
       "    <tr>\n",
       "      <th>A2161FSD1VAOYG</th>\n",
       "      <td>4.483871</td>\n",
       "      <td>31</td>\n",
       "    </tr>\n",
       "  </tbody>\n",
       "</table>\n",
       "</div>"
      ],
      "text/plain": [
       "                UserRatingsMean  UserRatingsCount\n",
       "reviewerID                                       \n",
       "A2J4XMWKR8PPD0         5.000000                59\n",
       "A1Y09QLADQYQJG         4.714286                42\n",
       "A26IRZJV6D220M         4.097561                41\n",
       "A33C5QNFASA2EH         4.000000                33\n",
       "A2161FSD1VAOYG         4.483871                31"
      ]
     },
     "execution_count": 400,
     "metadata": {},
     "output_type": "execute_result"
    }
   ],
   "source": [
    "users_df.head(5)"
   ]
  },
  {
   "cell_type": "code",
   "execution_count": 401,
   "metadata": {},
   "outputs": [],
   "source": [
    "import matplotlib.pyplot as plt\n",
    "import seaborn as sns"
   ]
  },
  {
   "cell_type": "code",
   "execution_count": 402,
   "metadata": {},
   "outputs": [],
   "source": [
    "def user_ratings_dist_plot(reviewerID):\n",
    "    df_user = sample_df[sample_df['reviewerID'] == reviewerID]['overall']\n",
    "    df_new = pd.DataFrame(df_user).reset_index()\n",
    "    df = df_new.groupby(['overall'], as_index=False).count()\n",
    "    df1 = df.add_suffix('_Count')\n",
    "    df1.rename(columns={'overall_Count': 'Rating', 'index_Count': 'Count'}, inplace=True)\n",
    "    plt.figure(figsize=(10,10))\n",
    "    ax = sns.barplot(x='Rating', y=\"Count\", data=df1)\n",
    "                        \n",
    "    plt.show()\n",
    "\n"
   ]
  },
  {
   "cell_type": "code",
   "execution_count": 404,
   "metadata": {},
   "outputs": [
    {
     "data": {
      "image/png": "[encoded data removed]",
      "text/plain": [
       "<Figure size 720x720 with 1 Axes>"
      ]
     },
     "metadata": {},
     "output_type": "display_data"
    }
   ],
   "source": [
    "user_ratings_dist_plot('A1Y09QLADQYQJG')"
   ]
  },
  {
   "cell_type": "markdown",
   "metadata": {},
   "source": [
    "Let's look at the mean rating distribution"
   ]
  },
  {
   "cell_type": "code",
   "execution_count": 405,
   "metadata": {},
   "outputs": [],
   "source": [
    "user_mean_rating = users_df[(users_df.UserRatingsMean <= 3.5) & (users_df.UserRatingsMean >= 2.5)]"
   ]
  },
  {
   "cell_type": "code",
   "execution_count": 406,
   "metadata": {},
   "outputs": [
    {
     "data": {
      "text/plain": [
       "(86574, 2)"
      ]
     },
     "execution_count": 406,
     "metadata": {},
     "output_type": "execute_result"
    }
   ],
   "source": [
    "user_mean_rating.shape"
   ]
  },
  {
   "cell_type": "code",
   "execution_count": 407,
   "metadata": {},
   "outputs": [
    {
     "data": {
      "text/html": [
       "<div>\n",
       "<style scoped>\n",
       "    .dataframe tbody tr th:only-of-type {\n",
       "        vertical-align: middle;\n",
       "    }\n",
       "\n",
       "    .dataframe tbody tr th {\n",
       "        vertical-align: top;\n",
       "    }\n",
       "\n",
       "    .dataframe thead th {\n",
       "        text-align: right;\n",
       "    }\n",
       "</style>\n",
       "<table border=\"1\" class=\"dataframe\">\n",
       "  <thead>\n",
       "    <tr style=\"text-align: right;\">\n",
       "      <th></th>\n",
       "      <th>UserRatingsMean</th>\n",
       "      <th>UserRatingsCount</th>\n",
       "    </tr>\n",
       "    <tr>\n",
       "      <th>reviewerID</th>\n",
       "      <th></th>\n",
       "      <th></th>\n",
       "    </tr>\n",
       "  </thead>\n",
       "  <tbody>\n",
       "    <tr>\n",
       "      <th>A3L61G6N7AT8N2</th>\n",
       "      <td>3.280000</td>\n",
       "      <td>25</td>\n",
       "    </tr>\n",
       "    <tr>\n",
       "      <th>A24PK4Q70CS0N0</th>\n",
       "      <td>2.850000</td>\n",
       "      <td>20</td>\n",
       "    </tr>\n",
       "    <tr>\n",
       "      <th>ACMNKX5UIEYYG</th>\n",
       "      <td>3.111111</td>\n",
       "      <td>18</td>\n",
       "    </tr>\n",
       "    <tr>\n",
       "      <th>AB39HXPQYD7VN</th>\n",
       "      <td>3.312500</td>\n",
       "      <td>16</td>\n",
       "    </tr>\n",
       "    <tr>\n",
       "      <th>A2OPFLMNQW1YS3</th>\n",
       "      <td>3.133333</td>\n",
       "      <td>15</td>\n",
       "    </tr>\n",
       "  </tbody>\n",
       "</table>\n",
       "</div>"
      ],
      "text/plain": [
       "                UserRatingsMean  UserRatingsCount\n",
       "reviewerID                                       \n",
       "A3L61G6N7AT8N2         3.280000                25\n",
       "A24PK4Q70CS0N0         2.850000                20\n",
       "ACMNKX5UIEYYG          3.111111                18\n",
       "AB39HXPQYD7VN          3.312500                16\n",
       "A2OPFLMNQW1YS3         3.133333                15"
      ]
     },
     "execution_count": 407,
     "metadata": {},
     "output_type": "execute_result"
    }
   ],
   "source": [
    "user_mean_rating.head(5)"
   ]
  },
  {
   "cell_type": "code",
   "execution_count": 408,
   "metadata": {},
   "outputs": [],
   "source": [
    "def user_ratings_dist_plot(reviewerID):\n",
    "    df_user = sample_df[sample_df['reviewerID'] == reviewerID]['overall']\n",
    "    df_new = pd.DataFrame(df_user).reset_index()\n",
    "    df = df_new.groupby(['overall'], as_index=False).count()\n",
    "    df1 = df.add_suffix('_Count')\n",
    "    df1.rename(columns={'overall_Count': 'Rating', 'index_Count': 'Count'}, inplace=True)\n",
    "    plt.figure(figsize=(10,10))\n",
    "    ax = sns.barplot(x='Rating', y=\"Count\", data=df1)\n",
    "                        \n",
    "    plt.show()"
   ]
  },
  {
   "cell_type": "code",
   "execution_count": 410,
   "metadata": {},
   "outputs": [
    {
     "data": {
      "image/png": "[encoded data removed]",
      "text/plain": [
       "<Figure size 720x720 with 1 Axes>"
      ]
     },
     "metadata": {},
     "output_type": "display_data"
    }
   ],
   "source": [
    "user_ratings_dist_plot('A3L61G6N7AT8N2')"
   ]
  },
  {
   "cell_type": "code",
   "execution_count": null,
   "metadata": {},
   "outputs": [],
   "source": []
  }
 ],
 "metadata": {
  "kernelspec": {
   "display_name": "Python 3",
   "language": "python",
   "name": "python3"
  },
  "language_info": {
   "codemirror_mode": {
    "name": "ipython",
    "version": 3
   },
   "file_extension": ".py",
   "mimetype": "text/x-python",
   "name": "python",
   "nbconvert_exporter": "python",
   "pygments_lexer": "ipython3",
   "version": "3.6.4"
  }
 },
 "nbformat": 4,
 "nbformat_minor": 2
}
