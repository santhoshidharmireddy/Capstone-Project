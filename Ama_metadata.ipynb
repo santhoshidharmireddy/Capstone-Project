{
 "cells": [
  {
   "cell_type": "code",
   "execution_count": 22,
   "metadata": {},
   "outputs": [],
   "source": [
    "import numpy as np\n",
    "import pandas as pd\n"
   ]
  },
  {
   "cell_type": "code",
   "execution_count": 2,
   "metadata": {},
   "outputs": [],
   "source": [
    "#meta_dat = [i.strip().split(\"::\") for i in open('../metadata.json', 'r',encoding = \"ISO-8859-1\").readlines()]"
   ]
  },
  {
   "cell_type": "code",
   "execution_count": 26,
   "metadata": {},
   "outputs": [],
   "source": [
    "books_ratings = pd.read_csv('../ratings_Books.csv', header=None)"
   ]
  },
  {
   "cell_type": "code",
   "execution_count": 29,
   "metadata": {},
   "outputs": [],
   "source": [
    "books_ratings.columns = ['UserID','ItemID','rating','Timestamp']"
   ]
  },
  {
   "cell_type": "code",
   "execution_count": 37,
   "metadata": {},
   "outputs": [
    {
     "data": {
      "text/html": [
       "<div>\n",
       "<style scoped>\n",
       "    .dataframe tbody tr th:only-of-type {\n",
       "        vertical-align: middle;\n",
       "    }\n",
       "\n",
       "    .dataframe tbody tr th {\n",
       "        vertical-align: top;\n",
       "    }\n",
       "\n",
       "    .dataframe thead th {\n",
       "        text-align: right;\n",
       "    }\n",
       "</style>\n",
       "<table border=\"1\" class=\"dataframe\">\n",
       "  <thead>\n",
       "    <tr style=\"text-align: right;\">\n",
       "      <th></th>\n",
       "      <th>UserID</th>\n",
       "      <th>ItemID</th>\n",
       "      <th>rating</th>\n",
       "      <th>Timestamp</th>\n",
       "    </tr>\n",
       "  </thead>\n",
       "  <tbody>\n",
       "    <tr>\n",
       "      <th>0</th>\n",
       "      <td>AH2L9G3DQHHAJ</td>\n",
       "      <td>0000000116</td>\n",
       "      <td>4.0</td>\n",
       "      <td>1019865600</td>\n",
       "    </tr>\n",
       "    <tr>\n",
       "      <th>1</th>\n",
       "      <td>A2IIIDRK3PRRZY</td>\n",
       "      <td>0000000116</td>\n",
       "      <td>1.0</td>\n",
       "      <td>1395619200</td>\n",
       "    </tr>\n",
       "    <tr>\n",
       "      <th>2</th>\n",
       "      <td>A1TADCM7YWPQ8M</td>\n",
       "      <td>0000000868</td>\n",
       "      <td>4.0</td>\n",
       "      <td>1031702400</td>\n",
       "    </tr>\n",
       "    <tr>\n",
       "      <th>3</th>\n",
       "      <td>AWGH7V0BDOJKB</td>\n",
       "      <td>0000013714</td>\n",
       "      <td>4.0</td>\n",
       "      <td>1383177600</td>\n",
       "    </tr>\n",
       "    <tr>\n",
       "      <th>4</th>\n",
       "      <td>A3UTQPQPM4TQO0</td>\n",
       "      <td>0000013714</td>\n",
       "      <td>5.0</td>\n",
       "      <td>1374883200</td>\n",
       "    </tr>\n",
       "  </tbody>\n",
       "</table>\n",
       "</div>"
      ],
      "text/plain": [
       "           UserID      ItemID  rating   Timestamp\n",
       "0   AH2L9G3DQHHAJ  0000000116     4.0  1019865600\n",
       "1  A2IIIDRK3PRRZY  0000000116     1.0  1395619200\n",
       "2  A1TADCM7YWPQ8M  0000000868     4.0  1031702400\n",
       "3   AWGH7V0BDOJKB  0000013714     4.0  1383177600\n",
       "4  A3UTQPQPM4TQO0  0000013714     5.0  1374883200"
      ]
     },
     "execution_count": 37,
     "metadata": {},
     "output_type": "execute_result"
    }
   ],
   "source": [
    "books_ratings.head(5)"
   ]
  },
  {
   "cell_type": "code",
   "execution_count": 4,
   "metadata": {},
   "outputs": [
    {
     "data": {
      "text/plain": [
       "[[\"{'asin': '0001048791', 'salesRank': {'Books': 6334800}, 'imUrl': 'http://ecx.images-amazon.com/images/I/51MKP0T4DBL.jpg', 'categories': [['Books']], 'title': 'The Crucible: Performed by Stuart Pankin, Jerome Dempsey &amp; Cast'}\"],\n",
       " [\"{'asin': '0000143561', 'categories': [['Movies & TV', 'Movies']], 'description': '3Pack DVD set - Italian Classics, Parties and Holidays.', 'title': 'Everyday Italian (with Giada de Laurentiis), Volume 1 (3 Pack): Italian Classics, Parties, Holidays', 'price': 12.99, 'salesRank': {'Movies & TV': 376041}, 'imUrl': 'http://g-ecx.images-amazon.com/images/G/01/x-site/icons/no-img-sm._CB192198896_.gif', 'related': {'also_viewed': ['B0036FO6SI', 'B000KL8ODE', '000014357X', 'B0037718RC', 'B002I5GNVU', 'B000RBU4BM'], 'buy_after_viewing': ['B0036FO6SI', 'B000KL8ODE', '000014357X', 'B0037718RC']}}\"],\n",
       " [\"{'asin': '0000037214', 'related': {'also_viewed': ['B00JO8II76', 'B00DGN4R1Q', 'B00E1YRI4C']}, 'title': 'Purple Sequin Tiny Dancer Tutu Ballet Dance Fairy Princess Costume Accessory', 'price': 6.99, 'salesRank': {'Clothing': 1233557}, 'imUrl': 'http://ecx.images-amazon.com/images/I/31mCncNuAZL.jpg', 'brand': 'Big Dreams', 'categories': [['Clothing, Shoes & Jewelry', 'Girls'], ['Clothing, Shoes & Jewelry', 'Novelty, Costumes & More', 'Costumes & Accessories', 'More Accessories', 'Kids & Baby']]}\"],\n",
       " [\"{'asin': '0000032069', 'title': 'Adult Ballet Tutu Cheetah Pink', 'price': 7.89, 'imUrl': 'http://ecx.images-amazon.com/images/I/51EzU6quNML._SX342_.jpg', 'related': {'also_bought': ['0000032050', 'B00D0DJAEG', '0000032042', 'B00D0F450I', 'B00D2JTMS2', 'B00D0FDUAY', 'B00D2JSRFQ', '0000032034', 'B00D0D5F6S', 'B00D2JRWWA', 'B00D0FIIJM', 'B00D0FCQQI', 'B00EXVN9PU', 'B0041EOTJO', 'B004PYEE8G', 'B001GTKPDQ', 'B00EON0SJ2', 'B005HMHOQ4', 'B002XZMGGQ'], 'also_viewed': ['B00D0F450I', '0000032050', 'B00D2JTMS2', '0000032042', 'B004PYEE8G', 'B00JHNSNSM', 'B00D0DJAEG', 'B00D2JSRFQ', 'B00D0FCQQI', 'B00D2JRWWA', 'B003AVNY6I', 'B0071KR2LC', 'B00GOR07RE', 'B00D0FIIJM', 'B005F50FXC', 'B0079MCIMU', 'B00D0FDUAY', 'B00H3RYN3I', 'B005C4Y4F6', 'B007IEFT84', 'B00D0D5F6S', 'B002BZX8Z6', 'B00JHONN1S', 'B008F0SU0Y', 'B00FNNFXAG', 'B007R2RM8W', 'B007VM3AMK', 'B00C0PLENA', 'B00BJGG6VG', 'B00E1YRI4C', 'B00IIK61WA', 'B009UC638W', 'B00KZN6RVI', 'B00CSFEENY', 'B002GZGI4E', 'B00HSOJJ94', 'B00LIPP4VG', 'B009RXWNSI', 'B00E87F196', 'B005HMHOQY', 'B00J6S9MSS', '0000032034', 'B00CJQGNJK', 'B008FCA0F0', 'B0056LG7GY', 'B00DPQWCZ2', 'B00I3PV0US', 'B00KZN6IVW', 'B0054TBWKO', 'B00I2S01I8', 'B00BXF12P8', 'B00GVHU678', 'B005NWENGC', 'B003AVKOP2', 'B00JK8MQ4Q', 'B00FZIMVQS', 'B008BB19VE', 'B00GTEXPOE', 'B009WPT2RQ', 'B00E37SBBG'], 'bought_together': ['0000032050', 'B00D0DJAEG', '0000032042', 'B00D0F450I']}, 'brand': 'BubuBibi', 'categories': [['Sports & Outdoors', 'Other Sports', 'Dance', 'Clothing', 'Girls', 'Skirts']]}\"],\n",
       " [\"{'asin': '0000031909', 'related': {'also_bought': ['B002BZX8Z6', 'B00JHONN1S', '0000031895', 'B00D2K1M3O', '0000031852', 'B00D0WDS9A', 'B00D10CLVW', 'B00D103F8U', 'B003AVEU6G', 'B00D2K0PA0', 'B002GZGI4E', 'B00D0ZF44Y', 'B008F0SMUC', 'B00D0GCI8S', 'B008F0SU0Y', 'B002YSCPZY', '0448408775', 'B002R0FABA', 'B008GHWNWC', 'B002R0FA24', 'B001GTKPEK', 'B006XA7KZO', 'B001GZUQ9S', 'B00613VNL0', 'B003IEDM9Q', 'B003LTOZK8', 'B003AVNY6I', 'B008UBQZKU', 'B001AQD8VQ', 'B003ILA0L2', 'B00AFDOPDA', 'B002R0F7FE'], 'also_viewed': ['B002BZX8Z6', 'B00JHONN1S', 'B008F0SU0Y', 'B00E1YRI4C', 'B00AFDOPDA', 'B002GZGI4E', 'B00CEUWY8K', 'B003IEDM9Q', 'B00HSOJB9M', '0000031895', 'B003AVKOP2', 'B005C4Y4F6', 'B008F0SMUC', 'B00362QGW0', 'B008UD01L2', 'B00FAZ5ZE6', 'B008F0SY6O', 'B00DPLLQR2', 'B00CEUWUZC', 'B004PYEE8G', 'B003AVNY6I', 'B00CEUX0D8', 'B00JHNSNSM', 'B00D10CLVW', 'B00D23MC6W', 'B007XAI53E', 'B008X6CBS2', 'B004PEI45U', 'B005HMHOQ4', 'B002C3Y6WG', 'B00HSC8O74', 'B008BMGHM4', 'B00CEUWTFS', 'B00FNNFXAG', 'B00CYBU84G', 'B00D9C32NI', 'B0046W9T8C', 'B008UBG5IW', 'B001YHX45G', 'B00CEV8366', 'B00I2UHSZA', 'B009RXWNSI', 'B008FCA0F0', 'B001GTKPEK', 'B004TU1VPU', 'B00CBPIO7S', 'B00CHHXJ0M', 'B00538F5OK', 'B005F50FXC', 'B00CEUX4QQ', 'B003XRKA7A', '0000031852', 'B002C3R5XI', 'B00C6Q1Z6E'], 'bought_together': ['B002BZX8Z6']}, 'title': 'Girls Ballet Tutu Neon Pink', 'price': 7.0, 'salesRank': {'Toys & Games': 201847}, 'imUrl': 'http://ecx.images-amazon.com/images/I/41xBoP0FVzL._SY300_.jpg', 'brand': 'Unknown', 'categories': [['Sports & Outdoors', 'Other Sports', 'Dance']], 'description': 'High quality 3 layer ballet tutu. 12 inches in length'}\"]]"
      ]
     },
     "execution_count": 4,
     "metadata": {},
     "output_type": "execute_result"
    }
   ],
   "source": [
    "from io import StringIO # Python 3.x\n",
    "\n",
    "# get your credentials from environment variables\n",
    "aws_id = os.environ['AWS_ID']\n",
    "aws_secret = os.environ['AWS_SECRET']\n",
    "\n",
    "client = boto3.client('s3', aws_access_key_id=aws_id,\n",
    "        aws_secret_access_key=aws_secret)\n",
    "\n",
    "bucket_name = 'my_bucket'\n",
    "\n",
    "object_key = 'my_file.csv'\n",
    "csv_obj = client.get_object(Bucket=bucket_name, Key=object_key)\n",
    "body = csv_obj['Body']\n",
    "csv_string = body.read().decode('utf-8')\n",
    "\n",
    "df = pd.read_csv(StringIO(csv_string))"
   ]
  },
  {
   "cell_type": "code",
   "execution_count": 34,
   "metadata": {},
   "outputs": [
    {
     "name": "stdout",
     "output_type": "stream",
     "text": [
      "b'[[\"{\\'asin\\': \\'0001048791\\', \\'salesRank\\': {\\'Books\\': 6334800}, \\'imUrl\\': \\'http://ecx.images-amazon.com/images/I/51MKP0T4DBL.jpg\\', \\'categories\\': [[\\'Books\\']], \\'title\\': \\'The Crucible: Performed by Stuart Pankin, Jerome Dempsey &amp; Cast\\'}\"],\\n'\n"
     ]
    }
   ],
   "source": [
    "import boto3\n",
    "s3 = boto3.resource('s3')\n",
    "BUCKET = 'santhoshi-sparkle'\n",
    "KEY = 'amazon-data/s3-test.json'\n",
    "# client = boto3.client('s3',\n",
    "#                        aws_access_key_id='XXXXX',\n",
    "#                        aws_secret_access_key='XXXXXX'\n",
    "#                      )\n",
    "count = 10\n",
    "while True:\n",
    "    obj = s3.Object(BUCKET, KEY).get()['Body']._raw_stream.readline()\n",
    "    print(obj)\n",
    "    count = count + 1\n",
    "    if count > 10:\n",
    "        break\n",
    "    if obj is None:\n",
    "        break\n",
    "    else:\n",
    "        print(obj)\n",
    "\n",
    "# Read the object (not compressed):\n",
    "# text = result[\"Body\"].read().decode()\n",
    "# print(text['Details'])"
   ]
  },
  {
   "cell_type": "code",
   "execution_count": null,
   "metadata": {},
   "outputs": [],
   "source": []
  },
  {
   "cell_type": "code",
   "execution_count": 18,
   "metadata": {},
   "outputs": [
    {
     "name": "stdout",
     "output_type": "stream",
     "text": [
      "\n",
      "The following command must be run outside of the IPython shell:\n",
      "\n",
      "    $ pip install --upgrade pip \n",
      "\n",
      "The Python package manager (pip) can only be used from outside of IPython.\n",
      "Please reissue the `pip` command in a separate terminal or command prompt.\n",
      "\n",
      "See the Python documentation for more information on how to install packages:\n",
      "\n",
      "    https://docs.python.org/3/installing/\n"
     ]
    }
   ],
   "source": [
    "pip install --upgrade pip "
   ]
  },
  {
   "cell_type": "code",
   "execution_count": 38,
   "metadata": {},
   "outputs": [
    {
     "name": "stdout",
     "output_type": "stream",
     "text": [
      "b'[[\"{\\'asin\\': \\'0001048791\\', \\'salesRank\\': {\\'Books\\': 6334800}, \\'imUrl\\': \\'http://ecx.images-amazon.com/images/I/51MKP0T4DBL.jpg\\', \\'categories\\': [[\\'Books\\']], \\'title\\': \\'The Crucible: Performed by Stuart Pankin, Jerome Dempsey &amp; Cast\\'}\"],\\n'\n",
      "b' [\"{\\'asin\\': \\'0000143561\\', \\'categories\\': [[\\'Movies & TV\\', \\'Movies\\']], \\'description\\': \\'3Pack DVD set - Italian Classics, Parties and Holidays.\\', \\'title\\': \\'Everyday Italian (with Giada de Laurentiis), Volume 1 (3 Pack): Italian Classics, Parties, Holidays\\', \\'price\\': 12.99, \\'salesRank\\': {\\'Movies & TV\\': 376041}, \\'imUrl\\': \\'http://g-ecx.images-amazon.com/images/G/01/x-site/icons/no-img-sm._CB192198896_.gif\\', \\'related\\': {\\'also_viewed\\': [\\'B0036FO6SI\\', \\'B000KL8ODE\\', \\'000014357X\\', \\'B0037718RC\\', \\'B002I5GNVU\\', \\'B000RBU4BM\\'], \\'buy_after_viewing\\': [\\'B0036FO6SI\\', \\'B000KL8ODE\\', \\'000014357X\\', \\'B0037718RC\\']}}\"],\\n'\n",
      "b' [\"{\\'asin\\': \\'0000037214\\', \\'related\\': {\\'also_viewed\\': [\\'B00JO8II76\\', \\'B00DGN4R1Q\\', \\'B00E1YRI4C\\']}, \\'title\\': \\'Purple Sequin Tiny Dancer Tutu Ballet Dance Fairy Princess Costume Accessory\\', \\'price\\': 6.99, \\'salesRank\\': {\\'Clothing\\': 1233557}, \\'imUrl\\': \\'http://ecx.images-amazon.com/images/I/31mCncNuAZL.jpg\\', \\'brand\\': \\'Big Dreams\\', \\'categories\\': [[\\'Clothing, Shoes & Jewelry\\', \\'Girls\\'], [\\'Clothing, Shoes & Jewelry\\', \\'Novelty, Costumes & More\\', \\'Costumes & Accessories\\', \\'More Accessories\\', \\'Kids & Baby\\']]}\"],\\n'\n",
      "b' [\"{\\'asin\\': \\'0000032069\\', \\'title\\': \\'Adult Ballet Tutu Cheetah Pink\\', \\'price\\': 7.89, \\'imUrl\\': \\'http://ecx.images-amazon.com/images/I/51EzU6quNML._SX342_.jpg\\', \\'related\\': {\\'also_bought\\': [\\'0000032050\\', \\'B00D0DJAEG\\', \\'0000032042\\', \\'B00D0F450I\\', \\'B00D2JTMS2\\', \\'B00D0FDUAY\\', \\'B00D2JSRFQ\\', \\'0000032034\\', \\'B00D0D5F6S\\', \\'B00D2JRWWA\\', \\'B00D0FIIJM\\', \\'B00D0FCQQI\\', \\'B00EXVN9PU\\', \\'B0041EOTJO\\', \\'B004PYEE8G\\', \\'B001GTKPDQ\\', \\'B00EON0SJ2\\', \\'B005HMHOQ4\\', \\'B002XZMGGQ\\'], \\'also_viewed\\': [\\'B00D0F450I\\', \\'0000032050\\', \\'B00D2JTMS2\\', \\'0000032042\\', \\'B004PYEE8G\\', \\'B00JHNSNSM\\', \\'B00D0DJAEG\\', \\'B00D2JSRFQ\\', \\'B00D0FCQQI\\', \\'B00D2JRWWA\\', \\'B003AVNY6I\\', \\'B0071KR2LC\\', \\'B00GOR07RE\\', \\'B00D0FIIJM\\', \\'B005F50FXC\\', \\'B0079MCIMU\\', \\'B00D0FDUAY\\', \\'B00H3RYN3I\\', \\'B005C4Y4F6\\', \\'B007IEFT84\\', \\'B00D0D5F6S\\', \\'B002BZX8Z6\\', \\'B00JHONN1S\\', \\'B008F0SU0Y\\', \\'B00FNNFXAG\\', \\'B007R2RM8W\\', \\'B007VM3AMK\\', \\'B00C0PLENA\\', \\'B00BJGG6VG\\', \\'B00E1YRI4C\\', \\'B00IIK61WA\\', \\'B009UC638W\\', \\'B00KZN6RVI\\', \\'B00CSFEENY\\', \\'B002GZGI4E\\', \\'B00HSOJJ94\\', \\'B00LIPP4VG\\', \\'B009RXWNSI\\', \\'B00E87F196\\', \\'B005HMHOQY\\', \\'B00J6S9MSS\\', \\'0000032034\\', \\'B00CJQGNJK\\', \\'B008FCA0F0\\', \\'B0056LG7GY\\', \\'B00DPQWCZ2\\', \\'B00I3PV0US\\', \\'B00KZN6IVW\\', \\'B0054TBWKO\\', \\'B00I2S01I8\\', \\'B00BXF12P8\\', \\'B00GVHU678\\', \\'B005NWENGC\\', \\'B003AVKOP2\\', \\'B00JK8MQ4Q\\', \\'B00FZIMVQS\\', \\'B008BB19VE\\', \\'B00GTEXPOE\\', \\'B009WPT2RQ\\', \\'B00E37SBBG\\'], \\'bought_together\\': [\\'0000032050\\', \\'B00D0DJAEG\\', \\'0000032042\\', \\'B00D0F450I\\']}, \\'brand\\': \\'BubuBibi\\', \\'categories\\': [[\\'Sports & Outdoors\\', \\'Other Sports\\', \\'Dance\\', \\'Clothing\\', \\'Girls\\', \\'Skirts\\']]}\"],\\n'\n",
      "b' [\"{\\'asin\\': \\'0000031909\\', \\'related\\': {\\'also_bought\\': [\\'B002BZX8Z6\\', \\'B00JHONN1S\\', \\'0000031895\\', \\'B00D2K1M3O\\', \\'0000031852\\', \\'B00D0WDS9A\\', \\'B00D10CLVW\\', \\'B00D103F8U\\', \\'B003AVEU6G\\', \\'B00D2K0PA0\\', \\'B002GZGI4E\\', \\'B00D0ZF44Y\\', \\'B008F0SMUC\\', \\'B00D0GCI8S\\', \\'B008F0SU0Y\\', \\'B002YSCPZY\\', \\'0448408775\\', \\'B002R0FABA\\', \\'B008GHWNWC\\', \\'B002R0FA24\\', \\'B001GTKPEK\\', \\'B006XA7KZO\\', \\'B001GZUQ9S\\', \\'B00613VNL0\\', \\'B003IEDM9Q\\', \\'B003LTOZK8\\', \\'B003AVNY6I\\', \\'B008UBQZKU\\', \\'B001AQD8VQ\\', \\'B003ILA0L2\\', \\'B00AFDOPDA\\', \\'B002R0F7FE\\'], \\'also_viewed\\': [\\'B002BZX8Z6\\', \\'B00JHONN1S\\', \\'B008F0SU0Y\\', \\'B00E1YRI4C\\', \\'B00AFDOPDA\\', \\'B002GZGI4E\\', \\'B00CEUWY8K\\', \\'B003IEDM9Q\\', \\'B00HSOJB9M\\', \\'0000031895\\', \\'B003AVKOP2\\', \\'B005C4Y4F6\\', \\'B008F0SMUC\\', \\'B00362QGW0\\', \\'B008UD01L2\\', \\'B00FAZ5ZE6\\', \\'B008F0SY6O\\', \\'B00DPLLQR2\\', \\'B00CEUWUZC\\', \\'B004PYEE8G\\', \\'B003AVNY6I\\', \\'B00CEUX0D8\\', \\'B00JHNSNSM\\', \\'B00D10CLVW\\', \\'B00D23MC6W\\', \\'B007XAI53E\\', \\'B008X6CBS2\\', \\'B004PEI45U\\', \\'B005HMHOQ4\\', \\'B002C3Y6WG\\', \\'B00HSC8O74\\', \\'B008BMGHM4\\', \\'B00CEUWTFS\\', \\'B00FNNFXAG\\', \\'B00CYBU84G\\', \\'B00D9C32NI\\', \\'B0046W9T8C\\', \\'B008UBG5IW\\', \\'B001YHX45G\\', \\'B00CEV8366\\', \\'B00I2UHSZA\\', \\'B009RXWNSI\\', \\'B008FCA0F0\\', \\'B001GTKPEK\\', \\'B004TU1VPU\\', \\'B00CBPIO7S\\', \\'B00CHHXJ0M\\', \\'B00538F5OK\\', \\'B005F50FXC\\', \\'B00CEUX4QQ\\', \\'B003XRKA7A\\', \\'0000031852\\', \\'B002C3R5XI\\', \\'B00C6Q1Z6E\\'], \\'bought_together\\': [\\'B002BZX8Z6\\']}, \\'title\\': \\'Girls Ballet Tutu Neon Pink\\', \\'price\\': 7.0, \\'salesRank\\': {\\'Toys & Games\\': 201847}, \\'imUrl\\': \\'http://ecx.images-amazon.com/images/I/41xBoP0FVzL._SY300_.jpg\\', \\'brand\\': \\'Unknown\\', \\'categories\\': [[\\'Sports & Outdoors\\', \\'Other Sports\\', \\'Dance\\']], \\'description\\': \\'High quality 3 layer ballet tutu. 12 inches in length\\'}\"]]\\n'\n",
      "b''\n"
     ]
    }
   ],
   "source": [
    "import boto3\n",
    "from lazyreader import lazyread\n",
    "client = boto3.client('s3')\n",
    "s3_object = client.get_object(Bucket='santhoshi-sparkle', Key='amazon-data/s3-test.json')\n",
    "body = s3_object['Body']\n",
    "\n",
    "for doc in lazyread(body, delimiter=b'\\n'):\n",
    "    print(doc)"
   ]
  },
  {
   "cell_type": "code",
   "execution_count": 5,
   "metadata": {},
   "outputs": [
    {
     "name": "stdout",
     "output_type": "stream",
     "text": [
      "Collecting pip\n",
      "  Using cached https://files.pythonhosted.org/packages/5f/25/e52d3f31441505a5f3af41213346e5b6c221c9e086a166f3703d2ddaf940/pip-18.0-py2.py3-none-any.whl\n",
      "Installing collected packages: pip\n",
      "  Found existing installation: pip 10.0.1\n",
      "    Uninstalling pip-10.0.1:\n",
      "      Successfully uninstalled pip-10.0.1\n",
      "Successfully installed pip-18.0\n",
      "Requirement already satisfied: lazyreader in /home/ubuntu/anaconda3/envs/python3/lib/python3.6/site-packages (1.0.1)\n"
     ]
    }
   ],
   "source": [
    "import sys\n",
    "!{sys.executable} -m pip install --upgrade pip\n",
    "!{sys.executable} -m pip install lazyreader"
   ]
  },
  {
   "cell_type": "code",
   "execution_count": 7,
   "metadata": {},
   "outputs": [
    {
     "name": "stdout",
     "output_type": "stream",
     "text": [
      "b'[[\"{\\'asin\\': \\'0001048791\\', \\'salesRank\\': {\\'Books\\': 6334800}, \\'imUrl\\': \\'http://ecx.images-amazon.com/images/I/51MKP0T4DBL.jpg\\', \\'categories\\': [[\\'Books\\']], \\'title\\': \\'The Crucible: Performed by Stuart Pankin, Jerome Dempsey &amp; Cast\\'}\"],\\n'\n",
      "b' [\"{\\'asin\\': \\'0000143561\\', \\'categories\\': [[\\'Movies & TV\\', \\'Movies\\']], \\'description\\': \\'3Pack DVD set - Italian Classics, Parties and Holidays.\\', \\'title\\': \\'Everyday Italian (with Giada de Laurentiis), Volume 1 (3 Pack): Italian Classics, Parties, Holidays\\', \\'price\\': 12.99, \\'salesRank\\': {\\'Movies & TV\\': 376041}, \\'imUrl\\': \\'http://g-ecx.images-amazon.com/images/G/01/x-site/icons/no-img-sm._CB192198896_.gif\\', \\'related\\': {\\'also_viewed\\': [\\'B0036FO6SI\\', \\'B000KL8ODE\\', \\'000014357X\\', \\'B0037718RC\\', \\'B002I5GNVU\\', \\'B000RBU4BM\\'], \\'buy_after_viewing\\': [\\'B0036FO6SI\\', \\'B000KL8ODE\\', \\'000014357X\\', \\'B0037718RC\\']}}\"],\\n'\n",
      "b' [\"{\\'asin\\': \\'0000037214\\', \\'related\\': {\\'also_viewed\\': [\\'B00JO8II76\\', \\'B00DGN4R1Q\\', \\'B00E1YRI4C\\']}, \\'title\\': \\'Purple Sequin Tiny Dancer Tutu Ballet Dance Fairy Princess Costume Accessory\\', \\'price\\': 6.99, \\'salesRank\\': {\\'Clothing\\': 1233557}, \\'imUrl\\': \\'http://ecx.images-amazon.com/images/I/31mCncNuAZL.jpg\\', \\'brand\\': \\'Big Dreams\\', \\'categories\\': [[\\'Clothing, Shoes & Jewelry\\', \\'Girls\\'], [\\'Clothing, Shoes & Jewelry\\', \\'Novelty, Costumes & More\\', \\'Costumes & Accessories\\', \\'More Accessories\\', \\'Kids & Baby\\']]}\"],\\n'\n",
      "b' [\"{\\'asin\\': \\'0000032069\\', \\'title\\': \\'Adult Ballet Tutu Cheetah Pink\\', \\'price\\': 7.89, \\'imUrl\\': \\'http://ecx.images-amazon.com/images/I/51EzU6quNML._SX342_.jpg\\', \\'related\\': {\\'also_bought\\': [\\'0000032050\\', \\'B00D0DJAEG\\', \\'0000032042\\', \\'B00D0F450I\\', \\'B00D2JTMS2\\', \\'B00D0FDUAY\\', \\'B00D2JSRFQ\\', \\'0000032034\\', \\'B00D0D5F6S\\', \\'B00D2JRWWA\\', \\'B00D0FIIJM\\', \\'B00D0FCQQI\\', \\'B00EXVN9PU\\', \\'B0041EOTJO\\', \\'B004PYEE8G\\', \\'B001GTKPDQ\\', \\'B00EON0SJ2\\', \\'B005HMHOQ4\\', \\'B002XZMGGQ\\'], \\'also_viewed\\': [\\'B00D0F450I\\', \\'0000032050\\', \\'B00D2JTMS2\\', \\'0000032042\\', \\'B004PYEE8G\\', \\'B00JHNSNSM\\', \\'B00D0DJAEG\\', \\'B00D2JSRFQ\\', \\'B00D0FCQQI\\', \\'B00D2JRWWA\\', \\'B003AVNY6I\\', \\'B0071KR2LC\\', \\'B00GOR07RE\\', \\'B00D0FIIJM\\', \\'B005F50FXC\\', \\'B0079MCIMU\\', \\'B00D0FDUAY\\', \\'B00H3RYN3I\\', \\'B005C4Y4F6\\', \\'B007IEFT84\\', \\'B00D0D5F6S\\', \\'B002BZX8Z6\\', \\'B00JHONN1S\\', \\'B008F0SU0Y\\', \\'B00FNNFXAG\\', \\'B007R2RM8W\\', \\'B007VM3AMK\\', \\'B00C0PLENA\\', \\'B00BJGG6VG\\', \\'B00E1YRI4C\\', \\'B00IIK61WA\\', \\'B009UC638W\\', \\'B00KZN6RVI\\', \\'B00CSFEENY\\', \\'B002GZGI4E\\', \\'B00HSOJJ94\\', \\'B00LIPP4VG\\', \\'B009RXWNSI\\', \\'B00E87F196\\', \\'B005HMHOQY\\', \\'B00J6S9MSS\\', \\'0000032034\\', \\'B00CJQGNJK\\', \\'B008FCA0F0\\', \\'B0056LG7GY\\', \\'B00DPQWCZ2\\', \\'B00I3PV0US\\', \\'B00KZN6IVW\\', \\'B0054TBWKO\\', \\'B00I2S01I8\\', \\'B00BXF12P8\\', \\'B00GVHU678\\', \\'B005NWENGC\\', \\'B003AVKOP2\\', \\'B00JK8MQ4Q\\', \\'B00FZIMVQS\\', \\'B008BB19VE\\', \\'B00GTEXPOE\\', \\'B009WPT2RQ\\', \\'B00E37SBBG\\'], \\'bought_together\\': [\\'0000032050\\', \\'B00D0DJAEG\\', \\'0000032042\\', \\'B00D0F450I\\']}, \\'brand\\': \\'BubuBibi\\', \\'categories\\': [[\\'Sports & Outdoors\\', \\'Other Sports\\', \\'Dance\\', \\'Clothing\\', \\'Girls\\', \\'Skirts\\']]}\"],\\n'\n"
     ]
    }
   ],
   "source": [
    "import boto3\n",
    "import lazyreader\n",
    "from lazyreader import lazyread\n",
    "client = boto3.client('s3')\n",
    "s3_object = client.get_object(Bucket='santhoshi-sparkle', Key='amazon-data/s3-test.json')\n",
    "body = s3_object['Body']\n",
    "count = 1\n",
    "for doc in lazyread(body, delimiter=b'\\n'):\n",
    "    print(doc)\n",
    "    count = count +1\n",
    "    if count > 4:\n",
    "        break"
   ]
  },
  {
   "cell_type": "code",
   "execution_count": 14,
   "metadata": {},
   "outputs": [
    {
     "name": "stdout",
     "output_type": "stream",
     "text": [
      "b'\\x1f\\x8b\\x08\\x00e\\x08\\xc5V\\x00\\x03\\xac[[w\\xe2F\\xb6~?\\xbf\\xa2\\xd2\\'k:Y\\x87f\\x10\\x17\\x1b\\'\\x0f\\x19l0`\\x83q\\x03\\xb6\\xe3\\x9e>\\x0f\\x05*@\\xb1P)*\\xc94\\x99u\\xfe\\xfb\\xf9\\xf6\\xae\\x12\\xb8m\\xd1v\\xcf\\x9a\\xac\\xc4\\x01]vU\\xed\\xeb\\xb7/\\xfc\\xeb]\\xa2\\x1e\\x03\\xb5QI\\xbf\\xfd\\xee\\x17\\xf1\\xae\\xd5\\xab\\x0eN\\xba\\xb5\\xf6\\xc7^\\xafu\\xf1\\xae$\\xdeI\\x13Dt\\xa3b\\xff\\xf1\\xbc#\\xba\\x9a\\xbft%\\xd7\\x8a\\xee\\xceWI`\\xe8\\xc6J\\x85\\xf1\"\\x0bq\\xed\\x9f\\x8d\\x92h\\xfc\\xef\\xee\\xd9\\xa9\\xfa\\x92\\xd2\\x93\\xfd(U\\x892i\\x10-E\\x17/\\xad\\xe4Z\\xa42TB/\\x84\\x14\\xa1\\xdclU\"\\xd2\\x95Lq\\xf5A\\x19\\xb1\\x0e\\xc20\\xd0\\x91\\xa1\\xfb\\xbe\\x0eC\\x99\\x18\\xb1H\\xf4Z\\xac\\x02|\\x08\\x92\\xb5\\x90\\x0bP\\x14\\x0b\\xf9@$\\xe9\\xaa\\xdeD\\xc2W2]\\x95w+d&\\x93a\\xb8\\x15\\xb8+gX,\\xd5b\\xa5\\xf5\\x03?\\x9e(\\xe9+PU2\\xc1\\x132\\xf2E)\\x88\\xb0\\x05\\xdc\\x9aK\\xa3JXV\\x99\\xe8}*\\xe2Pn\\xf9\\x8d\\x15=\\x04\\x12F\\xeb\\xa8,\\xa6+\\xb5\\xa3\\x9f\\xa80\\xe0\\x05\\xce\\x13\\x19=\\x88a\\xa6\\xc2\\x10\\x9b[\\xf3Q\\x98\\xa4Iu\\xb2\\x15\\xeaQEX\\xca\\xfe\\x7f\\xa6R:\\x01\\xfe\\'t$Z\\x99\\x1f\\xe8\\x196W&~\\xeaG\\x95\\x8028W/W\\xf0\\xddd\\xeb\\xb5L\\xb6\\xc4\\xc9\\xc9Jo\\xc4\\x1ag\\xc1\\xfak\\x1d\\xa9\\xed\\x0f\\xf4B\\x16\\x05_\\xc6\\x96\\xe3\\x01\\xcb\\xc6\\xabx\\'\\xcd\\xa3\\xc6Q\\xa5\\xb2\\x97\\x85\\xbd\\xf3\\xaeR\\x17\\xd5\\xe3\\x92\\xa8V*\\xd5w\\xff\\xf7_\\xffz\\xae\\n'\n",
      "b'\\xd5~\\xbf\\xdf\\x1e_\\xd6\\xae\\xc7\\xe3O\\xf7o\\xd7\\x85\\x9e\\n'\n",
      "b'U\\xa4\\x9e)\\x03\\x16\\xaf\\xbcT\\x06b]\\xba\\xca\\xd6\\xb3H\\x06!\\x0bG\\x98U\\x90\\xa4e\\xc1\\\\\\x8d\\x13\\xedg\\xf3\\x14\\xd7H\\xa4\\xee\\xb6V\\xee\\xae\\xaf\\xcc<\\t\\xe2\\x14\\xdaa\\xef1\\xd3\\xa6V\\xa4vKt}\\xae\\xa3Ef\\x94\\xff\\x8c\\x9d\\xdesv\\x0e\\x02\\xab\\x94D*\\x0c\\x05h\\x83\\x82/\\xb2\\xb8\\x98\\xab\\xb5\\x93\\xc6\\x91wR-\\xe2jMT\\xeb\\xc4U\\xaf^\\xc4Uo\\xdaj\\x9f\\r\\x8f\\xef\\xef\\xae?6\\x87\\x05\\\\m\\x1e5\\x8b\\xb8z\\xa1U\\xf8\\x8f\\xd6\\xdd\\xe4\\x19_=\\xac\\xef\\x15p\\xb6\\xff\\x1eg\\x98)hy\\x04c+\\x8b\\xbe\\xd8\\xe8\\xe4A,t\\xc2V\\x96,apQ\\x18D\\n'\n",
      "b'\\xbcJ\\xc1|\\xf0*\\xc2J\\xbe\\xb3&)&:KW\\xa2\\xb5VI0\\x87\\xa2&\\x018Wb\\xeb\\xd0\\t\\xcc\\x05O\\xb2:\\xcf\\xd4\\\\\\x82\\xbb\\xac\\x84\\xadI\\xffJ\\xfc\\xb4?\\xc6\\xcf\\xc4K\\xa3E\\xb9\\\\\\x16>sw\\x9e\\x82\\x0c\\x7f\\x07\\xa1\\x12\\xec\\x18F\\x12nK\\xbc\\xbb\\xc8R\\xdd\\xb0\\xe9\\x83\\x1a\\x0e\\x19b\\x1f\\x7f\\xfb3\\xd3\\xe9\\xaf\\xd6FE\\x9a%QJ\\xf6e\\xaf\\x8a\\x8d4%\\x11\\xcb$\\r\\xe6Y\\xc8\\xe6\\x8b\\xe3\\x8aM\\x80\\x9d\\xcf4\\xfe\\x90\\x85\\xf9AJ\\x87\\xc6\\xc6\\xf1\\r\\xce$3i\"q\\xa9\\xdc\\xc2\\xfa\\x81\\xc2u\\x93-\\x97`\\x12\\x1f\\xc9-\\x9e\\x06)\\x8c\\x18\\xe4\\xc9;\\x90a\\xd3E\\xb8\\xad,L\\xad\\xa3\\x027\\xb6\"\\xd6\\xa0\\x0cj\\x91\\t%\\xa9\\xe1\\xaf\\x96\\x80\\xdd\\xdc\\x98\\xb7\\xbc\\xdf(\\x96\\x89cm\\x14{\\x0eH\\xc6\\xde\\x99\\xc2\\xf5\\x19\\xfb\\xb1\\x94_zy\\xc8\\xe2w\\x07[\\xc8\\xc6\\xbd\\xcc\\x07d\\x89<\\xd9\\xb45\\t\\xa1\">\\x8e\\xef^\\xbb\\xd4\\xb8\\xfd\\xde\\x88s\\xf9\\xa8\\x93 U\\x82\\xf7\\xc0\\x04\\x9eR,\\x8b\\x91\\xef\\x83\\x88\\x8at\\xb6\\\\\\x95\\x88\\x03\\x89b\\x89f\\xf3\\x95#\\r\\x85\\x88\\xc1~,@\\x0f\\x82\\xd3Xd\\xb6\\x15\\xc3\\xa4,z\\xdb,b\\x9a;\\x96\\xef\\xef]\\xcb\\xe4\\xa1|\\x07\\xf9\\xe2}#\\x82\\x94\\xe5\\n'\n"
     ]
    }
   ],
   "source": [
    "from io import BytesIO\n",
    "client = boto3.client('s3')\n",
    "s3_object = client.get_object(Bucket='santhoshi-sparkle', Key='amazon-data/reviews_Books.json.gz')\n",
    "\n",
    "# gzip = BytesIO(s3_object)\n",
    "# gzipfile = gzip.GzipFile(fileobj=gzip)\n",
    "# content = gzipfile.read()\n",
    "\n",
    "body = s3_object['Body']\n",
    "count = 1\n",
    "for doc in lazyread(body, delimiter=b'\\n'):\n",
    "    print(doc)\n",
    "    count = count +1\n",
    "    if count > 4:\n",
    "        break"
   ]
  },
  {
   "cell_type": "code",
   "execution_count": 41,
   "metadata": {},
   "outputs": [
    {
     "name": "stdout",
     "output_type": "stream",
     "text": [
      "b'AH2L9G3DQHHAJ,0000000116,4.0,1019865600\\n'\n"
     ]
    },
    {
     "ename": "OSError",
     "evalue": "Expected file path name or file-like object, got <class 'bytes'> type",
     "output_type": "error",
     "traceback": [
      "\u001b[0;31m---------------------------------------------------------------------------\u001b[0m",
      "\u001b[0;31mOSError\u001b[0m                                   Traceback (most recent call last)",
      "\u001b[0;32m<ipython-input-41-31a3de881c13>\u001b[0m in \u001b[0;36m<module>\u001b[0;34m()\u001b[0m\n\u001b[1;32m     10\u001b[0m \u001b[0;32mfor\u001b[0m \u001b[0mdoc\u001b[0m \u001b[0;32min\u001b[0m \u001b[0mlazyread\u001b[0m\u001b[0;34m(\u001b[0m\u001b[0mbody\u001b[0m\u001b[0;34m,\u001b[0m \u001b[0mdelimiter\u001b[0m\u001b[0;34m=\u001b[0m\u001b[0;34mb'\\n'\u001b[0m\u001b[0;34m)\u001b[0m\u001b[0;34m:\u001b[0m\u001b[0;34m\u001b[0m\u001b[0m\n\u001b[1;32m     11\u001b[0m     \u001b[0mprint\u001b[0m\u001b[0;34m(\u001b[0m\u001b[0mdoc\u001b[0m\u001b[0;34m)\u001b[0m\u001b[0;34m\u001b[0m\u001b[0m\n\u001b[0;32m---> 12\u001b[0;31m     \u001b[0mdf\u001b[0m \u001b[0;34m=\u001b[0m \u001b[0mpd\u001b[0m\u001b[0;34m.\u001b[0m\u001b[0mread_csv\u001b[0m\u001b[0;34m(\u001b[0m\u001b[0mdoc\u001b[0m\u001b[0;34m)\u001b[0m\u001b[0;34m\u001b[0m\u001b[0m\n\u001b[0m\u001b[1;32m     13\u001b[0m     \u001b[0mcount\u001b[0m \u001b[0;34m=\u001b[0m \u001b[0mcount\u001b[0m \u001b[0;34m+\u001b[0m\u001b[0;36m1\u001b[0m\u001b[0;34m\u001b[0m\u001b[0m\n\u001b[1;32m     14\u001b[0m     \u001b[0;32mif\u001b[0m \u001b[0mcount\u001b[0m \u001b[0;34m>\u001b[0m \u001b[0;36m4\u001b[0m\u001b[0;34m:\u001b[0m\u001b[0;34m\u001b[0m\u001b[0m\n",
      "\u001b[0;32m~/anaconda3/envs/python3/lib/python3.6/site-packages/pandas/io/parsers.py\u001b[0m in \u001b[0;36mparser_f\u001b[0;34m(filepath_or_buffer, sep, delimiter, header, names, index_col, usecols, squeeze, prefix, mangle_dupe_cols, dtype, engine, converters, true_values, false_values, skipinitialspace, skiprows, nrows, na_values, keep_default_na, na_filter, verbose, skip_blank_lines, parse_dates, infer_datetime_format, keep_date_col, date_parser, dayfirst, iterator, chunksize, compression, thousands, decimal, lineterminator, quotechar, quoting, escapechar, comment, encoding, dialect, tupleize_cols, error_bad_lines, warn_bad_lines, skipfooter, skip_footer, doublequote, delim_whitespace, as_recarray, compact_ints, use_unsigned, low_memory, buffer_lines, memory_map, float_precision)\u001b[0m\n\u001b[1;32m    707\u001b[0m                     skip_blank_lines=skip_blank_lines)\n\u001b[1;32m    708\u001b[0m \u001b[0;34m\u001b[0m\u001b[0m\n\u001b[0;32m--> 709\u001b[0;31m         \u001b[0;32mreturn\u001b[0m \u001b[0m_read\u001b[0m\u001b[0;34m(\u001b[0m\u001b[0mfilepath_or_buffer\u001b[0m\u001b[0;34m,\u001b[0m \u001b[0mkwds\u001b[0m\u001b[0;34m)\u001b[0m\u001b[0;34m\u001b[0m\u001b[0m\n\u001b[0m\u001b[1;32m    710\u001b[0m \u001b[0;34m\u001b[0m\u001b[0m\n\u001b[1;32m    711\u001b[0m     \u001b[0mparser_f\u001b[0m\u001b[0;34m.\u001b[0m\u001b[0m__name__\u001b[0m \u001b[0;34m=\u001b[0m \u001b[0mname\u001b[0m\u001b[0;34m\u001b[0m\u001b[0m\n",
      "\u001b[0;32m~/anaconda3/envs/python3/lib/python3.6/site-packages/pandas/io/parsers.py\u001b[0m in \u001b[0;36m_read\u001b[0;34m(filepath_or_buffer, kwds)\u001b[0m\n\u001b[1;32m    447\u001b[0m \u001b[0;34m\u001b[0m\u001b[0m\n\u001b[1;32m    448\u001b[0m     \u001b[0;31m# Create the parser.\u001b[0m\u001b[0;34m\u001b[0m\u001b[0;34m\u001b[0m\u001b[0m\n\u001b[0;32m--> 449\u001b[0;31m     \u001b[0mparser\u001b[0m \u001b[0;34m=\u001b[0m \u001b[0mTextFileReader\u001b[0m\u001b[0;34m(\u001b[0m\u001b[0mfilepath_or_buffer\u001b[0m\u001b[0;34m,\u001b[0m \u001b[0;34m**\u001b[0m\u001b[0mkwds\u001b[0m\u001b[0;34m)\u001b[0m\u001b[0;34m\u001b[0m\u001b[0m\n\u001b[0m\u001b[1;32m    450\u001b[0m \u001b[0;34m\u001b[0m\u001b[0m\n\u001b[1;32m    451\u001b[0m     \u001b[0;32mif\u001b[0m \u001b[0mchunksize\u001b[0m \u001b[0;32mor\u001b[0m \u001b[0miterator\u001b[0m\u001b[0;34m:\u001b[0m\u001b[0;34m\u001b[0m\u001b[0m\n",
      "\u001b[0;32m~/anaconda3/envs/python3/lib/python3.6/site-packages/pandas/io/parsers.py\u001b[0m in \u001b[0;36m__init__\u001b[0;34m(self, f, engine, **kwds)\u001b[0m\n\u001b[1;32m    816\u001b[0m             \u001b[0mself\u001b[0m\u001b[0;34m.\u001b[0m\u001b[0moptions\u001b[0m\u001b[0;34m[\u001b[0m\u001b[0;34m'has_index_names'\u001b[0m\u001b[0;34m]\u001b[0m \u001b[0;34m=\u001b[0m \u001b[0mkwds\u001b[0m\u001b[0;34m[\u001b[0m\u001b[0;34m'has_index_names'\u001b[0m\u001b[0;34m]\u001b[0m\u001b[0;34m\u001b[0m\u001b[0m\n\u001b[1;32m    817\u001b[0m \u001b[0;34m\u001b[0m\u001b[0m\n\u001b[0;32m--> 818\u001b[0;31m         \u001b[0mself\u001b[0m\u001b[0;34m.\u001b[0m\u001b[0m_make_engine\u001b[0m\u001b[0;34m(\u001b[0m\u001b[0mself\u001b[0m\u001b[0;34m.\u001b[0m\u001b[0mengine\u001b[0m\u001b[0;34m)\u001b[0m\u001b[0;34m\u001b[0m\u001b[0m\n\u001b[0m\u001b[1;32m    819\u001b[0m \u001b[0;34m\u001b[0m\u001b[0m\n\u001b[1;32m    820\u001b[0m     \u001b[0;32mdef\u001b[0m \u001b[0mclose\u001b[0m\u001b[0;34m(\u001b[0m\u001b[0mself\u001b[0m\u001b[0;34m)\u001b[0m\u001b[0;34m:\u001b[0m\u001b[0;34m\u001b[0m\u001b[0m\n",
      "\u001b[0;32m~/anaconda3/envs/python3/lib/python3.6/site-packages/pandas/io/parsers.py\u001b[0m in \u001b[0;36m_make_engine\u001b[0;34m(self, engine)\u001b[0m\n\u001b[1;32m   1047\u001b[0m     \u001b[0;32mdef\u001b[0m \u001b[0m_make_engine\u001b[0m\u001b[0;34m(\u001b[0m\u001b[0mself\u001b[0m\u001b[0;34m,\u001b[0m \u001b[0mengine\u001b[0m\u001b[0;34m=\u001b[0m\u001b[0;34m'c'\u001b[0m\u001b[0;34m)\u001b[0m\u001b[0;34m:\u001b[0m\u001b[0;34m\u001b[0m\u001b[0m\n\u001b[1;32m   1048\u001b[0m         \u001b[0;32mif\u001b[0m \u001b[0mengine\u001b[0m \u001b[0;34m==\u001b[0m \u001b[0;34m'c'\u001b[0m\u001b[0;34m:\u001b[0m\u001b[0;34m\u001b[0m\u001b[0m\n\u001b[0;32m-> 1049\u001b[0;31m             \u001b[0mself\u001b[0m\u001b[0;34m.\u001b[0m\u001b[0m_engine\u001b[0m \u001b[0;34m=\u001b[0m \u001b[0mCParserWrapper\u001b[0m\u001b[0;34m(\u001b[0m\u001b[0mself\u001b[0m\u001b[0;34m.\u001b[0m\u001b[0mf\u001b[0m\u001b[0;34m,\u001b[0m \u001b[0;34m**\u001b[0m\u001b[0mself\u001b[0m\u001b[0;34m.\u001b[0m\u001b[0moptions\u001b[0m\u001b[0;34m)\u001b[0m\u001b[0;34m\u001b[0m\u001b[0m\n\u001b[0m\u001b[1;32m   1050\u001b[0m         \u001b[0;32melse\u001b[0m\u001b[0;34m:\u001b[0m\u001b[0;34m\u001b[0m\u001b[0m\n\u001b[1;32m   1051\u001b[0m             \u001b[0;32mif\u001b[0m \u001b[0mengine\u001b[0m \u001b[0;34m==\u001b[0m \u001b[0;34m'python'\u001b[0m\u001b[0;34m:\u001b[0m\u001b[0;34m\u001b[0m\u001b[0m\n",
      "\u001b[0;32m~/anaconda3/envs/python3/lib/python3.6/site-packages/pandas/io/parsers.py\u001b[0m in \u001b[0;36m__init__\u001b[0;34m(self, src, **kwds)\u001b[0m\n\u001b[1;32m   1693\u001b[0m         \u001b[0mkwds\u001b[0m\u001b[0;34m[\u001b[0m\u001b[0;34m'allow_leading_cols'\u001b[0m\u001b[0;34m]\u001b[0m \u001b[0;34m=\u001b[0m \u001b[0mself\u001b[0m\u001b[0;34m.\u001b[0m\u001b[0mindex_col\u001b[0m \u001b[0;32mis\u001b[0m \u001b[0;32mnot\u001b[0m \u001b[0;32mFalse\u001b[0m\u001b[0;34m\u001b[0m\u001b[0m\n\u001b[1;32m   1694\u001b[0m \u001b[0;34m\u001b[0m\u001b[0m\n\u001b[0;32m-> 1695\u001b[0;31m         \u001b[0mself\u001b[0m\u001b[0;34m.\u001b[0m\u001b[0m_reader\u001b[0m \u001b[0;34m=\u001b[0m \u001b[0mparsers\u001b[0m\u001b[0;34m.\u001b[0m\u001b[0mTextReader\u001b[0m\u001b[0;34m(\u001b[0m\u001b[0msrc\u001b[0m\u001b[0;34m,\u001b[0m \u001b[0;34m**\u001b[0m\u001b[0mkwds\u001b[0m\u001b[0;34m)\u001b[0m\u001b[0;34m\u001b[0m\u001b[0m\n\u001b[0m\u001b[1;32m   1696\u001b[0m \u001b[0;34m\u001b[0m\u001b[0m\n\u001b[1;32m   1697\u001b[0m         \u001b[0;31m# XXX\u001b[0m\u001b[0;34m\u001b[0m\u001b[0;34m\u001b[0m\u001b[0m\n",
      "\u001b[0;32mpandas/_libs/parsers.pyx\u001b[0m in \u001b[0;36mpandas._libs.parsers.TextReader.__cinit__\u001b[0;34m()\u001b[0m\n",
      "\u001b[0;32mpandas/_libs/parsers.pyx\u001b[0m in \u001b[0;36mpandas._libs.parsers.TextReader._setup_parser_source\u001b[0;34m()\u001b[0m\n",
      "\u001b[0;31mOSError\u001b[0m: Expected file path name or file-like object, got <class 'bytes'> type"
     ]
    }
   ],
   "source": [
    "# Reading CSV file from s3 to EC2 console\n",
    "s3_object = client.get_object(Bucket='santhoshi-sparkle', Key='amazon-data/ratings_Books.csv')\n",
    "\n",
    "# gzip = BytesIO(s3_object)\n",
    "# gzipfile = gzip.GzipFile(fileobj=gzip)\n",
    "# content = gzipfile.read()\n",
    "\n",
    "body = s3_object['Body']\n",
    "count = 1\n",
    "for doc in lazyread(body, delimiter=b'\\n'):\n",
    "    print(doc)\n",
    "    df = pd.read_csv(doc)\n",
    "    count = count +1\n",
    "    if count > 4:\n",
    "        break"
   ]
  },
  {
   "cell_type": "code",
   "execution_count": null,
   "metadata": {},
   "outputs": [],
   "source": [
    "!{sys.executable} -m pip install smart_open"
   ]
  },
  {
   "cell_type": "code",
   "execution_count": 44,
   "metadata": {},
   "outputs": [],
   "source": [
    "from smart_open import smart_open"
   ]
  },
  {
   "cell_type": "code",
   "execution_count": 85,
   "metadata": {},
   "outputs": [],
   "source": [
    "# Reding csv file from S3 and converting it into dataframe\n",
    "initial_df = pd.read_csv(smart_open('s3://santhoshi-sparkle/amazon-data/ratings_Books.csv'), header = None)"
   ]
  },
  {
   "cell_type": "code",
   "execution_count": 86,
   "metadata": {},
   "outputs": [],
   "source": [
    "initial_df.columns = ['UserID','ItemID','rating','Timestamp']"
   ]
  },
  {
   "cell_type": "code",
   "execution_count": 81,
   "metadata": {},
   "outputs": [],
   "source": [
    "#initial_df['Timestamp'] = pd.to_datetime(initial_df.Timestamp,unit='s')"
   ]
  },
  {
   "cell_type": "code",
   "execution_count": 82,
   "metadata": {},
   "outputs": [],
   "source": [
    "#initial_df['new'] = initial_df['Timestamp'].dt.date"
   ]
  },
  {
   "cell_type": "code",
   "execution_count": 89,
   "metadata": {},
   "outputs": [
    {
     "data": {
      "text/html": [
       "<div>\n",
       "<style scoped>\n",
       "    .dataframe tbody tr th:only-of-type {\n",
       "        vertical-align: middle;\n",
       "    }\n",
       "\n",
       "    .dataframe tbody tr th {\n",
       "        vertical-align: top;\n",
       "    }\n",
       "\n",
       "    .dataframe thead th {\n",
       "        text-align: right;\n",
       "    }\n",
       "</style>\n",
       "<table border=\"1\" class=\"dataframe\">\n",
       "  <thead>\n",
       "    <tr style=\"text-align: right;\">\n",
       "      <th></th>\n",
       "      <th>UserID</th>\n",
       "      <th>ItemID</th>\n",
       "      <th>rating</th>\n",
       "      <th>Timestamp</th>\n",
       "    </tr>\n",
       "  </thead>\n",
       "  <tbody>\n",
       "    <tr>\n",
       "      <th>0</th>\n",
       "      <td>AH2L9G3DQHHAJ</td>\n",
       "      <td>0000000116</td>\n",
       "      <td>4.0</td>\n",
       "      <td>1019865600</td>\n",
       "    </tr>\n",
       "    <tr>\n",
       "      <th>1</th>\n",
       "      <td>A2IIIDRK3PRRZY</td>\n",
       "      <td>0000000116</td>\n",
       "      <td>1.0</td>\n",
       "      <td>1395619200</td>\n",
       "    </tr>\n",
       "    <tr>\n",
       "      <th>2</th>\n",
       "      <td>A1TADCM7YWPQ8M</td>\n",
       "      <td>0000000868</td>\n",
       "      <td>4.0</td>\n",
       "      <td>1031702400</td>\n",
       "    </tr>\n",
       "    <tr>\n",
       "      <th>3</th>\n",
       "      <td>AWGH7V0BDOJKB</td>\n",
       "      <td>0000013714</td>\n",
       "      <td>4.0</td>\n",
       "      <td>1383177600</td>\n",
       "    </tr>\n",
       "    <tr>\n",
       "      <th>4</th>\n",
       "      <td>A3UTQPQPM4TQO0</td>\n",
       "      <td>0000013714</td>\n",
       "      <td>5.0</td>\n",
       "      <td>1374883200</td>\n",
       "    </tr>\n",
       "  </tbody>\n",
       "</table>\n",
       "</div>"
      ],
      "text/plain": [
       "           UserID      ItemID  rating   Timestamp\n",
       "0   AH2L9G3DQHHAJ  0000000116     4.0  1019865600\n",
       "1  A2IIIDRK3PRRZY  0000000116     1.0  1395619200\n",
       "2  A1TADCM7YWPQ8M  0000000868     4.0  1031702400\n",
       "3   AWGH7V0BDOJKB  0000013714     4.0  1383177600\n",
       "4  A3UTQPQPM4TQO0  0000013714     5.0  1374883200"
      ]
     },
     "execution_count": 89,
     "metadata": {},
     "output_type": "execute_result"
    }
   ],
   "source": [
    "initial_df.head(5)"
   ]
  },
  {
   "cell_type": "code",
   "execution_count": 91,
   "metadata": {},
   "outputs": [],
   "source": [
    "missings = initial_df.isnull().sum()"
   ]
  },
  {
   "cell_type": "code",
   "execution_count": null,
   "metadata": {},
   "outputs": [],
   "source": [
    "initial_df.mean()"
   ]
  },
  {
   "cell_type": "code",
   "execution_count": null,
   "metadata": {},
   "outputs": [],
   "source": []
  },
  {
   "cell_type": "code",
   "execution_count": null,
   "metadata": {},
   "outputs": [],
   "source": []
  },
  {
   "cell_type": "code",
   "execution_count": 69,
   "metadata": {},
   "outputs": [],
   "source": [
    "json_df = pd.read_json(smart_open('s3://santhoshi-sparkle/amazon-data/s3-test.json'), encoding=\"ISO-8859-1\")"
   ]
  },
  {
   "cell_type": "code",
   "execution_count": 70,
   "metadata": {},
   "outputs": [
    {
     "data": {
      "text/html": [
       "<div>\n",
       "<style scoped>\n",
       "    .dataframe tbody tr th:only-of-type {\n",
       "        vertical-align: middle;\n",
       "    }\n",
       "\n",
       "    .dataframe tbody tr th {\n",
       "        vertical-align: top;\n",
       "    }\n",
       "\n",
       "    .dataframe thead th {\n",
       "        text-align: right;\n",
       "    }\n",
       "</style>\n",
       "<table border=\"1\" class=\"dataframe\">\n",
       "  <thead>\n",
       "    <tr style=\"text-align: right;\">\n",
       "      <th></th>\n",
       "      <th>0</th>\n",
       "    </tr>\n",
       "  </thead>\n",
       "  <tbody>\n",
       "    <tr>\n",
       "      <th>0</th>\n",
       "      <td>{'asin': '0001048791', 'salesRank': {'Books': ...</td>\n",
       "    </tr>\n",
       "    <tr>\n",
       "      <th>1</th>\n",
       "      <td>{'asin': '0000143561', 'categories': [['Movies...</td>\n",
       "    </tr>\n",
       "    <tr>\n",
       "      <th>2</th>\n",
       "      <td>{'asin': '0000037214', 'related': {'also_viewe...</td>\n",
       "    </tr>\n",
       "    <tr>\n",
       "      <th>3</th>\n",
       "      <td>{'asin': '0000032069', 'title': 'Adult Ballet ...</td>\n",
       "    </tr>\n",
       "    <tr>\n",
       "      <th>4</th>\n",
       "      <td>{'asin': '0000031909', 'related': {'also_bough...</td>\n",
       "    </tr>\n",
       "  </tbody>\n",
       "</table>\n",
       "</div>"
      ],
      "text/plain": [
       "                                                   0\n",
       "0  {'asin': '0001048791', 'salesRank': {'Books': ...\n",
       "1  {'asin': '0000143561', 'categories': [['Movies...\n",
       "2  {'asin': '0000037214', 'related': {'also_viewe...\n",
       "3  {'asin': '0000032069', 'title': 'Adult Ballet ...\n",
       "4  {'asin': '0000031909', 'related': {'also_bough..."
      ]
     },
     "execution_count": 70,
     "metadata": {},
     "output_type": "execute_result"
    }
   ],
   "source": [
    "json_df"
   ]
  },
  {
   "cell_type": "code",
   "execution_count": 66,
   "metadata": {},
   "outputs": [
    {
     "name": "stdout",
     "output_type": "stream",
     "text": [
      "b'[[\"{\\'asin\\': \\'0001048791\\', \\'salesRank\\': {\\'Books\\': 6334800}, \\'imUrl\\': \\'http://ecx.images-amazon.com/images/I/51MKP0T4DBL.jpg\\', \\'categories\\': [[\\'Books\\']], \\'title\\': \\'The Crucible: Performed by Stuart Pankin, Jerome Dempsey &amp; Cast\\'}\"],'\n",
      "b'[\"{\\'asin\\': \\'0000143561\\', \\'categories\\': [[\\'Movies & TV\\', \\'Movies\\']], \\'description\\': \\'3Pack DVD set - Italian Classics, Parties and Holidays.\\', \\'title\\': \\'Everyday Italian (with Giada de Laurentiis), Volume 1 (3 Pack): Italian Classics, Parties, Holidays\\', \\'price\\': 12.99, \\'salesRank\\': {\\'Movies & TV\\': 376041}, \\'imUrl\\': \\'http://g-ecx.images-amazon.com/images/G/01/x-site/icons/no-img-sm._CB192198896_.gif\\', \\'related\\': {\\'also_viewed\\': [\\'B0036FO6SI\\', \\'B000KL8ODE\\', \\'000014357X\\', \\'B0037718RC\\', \\'B002I5GNVU\\', \\'B000RBU4BM\\'], \\'buy_after_viewing\\': [\\'B0036FO6SI\\', \\'B000KL8ODE\\', \\'000014357X\\', \\'B0037718RC\\']}}\"],'\n",
      "b'[\"{\\'asin\\': \\'0000037214\\', \\'related\\': {\\'also_viewed\\': [\\'B00JO8II76\\', \\'B00DGN4R1Q\\', \\'B00E1YRI4C\\']}, \\'title\\': \\'Purple Sequin Tiny Dancer Tutu Ballet Dance Fairy Princess Costume Accessory\\', \\'price\\': 6.99, \\'salesRank\\': {\\'Clothing\\': 1233557}, \\'imUrl\\': \\'http://ecx.images-amazon.com/images/I/31mCncNuAZL.jpg\\', \\'brand\\': \\'Big Dreams\\', \\'categories\\': [[\\'Clothing, Shoes & Jewelry\\', \\'Girls\\'], [\\'Clothing, Shoes & Jewelry\\', \\'Novelty, Costumes & More\\', \\'Costumes & Accessories\\', \\'More Accessories\\', \\'Kids & Baby\\']]}\"],'\n",
      "b'[\"{\\'asin\\': \\'0000032069\\', \\'title\\': \\'Adult Ballet Tutu Cheetah Pink\\', \\'price\\': 7.89, \\'imUrl\\': \\'http://ecx.images-amazon.com/images/I/51EzU6quNML._SX342_.jpg\\', \\'related\\': {\\'also_bought\\': [\\'0000032050\\', \\'B00D0DJAEG\\', \\'0000032042\\', \\'B00D0F450I\\', \\'B00D2JTMS2\\', \\'B00D0FDUAY\\', \\'B00D2JSRFQ\\', \\'0000032034\\', \\'B00D0D5F6S\\', \\'B00D2JRWWA\\', \\'B00D0FIIJM\\', \\'B00D0FCQQI\\', \\'B00EXVN9PU\\', \\'B0041EOTJO\\', \\'B004PYEE8G\\', \\'B001GTKPDQ\\', \\'B00EON0SJ2\\', \\'B005HMHOQ4\\', \\'B002XZMGGQ\\'], \\'also_viewed\\': [\\'B00D0F450I\\', \\'0000032050\\', \\'B00D2JTMS2\\', \\'0000032042\\', \\'B004PYEE8G\\', \\'B00JHNSNSM\\', \\'B00D0DJAEG\\', \\'B00D2JSRFQ\\', \\'B00D0FCQQI\\', \\'B00D2JRWWA\\', \\'B003AVNY6I\\', \\'B0071KR2LC\\', \\'B00GOR07RE\\', \\'B00D0FIIJM\\', \\'B005F50FXC\\', \\'B0079MCIMU\\', \\'B00D0FDUAY\\', \\'B00H3RYN3I\\', \\'B005C4Y4F6\\', \\'B007IEFT84\\', \\'B00D0D5F6S\\', \\'B002BZX8Z6\\', \\'B00JHONN1S\\', \\'B008F0SU0Y\\', \\'B00FNNFXAG\\', \\'B007R2RM8W\\', \\'B007VM3AMK\\', \\'B00C0PLENA\\', \\'B00BJGG6VG\\', \\'B00E1YRI4C\\', \\'B00IIK61WA\\', \\'B009UC638W\\', \\'B00KZN6RVI\\', \\'B00CSFEENY\\', \\'B002GZGI4E\\', \\'B00HSOJJ94\\', \\'B00LIPP4VG\\', \\'B009RXWNSI\\', \\'B00E87F196\\', \\'B005HMHOQY\\', \\'B00J6S9MSS\\', \\'0000032034\\', \\'B00CJQGNJK\\', \\'B008FCA0F0\\', \\'B0056LG7GY\\', \\'B00DPQWCZ2\\', \\'B00I3PV0US\\', \\'B00KZN6IVW\\', \\'B0054TBWKO\\', \\'B00I2S01I8\\', \\'B00BXF12P8\\', \\'B00GVHU678\\', \\'B005NWENGC\\', \\'B003AVKOP2\\', \\'B00JK8MQ4Q\\', \\'B00FZIMVQS\\', \\'B008BB19VE\\', \\'B00GTEXPOE\\', \\'B009WPT2RQ\\', \\'B00E37SBBG\\'], \\'bought_together\\': [\\'0000032050\\', \\'B00D0DJAEG\\', \\'0000032042\\', \\'B00D0F450I\\']}, \\'brand\\': \\'BubuBibi\\', \\'categories\\': [[\\'Sports & Outdoors\\', \\'Other Sports\\', \\'Dance\\', \\'Clothing\\', \\'Girls\\', \\'Skirts\\']]}\"],'\n",
      "b'[\"{\\'asin\\': \\'0000031909\\', \\'related\\': {\\'also_bought\\': [\\'B002BZX8Z6\\', \\'B00JHONN1S\\', \\'0000031895\\', \\'B00D2K1M3O\\', \\'0000031852\\', \\'B00D0WDS9A\\', \\'B00D10CLVW\\', \\'B00D103F8U\\', \\'B003AVEU6G\\', \\'B00D2K0PA0\\', \\'B002GZGI4E\\', \\'B00D0ZF44Y\\', \\'B008F0SMUC\\', \\'B00D0GCI8S\\', \\'B008F0SU0Y\\', \\'B002YSCPZY\\', \\'0448408775\\', \\'B002R0FABA\\', \\'B008GHWNWC\\', \\'B002R0FA24\\', \\'B001GTKPEK\\', \\'B006XA7KZO\\', \\'B001GZUQ9S\\', \\'B00613VNL0\\', \\'B003IEDM9Q\\', \\'B003LTOZK8\\', \\'B003AVNY6I\\', \\'B008UBQZKU\\', \\'B001AQD8VQ\\', \\'B003ILA0L2\\', \\'B00AFDOPDA\\', \\'B002R0F7FE\\'], \\'also_viewed\\': [\\'B002BZX8Z6\\', \\'B00JHONN1S\\', \\'B008F0SU0Y\\', \\'B00E1YRI4C\\', \\'B00AFDOPDA\\', \\'B002GZGI4E\\', \\'B00CEUWY8K\\', \\'B003IEDM9Q\\', \\'B00HSOJB9M\\', \\'0000031895\\', \\'B003AVKOP2\\', \\'B005C4Y4F6\\', \\'B008F0SMUC\\', \\'B00362QGW0\\', \\'B008UD01L2\\', \\'B00FAZ5ZE6\\', \\'B008F0SY6O\\', \\'B00DPLLQR2\\', \\'B00CEUWUZC\\', \\'B004PYEE8G\\', \\'B003AVNY6I\\', \\'B00CEUX0D8\\', \\'B00JHNSNSM\\', \\'B00D10CLVW\\', \\'B00D23MC6W\\', \\'B007XAI53E\\', \\'B008X6CBS2\\', \\'B004PEI45U\\', \\'B005HMHOQ4\\', \\'B002C3Y6WG\\', \\'B00HSC8O74\\', \\'B008BMGHM4\\', \\'B00CEUWTFS\\', \\'B00FNNFXAG\\', \\'B00CYBU84G\\', \\'B00D9C32NI\\', \\'B0046W9T8C\\', \\'B008UBG5IW\\', \\'B001YHX45G\\', \\'B00CEV8366\\', \\'B00I2UHSZA\\', \\'B009RXWNSI\\', \\'B008FCA0F0\\', \\'B001GTKPEK\\', \\'B004TU1VPU\\', \\'B00CBPIO7S\\', \\'B00CHHXJ0M\\', \\'B00538F5OK\\', \\'B005F50FXC\\', \\'B00CEUX4QQ\\', \\'B003XRKA7A\\', \\'0000031852\\', \\'B002C3R5XI\\', \\'B00C6Q1Z6E\\'], \\'bought_together\\': [\\'B002BZX8Z6\\']}, \\'title\\': \\'Girls Ballet Tutu Neon Pink\\', \\'price\\': 7.0, \\'salesRank\\': {\\'Toys & Games\\': 201847}, \\'imUrl\\': \\'http://ecx.images-amazon.com/images/I/41xBoP0FVzL._SY300_.jpg\\', \\'brand\\': \\'Unknown\\', \\'categories\\': [[\\'Sports & Outdoors\\', \\'Other Sports\\', \\'Dance\\']], \\'description\\': \\'High quality 3 layer ballet tutu. 12 inches in length\\'}\"]]'\n"
     ]
    }
   ],
   "source": [
    "for line in smart_open('s3://santhoshi-sparkle/amazon-data/s3-test.json'):\n",
    "    new = line.strip()\n",
    "    print(new)"
   ]
  },
  {
   "cell_type": "code",
   "execution_count": null,
   "metadata": {},
   "outputs": [],
   "source": [
    "# #Writing dataframes to S3 \n",
    "\n",
    "# from io import StringIO\n",
    "# import boto3\n",
    "\n",
    "# csv_buffer = StringIO()\n",
    "# df.to_csv(csv_buffer)\n",
    "# s3_resource = boto3.resource('s3')\n",
    "# s3_resource.Object(bucket, 'df.csv').put(Body=csv_buffer.getvalue())"
   ]
  }
 ],
 "metadata": {
  "kernelspec": {
   "display_name": "Environment (conda_python3)",
   "language": "python",
   "name": "conda_python3"
  },
  "language_info": {
   "codemirror_mode": {
    "name": "ipython",
    "version": 3
   },
   "file_extension": ".py",
   "mimetype": "text/x-python",
   "name": "python",
   "nbconvert_exporter": "python",
   "pygments_lexer": "ipython3",
   "version": "3.6.6"
  }
 },
 "nbformat": 4,
 "nbformat_minor": 2
}
