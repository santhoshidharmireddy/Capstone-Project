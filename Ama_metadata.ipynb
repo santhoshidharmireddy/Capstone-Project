{
 "cells": [
  {
   "cell_type": "code",
   "execution_count": 1,
   "metadata": {},
   "outputs": [],
   "source": [
    "import numpy as np\n",
    "import pandas as pd\n"
   ]
  },
  {
   "cell_type": "code",
   "execution_count": 2,
   "metadata": {},
   "outputs": [],
   "source": [
    "# Reading files stored in EC2 memory\n",
    "#books_ratings = pd.read_csv('../ratings_Books.csv', header=None)"
   ]
  },
  {
   "cell_type": "code",
   "execution_count": 3,
   "metadata": {},
   "outputs": [],
   "source": [
    "#books_ratings.columns = ['UserID','ItemID','rating','Timestamp']"
   ]
  },
  {
   "cell_type": "code",
   "execution_count": 4,
   "metadata": {},
   "outputs": [],
   "source": [
    "#books_ratings.head(5)"
   ]
  },
  {
   "cell_type": "code",
   "execution_count": 5,
   "metadata": {},
   "outputs": [
    {
     "name": "stdout",
     "output_type": "stream",
     "text": [
      "\n",
      "The following command must be run outside of the IPython shell:\n",
      "\n",
      "    $ pip install --upgrade pip \n",
      "\n",
      "The Python package manager (pip) can only be used from outside of IPython.\n",
      "Please reissue the `pip` command in a separate terminal or command prompt.\n",
      "\n",
      "See the Python documentation for more information on how to install packages:\n",
      "\n",
      "    https://docs.python.org/3/installing/\n"
     ]
    }
   ],
   "source": [
    "pip install --upgrade pip "
   ]
  },
  {
   "cell_type": "code",
   "execution_count": 6,
   "metadata": {},
   "outputs": [],
   "source": [
    "# Reading json data files from S3 using lazyread\n",
    "# import boto3\n",
    "# from lazyreader import lazyread\n",
    "# client = boto3.client('s3')\n",
    "# s3_object = client.get_object(Bucket='santhoshi-sparkle', Key='amazon-data/s3-test.json')\n",
    "# body = s3_object['Body']\n",
    "\n",
    "# for doc in lazyread(body, delimiter=b'\\n'):\n",
    "#     print(doc)"
   ]
  },
  {
   "cell_type": "code",
   "execution_count": 7,
   "metadata": {},
   "outputs": [
    {
     "name": "stdout",
     "output_type": "stream",
     "text": [
      "Requirement already up-to-date: pip in /home/ubuntu/anaconda3/envs/python3/lib/python3.6/site-packages (18.0)\n",
      "Requirement already satisfied: lazyreader in /home/ubuntu/anaconda3/envs/python3/lib/python3.6/site-packages (1.0.1)\n"
     ]
    }
   ],
   "source": [
    "import sys\n",
    "!{sys.executable} -m pip install --upgrade pip\n",
    "!{sys.executable} -m pip install lazyreader"
   ]
  },
  {
   "cell_type": "code",
   "execution_count": 8,
   "metadata": {},
   "outputs": [
    {
     "name": "stdout",
     "output_type": "stream",
     "text": [
      "Requirement already satisfied: smart_open in /home/ubuntu/anaconda3/envs/python3/lib/python3.6/site-packages (1.6.0)\n",
      "Requirement already satisfied: boto>=2.32 in /home/ubuntu/anaconda3/envs/python3/lib/python3.6/site-packages (from smart_open) (2.49.0)\n",
      "Requirement already satisfied: requests in /home/ubuntu/anaconda3/envs/python3/lib/python3.6/site-packages (from smart_open) (2.19.1)\n",
      "Requirement already satisfied: boto3 in /home/ubuntu/anaconda3/envs/python3/lib/python3.6/site-packages (from smart_open) (1.7.60)\n",
      "Requirement already satisfied: bz2file in /home/ubuntu/anaconda3/envs/python3/lib/python3.6/site-packages (from smart_open) (0.98)\n",
      "Requirement already satisfied: idna<2.8,>=2.5 in /home/ubuntu/anaconda3/envs/python3/lib/python3.6/site-packages (from requests->smart_open) (2.7)\n",
      "Requirement already satisfied: urllib3<1.24,>=1.21.1 in /home/ubuntu/anaconda3/envs/python3/lib/python3.6/site-packages (from requests->smart_open) (1.23)\n",
      "Requirement already satisfied: certifi>=2017.4.17 in /home/ubuntu/anaconda3/envs/python3/lib/python3.6/site-packages (from requests->smart_open) (2018.4.16)\n",
      "Requirement already satisfied: chardet<3.1.0,>=3.0.2 in /home/ubuntu/anaconda3/envs/python3/lib/python3.6/site-packages (from requests->smart_open) (3.0.4)\n",
      "Requirement already satisfied: s3transfer<0.2.0,>=0.1.10 in /home/ubuntu/anaconda3/envs/python3/lib/python3.6/site-packages (from boto3->smart_open) (0.1.13)\n",
      "Requirement already satisfied: jmespath<1.0.0,>=0.7.1 in /home/ubuntu/anaconda3/envs/python3/lib/python3.6/site-packages (from boto3->smart_open) (0.9.3)\n",
      "Requirement already satisfied: botocore<1.11.0,>=1.10.60 in /home/ubuntu/anaconda3/envs/python3/lib/python3.6/site-packages (from boto3->smart_open) (1.10.60)\n",
      "Requirement already satisfied: docutils>=0.10 in /home/ubuntu/anaconda3/envs/python3/lib/python3.6/site-packages (from botocore<1.11.0,>=1.10.60->boto3->smart_open) (0.14)\n",
      "Requirement already satisfied: python-dateutil<3.0.0,>=2.1; python_version >= \"2.7\" in /home/ubuntu/anaconda3/envs/python3/lib/python3.6/site-packages (from botocore<1.11.0,>=1.10.60->boto3->smart_open) (2.7.3)\n",
      "Requirement already satisfied: six>=1.5 in /home/ubuntu/anaconda3/envs/python3/lib/python3.6/site-packages (from python-dateutil<3.0.0,>=2.1; python_version >= \"2.7\"->botocore<1.11.0,>=1.10.60->boto3->smart_open) (1.11.0)\n"
     ]
    }
   ],
   "source": [
    "!{sys.executable} -m pip install smart_open"
   ]
  },
  {
   "cell_type": "code",
   "execution_count": 9,
   "metadata": {},
   "outputs": [],
   "source": [
    "from smart_open import smart_open"
   ]
  },
  {
   "cell_type": "code",
   "execution_count": 11,
   "metadata": {},
   "outputs": [],
   "source": [
    "# Reding csv file from S3 and converting it into dataframe\n",
    "#initial_df = pd.read_csv(smart_open('s3://santhoshi-sparkle/amazon-data/ratings_Clothing_Shoes_and_Jewelry.csv'), header = None)"
   ]
  },
  {
   "cell_type": "code",
   "execution_count": 8,
   "metadata": {},
   "outputs": [],
   "source": [
    "#initial_df.columns = ['UserID','ItemID','rating','Timestamp']"
   ]
  },
  {
   "cell_type": "code",
   "execution_count": 9,
   "metadata": {},
   "outputs": [],
   "source": [
    "#initial_df['Timestamp'] = pd.to_datetime(initial_df.Timestamp,unit='s')"
   ]
  },
  {
   "cell_type": "code",
   "execution_count": 25,
   "metadata": {},
   "outputs": [],
   "source": [
    "#initial_df['new'] = initial_df['Timestamp'].dt.date\n",
    "#initial_df.info()"
   ]
  },
  {
   "cell_type": "code",
   "execution_count": 26,
   "metadata": {},
   "outputs": [],
   "source": [
    "#initial_df.head(5)\n",
    "#new_df = initial_df.drop('Timestamp', axis = 1)"
   ]
  },
  {
   "cell_type": "code",
   "execution_count": 27,
   "metadata": {},
   "outputs": [],
   "source": [
    "#reviews_df = initial_df.drop_duplicates(subset=['UserID', 'ItemID','Timestamp'],inplace=True)\n",
    "#missings = new_df.isnull().sum()"
   ]
  },
  {
   "cell_type": "code",
   "execution_count": 28,
   "metadata": {},
   "outputs": [],
   "source": [
    "# initial_df.shape\n",
    "# missings"
   ]
  },
  {
   "cell_type": "code",
   "execution_count": 29,
   "metadata": {},
   "outputs": [],
   "source": [
    "#new_df.head(10).T"
   ]
  },
  {
   "cell_type": "code",
   "execution_count": null,
   "metadata": {},
   "outputs": [],
   "source": []
  },
  {
   "cell_type": "code",
   "execution_count": 17,
   "metadata": {},
   "outputs": [],
   "source": [
    "# Reading meta_Clothing_Shoes_and_Jewelry data into   EC2 console\n",
    "import json\n",
    "import ast \n",
    "records = []\n",
    "count = 1\n",
    "for line in smart_open('s3://santhoshi-sparkle/amazon-data/meta_Clothing_Shoes_and_Jewelry.json'):\n",
    "    mydict = ast.literal_eval(line.decode(\"utf-8\"))\n",
    "    count = count + 1\n",
    "    records.append(mydict)\n",
    "    if count > 1000000:\n",
    "        break\n",
    " "
   ]
  },
  {
   "cell_type": "code",
   "execution_count": 20,
   "metadata": {},
   "outputs": [],
   "source": [
    "#records"
   ]
  },
  {
   "cell_type": "code",
   "execution_count": 18,
   "metadata": {},
   "outputs": [],
   "source": [
    "# Converting list of dictionaries to dataframe\n",
    "meta_Clothing_Shoes_and_Jewelry_df = pd.DataFrame(records)"
   ]
  },
  {
   "cell_type": "code",
   "execution_count": 19,
   "metadata": {},
   "outputs": [
    {
     "data": {
      "text/html": [
       "<div>\n",
       "<style scoped>\n",
       "    .dataframe tbody tr th:only-of-type {\n",
       "        vertical-align: middle;\n",
       "    }\n",
       "\n",
       "    .dataframe tbody tr th {\n",
       "        vertical-align: top;\n",
       "    }\n",
       "\n",
       "    .dataframe thead th {\n",
       "        text-align: right;\n",
       "    }\n",
       "</style>\n",
       "<table border=\"1\" class=\"dataframe\">\n",
       "  <thead>\n",
       "    <tr style=\"text-align: right;\">\n",
       "      <th></th>\n",
       "      <th>0</th>\n",
       "      <th>1</th>\n",
       "      <th>2</th>\n",
       "      <th>3</th>\n",
       "      <th>4</th>\n",
       "    </tr>\n",
       "  </thead>\n",
       "  <tbody>\n",
       "    <tr>\n",
       "      <th>asin</th>\n",
       "      <td>0000037214</td>\n",
       "      <td>0000031887</td>\n",
       "      <td>0123456479</td>\n",
       "      <td>0456844570</td>\n",
       "      <td>0456808574</td>\n",
       "    </tr>\n",
       "    <tr>\n",
       "      <th>brand</th>\n",
       "      <td>Big Dreams</td>\n",
       "      <td>Boutique Cutie</td>\n",
       "      <td>NaN</td>\n",
       "      <td>NaN</td>\n",
       "      <td>NaN</td>\n",
       "    </tr>\n",
       "    <tr>\n",
       "      <th>categories</th>\n",
       "      <td>[[Clothing, Shoes &amp; Jewelry, Girls], [Clothing...</td>\n",
       "      <td>[[Clothing, Shoes &amp; Jewelry, Girls, Clothing, ...</td>\n",
       "      <td>[[Clothing, Shoes &amp; Jewelry, Novelty, Costumes...</td>\n",
       "      <td>[[Clothing, Shoes &amp; Jewelry, Women, Accessorie...</td>\n",
       "      <td>[[Clothing, Shoes &amp; Jewelry, Women, Accessorie...</td>\n",
       "    </tr>\n",
       "    <tr>\n",
       "      <th>description</th>\n",
       "      <td>NaN</td>\n",
       "      <td>This adorable basic ballerina tutu is perfect ...</td>\n",
       "      <td>Elegance par excellence. Hand-crafted of the f...</td>\n",
       "      <td>NaN</td>\n",
       "      <td>NaN</td>\n",
       "    </tr>\n",
       "    <tr>\n",
       "      <th>imUrl</th>\n",
       "      <td>http://ecx.images-amazon.com/images/I/31mCncNu...</td>\n",
       "      <td>http://ecx.images-amazon.com/images/I/314qZjYe...</td>\n",
       "      <td>http://ecx.images-amazon.com/images/I/413tGhqo...</td>\n",
       "      <td>http://ecx.images-amazon.com/images/I/31QZTHxv...</td>\n",
       "      <td>http://ecx.images-amazon.com/images/I/31UsrgT5...</td>\n",
       "    </tr>\n",
       "    <tr>\n",
       "      <th>price</th>\n",
       "      <td>6.99</td>\n",
       "      <td>6.79</td>\n",
       "      <td>64.98</td>\n",
       "      <td>NaN</td>\n",
       "      <td>NaN</td>\n",
       "    </tr>\n",
       "    <tr>\n",
       "      <th>related</th>\n",
       "      <td>{'also_viewed': ['B00JO8II76', 'B00DGN4R1Q', '...</td>\n",
       "      <td>{'also_bought': ['0000031852', '0000031895', '...</td>\n",
       "      <td>{'also_bought': ['B000BMTCK6', 'B0006JCGUM', '...</td>\n",
       "      <td>{'also_viewed': ['B008MTRT1O', 'B00BUG47S4', '...</td>\n",
       "      <td>{'also_viewed': ['B00A6JD8EA', 'B00BFL4FTA', '...</td>\n",
       "    </tr>\n",
       "    <tr>\n",
       "      <th>salesRank</th>\n",
       "      <td>{'Clothing': 1233557}</td>\n",
       "      <td>{'Sports &amp;amp; Outdoors': 8547}</td>\n",
       "      <td>{'Kitchen &amp; Dining': 16987}</td>\n",
       "      <td>{'Clothing': 1180499}</td>\n",
       "      <td>{'Clothing': 1038084}</td>\n",
       "    </tr>\n",
       "    <tr>\n",
       "      <th>title</th>\n",
       "      <td>Purple Sequin Tiny Dancer Tutu Ballet Dance Fa...</td>\n",
       "      <td>Ballet Dress-Up Fairy Tutu</td>\n",
       "      <td>SHINING IMAGE HUGE PINK LEATHER JEWELRY BOX / ...</td>\n",
       "      <td>RiZ Women's Beautify Crafted &amp;frac12; Rimmed F...</td>\n",
       "      <td>Lantin White Visor Wrap Around Ski Style Aviat...</td>\n",
       "    </tr>\n",
       "  </tbody>\n",
       "</table>\n",
       "</div>"
      ],
      "text/plain": [
       "                                                             0  \\\n",
       "asin                                                0000037214   \n",
       "brand                                               Big Dreams   \n",
       "categories   [[Clothing, Shoes & Jewelry, Girls], [Clothing...   \n",
       "description                                                NaN   \n",
       "imUrl        http://ecx.images-amazon.com/images/I/31mCncNu...   \n",
       "price                                                     6.99   \n",
       "related      {'also_viewed': ['B00JO8II76', 'B00DGN4R1Q', '...   \n",
       "salesRank                                {'Clothing': 1233557}   \n",
       "title        Purple Sequin Tiny Dancer Tutu Ballet Dance Fa...   \n",
       "\n",
       "                                                             1  \\\n",
       "asin                                                0000031887   \n",
       "brand                                           Boutique Cutie   \n",
       "categories   [[Clothing, Shoes & Jewelry, Girls, Clothing, ...   \n",
       "description  This adorable basic ballerina tutu is perfect ...   \n",
       "imUrl        http://ecx.images-amazon.com/images/I/314qZjYe...   \n",
       "price                                                     6.79   \n",
       "related      {'also_bought': ['0000031852', '0000031895', '...   \n",
       "salesRank                      {'Sports &amp; Outdoors': 8547}   \n",
       "title                               Ballet Dress-Up Fairy Tutu   \n",
       "\n",
       "                                                             2  \\\n",
       "asin                                                0123456479   \n",
       "brand                                                      NaN   \n",
       "categories   [[Clothing, Shoes & Jewelry, Novelty, Costumes...   \n",
       "description  Elegance par excellence. Hand-crafted of the f...   \n",
       "imUrl        http://ecx.images-amazon.com/images/I/413tGhqo...   \n",
       "price                                                    64.98   \n",
       "related      {'also_bought': ['B000BMTCK6', 'B0006JCGUM', '...   \n",
       "salesRank                          {'Kitchen & Dining': 16987}   \n",
       "title        SHINING IMAGE HUGE PINK LEATHER JEWELRY BOX / ...   \n",
       "\n",
       "                                                             3  \\\n",
       "asin                                                0456844570   \n",
       "brand                                                      NaN   \n",
       "categories   [[Clothing, Shoes & Jewelry, Women, Accessorie...   \n",
       "description                                                NaN   \n",
       "imUrl        http://ecx.images-amazon.com/images/I/31QZTHxv...   \n",
       "price                                                      NaN   \n",
       "related      {'also_viewed': ['B008MTRT1O', 'B00BUG47S4', '...   \n",
       "salesRank                                {'Clothing': 1180499}   \n",
       "title        RiZ Women's Beautify Crafted &frac12; Rimmed F...   \n",
       "\n",
       "                                                             4  \n",
       "asin                                                0456808574  \n",
       "brand                                                      NaN  \n",
       "categories   [[Clothing, Shoes & Jewelry, Women, Accessorie...  \n",
       "description                                                NaN  \n",
       "imUrl        http://ecx.images-amazon.com/images/I/31UsrgT5...  \n",
       "price                                                      NaN  \n",
       "related      {'also_viewed': ['B00A6JD8EA', 'B00BFL4FTA', '...  \n",
       "salesRank                                {'Clothing': 1038084}  \n",
       "title        Lantin White Visor Wrap Around Ski Style Aviat...  "
      ]
     },
     "execution_count": 19,
     "metadata": {},
     "output_type": "execute_result"
    }
   ],
   "source": [
    "meta_Clothing_Shoes_and_Jewelry_df.head(5).T"
   ]
  },
  {
   "cell_type": "code",
   "execution_count": 20,
   "metadata": {},
   "outputs": [
    {
     "data": {
      "text/plain": [
       "(1000000, 9)"
      ]
     },
     "execution_count": 20,
     "metadata": {},
     "output_type": "execute_result"
    }
   ],
   "source": [
    "meta_Clothing_Shoes_and_Jewelry_df.shape"
   ]
  },
  {
   "cell_type": "code",
   "execution_count": 21,
   "metadata": {},
   "outputs": [
    {
     "data": {
      "text/plain": [
       "{'ResponseMetadata': {'RequestId': 'F20FCDE75999264D',\n",
       "  'HostId': 'B4DfPTKLPkPY8BfeubbQK3Ywv9lTPzy6G7WUbZ9X0/ZTkBChAwPQb6qtAUWkKV87u3ubNNjPnW8=',\n",
       "  'HTTPStatusCode': 200,\n",
       "  'HTTPHeaders': {'x-amz-id-2': 'B4DfPTKLPkPY8BfeubbQK3Ywv9lTPzy6G7WUbZ9X0/ZTkBChAwPQb6qtAUWkKV87u3ubNNjPnW8=',\n",
       "   'x-amz-request-id': 'F20FCDE75999264D',\n",
       "   'date': 'Sat, 04 Aug 2018 18:02:09 GMT',\n",
       "   'etag': '\"63b8691ee8c3c9d7c6b4fcb2e4df4f94\"',\n",
       "   'content-length': '0',\n",
       "   'server': 'AmazonS3'},\n",
       "  'RetryAttempts': 0},\n",
       " 'ETag': '\"63b8691ee8c3c9d7c6b4fcb2e4df4f94\"'}"
      ]
     },
     "execution_count": 21,
     "metadata": {},
     "output_type": "execute_result"
    }
   ],
   "source": [
    "#Writing dataframes to csv and dump in S3 \n",
    "import boto3\n",
    "from io import StringIO\n",
    "\n",
    "csv_buffer = StringIO()\n",
    "meta_Clothing_Shoes_and_Jewelry_df.to_csv(csv_buffer)\n",
    "s3_resource = boto3.resource('s3')\n",
    "s3_resource.Object('santhoshi-sparkle', 'amazon-data/meta_Clothing_Shoes_and_Jewelry_df.csv').put(Body=csv_buffer.getvalue())"
   ]
  },
  {
   "cell_type": "code",
   "execution_count": 10,
   "metadata": {},
   "outputs": [],
   "source": [
    "# Reading csv from S3\n",
    "meta_Clothing_Shoes_and_Jewelry_df = pd.read_csv(smart_open('s3://santhoshi-sparkle/amazon-data/meta_Clothing_Shoes_and_Jewelry_df.csv'))"
   ]
  },
  {
   "cell_type": "code",
   "execution_count": 11,
   "metadata": {},
   "outputs": [
    {
     "name": "stdout",
     "output_type": "stream",
     "text": [
      "<class 'pandas.core.frame.DataFrame'>\n",
      "RangeIndex: 1000000 entries, 0 to 999999\n",
      "Data columns (total 10 columns):\n",
      "Unnamed: 0     1000000 non-null int64\n",
      "asin           1000000 non-null object\n",
      "brand          70961 non-null object\n",
      "categories     1000000 non-null object\n",
      "description    66255 non-null object\n",
      "imUrl          999923 non-null object\n",
      "price          344625 non-null float64\n",
      "related        622429 non-null object\n",
      "salesRank      941910 non-null object\n",
      "title          999396 non-null object\n",
      "dtypes: float64(1), int64(1), object(8)\n",
      "memory usage: 76.3+ MB\n"
     ]
    }
   ],
   "source": [
    "meta_Clothing_Shoes_and_Jewelry_df.info()"
   ]
  },
  {
   "cell_type": "code",
   "execution_count": 12,
   "metadata": {},
   "outputs": [],
   "source": [
    "#meta_reviews_df = meta_Clothing_Shoes_and_Jewelry_df.drop_duplicates(subset=['UserID', 'ItemID','Timestamp'],inplace=True)\n",
    "## We use meta data for Content-based filtering"
   ]
  },
  {
   "cell_type": "code",
   "execution_count": 13,
   "metadata": {},
   "outputs": [
    {
     "data": {
      "text/html": [
       "<div>\n",
       "<style scoped>\n",
       "    .dataframe tbody tr th:only-of-type {\n",
       "        vertical-align: middle;\n",
       "    }\n",
       "\n",
       "    .dataframe tbody tr th {\n",
       "        vertical-align: top;\n",
       "    }\n",
       "\n",
       "    .dataframe thead th {\n",
       "        text-align: right;\n",
       "    }\n",
       "</style>\n",
       "<table border=\"1\" class=\"dataframe\">\n",
       "  <thead>\n",
       "    <tr style=\"text-align: right;\">\n",
       "      <th></th>\n",
       "      <th>0</th>\n",
       "      <th>1</th>\n",
       "      <th>2</th>\n",
       "      <th>3</th>\n",
       "      <th>4</th>\n",
       "    </tr>\n",
       "  </thead>\n",
       "  <tbody>\n",
       "    <tr>\n",
       "      <th>Unnamed: 0</th>\n",
       "      <td>0</td>\n",
       "      <td>1</td>\n",
       "      <td>2</td>\n",
       "      <td>3</td>\n",
       "      <td>4</td>\n",
       "    </tr>\n",
       "    <tr>\n",
       "      <th>asin</th>\n",
       "      <td>0000037214</td>\n",
       "      <td>0000031887</td>\n",
       "      <td>0123456479</td>\n",
       "      <td>0456844570</td>\n",
       "      <td>0456808574</td>\n",
       "    </tr>\n",
       "    <tr>\n",
       "      <th>brand</th>\n",
       "      <td>Big Dreams</td>\n",
       "      <td>Boutique Cutie</td>\n",
       "      <td>NaN</td>\n",
       "      <td>NaN</td>\n",
       "      <td>NaN</td>\n",
       "    </tr>\n",
       "    <tr>\n",
       "      <th>categories</th>\n",
       "      <td>[['Clothing, Shoes &amp; Jewelry', 'Girls'], ['Clo...</td>\n",
       "      <td>[['Clothing, Shoes &amp; Jewelry', 'Girls', 'Cloth...</td>\n",
       "      <td>[['Clothing, Shoes &amp; Jewelry', 'Novelty, Costu...</td>\n",
       "      <td>[['Clothing, Shoes &amp; Jewelry', 'Women', 'Acces...</td>\n",
       "      <td>[['Clothing, Shoes &amp; Jewelry', 'Women', 'Acces...</td>\n",
       "    </tr>\n",
       "    <tr>\n",
       "      <th>description</th>\n",
       "      <td>NaN</td>\n",
       "      <td>This adorable basic ballerina tutu is perfect ...</td>\n",
       "      <td>Elegance par excellence. Hand-crafted of the f...</td>\n",
       "      <td>NaN</td>\n",
       "      <td>NaN</td>\n",
       "    </tr>\n",
       "    <tr>\n",
       "      <th>imUrl</th>\n",
       "      <td>http://ecx.images-amazon.com/images/I/31mCncNu...</td>\n",
       "      <td>http://ecx.images-amazon.com/images/I/314qZjYe...</td>\n",
       "      <td>http://ecx.images-amazon.com/images/I/413tGhqo...</td>\n",
       "      <td>http://ecx.images-amazon.com/images/I/31QZTHxv...</td>\n",
       "      <td>http://ecx.images-amazon.com/images/I/31UsrgT5...</td>\n",
       "    </tr>\n",
       "    <tr>\n",
       "      <th>price</th>\n",
       "      <td>6.99</td>\n",
       "      <td>6.79</td>\n",
       "      <td>64.98</td>\n",
       "      <td>NaN</td>\n",
       "      <td>NaN</td>\n",
       "    </tr>\n",
       "    <tr>\n",
       "      <th>related</th>\n",
       "      <td>{'also_viewed': ['B00JO8II76', 'B00DGN4R1Q', '...</td>\n",
       "      <td>{'also_bought': ['0000031852', '0000031895', '...</td>\n",
       "      <td>{'also_bought': ['B000BMTCK6', 'B0006JCGUM', '...</td>\n",
       "      <td>{'also_viewed': ['B008MTRT1O', 'B00BUG47S4', '...</td>\n",
       "      <td>{'also_viewed': ['B00A6JD8EA', 'B00BFL4FTA', '...</td>\n",
       "    </tr>\n",
       "    <tr>\n",
       "      <th>salesRank</th>\n",
       "      <td>{'Clothing': 1233557}</td>\n",
       "      <td>{'Sports &amp;amp; Outdoors': 8547}</td>\n",
       "      <td>{'Kitchen &amp; Dining': 16987}</td>\n",
       "      <td>{'Clothing': 1180499}</td>\n",
       "      <td>{'Clothing': 1038084}</td>\n",
       "    </tr>\n",
       "    <tr>\n",
       "      <th>title</th>\n",
       "      <td>Purple Sequin Tiny Dancer Tutu Ballet Dance Fa...</td>\n",
       "      <td>Ballet Dress-Up Fairy Tutu</td>\n",
       "      <td>SHINING IMAGE HUGE PINK LEATHER JEWELRY BOX / ...</td>\n",
       "      <td>RiZ Women's Beautify Crafted &amp;frac12; Rimmed F...</td>\n",
       "      <td>Lantin White Visor Wrap Around Ski Style Aviat...</td>\n",
       "    </tr>\n",
       "  </tbody>\n",
       "</table>\n",
       "</div>"
      ],
      "text/plain": [
       "                                                             0  \\\n",
       "Unnamed: 0                                                   0   \n",
       "asin                                                0000037214   \n",
       "brand                                               Big Dreams   \n",
       "categories   [['Clothing, Shoes & Jewelry', 'Girls'], ['Clo...   \n",
       "description                                                NaN   \n",
       "imUrl        http://ecx.images-amazon.com/images/I/31mCncNu...   \n",
       "price                                                     6.99   \n",
       "related      {'also_viewed': ['B00JO8II76', 'B00DGN4R1Q', '...   \n",
       "salesRank                                {'Clothing': 1233557}   \n",
       "title        Purple Sequin Tiny Dancer Tutu Ballet Dance Fa...   \n",
       "\n",
       "                                                             1  \\\n",
       "Unnamed: 0                                                   1   \n",
       "asin                                                0000031887   \n",
       "brand                                           Boutique Cutie   \n",
       "categories   [['Clothing, Shoes & Jewelry', 'Girls', 'Cloth...   \n",
       "description  This adorable basic ballerina tutu is perfect ...   \n",
       "imUrl        http://ecx.images-amazon.com/images/I/314qZjYe...   \n",
       "price                                                     6.79   \n",
       "related      {'also_bought': ['0000031852', '0000031895', '...   \n",
       "salesRank                      {'Sports &amp; Outdoors': 8547}   \n",
       "title                               Ballet Dress-Up Fairy Tutu   \n",
       "\n",
       "                                                             2  \\\n",
       "Unnamed: 0                                                   2   \n",
       "asin                                                0123456479   \n",
       "brand                                                      NaN   \n",
       "categories   [['Clothing, Shoes & Jewelry', 'Novelty, Costu...   \n",
       "description  Elegance par excellence. Hand-crafted of the f...   \n",
       "imUrl        http://ecx.images-amazon.com/images/I/413tGhqo...   \n",
       "price                                                    64.98   \n",
       "related      {'also_bought': ['B000BMTCK6', 'B0006JCGUM', '...   \n",
       "salesRank                          {'Kitchen & Dining': 16987}   \n",
       "title        SHINING IMAGE HUGE PINK LEATHER JEWELRY BOX / ...   \n",
       "\n",
       "                                                             3  \\\n",
       "Unnamed: 0                                                   3   \n",
       "asin                                                0456844570   \n",
       "brand                                                      NaN   \n",
       "categories   [['Clothing, Shoes & Jewelry', 'Women', 'Acces...   \n",
       "description                                                NaN   \n",
       "imUrl        http://ecx.images-amazon.com/images/I/31QZTHxv...   \n",
       "price                                                      NaN   \n",
       "related      {'also_viewed': ['B008MTRT1O', 'B00BUG47S4', '...   \n",
       "salesRank                                {'Clothing': 1180499}   \n",
       "title        RiZ Women's Beautify Crafted &frac12; Rimmed F...   \n",
       "\n",
       "                                                             4  \n",
       "Unnamed: 0                                                   4  \n",
       "asin                                                0456808574  \n",
       "brand                                                      NaN  \n",
       "categories   [['Clothing, Shoes & Jewelry', 'Women', 'Acces...  \n",
       "description                                                NaN  \n",
       "imUrl        http://ecx.images-amazon.com/images/I/31UsrgT5...  \n",
       "price                                                      NaN  \n",
       "related      {'also_viewed': ['B00A6JD8EA', 'B00BFL4FTA', '...  \n",
       "salesRank                                {'Clothing': 1038084}  \n",
       "title        Lantin White Visor Wrap Around Ski Style Aviat...  "
      ]
     },
     "execution_count": 13,
     "metadata": {},
     "output_type": "execute_result"
    }
   ],
   "source": [
    "meta_Clothing_Shoes_and_Jewelry_df.head(5).T"
   ]
  },
  {
   "cell_type": "code",
   "execution_count": null,
   "metadata": {},
   "outputs": [],
   "source": []
  },
  {
   "cell_type": "code",
   "execution_count": 7,
   "metadata": {},
   "outputs": [],
   "source": [
    "# Reading reviews_Clothing_Shoes_and_Jewelry data into   EC2 console\n",
    "import json\n",
    "import ast \n",
    "records1 = []\n",
    "count = 1\n",
    "for line in smart_open('s3://santhoshi-sparkle/amazon-data/reviews_Clothing_Shoes_and_Jewelry.json'):\n",
    "    mydict = ast.literal_eval(line.decode(\"utf-8\"))\n",
    "    count = count + 1\n",
    "    records1.append(mydict)\n",
    "    if count > 1000000:\n",
    "        break"
   ]
  },
  {
   "cell_type": "code",
   "execution_count": 25,
   "metadata": {},
   "outputs": [],
   "source": [
    "#records1"
   ]
  },
  {
   "cell_type": "code",
   "execution_count": 6,
   "metadata": {},
   "outputs": [
    {
     "ename": "NameError",
     "evalue": "name 'records1' is not defined",
     "output_type": "error",
     "traceback": [
      "\u001b[0;31m---------------------------------------------------------------------------\u001b[0m",
      "\u001b[0;31mNameError\u001b[0m                                 Traceback (most recent call last)",
      "\u001b[0;32m<ipython-input-6-fd36f3d2a5be>\u001b[0m in \u001b[0;36m<module>\u001b[0;34m()\u001b[0m\n\u001b[0;32m----> 1\u001b[0;31m \u001b[0mreviews_Clothing_Shoes_and_Jewelry_df\u001b[0m \u001b[0;34m=\u001b[0m \u001b[0mpd\u001b[0m\u001b[0;34m.\u001b[0m\u001b[0mDataFrame\u001b[0m\u001b[0;34m(\u001b[0m\u001b[0mrecords1\u001b[0m\u001b[0;34m)\u001b[0m\u001b[0;34m\u001b[0m\u001b[0m\n\u001b[0m",
      "\u001b[0;31mNameError\u001b[0m: name 'records1' is not defined"
     ]
    }
   ],
   "source": [
    "reviews_Clothing_Shoes_and_Jewelry_df = pd.DataFrame(records1)"
   ]
  },
  {
   "cell_type": "code",
   "execution_count": 37,
   "metadata": {},
   "outputs": [
    {
     "data": {
      "text/html": [
       "<div>\n",
       "<style scoped>\n",
       "    .dataframe tbody tr th:only-of-type {\n",
       "        vertical-align: middle;\n",
       "    }\n",
       "\n",
       "    .dataframe tbody tr th {\n",
       "        vertical-align: top;\n",
       "    }\n",
       "\n",
       "    .dataframe thead th {\n",
       "        text-align: right;\n",
       "    }\n",
       "</style>\n",
       "<table border=\"1\" class=\"dataframe\">\n",
       "  <thead>\n",
       "    <tr style=\"text-align: right;\">\n",
       "      <th></th>\n",
       "      <th>0</th>\n",
       "      <th>1</th>\n",
       "      <th>2</th>\n",
       "      <th>3</th>\n",
       "      <th>4</th>\n",
       "    </tr>\n",
       "  </thead>\n",
       "  <tbody>\n",
       "    <tr>\n",
       "      <th>asin</th>\n",
       "      <td>0000031887</td>\n",
       "      <td>0000031887</td>\n",
       "      <td>0000031887</td>\n",
       "      <td>0000031887</td>\n",
       "      <td>0000031887</td>\n",
       "    </tr>\n",
       "    <tr>\n",
       "      <th>helpful</th>\n",
       "      <td>[0, 0]</td>\n",
       "      <td>[1, 1]</td>\n",
       "      <td>[1, 1]</td>\n",
       "      <td>[0, 1]</td>\n",
       "      <td>[0, 0]</td>\n",
       "    </tr>\n",
       "    <tr>\n",
       "      <th>overall</th>\n",
       "      <td>5</td>\n",
       "      <td>4</td>\n",
       "      <td>2</td>\n",
       "      <td>1</td>\n",
       "      <td>4</td>\n",
       "    </tr>\n",
       "    <tr>\n",
       "      <th>reviewText</th>\n",
       "      <td>Perfect red tutu for the price. I baught it as...</td>\n",
       "      <td>This was a really cute tutu the only problem i...</td>\n",
       "      <td>the tutu color was very nice. the only issue w...</td>\n",
       "      <td>My 3-yr-old daughter received this as a gift f...</td>\n",
       "      <td>Bought it for my daughters first birthday whic...</td>\n",
       "    </tr>\n",
       "    <tr>\n",
       "      <th>reviewTime</th>\n",
       "      <td>11 4, 2013</td>\n",
       "      <td>05 26, 2012</td>\n",
       "      <td>02 17, 2013</td>\n",
       "      <td>03 21, 2013</td>\n",
       "      <td>01 23, 2014</td>\n",
       "    </tr>\n",
       "    <tr>\n",
       "      <th>reviewerID</th>\n",
       "      <td>A2XVJBSRI3SWDI</td>\n",
       "      <td>A2G0LNLN79Q6HR</td>\n",
       "      <td>A2R3K1KX09QBYP</td>\n",
       "      <td>A19PBP93OF896</td>\n",
       "      <td>A1P0IHU93EF9ZK</td>\n",
       "    </tr>\n",
       "    <tr>\n",
       "      <th>reviewerName</th>\n",
       "      <td>abigail</td>\n",
       "      <td>aj_18 \"Aj_18\"</td>\n",
       "      <td>alert consumer</td>\n",
       "      <td>Alinna Satake \"Can't Stop Eating\"</td>\n",
       "      <td>Amanda</td>\n",
       "    </tr>\n",
       "    <tr>\n",
       "      <th>summary</th>\n",
       "      <td>Nice tutu</td>\n",
       "      <td>Really Cute but rather short.</td>\n",
       "      <td>not very good material.</td>\n",
       "      <td>Tiny and Poorly Constructed!</td>\n",
       "      <td>i love it</td>\n",
       "    </tr>\n",
       "    <tr>\n",
       "      <th>unixReviewTime</th>\n",
       "      <td>1383523200</td>\n",
       "      <td>1337990400</td>\n",
       "      <td>1361059200</td>\n",
       "      <td>1363824000</td>\n",
       "      <td>1390435200</td>\n",
       "    </tr>\n",
       "  </tbody>\n",
       "</table>\n",
       "</div>"
      ],
      "text/plain": [
       "                                                                0  \\\n",
       "asin                                                   0000031887   \n",
       "helpful                                                    [0, 0]   \n",
       "overall                                                         5   \n",
       "reviewText      Perfect red tutu for the price. I baught it as...   \n",
       "reviewTime                                             11 4, 2013   \n",
       "reviewerID                                         A2XVJBSRI3SWDI   \n",
       "reviewerName                                              abigail   \n",
       "summary                                                 Nice tutu   \n",
       "unixReviewTime                                         1383523200   \n",
       "\n",
       "                                                                1  \\\n",
       "asin                                                   0000031887   \n",
       "helpful                                                    [1, 1]   \n",
       "overall                                                         4   \n",
       "reviewText      This was a really cute tutu the only problem i...   \n",
       "reviewTime                                            05 26, 2012   \n",
       "reviewerID                                         A2G0LNLN79Q6HR   \n",
       "reviewerName                                        aj_18 \"Aj_18\"   \n",
       "summary                             Really Cute but rather short.   \n",
       "unixReviewTime                                         1337990400   \n",
       "\n",
       "                                                                2  \\\n",
       "asin                                                   0000031887   \n",
       "helpful                                                    [1, 1]   \n",
       "overall                                                         2   \n",
       "reviewText      the tutu color was very nice. the only issue w...   \n",
       "reviewTime                                            02 17, 2013   \n",
       "reviewerID                                         A2R3K1KX09QBYP   \n",
       "reviewerName                                       alert consumer   \n",
       "summary                                   not very good material.   \n",
       "unixReviewTime                                         1361059200   \n",
       "\n",
       "                                                                3  \\\n",
       "asin                                                   0000031887   \n",
       "helpful                                                    [0, 1]   \n",
       "overall                                                         1   \n",
       "reviewText      My 3-yr-old daughter received this as a gift f...   \n",
       "reviewTime                                            03 21, 2013   \n",
       "reviewerID                                          A19PBP93OF896   \n",
       "reviewerName                    Alinna Satake \"Can't Stop Eating\"   \n",
       "summary                              Tiny and Poorly Constructed!   \n",
       "unixReviewTime                                         1363824000   \n",
       "\n",
       "                                                                4  \n",
       "asin                                                   0000031887  \n",
       "helpful                                                    [0, 0]  \n",
       "overall                                                         4  \n",
       "reviewText      Bought it for my daughters first birthday whic...  \n",
       "reviewTime                                            01 23, 2014  \n",
       "reviewerID                                         A1P0IHU93EF9ZK  \n",
       "reviewerName                                               Amanda  \n",
       "summary                                                 i love it  \n",
       "unixReviewTime                                         1390435200  "
      ]
     },
     "execution_count": 37,
     "metadata": {},
     "output_type": "execute_result"
    }
   ],
   "source": [
    "reviews_Clothing_Shoes_and_Jewelry_df.head(5).T"
   ]
  },
  {
   "cell_type": "code",
   "execution_count": 41,
   "metadata": {},
   "outputs": [
    {
     "data": {
      "text/plain": [
       "(1000000, 9)"
      ]
     },
     "execution_count": 41,
     "metadata": {},
     "output_type": "execute_result"
    }
   ],
   "source": [
    "reviews_Clothing_Shoes_and_Jewelry_df.shape"
   ]
  },
  {
   "cell_type": "code",
   "execution_count": 42,
   "metadata": {},
   "outputs": [
    {
     "data": {
      "text/plain": [
       "{'ResponseMetadata': {'RequestId': '22F6023C07B3221F',\n",
       "  'HostId': 'tF0b6QnF2jmJz/XnN5l4Kd7AOgThUH8Zgcz+rRs3TDwkaAdxRjHZRxGPp7SKXiAcYUPPNFm3rTA=',\n",
       "  'HTTPStatusCode': 200,\n",
       "  'HTTPHeaders': {'x-amz-id-2': 'tF0b6QnF2jmJz/XnN5l4Kd7AOgThUH8Zgcz+rRs3TDwkaAdxRjHZRxGPp7SKXiAcYUPPNFm3rTA=',\n",
       "   'x-amz-request-id': '22F6023C07B3221F',\n",
       "   'date': 'Sat, 04 Aug 2018 18:14:42 GMT',\n",
       "   'etag': '\"4cce81e697b6be2a3236b26284ae0360\"',\n",
       "   'content-length': '0',\n",
       "   'server': 'AmazonS3'},\n",
       "  'RetryAttempts': 0},\n",
       " 'ETag': '\"4cce81e697b6be2a3236b26284ae0360\"'}"
      ]
     },
     "execution_count": 42,
     "metadata": {},
     "output_type": "execute_result"
    }
   ],
   "source": [
    "#Writing dataframes to csv and dump in S3 \n",
    "import boto3\n",
    "from io import StringIO\n",
    "\n",
    "csv_buffer = StringIO()\n",
    "reviews_Clothing_Shoes_and_Jewelry_df.to_csv(csv_buffer)\n",
    "s3_resource = boto3.resource('s3')\n",
    "s3_resource.Object('santhoshi-sparkle', 'amazon-data/reviews_Clothing_Shoes_and_Jewelry_df.csv').put(Body=csv_buffer.getvalue())"
   ]
  },
  {
   "cell_type": "code",
   "execution_count": 27,
   "metadata": {},
   "outputs": [],
   "source": [
    "reviews_Clothing_Shoes_and_Jewelry_df = pd.read_csv(smart_open('s3://santhoshi-sparkle/amazon-data/reviews_Clothing_Shoes_and_Jewelry_df.csv'))"
   ]
  },
  {
   "cell_type": "code",
   "execution_count": 33,
   "metadata": {},
   "outputs": [
    {
     "data": {
      "text/html": [
       "<div>\n",
       "<style scoped>\n",
       "    .dataframe tbody tr th:only-of-type {\n",
       "        vertical-align: middle;\n",
       "    }\n",
       "\n",
       "    .dataframe tbody tr th {\n",
       "        vertical-align: top;\n",
       "    }\n",
       "\n",
       "    .dataframe thead th {\n",
       "        text-align: right;\n",
       "    }\n",
       "</style>\n",
       "<table border=\"1\" class=\"dataframe\">\n",
       "  <thead>\n",
       "    <tr style=\"text-align: right;\">\n",
       "      <th></th>\n",
       "      <th>0</th>\n",
       "      <th>1</th>\n",
       "      <th>2</th>\n",
       "      <th>3</th>\n",
       "    </tr>\n",
       "  </thead>\n",
       "  <tbody>\n",
       "    <tr>\n",
       "      <th>asin</th>\n",
       "      <td>0000031887</td>\n",
       "      <td>0000031887</td>\n",
       "      <td>0000031887</td>\n",
       "      <td>0000031887</td>\n",
       "    </tr>\n",
       "    <tr>\n",
       "      <th>helpful</th>\n",
       "      <td>[0, 0]</td>\n",
       "      <td>[1, 1]</td>\n",
       "      <td>[1, 1]</td>\n",
       "      <td>[0, 1]</td>\n",
       "    </tr>\n",
       "    <tr>\n",
       "      <th>overall</th>\n",
       "      <td>5</td>\n",
       "      <td>4</td>\n",
       "      <td>2</td>\n",
       "      <td>1</td>\n",
       "    </tr>\n",
       "    <tr>\n",
       "      <th>reviewText</th>\n",
       "      <td>Perfect red tutu for the price. I baught it as...</td>\n",
       "      <td>This was a really cute tutu the only problem i...</td>\n",
       "      <td>the tutu color was very nice. the only issue w...</td>\n",
       "      <td>My 3-yr-old daughter received this as a gift f...</td>\n",
       "    </tr>\n",
       "    <tr>\n",
       "      <th>reviewTime</th>\n",
       "      <td>11 4, 2013</td>\n",
       "      <td>05 26, 2012</td>\n",
       "      <td>02 17, 2013</td>\n",
       "      <td>03 21, 2013</td>\n",
       "    </tr>\n",
       "    <tr>\n",
       "      <th>reviewerID</th>\n",
       "      <td>A2XVJBSRI3SWDI</td>\n",
       "      <td>A2G0LNLN79Q6HR</td>\n",
       "      <td>A2R3K1KX09QBYP</td>\n",
       "      <td>A19PBP93OF896</td>\n",
       "    </tr>\n",
       "    <tr>\n",
       "      <th>reviewerName</th>\n",
       "      <td>abigail</td>\n",
       "      <td>aj_18 \"Aj_18\"</td>\n",
       "      <td>alert consumer</td>\n",
       "      <td>Alinna Satake \"Can't Stop Eating\"</td>\n",
       "    </tr>\n",
       "    <tr>\n",
       "      <th>summary</th>\n",
       "      <td>Nice tutu</td>\n",
       "      <td>Really Cute but rather short.</td>\n",
       "      <td>not very good material.</td>\n",
       "      <td>Tiny and Poorly Constructed!</td>\n",
       "    </tr>\n",
       "    <tr>\n",
       "      <th>unixReviewTime</th>\n",
       "      <td>1383523200</td>\n",
       "      <td>1337990400</td>\n",
       "      <td>1361059200</td>\n",
       "      <td>1363824000</td>\n",
       "    </tr>\n",
       "  </tbody>\n",
       "</table>\n",
       "</div>"
      ],
      "text/plain": [
       "                                                                0  \\\n",
       "asin                                                   0000031887   \n",
       "helpful                                                    [0, 0]   \n",
       "overall                                                         5   \n",
       "reviewText      Perfect red tutu for the price. I baught it as...   \n",
       "reviewTime                                             11 4, 2013   \n",
       "reviewerID                                         A2XVJBSRI3SWDI   \n",
       "reviewerName                                              abigail   \n",
       "summary                                                 Nice tutu   \n",
       "unixReviewTime                                         1383523200   \n",
       "\n",
       "                                                                1  \\\n",
       "asin                                                   0000031887   \n",
       "helpful                                                    [1, 1]   \n",
       "overall                                                         4   \n",
       "reviewText      This was a really cute tutu the only problem i...   \n",
       "reviewTime                                            05 26, 2012   \n",
       "reviewerID                                         A2G0LNLN79Q6HR   \n",
       "reviewerName                                        aj_18 \"Aj_18\"   \n",
       "summary                             Really Cute but rather short.   \n",
       "unixReviewTime                                         1337990400   \n",
       "\n",
       "                                                                2  \\\n",
       "asin                                                   0000031887   \n",
       "helpful                                                    [1, 1]   \n",
       "overall                                                         2   \n",
       "reviewText      the tutu color was very nice. the only issue w...   \n",
       "reviewTime                                            02 17, 2013   \n",
       "reviewerID                                         A2R3K1KX09QBYP   \n",
       "reviewerName                                       alert consumer   \n",
       "summary                                   not very good material.   \n",
       "unixReviewTime                                         1361059200   \n",
       "\n",
       "                                                                3  \n",
       "asin                                                   0000031887  \n",
       "helpful                                                    [0, 1]  \n",
       "overall                                                         1  \n",
       "reviewText      My 3-yr-old daughter received this as a gift f...  \n",
       "reviewTime                                            03 21, 2013  \n",
       "reviewerID                                          A19PBP93OF896  \n",
       "reviewerName                    Alinna Satake \"Can't Stop Eating\"  \n",
       "summary                              Tiny and Poorly Constructed!  \n",
       "unixReviewTime                                         1363824000  "
      ]
     },
     "execution_count": 33,
     "metadata": {},
     "output_type": "execute_result"
    }
   ],
   "source": [
    "reviews_Clothing_Shoes_and_Jewelry_df.head(4).T"
   ]
  },
  {
   "cell_type": "code",
   "execution_count": 34,
   "metadata": {},
   "outputs": [],
   "source": [
    "reviews_Clothing_Shoes_and_Jewelry_df.drop_duplicates(subset=['asin', 'reviewerID','unixReviewTime'],inplace=True)\n"
   ]
  },
  {
   "cell_type": "code",
   "execution_count": 37,
   "metadata": {},
   "outputs": [
    {
     "data": {
      "text/plain": [
       "(1000000, 9)"
      ]
     },
     "execution_count": 37,
     "metadata": {},
     "output_type": "execute_result"
    }
   ],
   "source": [
    "reviews_Clothing_Shoes_and_Jewelry_df.shape"
   ]
  },
  {
   "cell_type": "code",
   "execution_count": 36,
   "metadata": {},
   "outputs": [
    {
     "ename": "ValueError",
     "evalue": "labels ['Unnamed: 0'] not contained in axis",
     "output_type": "error",
     "traceback": [
      "\u001b[0;31m-------------------------------------------------\u001b[0m",
      "\u001b[0;31mValueError\u001b[0m      Traceback (most recent call last)",
      "\u001b[0;32m<ipython-input-36-bd67d28395e2>\u001b[0m in \u001b[0;36m<module>\u001b[0;34m()\u001b[0m\n\u001b[0;32m----> 1\u001b[0;31m \u001b[0mreviews_Clothing_Shoes_and_Jewelry_df\u001b[0m\u001b[0;34m.\u001b[0m\u001b[0mdrop\u001b[0m\u001b[0;34m(\u001b[0m\u001b[0;34m'Unnamed: 0'\u001b[0m\u001b[0;34m,\u001b[0m \u001b[0maxis\u001b[0m \u001b[0;34m=\u001b[0m \u001b[0;36m1\u001b[0m\u001b[0;34m,\u001b[0m \u001b[0minplace\u001b[0m \u001b[0;34m=\u001b[0m \u001b[0;32mTrue\u001b[0m\u001b[0;34m)\u001b[0m\u001b[0;34m\u001b[0m\u001b[0m\n\u001b[0m",
      "\u001b[0;32m~/anaconda3/envs/python3/lib/python3.6/site-packages/pandas/core/generic.py\u001b[0m in \u001b[0;36mdrop\u001b[0;34m(self, labels, axis, index, columns, level, inplace, errors)\u001b[0m\n\u001b[1;32m   2528\u001b[0m         \u001b[0;32mfor\u001b[0m \u001b[0maxis\u001b[0m\u001b[0;34m,\u001b[0m \u001b[0mlabels\u001b[0m \u001b[0;32min\u001b[0m \u001b[0maxes\u001b[0m\u001b[0;34m.\u001b[0m\u001b[0mitems\u001b[0m\u001b[0;34m(\u001b[0m\u001b[0;34m)\u001b[0m\u001b[0;34m:\u001b[0m\u001b[0;34m\u001b[0m\u001b[0m\n\u001b[1;32m   2529\u001b[0m             \u001b[0;32mif\u001b[0m \u001b[0mlabels\u001b[0m \u001b[0;32mis\u001b[0m \u001b[0;32mnot\u001b[0m \u001b[0;32mNone\u001b[0m\u001b[0;34m:\u001b[0m\u001b[0;34m\u001b[0m\u001b[0m\n\u001b[0;32m-> 2530\u001b[0;31m                 \u001b[0mobj\u001b[0m \u001b[0;34m=\u001b[0m \u001b[0mobj\u001b[0m\u001b[0;34m.\u001b[0m\u001b[0m_drop_axis\u001b[0m\u001b[0;34m(\u001b[0m\u001b[0mlabels\u001b[0m\u001b[0;34m,\u001b[0m \u001b[0maxis\u001b[0m\u001b[0;34m,\u001b[0m \u001b[0mlevel\u001b[0m\u001b[0;34m=\u001b[0m\u001b[0mlevel\u001b[0m\u001b[0;34m,\u001b[0m \u001b[0merrors\u001b[0m\u001b[0;34m=\u001b[0m\u001b[0merrors\u001b[0m\u001b[0;34m)\u001b[0m\u001b[0;34m\u001b[0m\u001b[0m\n\u001b[0m\u001b[1;32m   2531\u001b[0m \u001b[0;34m\u001b[0m\u001b[0m\n\u001b[1;32m   2532\u001b[0m         \u001b[0;32mif\u001b[0m \u001b[0minplace\u001b[0m\u001b[0;34m:\u001b[0m\u001b[0;34m\u001b[0m\u001b[0m\n",
      "\u001b[0;32m~/anaconda3/envs/python3/lib/python3.6/site-packages/pandas/core/generic.py\u001b[0m in \u001b[0;36m_drop_axis\u001b[0;34m(self, labels, axis, level, errors)\u001b[0m\n\u001b[1;32m   2560\u001b[0m                 \u001b[0mnew_axis\u001b[0m \u001b[0;34m=\u001b[0m \u001b[0maxis\u001b[0m\u001b[0;34m.\u001b[0m\u001b[0mdrop\u001b[0m\u001b[0;34m(\u001b[0m\u001b[0mlabels\u001b[0m\u001b[0;34m,\u001b[0m \u001b[0mlevel\u001b[0m\u001b[0;34m=\u001b[0m\u001b[0mlevel\u001b[0m\u001b[0;34m,\u001b[0m \u001b[0merrors\u001b[0m\u001b[0;34m=\u001b[0m\u001b[0merrors\u001b[0m\u001b[0;34m)\u001b[0m\u001b[0;34m\u001b[0m\u001b[0m\n\u001b[1;32m   2561\u001b[0m             \u001b[0;32melse\u001b[0m\u001b[0;34m:\u001b[0m\u001b[0;34m\u001b[0m\u001b[0m\n\u001b[0;32m-> 2562\u001b[0;31m                 \u001b[0mnew_axis\u001b[0m \u001b[0;34m=\u001b[0m \u001b[0maxis\u001b[0m\u001b[0;34m.\u001b[0m\u001b[0mdrop\u001b[0m\u001b[0;34m(\u001b[0m\u001b[0mlabels\u001b[0m\u001b[0;34m,\u001b[0m \u001b[0merrors\u001b[0m\u001b[0;34m=\u001b[0m\u001b[0merrors\u001b[0m\u001b[0;34m)\u001b[0m\u001b[0;34m\u001b[0m\u001b[0m\n\u001b[0m\u001b[1;32m   2563\u001b[0m             \u001b[0mdropped\u001b[0m \u001b[0;34m=\u001b[0m \u001b[0mself\u001b[0m\u001b[0;34m.\u001b[0m\u001b[0mreindex\u001b[0m\u001b[0;34m(\u001b[0m\u001b[0;34m**\u001b[0m\u001b[0;34m{\u001b[0m\u001b[0maxis_name\u001b[0m\u001b[0;34m:\u001b[0m \u001b[0mnew_axis\u001b[0m\u001b[0;34m}\u001b[0m\u001b[0;34m)\u001b[0m\u001b[0;34m\u001b[0m\u001b[0m\n\u001b[1;32m   2564\u001b[0m             \u001b[0;32mtry\u001b[0m\u001b[0;34m:\u001b[0m\u001b[0;34m\u001b[0m\u001b[0m\n",
      "\u001b[0;32m~/anaconda3/envs/python3/lib/python3.6/site-packages/pandas/core/indexes/base.py\u001b[0m in \u001b[0;36mdrop\u001b[0;34m(self, labels, errors)\u001b[0m\n\u001b[1;32m   3742\u001b[0m             \u001b[0;32mif\u001b[0m \u001b[0merrors\u001b[0m \u001b[0;34m!=\u001b[0m \u001b[0;34m'ignore'\u001b[0m\u001b[0;34m:\u001b[0m\u001b[0;34m\u001b[0m\u001b[0m\n\u001b[1;32m   3743\u001b[0m                 raise ValueError('labels %s not contained in axis' %\n\u001b[0;32m-> 3744\u001b[0;31m                                  labels[mask])\n\u001b[0m\u001b[1;32m   3745\u001b[0m             \u001b[0mindexer\u001b[0m \u001b[0;34m=\u001b[0m \u001b[0mindexer\u001b[0m\u001b[0;34m[\u001b[0m\u001b[0;34m~\u001b[0m\u001b[0mmask\u001b[0m\u001b[0;34m]\u001b[0m\u001b[0;34m\u001b[0m\u001b[0m\n\u001b[1;32m   3746\u001b[0m         \u001b[0;32mreturn\u001b[0m \u001b[0mself\u001b[0m\u001b[0;34m.\u001b[0m\u001b[0mdelete\u001b[0m\u001b[0;34m(\u001b[0m\u001b[0mindexer\u001b[0m\u001b[0;34m)\u001b[0m\u001b[0;34m\u001b[0m\u001b[0m\n",
      "\u001b[0;31mValueError\u001b[0m: labels ['Unnamed: 0'] not contained in axis"
     ]
    }
   ],
   "source": [
    "reviews_Clothing_Shoes_and_Jewelry_df.drop('Unnamed: 0', axis = 1, inplace = True)"
   ]
  },
  {
   "cell_type": "code",
   "execution_count": 32,
   "metadata": {},
   "outputs": [],
   "source": [
    "new = pd.DataFrame(reviews_Clothing_Shoes_and_Jewelry_df.helpful.values.tolist())"
   ]
  },
  {
   "cell_type": "code",
   "execution_count": 15,
   "metadata": {},
   "outputs": [],
   "source": [
    "#reviews_Clothing_Shoes_and_Jewelry_df[['HelpfulN','HelpfulD']]"
   ]
  },
  {
   "cell_type": "code",
   "execution_count": 17,
   "metadata": {},
   "outputs": [
    {
     "data": {
      "text/plain": [
       "asin                 0\n",
       "helpful              0\n",
       "overall              0\n",
       "reviewText         177\n",
       "reviewTime           0\n",
       "reviewerID           0\n",
       "reviewerName      3378\n",
       "summary              5\n",
       "unixReviewTime       0\n",
       "dtype: int64"
      ]
     },
     "execution_count": 17,
     "metadata": {},
     "output_type": "execute_result"
    }
   ],
   "source": [
    "reviews_Clothing_Shoes_and_Jewelry_df.isnull().sum()"
   ]
  },
  {
   "cell_type": "code",
   "execution_count": 18,
   "metadata": {},
   "outputs": [],
   "source": [
    "#pd.DataFrame(reviews.helpful.values.tolist(), index = reviews.index)"
   ]
  },
  {
   "cell_type": "code",
   "execution_count": 14,
   "metadata": {},
   "outputs": [
    {
     "name": "stdout",
     "output_type": "stream",
     "text": [
      "Requirement already satisfied: sklearn in /home/ubuntu/anaconda3/envs/python3/lib/python3.6/site-packages (0.0)\n",
      "Requirement already satisfied: scikit-learn in /home/ubuntu/anaconda3/envs/python3/lib/python3.6/site-packages (from sklearn) (0.19.2)\n",
      "Requirement already satisfied: scipy in /home/ubuntu/anaconda3/envs/python3/lib/python3.6/site-packages (1.1.0)\n",
      "Requirement already satisfied: numpy>=1.8.2 in /home/ubuntu/anaconda3/envs/python3/lib/python3.6/site-packages (from scipy) (1.14.5)\n"
     ]
    }
   ],
   "source": [
    "# Split data into train and test\n",
    "!{sys.executable} -m pip install sklearn\n",
    "!{sys.executable} -m pip install scipy\n",
    "from sklearn.model_selection import train_test_split"
   ]
  },
  {
   "cell_type": "code",
   "execution_count": 20,
   "metadata": {},
   "outputs": [],
   "source": [
    "X = reviews_Clothing_Shoes_and_Jewelry_df[['reviewerID', 'asin']]\n",
    "y = reviews_Clothing_Shoes_and_Jewelry_df['overall']"
   ]
  },
  {
   "cell_type": "code",
   "execution_count": 16,
   "metadata": {},
   "outputs": [],
   "source": [
    "X_trainX_train, X_test, y_train, y_test = train_test_split(X, y, test_size=0.25)"
   ]
  },
  {
   "cell_type": "code",
   "execution_count": 16,
   "metadata": {},
   "outputs": [],
   "source": [
    "test_df = reviews_Clothing_Shoes_and_Jewelry_df.head(600)\n"
   ]
  },
  {
   "cell_type": "code",
   "execution_count": 17,
   "metadata": {},
   "outputs": [],
   "source": [
    "#R_df = test_df.pivot(index = 'reviewerID', columns ='asin', values = 'overall').fillna(0)\n",
    "R_df = test_df.pivot(index = 'reviewerID', columns ='asin', values = 'overall')"
   ]
  },
  {
   "cell_type": "code",
   "execution_count": 18,
   "metadata": {},
   "outputs": [],
   "source": [
    "R_df_new = R_df.fillna(R_df.mean())\n",
    "#R_df_new = R_df.fillna(0)"
   ]
  },
  {
   "cell_type": "code",
   "execution_count": 19,
   "metadata": {},
   "outputs": [
    {
     "data": {
      "text/html": [
       "<div>\n",
       "<style scoped>\n",
       "    .dataframe tbody tr th:only-of-type {\n",
       "        vertical-align: middle;\n",
       "    }\n",
       "\n",
       "    .dataframe tbody tr th {\n",
       "        vertical-align: top;\n",
       "    }\n",
       "\n",
       "    .dataframe thead th {\n",
       "        text-align: right;\n",
       "    }\n",
       "</style>\n",
       "<table border=\"1\" class=\"dataframe\">\n",
       "  <thead>\n",
       "    <tr style=\"text-align: right;\">\n",
       "      <th>asin</th>\n",
       "      <th>0000031887</th>\n",
       "      <th>0000037214</th>\n",
       "      <th>0123456479</th>\n",
       "      <th>0456787283</th>\n",
       "      <th>0456808574</th>\n",
       "      <th>0456830197</th>\n",
       "      <th>0456838384</th>\n",
       "      <th>0456840532</th>\n",
       "      <th>0456844570</th>\n",
       "      <th>0456856293</th>\n",
       "      <th>...</th>\n",
       "      <th>1608322130</th>\n",
       "      <th>1608322181</th>\n",
       "      <th>1608322262</th>\n",
       "      <th>1617160040</th>\n",
       "      <th>161716013X</th>\n",
       "      <th>1617160156</th>\n",
       "      <th>1617160199</th>\n",
       "      <th>1617160253</th>\n",
       "      <th>1617160318</th>\n",
       "      <th>1617160377</th>\n",
       "    </tr>\n",
       "    <tr>\n",
       "      <th>reviewerID</th>\n",
       "      <th></th>\n",
       "      <th></th>\n",
       "      <th></th>\n",
       "      <th></th>\n",
       "      <th></th>\n",
       "      <th></th>\n",
       "      <th></th>\n",
       "      <th></th>\n",
       "      <th></th>\n",
       "      <th></th>\n",
       "      <th></th>\n",
       "      <th></th>\n",
       "      <th></th>\n",
       "      <th></th>\n",
       "      <th></th>\n",
       "      <th></th>\n",
       "      <th></th>\n",
       "      <th></th>\n",
       "      <th></th>\n",
       "      <th></th>\n",
       "      <th></th>\n",
       "    </tr>\n",
       "  </thead>\n",
       "  <tbody>\n",
       "    <tr>\n",
       "      <th>A10J25J84YZG5L</th>\n",
       "      <td>4.224576</td>\n",
       "      <td>1.0</td>\n",
       "      <td>4.000000</td>\n",
       "      <td>1.0</td>\n",
       "      <td>5.0</td>\n",
       "      <td>2.0</td>\n",
       "      <td>5.0</td>\n",
       "      <td>1.0</td>\n",
       "      <td>4.0</td>\n",
       "      <td>5.0</td>\n",
       "      <td>...</td>\n",
       "      <td>3.666667</td>\n",
       "      <td>5.0</td>\n",
       "      <td>5.0</td>\n",
       "      <td>3.961538</td>\n",
       "      <td>4.0</td>\n",
       "      <td>4.857143</td>\n",
       "      <td>4.8</td>\n",
       "      <td>2.8</td>\n",
       "      <td>4.333333</td>\n",
       "      <td>4.238095</td>\n",
       "    </tr>\n",
       "    <tr>\n",
       "      <th>A11FP9FV8VTUID</th>\n",
       "      <td>4.224576</td>\n",
       "      <td>1.0</td>\n",
       "      <td>4.474359</td>\n",
       "      <td>1.0</td>\n",
       "      <td>5.0</td>\n",
       "      <td>2.0</td>\n",
       "      <td>5.0</td>\n",
       "      <td>1.0</td>\n",
       "      <td>4.0</td>\n",
       "      <td>5.0</td>\n",
       "      <td>...</td>\n",
       "      <td>3.666667</td>\n",
       "      <td>5.0</td>\n",
       "      <td>5.0</td>\n",
       "      <td>3.961538</td>\n",
       "      <td>4.0</td>\n",
       "      <td>4.857143</td>\n",
       "      <td>4.8</td>\n",
       "      <td>2.8</td>\n",
       "      <td>4.333333</td>\n",
       "      <td>4.238095</td>\n",
       "    </tr>\n",
       "    <tr>\n",
       "      <th>A11S1LDJ2DPWFA</th>\n",
       "      <td>4.224576</td>\n",
       "      <td>1.0</td>\n",
       "      <td>4.474359</td>\n",
       "      <td>1.0</td>\n",
       "      <td>5.0</td>\n",
       "      <td>2.0</td>\n",
       "      <td>5.0</td>\n",
       "      <td>1.0</td>\n",
       "      <td>4.0</td>\n",
       "      <td>5.0</td>\n",
       "      <td>...</td>\n",
       "      <td>3.666667</td>\n",
       "      <td>5.0</td>\n",
       "      <td>5.0</td>\n",
       "      <td>3.961538</td>\n",
       "      <td>4.0</td>\n",
       "      <td>4.857143</td>\n",
       "      <td>4.8</td>\n",
       "      <td>2.8</td>\n",
       "      <td>5.000000</td>\n",
       "      <td>4.238095</td>\n",
       "    </tr>\n",
       "    <tr>\n",
       "      <th>A11YX71I94TIJT</th>\n",
       "      <td>4.224576</td>\n",
       "      <td>1.0</td>\n",
       "      <td>4.474359</td>\n",
       "      <td>1.0</td>\n",
       "      <td>5.0</td>\n",
       "      <td>2.0</td>\n",
       "      <td>5.0</td>\n",
       "      <td>1.0</td>\n",
       "      <td>4.0</td>\n",
       "      <td>5.0</td>\n",
       "      <td>...</td>\n",
       "      <td>3.666667</td>\n",
       "      <td>5.0</td>\n",
       "      <td>5.0</td>\n",
       "      <td>3.961538</td>\n",
       "      <td>4.0</td>\n",
       "      <td>4.857143</td>\n",
       "      <td>4.8</td>\n",
       "      <td>2.8</td>\n",
       "      <td>4.333333</td>\n",
       "      <td>4.238095</td>\n",
       "    </tr>\n",
       "    <tr>\n",
       "      <th>A12GW7YBQG2ZBR</th>\n",
       "      <td>4.000000</td>\n",
       "      <td>1.0</td>\n",
       "      <td>4.474359</td>\n",
       "      <td>1.0</td>\n",
       "      <td>5.0</td>\n",
       "      <td>2.0</td>\n",
       "      <td>5.0</td>\n",
       "      <td>1.0</td>\n",
       "      <td>4.0</td>\n",
       "      <td>5.0</td>\n",
       "      <td>...</td>\n",
       "      <td>3.666667</td>\n",
       "      <td>5.0</td>\n",
       "      <td>5.0</td>\n",
       "      <td>3.961538</td>\n",
       "      <td>4.0</td>\n",
       "      <td>4.857143</td>\n",
       "      <td>4.8</td>\n",
       "      <td>2.8</td>\n",
       "      <td>4.333333</td>\n",
       "      <td>4.238095</td>\n",
       "    </tr>\n",
       "  </tbody>\n",
       "</table>\n",
       "<p>5 rows × 51 columns</p>\n",
       "</div>"
      ],
      "text/plain": [
       "asin            0000031887  0000037214  0123456479  0456787283  0456808574  \\\n",
       "reviewerID                                                                   \n",
       "A10J25J84YZG5L    4.224576         1.0    4.000000         1.0         5.0   \n",
       "A11FP9FV8VTUID    4.224576         1.0    4.474359         1.0         5.0   \n",
       "A11S1LDJ2DPWFA    4.224576         1.0    4.474359         1.0         5.0   \n",
       "A11YX71I94TIJT    4.224576         1.0    4.474359         1.0         5.0   \n",
       "A12GW7YBQG2ZBR    4.000000         1.0    4.474359         1.0         5.0   \n",
       "\n",
       "asin            0456830197  0456838384  0456840532  0456844570  0456856293  \\\n",
       "reviewerID                                                                   \n",
       "A10J25J84YZG5L         2.0         5.0         1.0         4.0         5.0   \n",
       "A11FP9FV8VTUID         2.0         5.0         1.0         4.0         5.0   \n",
       "A11S1LDJ2DPWFA         2.0         5.0         1.0         4.0         5.0   \n",
       "A11YX71I94TIJT         2.0         5.0         1.0         4.0         5.0   \n",
       "A12GW7YBQG2ZBR         2.0         5.0         1.0         4.0         5.0   \n",
       "\n",
       "asin               ...      1608322130  1608322181  1608322262  1617160040  \\\n",
       "reviewerID         ...                                                       \n",
       "A10J25J84YZG5L     ...        3.666667         5.0         5.0    3.961538   \n",
       "A11FP9FV8VTUID     ...        3.666667         5.0         5.0    3.961538   \n",
       "A11S1LDJ2DPWFA     ...        3.666667         5.0         5.0    3.961538   \n",
       "A11YX71I94TIJT     ...        3.666667         5.0         5.0    3.961538   \n",
       "A12GW7YBQG2ZBR     ...        3.666667         5.0         5.0    3.961538   \n",
       "\n",
       "asin            161716013X  1617160156  1617160199  1617160253  1617160318  \\\n",
       "reviewerID                                                                   \n",
       "A10J25J84YZG5L         4.0    4.857143         4.8         2.8    4.333333   \n",
       "A11FP9FV8VTUID         4.0    4.857143         4.8         2.8    4.333333   \n",
       "A11S1LDJ2DPWFA         4.0    4.857143         4.8         2.8    5.000000   \n",
       "A11YX71I94TIJT         4.0    4.857143         4.8         2.8    4.333333   \n",
       "A12GW7YBQG2ZBR         4.0    4.857143         4.8         2.8    4.333333   \n",
       "\n",
       "asin            1617160377  \n",
       "reviewerID                  \n",
       "A10J25J84YZG5L    4.238095  \n",
       "A11FP9FV8VTUID    4.238095  \n",
       "A11S1LDJ2DPWFA    4.238095  \n",
       "A11YX71I94TIJT    4.238095  \n",
       "A12GW7YBQG2ZBR    4.238095  \n",
       "\n",
       "[5 rows x 51 columns]"
      ]
     },
     "execution_count": 19,
     "metadata": {},
     "output_type": "execute_result"
    }
   ],
   "source": [
    "R_df_new.head(5)"
   ]
  },
  {
   "cell_type": "code",
   "execution_count": null,
   "metadata": {},
   "outputs": [],
   "source": []
  },
  {
   "cell_type": "code",
   "execution_count": 20,
   "metadata": {},
   "outputs": [],
   "source": [
    "R = R_df_new.as_matrix()\n",
    "user_ratings_mean = np.mean(R, axis = 1)\n",
    "R_demeaned = R - user_ratings_mean.reshape(-1, 1)\n",
    "\n",
    "#Obtain mean of columns as you need, nanmean is just convenient.\n",
    "#col_mean = np.nanmean(R, axis=0)\n",
    "#Find indicies that you need to replace\n",
    "\n",
    "#inds = np.where(np.isnan(R))\n",
    "#Place column means in the indices. Align the arrays using take\n",
    "#R[inds] = np.take(col_mean, inds[1])"
   ]
  },
  {
   "cell_type": "code",
   "execution_count": 24,
   "metadata": {},
   "outputs": [],
   "source": [
    "z = np.random.rand(4,3)"
   ]
  },
  {
   "cell_type": "code",
   "execution_count": 112,
   "metadata": {},
   "outputs": [
    {
     "data": {
      "text/plain": [
       "array([[0.84443627, 0.9035065 , 0.38674345],\n",
       "       [0.19710785, 0.74909423, 0.46425397],\n",
       "       [0.48221074, 0.31139127, 0.47243928],\n",
       "       [0.21360998, 0.80224328, 0.83300306]])"
      ]
     },
     "execution_count": 112,
     "metadata": {},
     "output_type": "execute_result"
    }
   ],
   "source": [
    "z"
   ]
  },
  {
   "cell_type": "code",
   "execution_count": 113,
   "metadata": {},
   "outputs": [
    {
     "data": {
      "text/plain": [
       "array([0.71156207, 0.47015202, 0.42201376, 0.61628544])"
      ]
     },
     "execution_count": 113,
     "metadata": {},
     "output_type": "execute_result"
    }
   ],
   "source": [
    "f = np.mean(z, axis = 1)\n",
    "f"
   ]
  },
  {
   "cell_type": "code",
   "execution_count": 114,
   "metadata": {},
   "outputs": [
    {
     "data": {
      "text/plain": [
       "array([[0.71156207],\n",
       "       [0.47015202],\n",
       "       [0.42201376],\n",
       "       [0.61628544]])"
      ]
     },
     "execution_count": 114,
     "metadata": {},
     "output_type": "execute_result"
    }
   ],
   "source": [
    "d = f.reshape(-1, 1)\n",
    "d"
   ]
  },
  {
   "cell_type": "code",
   "execution_count": 115,
   "metadata": {},
   "outputs": [
    {
     "data": {
      "text/plain": [
       "array([[ 0.13287419,  0.19194443, -0.32481862],\n",
       "       [-0.27304417,  0.27894222, -0.00589805],\n",
       "       [ 0.06019698, -0.11062249,  0.05042552],\n",
       "       [-0.40267546,  0.18595784,  0.21671762]])"
      ]
     },
     "execution_count": 115,
     "metadata": {},
     "output_type": "execute_result"
    }
   ],
   "source": [
    "z - d"
   ]
  },
  {
   "cell_type": "code",
   "execution_count": 91,
   "metadata": {},
   "outputs": [
    {
     "data": {
      "text/plain": [
       "array([[0., 0., 4., 0., 0., 0., 0., 0., 0., 0., 0., 0., 0., 0., 0., 0.,\n",
       "        0., 0., 0., 0., 0., 0., 0., 0., 0., 0., 0., 0., 0., 0., 0., 0.,\n",
       "        0., 0., 0., 0., 0., 0., 0., 0., 0., 0., 0., 0., 0., 0., 0., 0.,\n",
       "        0., 0., 0.],\n",
       "       [0., 0., 0., 0., 0., 0., 0., 0., 0., 0., 0., 0., 0., 0., 0., 0.,\n",
       "        0., 0., 0., 0., 0., 0., 0., 0., 0., 0., 0., 3., 0., 0., 0., 0.,\n",
       "        0., 0., 0., 0., 0., 0., 0., 0., 0., 0., 0., 0., 0., 0., 0., 0.,\n",
       "        0., 0., 0.]])"
      ]
     },
     "execution_count": 91,
     "metadata": {},
     "output_type": "execute_result"
    }
   ],
   "source": [
    "R_demeaned[0:2]\n"
   ]
  },
  {
   "cell_type": "code",
   "execution_count": 96,
   "metadata": {},
   "outputs": [
    {
     "data": {
      "text/plain": [
       "(595,)"
      ]
     },
     "execution_count": 96,
     "metadata": {},
     "output_type": "execute_result"
    }
   ],
   "source": [
    "user_ratings_mean.shape\n",
    "#user_ratings_mean.reshape(-1, 1)"
   ]
  },
  {
   "cell_type": "markdown",
   "metadata": {},
   "source": [
    "# SGD + Funk SVD Algorithm implementation"
   ]
  },
  {
   "cell_type": "code",
   "execution_count": 30,
   "metadata": {},
   "outputs": [],
   "source": [
    "R_a = np.array(R_demeaned)\n",
    "N = len(R_a)\n",
    "M = len(R_a[0])\n",
    "K = 50\n",
    "P = np.random.rand(N,K)\n",
    "Q = np.random.rand(M,K)\n"
   ]
  },
  {
   "cell_type": "code",
   "execution_count": 31,
   "metadata": {},
   "outputs": [],
   "source": [
    "def SGD_FunkSVD(R_a, P, Q, K, steps=50, alpha=0.0002, beta=0.02):\n",
    "    Q = Q.T\n",
    "#     def get_error(R_a, P, Q):\n",
    "#         # This calculates the MSE of nonzero elements\n",
    "#         return np.sum((R_a - np.dot(P, Q)) ** 2) / np.sum(len(R_a), len(R_a[0]))\n",
    "    \n",
    "    #MSE_List = []\n",
    "    for step in range(0, steps):\n",
    "        for i in range(0, len(R_a)):\n",
    "            for j in range(0, len(R_a[i])):\n",
    "                eij = R_a[i][j] - np.dot(P[i,:],Q[:,j])\n",
    "#                 eij = R_a[i][j] - (np.dot(P[i,:],Q[:,j]) + user_ratings_mean.reshape(-1, 1)[i])\n",
    "\n",
    "                for k in range(0, K):\n",
    "                    P[i][k] = P[i][k] + alpha * (2 * eij * Q[k][j] - beta * P[i][k])\n",
    "                    Q[k][j] = Q[k][j] + alpha * (2 * eij * P[i][k] - beta * Q[k][j])\n",
    "                    \n",
    "        eR = np.dot(P,Q)\n",
    "        #MSE_List.append(get_error(R_a, P, Q))\n",
    "        e = 0\n",
    "        for i in range(0, len(R_a)):\n",
    "            for j in range(0, len(R_a[i])):\n",
    "                if R_a[i][j] > 0:\n",
    "                    e = e + pow(R_a[i][j] - np.dot(P[i,:],Q[:,j]), 2)\n",
    "                    for k in range(0, K):\n",
    "                        e = e + (beta/2) * (pow(P[i][k],2) + pow(Q[k][j],2))\n",
    "            \n",
    "                        \n",
    "            if e < 0.001:\n",
    "                break\n",
    "    return P, Q.T "
   ]
  },
  {
   "cell_type": "code",
   "execution_count": 32,
   "metadata": {},
   "outputs": [],
   "source": [
    "nP, nQ = SGD_FunkSVD(R_a, P, Q, K)\n",
    "#nR = np.dot(nP, nQ.T) + user_ratings_mean.reshape(-1, 1)"
   ]
  },
  {
   "cell_type": "code",
   "execution_count": 33,
   "metadata": {},
   "outputs": [],
   "source": [
    "nR = np.dot(nP, nQ.T) + user_ratings_mean.reshape(-1, 1)\n",
    "#nR = np.dot(nP, nQ.T) "
   ]
  },
  {
   "cell_type": "code",
   "execution_count": 34,
   "metadata": {},
   "outputs": [],
   "source": [
    "preds_df = pd.DataFrame(nR, columns = R_df.columns)\n"
   ]
  },
  {
   "cell_type": "code",
   "execution_count": 35,
   "metadata": {},
   "outputs": [
    {
     "data": {
      "text/html": [
       "<div>\n",
       "<style scoped>\n",
       "    .dataframe tbody tr th:only-of-type {\n",
       "        vertical-align: middle;\n",
       "    }\n",
       "\n",
       "    .dataframe tbody tr th {\n",
       "        vertical-align: top;\n",
       "    }\n",
       "\n",
       "    .dataframe thead th {\n",
       "        text-align: right;\n",
       "    }\n",
       "</style>\n",
       "<table border=\"1\" class=\"dataframe\">\n",
       "  <thead>\n",
       "    <tr style=\"text-align: right;\">\n",
       "      <th>asin</th>\n",
       "      <th>0000031887</th>\n",
       "      <th>0000037214</th>\n",
       "      <th>0123456479</th>\n",
       "      <th>0456787283</th>\n",
       "      <th>0456808574</th>\n",
       "      <th>0456830197</th>\n",
       "      <th>0456838384</th>\n",
       "      <th>0456840532</th>\n",
       "      <th>0456844570</th>\n",
       "      <th>0456856293</th>\n",
       "      <th>...</th>\n",
       "      <th>1608322130</th>\n",
       "      <th>1608322181</th>\n",
       "      <th>1608322262</th>\n",
       "      <th>1617160040</th>\n",
       "      <th>161716013X</th>\n",
       "      <th>1617160156</th>\n",
       "      <th>1617160199</th>\n",
       "      <th>1617160253</th>\n",
       "      <th>1617160318</th>\n",
       "      <th>1617160377</th>\n",
       "    </tr>\n",
       "  </thead>\n",
       "  <tbody>\n",
       "    <tr>\n",
       "      <th>0</th>\n",
       "      <td>4.392271</td>\n",
       "      <td>1.229853</td>\n",
       "      <td>4.107475</td>\n",
       "      <td>1.482399</td>\n",
       "      <td>4.705907</td>\n",
       "      <td>2.315666</td>\n",
       "      <td>4.836090</td>\n",
       "      <td>1.363133</td>\n",
       "      <td>4.094656</td>\n",
       "      <td>5.013556</td>\n",
       "      <td>...</td>\n",
       "      <td>3.320387</td>\n",
       "      <td>4.921955</td>\n",
       "      <td>4.904655</td>\n",
       "      <td>3.854796</td>\n",
       "      <td>3.971733</td>\n",
       "      <td>4.523893</td>\n",
       "      <td>4.678905</td>\n",
       "      <td>2.861073</td>\n",
       "      <td>4.203588</td>\n",
       "      <td>4.303204</td>\n",
       "    </tr>\n",
       "    <tr>\n",
       "      <th>1</th>\n",
       "      <td>4.067402</td>\n",
       "      <td>1.631471</td>\n",
       "      <td>4.296202</td>\n",
       "      <td>1.715817</td>\n",
       "      <td>4.699795</td>\n",
       "      <td>2.207355</td>\n",
       "      <td>4.639769</td>\n",
       "      <td>1.569444</td>\n",
       "      <td>3.816111</td>\n",
       "      <td>4.766409</td>\n",
       "      <td>...</td>\n",
       "      <td>3.705592</td>\n",
       "      <td>5.053443</td>\n",
       "      <td>4.495874</td>\n",
       "      <td>3.763885</td>\n",
       "      <td>4.124265</td>\n",
       "      <td>4.430563</td>\n",
       "      <td>4.831900</td>\n",
       "      <td>3.368397</td>\n",
       "      <td>4.483153</td>\n",
       "      <td>4.256617</td>\n",
       "    </tr>\n",
       "    <tr>\n",
       "      <th>2</th>\n",
       "      <td>4.163244</td>\n",
       "      <td>1.746771</td>\n",
       "      <td>4.272362</td>\n",
       "      <td>1.749701</td>\n",
       "      <td>4.726538</td>\n",
       "      <td>2.765619</td>\n",
       "      <td>4.520932</td>\n",
       "      <td>1.554003</td>\n",
       "      <td>4.020823</td>\n",
       "      <td>4.583209</td>\n",
       "      <td>...</td>\n",
       "      <td>3.715548</td>\n",
       "      <td>4.741197</td>\n",
       "      <td>4.589357</td>\n",
       "      <td>3.958604</td>\n",
       "      <td>3.864372</td>\n",
       "      <td>4.967491</td>\n",
       "      <td>4.372222</td>\n",
       "      <td>3.258321</td>\n",
       "      <td>4.499325</td>\n",
       "      <td>4.236632</td>\n",
       "    </tr>\n",
       "    <tr>\n",
       "      <th>3</th>\n",
       "      <td>4.428516</td>\n",
       "      <td>1.131145</td>\n",
       "      <td>4.642932</td>\n",
       "      <td>1.441455</td>\n",
       "      <td>4.799120</td>\n",
       "      <td>1.976869</td>\n",
       "      <td>4.744449</td>\n",
       "      <td>1.252221</td>\n",
       "      <td>4.092729</td>\n",
       "      <td>5.028245</td>\n",
       "      <td>...</td>\n",
       "      <td>3.983213</td>\n",
       "      <td>4.907629</td>\n",
       "      <td>4.936525</td>\n",
       "      <td>3.585041</td>\n",
       "      <td>4.143010</td>\n",
       "      <td>4.624360</td>\n",
       "      <td>4.680160</td>\n",
       "      <td>2.555361</td>\n",
       "      <td>3.840905</td>\n",
       "      <td>3.803775</td>\n",
       "    </tr>\n",
       "    <tr>\n",
       "      <th>4</th>\n",
       "      <td>4.080000</td>\n",
       "      <td>1.227501</td>\n",
       "      <td>4.248124</td>\n",
       "      <td>1.359757</td>\n",
       "      <td>4.618620</td>\n",
       "      <td>2.533232</td>\n",
       "      <td>4.830255</td>\n",
       "      <td>1.350435</td>\n",
       "      <td>4.007771</td>\n",
       "      <td>5.006325</td>\n",
       "      <td>...</td>\n",
       "      <td>3.554543</td>\n",
       "      <td>4.981046</td>\n",
       "      <td>4.824050</td>\n",
       "      <td>4.049059</td>\n",
       "      <td>3.808378</td>\n",
       "      <td>4.875305</td>\n",
       "      <td>4.550065</td>\n",
       "      <td>3.031070</td>\n",
       "      <td>4.507839</td>\n",
       "      <td>4.159685</td>\n",
       "    </tr>\n",
       "  </tbody>\n",
       "</table>\n",
       "<p>5 rows × 51 columns</p>\n",
       "</div>"
      ],
      "text/plain": [
       "asin  0000031887  0000037214  0123456479  0456787283  0456808574  0456830197  \\\n",
       "0       4.392271    1.229853    4.107475    1.482399    4.705907    2.315666   \n",
       "1       4.067402    1.631471    4.296202    1.715817    4.699795    2.207355   \n",
       "2       4.163244    1.746771    4.272362    1.749701    4.726538    2.765619   \n",
       "3       4.428516    1.131145    4.642932    1.441455    4.799120    1.976869   \n",
       "4       4.080000    1.227501    4.248124    1.359757    4.618620    2.533232   \n",
       "\n",
       "asin  0456838384  0456840532  0456844570  0456856293     ...      1608322130  \\\n",
       "0       4.836090    1.363133    4.094656    5.013556     ...        3.320387   \n",
       "1       4.639769    1.569444    3.816111    4.766409     ...        3.705592   \n",
       "2       4.520932    1.554003    4.020823    4.583209     ...        3.715548   \n",
       "3       4.744449    1.252221    4.092729    5.028245     ...        3.983213   \n",
       "4       4.830255    1.350435    4.007771    5.006325     ...        3.554543   \n",
       "\n",
       "asin  1608322181  1608322262  1617160040  161716013X  1617160156  1617160199  \\\n",
       "0       4.921955    4.904655    3.854796    3.971733    4.523893    4.678905   \n",
       "1       5.053443    4.495874    3.763885    4.124265    4.430563    4.831900   \n",
       "2       4.741197    4.589357    3.958604    3.864372    4.967491    4.372222   \n",
       "3       4.907629    4.936525    3.585041    4.143010    4.624360    4.680160   \n",
       "4       4.981046    4.824050    4.049059    3.808378    4.875305    4.550065   \n",
       "\n",
       "asin  1617160253  1617160318  1617160377  \n",
       "0       2.861073    4.203588    4.303204  \n",
       "1       3.368397    4.483153    4.256617  \n",
       "2       3.258321    4.499325    4.236632  \n",
       "3       2.555361    3.840905    3.803775  \n",
       "4       3.031070    4.507839    4.159685  \n",
       "\n",
       "[5 rows x 51 columns]"
      ]
     },
     "execution_count": 35,
     "metadata": {},
     "output_type": "execute_result"
    }
   ],
   "source": [
    "preds_df.head(5)"
   ]
  },
  {
   "cell_type": "code",
   "execution_count": 14,
   "metadata": {},
   "outputs": [],
   "source": [
    "#preds_df.max()"
   ]
  },
  {
   "cell_type": "markdown",
   "metadata": {},
   "source": [
    "# ALS Algorithm Implementation"
   ]
  },
  {
   "cell_type": "code",
   "execution_count": 33,
   "metadata": {},
   "outputs": [],
   "source": [
    "## ALS Algorithm\n",
    "import matplotlib.pyplot as plt"
   ]
  },
  {
   "cell_type": "code",
   "execution_count": 44,
   "metadata": {},
   "outputs": [
    {
     "data": {
      "text/plain": [
       "array([[1.32035856, 2.15648234, 3.06213213],\n",
       "       [3.03008702, 4.63266262, 0.13444599]])"
      ]
     },
     "execution_count": 44,
     "metadata": {},
     "output_type": "execute_result"
    }
   ],
   "source": [
    "## ALS + SVD algorithm\n",
    "R_df_new = R_df.fillna(0)\n",
    "R = R_df_new.as_matrix()\n",
    "n = len(R)\n",
    "m = len(R[0])\n",
    "K = 3\n",
    "\n",
    "G = R>0.5\n",
    "G[G == True] = 1\n",
    "G[G == False] = 0\n",
    "G= G.astype(np.float64, copy=False)\n",
    "P = 5 * np.random.rand(n, K)\n",
    "Q = 5 * np.random.rand(K, m)\n"
   ]
  },
  {
   "cell_type": "code",
   "execution_count": 45,
   "metadata": {},
   "outputs": [],
   "source": [
    "# ALS algorithm\n",
    "\n",
    "def ALS(R, G, P, Q, K = 3, steps = 50, lambda_ = 0.1):\n",
    "\n",
    "\n",
    "    def get_error(R, P, Q, G):\n",
    "        # This calculates the MSE of nonzero elements\n",
    "        return np.sum((G * (R - np.dot(P, Q))) ** 2) / np.sum(G)\n",
    "\n",
    "    MSE_List = []\n",
    "\n",
    "\n",
    "    for iter in range(steps):\n",
    "        for i, Gi in enumerate(G):\n",
    "            P[i] = np.linalg.solve(np.dot(Q, np.dot(np.diag(Gi), Q.T)) + lambda_ * np.eye(K),\n",
    "                                       np.dot(Q, np.dot(np.diag(Gi), R[i].T))).T\n",
    "        \n",
    "\n",
    "        for j, Gj in enumerate(G.T):\n",
    "            Q[:,j] = np.linalg.solve(np.dot(P.T, np.dot(np.diag(Gj), P)) + lambda_ * np.eye(K),\n",
    "                                     np.dot(P.T, np.dot(np.diag(Gj), R[:, j])))\n",
    "        \n",
    "\n",
    "        MSE_List.append(get_error(R, P, Q, G))\n",
    "        \n",
    "    \n",
    "    print(MSE_List)\n",
    "    return P, Q"
   ]
  },
  {
   "cell_type": "code",
   "execution_count": 46,
   "metadata": {},
   "outputs": [
    {
     "name": "stdout",
     "output_type": "stream",
     "text": [
      "[0.018477125125370034, 0.009084275766462696, 0.0064737603294006026, 0.0050214813356207755, 0.004100286877711428, 0.0034681089606010897, 0.0030102596505141785, 0.0026652927770561777, 0.002397362977494973, 0.0021841918734417922, 0.002011232606786148, 0.0018686019193130466, 0.0017493616372016014, 0.001648505317321018, 0.0015623347302820116, 0.0014880621770506483, 0.0014235489091105765, 0.0013671284055312546, 0.001317484139296581, 0.0012735632514351387, 0.0012345144385861343, 0.0011996425079936, 0.0011683746207264327, 0.0011402348707394386, 0.0011148249009828523, 0.0010918089536311024, 0.001070902219397946, 0.0010518616707405229, 0.0010344787857323923, 0.00101857372563451, 0.0010039906406357664, 0.0009905938586962355, 0.0009782647711963025, 0.0009668992724795668, 0.0009564056427325201, 0.0009467027879987514, 0.0009377187696234524, 0.0009293895695871207, 0.0009216580491179355, 0.0009144730664677436, 0.0009077887263852036, 0.0009015637390552243, 0.0008957608704219228, 0.0008903464691169274, 0.000885290057860849, 0.000880563979336502, 0.0008761430882538613, 0.0008720044827266051, 0.0008681272692201032, 0.0008644923562662725]\n"
     ]
    },
    {
     "data": {
      "image/png": "[encoded data removed]",
      "text/plain": [
       "<Figure size 432x288 with 1 Axes>"
      ]
     },
     "metadata": {},
     "output_type": "display_data"
    }
   ],
   "source": [
    "U, V = ALS(R, G, P, Q, 3, 50, 0.1)"
   ]
  },
  {
   "cell_type": "code",
   "execution_count": 47,
   "metadata": {},
   "outputs": [],
   "source": [
    "R_result = np.dot(U, V)"
   ]
  },
  {
   "cell_type": "code",
   "execution_count": 48,
   "metadata": {},
   "outputs": [],
   "source": [
    "Als_preds_df = pd.DataFrame(R_result, columns = R_df.columns)"
   ]
  },
  {
   "cell_type": "code",
   "execution_count": 38,
   "metadata": {},
   "outputs": [],
   "source": [
    "#Als_preds_df.max()"
   ]
  },
  {
   "cell_type": "code",
   "execution_count": 37,
   "metadata": {},
   "outputs": [],
   "source": [
    "## Content - Based Filtering\n",
    "# We use meta data along with reviews data for content - based filtering"
   ]
  },
  {
   "cell_type": "code",
   "execution_count": 15,
   "metadata": {},
   "outputs": [],
   "source": [
    "meta_Clothing_Shoes_and_Jewelry_df.drop('Unnamed: 0', axis = 1, inplace = True)"
   ]
  },
  {
   "cell_type": "code",
   "execution_count": 16,
   "metadata": {},
   "outputs": [
    {
     "data": {
      "text/html": [
       "<div>\n",
       "<style scoped>\n",
       "    .dataframe tbody tr th:only-of-type {\n",
       "        vertical-align: middle;\n",
       "    }\n",
       "\n",
       "    .dataframe tbody tr th {\n",
       "        vertical-align: top;\n",
       "    }\n",
       "\n",
       "    .dataframe thead th {\n",
       "        text-align: right;\n",
       "    }\n",
       "</style>\n",
       "<table border=\"1\" class=\"dataframe\">\n",
       "  <thead>\n",
       "    <tr style=\"text-align: right;\">\n",
       "      <th></th>\n",
       "      <th>0</th>\n",
       "      <th>1</th>\n",
       "      <th>2</th>\n",
       "      <th>3</th>\n",
       "      <th>4</th>\n",
       "    </tr>\n",
       "  </thead>\n",
       "  <tbody>\n",
       "    <tr>\n",
       "      <th>asin</th>\n",
       "      <td>0000037214</td>\n",
       "      <td>0000031887</td>\n",
       "      <td>0123456479</td>\n",
       "      <td>0456844570</td>\n",
       "      <td>0456808574</td>\n",
       "    </tr>\n",
       "    <tr>\n",
       "      <th>brand</th>\n",
       "      <td>Big Dreams</td>\n",
       "      <td>Boutique Cutie</td>\n",
       "      <td>NaN</td>\n",
       "      <td>NaN</td>\n",
       "      <td>NaN</td>\n",
       "    </tr>\n",
       "    <tr>\n",
       "      <th>categories</th>\n",
       "      <td>[['Clothing, Shoes &amp; Jewelry', 'Girls'], ['Clo...</td>\n",
       "      <td>[['Clothing, Shoes &amp; Jewelry', 'Girls', 'Cloth...</td>\n",
       "      <td>[['Clothing, Shoes &amp; Jewelry', 'Novelty, Costu...</td>\n",
       "      <td>[['Clothing, Shoes &amp; Jewelry', 'Women', 'Acces...</td>\n",
       "      <td>[['Clothing, Shoes &amp; Jewelry', 'Women', 'Acces...</td>\n",
       "    </tr>\n",
       "    <tr>\n",
       "      <th>description</th>\n",
       "      <td>NaN</td>\n",
       "      <td>This adorable basic ballerina tutu is perfect ...</td>\n",
       "      <td>Elegance par excellence. Hand-crafted of the f...</td>\n",
       "      <td>NaN</td>\n",
       "      <td>NaN</td>\n",
       "    </tr>\n",
       "    <tr>\n",
       "      <th>imUrl</th>\n",
       "      <td>http://ecx.images-amazon.com/images/I/31mCncNu...</td>\n",
       "      <td>http://ecx.images-amazon.com/images/I/314qZjYe...</td>\n",
       "      <td>http://ecx.images-amazon.com/images/I/413tGhqo...</td>\n",
       "      <td>http://ecx.images-amazon.com/images/I/31QZTHxv...</td>\n",
       "      <td>http://ecx.images-amazon.com/images/I/31UsrgT5...</td>\n",
       "    </tr>\n",
       "    <tr>\n",
       "      <th>price</th>\n",
       "      <td>6.99</td>\n",
       "      <td>6.79</td>\n",
       "      <td>64.98</td>\n",
       "      <td>NaN</td>\n",
       "      <td>NaN</td>\n",
       "    </tr>\n",
       "    <tr>\n",
       "      <th>related</th>\n",
       "      <td>{'also_viewed': ['B00JO8II76', 'B00DGN4R1Q', '...</td>\n",
       "      <td>{'also_bought': ['0000031852', '0000031895', '...</td>\n",
       "      <td>{'also_bought': ['B000BMTCK6', 'B0006JCGUM', '...</td>\n",
       "      <td>{'also_viewed': ['B008MTRT1O', 'B00BUG47S4', '...</td>\n",
       "      <td>{'also_viewed': ['B00A6JD8EA', 'B00BFL4FTA', '...</td>\n",
       "    </tr>\n",
       "    <tr>\n",
       "      <th>salesRank</th>\n",
       "      <td>{'Clothing': 1233557}</td>\n",
       "      <td>{'Sports &amp;amp; Outdoors': 8547}</td>\n",
       "      <td>{'Kitchen &amp; Dining': 16987}</td>\n",
       "      <td>{'Clothing': 1180499}</td>\n",
       "      <td>{'Clothing': 1038084}</td>\n",
       "    </tr>\n",
       "    <tr>\n",
       "      <th>title</th>\n",
       "      <td>Purple Sequin Tiny Dancer Tutu Ballet Dance Fa...</td>\n",
       "      <td>Ballet Dress-Up Fairy Tutu</td>\n",
       "      <td>SHINING IMAGE HUGE PINK LEATHER JEWELRY BOX / ...</td>\n",
       "      <td>RiZ Women's Beautify Crafted &amp;frac12; Rimmed F...</td>\n",
       "      <td>Lantin White Visor Wrap Around Ski Style Aviat...</td>\n",
       "    </tr>\n",
       "  </tbody>\n",
       "</table>\n",
       "</div>"
      ],
      "text/plain": [
       "                                                             0  \\\n",
       "asin                                                0000037214   \n",
       "brand                                               Big Dreams   \n",
       "categories   [['Clothing, Shoes & Jewelry', 'Girls'], ['Clo...   \n",
       "description                                                NaN   \n",
       "imUrl        http://ecx.images-amazon.com/images/I/31mCncNu...   \n",
       "price                                                     6.99   \n",
       "related      {'also_viewed': ['B00JO8II76', 'B00DGN4R1Q', '...   \n",
       "salesRank                                {'Clothing': 1233557}   \n",
       "title        Purple Sequin Tiny Dancer Tutu Ballet Dance Fa...   \n",
       "\n",
       "                                                             1  \\\n",
       "asin                                                0000031887   \n",
       "brand                                           Boutique Cutie   \n",
       "categories   [['Clothing, Shoes & Jewelry', 'Girls', 'Cloth...   \n",
       "description  This adorable basic ballerina tutu is perfect ...   \n",
       "imUrl        http://ecx.images-amazon.com/images/I/314qZjYe...   \n",
       "price                                                     6.79   \n",
       "related      {'also_bought': ['0000031852', '0000031895', '...   \n",
       "salesRank                      {'Sports &amp; Outdoors': 8547}   \n",
       "title                               Ballet Dress-Up Fairy Tutu   \n",
       "\n",
       "                                                             2  \\\n",
       "asin                                                0123456479   \n",
       "brand                                                      NaN   \n",
       "categories   [['Clothing, Shoes & Jewelry', 'Novelty, Costu...   \n",
       "description  Elegance par excellence. Hand-crafted of the f...   \n",
       "imUrl        http://ecx.images-amazon.com/images/I/413tGhqo...   \n",
       "price                                                    64.98   \n",
       "related      {'also_bought': ['B000BMTCK6', 'B0006JCGUM', '...   \n",
       "salesRank                          {'Kitchen & Dining': 16987}   \n",
       "title        SHINING IMAGE HUGE PINK LEATHER JEWELRY BOX / ...   \n",
       "\n",
       "                                                             3  \\\n",
       "asin                                                0456844570   \n",
       "brand                                                      NaN   \n",
       "categories   [['Clothing, Shoes & Jewelry', 'Women', 'Acces...   \n",
       "description                                                NaN   \n",
       "imUrl        http://ecx.images-amazon.com/images/I/31QZTHxv...   \n",
       "price                                                      NaN   \n",
       "related      {'also_viewed': ['B008MTRT1O', 'B00BUG47S4', '...   \n",
       "salesRank                                {'Clothing': 1180499}   \n",
       "title        RiZ Women's Beautify Crafted &frac12; Rimmed F...   \n",
       "\n",
       "                                                             4  \n",
       "asin                                                0456808574  \n",
       "brand                                                      NaN  \n",
       "categories   [['Clothing, Shoes & Jewelry', 'Women', 'Acces...  \n",
       "description                                                NaN  \n",
       "imUrl        http://ecx.images-amazon.com/images/I/31UsrgT5...  \n",
       "price                                                      NaN  \n",
       "related      {'also_viewed': ['B00A6JD8EA', 'B00BFL4FTA', '...  \n",
       "salesRank                                {'Clothing': 1038084}  \n",
       "title        Lantin White Visor Wrap Around Ski Style Aviat...  "
      ]
     },
     "execution_count": 16,
     "metadata": {},
     "output_type": "execute_result"
    }
   ],
   "source": [
    "meta_Clothing_Shoes_and_Jewelry_df.head(5).T"
   ]
  },
  {
   "cell_type": "code",
   "execution_count": 17,
   "metadata": {},
   "outputs": [],
   "source": [
    "meta_Clothing_Shoes_and_Jewelry_df.drop_duplicates(subset=['asin'],inplace=True)\n"
   ]
  },
  {
   "cell_type": "code",
   "execution_count": 18,
   "metadata": {},
   "outputs": [
    {
     "data": {
      "text/plain": [
       "asin                0\n",
       "brand          929039\n",
       "categories          0\n",
       "description    933745\n",
       "imUrl              77\n",
       "price          655375\n",
       "related        377571\n",
       "salesRank       58090\n",
       "title             604\n",
       "dtype: int64"
      ]
     },
     "execution_count": 18,
     "metadata": {},
     "output_type": "execute_result"
    }
   ],
   "source": [
    "meta_Clothing_Shoes_and_Jewelry_df.isnull().sum()"
   ]
  },
  {
   "cell_type": "code",
   "execution_count": null,
   "metadata": {},
   "outputs": [],
   "source": []
  },
  {
   "cell_type": "code",
   "execution_count": 239,
   "metadata": {
    "scrolled": true
   },
   "outputs": [
    {
     "data": {
      "text/plain": [
       "0                                                     \n",
       "1    This adorable basic ballerina tutu is perfect ...\n",
       "2    Elegance par excellence. Hand-crafted of the f...\n",
       "3                                                     \n",
       "4                                                     \n",
       "Name: description, dtype: object"
      ]
     },
     "execution_count": 239,
     "metadata": {},
     "output_type": "execute_result"
    }
   ],
   "source": [
    "meta_Clothing_Shoes_and_Jewelry_df['description'].head(5)"
   ]
  },
  {
   "cell_type": "markdown",
   "metadata": {},
   "source": [
    "# Basic Content based Filtering model:"
   ]
  },
  {
   "cell_type": "code",
   "execution_count": 20,
   "metadata": {},
   "outputs": [
    {
     "name": "stdout",
     "output_type": "stream",
     "text": [
      "Requirement already satisfied: sklearn in /home/ubuntu/anaconda3/envs/python3/lib/python3.6/site-packages (0.0)\n",
      "Requirement already satisfied: scikit-learn in /home/ubuntu/anaconda3/envs/python3/lib/python3.6/site-packages (from sklearn) (0.19.2)\n",
      "Requirement already satisfied: scipy in /home/ubuntu/anaconda3/envs/python3/lib/python3.6/site-packages (1.1.0)\n",
      "Requirement already satisfied: numpy>=1.8.2 in /home/ubuntu/anaconda3/envs/python3/lib/python3.6/site-packages (from scipy) (1.14.5)\n"
     ]
    }
   ],
   "source": [
    "# Split data into train and test\n",
    "!{sys.executable} -m pip install sklearn\n",
    "!{sys.executable} -m pip install scipy\n",
    "from sklearn.model_selection import train_test_split"
   ]
  },
  {
   "cell_type": "code",
   "execution_count": 21,
   "metadata": {},
   "outputs": [
    {
     "name": "stdout",
     "output_type": "stream",
     "text": [
      "Requirement already satisfied: seaborn in /home/ubuntu/anaconda3/envs/python3/lib/python3.6/site-packages (0.9.0)\n",
      "Requirement already satisfied: numpy>=1.9.3 in /home/ubuntu/anaconda3/envs/python3/lib/python3.6/site-packages (from seaborn) (1.14.5)\n",
      "Requirement already satisfied: matplotlib>=1.4.3 in /home/ubuntu/anaconda3/envs/python3/lib/python3.6/site-packages (from seaborn) (2.2.2)\n",
      "Requirement already satisfied: scipy>=0.14.0 in /home/ubuntu/anaconda3/envs/python3/lib/python3.6/site-packages (from seaborn) (1.1.0)\n",
      "Requirement already satisfied: pandas>=0.15.2 in /home/ubuntu/anaconda3/envs/python3/lib/python3.6/site-packages (from seaborn) (0.22.0)\n",
      "Requirement already satisfied: pyparsing!=2.0.4,!=2.1.2,!=2.1.6,>=2.0.1 in /home/ubuntu/anaconda3/envs/python3/lib/python3.6/site-packages (from matplotlib>=1.4.3->seaborn) (2.2.0)\n",
      "Requirement already satisfied: pytz in /home/ubuntu/anaconda3/envs/python3/lib/python3.6/site-packages (from matplotlib>=1.4.3->seaborn) (2018.5)\n",
      "Requirement already satisfied: kiwisolver>=1.0.1 in /home/ubuntu/anaconda3/envs/python3/lib/python3.6/site-packages (from matplotlib>=1.4.3->seaborn) (1.0.1)\n",
      "Requirement already satisfied: six>=1.10 in /home/ubuntu/anaconda3/envs/python3/lib/python3.6/site-packages (from matplotlib>=1.4.3->seaborn) (1.11.0)\n",
      "Requirement already satisfied: python-dateutil>=2.1 in /home/ubuntu/anaconda3/envs/python3/lib/python3.6/site-packages (from matplotlib>=1.4.3->seaborn) (2.7.3)\n",
      "Requirement already satisfied: cycler>=0.10 in /home/ubuntu/anaconda3/envs/python3/lib/python3.6/site-packages (from matplotlib>=1.4.3->seaborn) (0.10.0)\n",
      "Requirement already satisfied: setuptools in /home/ubuntu/anaconda3/envs/python3/lib/python3.6/site-packages (from kiwisolver>=1.0.1->matplotlib>=1.4.3->seaborn) (39.2.0)\n",
      "Collecting ast\n",
      "  Using cached https://files.pythonhosted.org/packages/4b/fb/2b954d2a38c9a0ef1da6a46737a75b4dbf6f60e5dad0f267a4ec5ece20de/AST-0.0.2.tar.gz\n",
      "    Complete output from command python setup.py egg_info:\n",
      "    Traceback (most recent call last):\n",
      "      File \"<string>\", line 1, in <module>\n",
      "      File \"/tmp/pip-install-7i05guew/ast/setup.py\", line 6, in <module>\n",
      "        README = codecs.open(os.path.join(here, 'AST/README'), encoding='utf8').read()\n",
      "      File \"/home/ubuntu/anaconda3/envs/python3/lib/python3.6/codecs.py\", line 897, in open\n",
      "        file = builtins.open(filename, mode, buffering)\n",
      "    FileNotFoundError: [Errno 2] No such file or directory: '/tmp/pip-install-7i05guew/ast/AST/README'\n",
      "    \n",
      "    ----------------------------------------\n",
      "\u001b[31mCommand \"python setup.py egg_info\" failed with error code 1 in /tmp/pip-install-7i05guew/ast/\u001b[0m\n",
      "Requirement already satisfied: nltk in /home/ubuntu/anaconda3/envs/python3/lib/python3.6/site-packages (3.3)\n",
      "Requirement already satisfied: six in /home/ubuntu/anaconda3/envs/python3/lib/python3.6/site-packages (from nltk) (1.11.0)\n"
     ]
    }
   ],
   "source": [
    "!{sys.executable} -m pip install seaborn\n",
    "!{sys.executable} -m pip install ast\n",
    "!{sys.executable} -m pip install nltk"
   ]
  },
  {
   "cell_type": "code",
   "execution_count": 22,
   "metadata": {},
   "outputs": [],
   "source": [
    "import seaborn as sns\n",
    "from scipy import stats\n",
    "from ast import literal_eval\n",
    "from sklearn.feature_extraction.text import TfidfVectorizer, CountVectorizer\n",
    "from sklearn.metrics.pairwise import linear_kernel, cosine_similarity\n",
    "from nltk.stem.snowball import SnowballStemmer\n",
    "from nltk.stem.wordnet import WordNetLemmatizer\n",
    "from nltk.corpus import wordnet"
   ]
  },
  {
   "cell_type": "code",
   "execution_count": 23,
   "metadata": {},
   "outputs": [],
   "source": [
    "#Import TfIdfVectorizer from scikit-learn\n",
    "from sklearn.feature_extraction.text import TfidfVectorizer "
   ]
  },
  {
   "cell_type": "code",
   "execution_count": 24,
   "metadata": {},
   "outputs": [],
   "source": [
    "#reviews_Clothing_Shoes_and_Jewelry_df.drop_duplicates(subset=['asin', 'reviewerID','unixReviewTime'],inplace=True) "
   ]
  },
  {
   "cell_type": "code",
   "execution_count": 25,
   "metadata": {},
   "outputs": [
    {
     "data": {
      "text/html": [
       "<div>\n",
       "<style scoped>\n",
       "    .dataframe tbody tr th:only-of-type {\n",
       "        vertical-align: middle;\n",
       "    }\n",
       "\n",
       "    .dataframe tbody tr th {\n",
       "        vertical-align: top;\n",
       "    }\n",
       "\n",
       "    .dataframe thead th {\n",
       "        text-align: right;\n",
       "    }\n",
       "</style>\n",
       "<table border=\"1\" class=\"dataframe\">\n",
       "  <thead>\n",
       "    <tr style=\"text-align: right;\">\n",
       "      <th></th>\n",
       "      <th>0</th>\n",
       "      <th>1</th>\n",
       "      <th>2</th>\n",
       "      <th>3</th>\n",
       "      <th>4</th>\n",
       "    </tr>\n",
       "  </thead>\n",
       "  <tbody>\n",
       "    <tr>\n",
       "      <th>asin</th>\n",
       "      <td>0000037214</td>\n",
       "      <td>0000031887</td>\n",
       "      <td>0123456479</td>\n",
       "      <td>0456844570</td>\n",
       "      <td>0456808574</td>\n",
       "    </tr>\n",
       "    <tr>\n",
       "      <th>brand</th>\n",
       "      <td>Big Dreams</td>\n",
       "      <td>Boutique Cutie</td>\n",
       "      <td>NaN</td>\n",
       "      <td>NaN</td>\n",
       "      <td>NaN</td>\n",
       "    </tr>\n",
       "    <tr>\n",
       "      <th>categories</th>\n",
       "      <td>[['Clothing, Shoes &amp; Jewelry', 'Girls'], ['Clo...</td>\n",
       "      <td>[['Clothing, Shoes &amp; Jewelry', 'Girls', 'Cloth...</td>\n",
       "      <td>[['Clothing, Shoes &amp; Jewelry', 'Novelty, Costu...</td>\n",
       "      <td>[['Clothing, Shoes &amp; Jewelry', 'Women', 'Acces...</td>\n",
       "      <td>[['Clothing, Shoes &amp; Jewelry', 'Women', 'Acces...</td>\n",
       "    </tr>\n",
       "    <tr>\n",
       "      <th>description</th>\n",
       "      <td>NaN</td>\n",
       "      <td>This adorable basic ballerina tutu is perfect ...</td>\n",
       "      <td>Elegance par excellence. Hand-crafted of the f...</td>\n",
       "      <td>NaN</td>\n",
       "      <td>NaN</td>\n",
       "    </tr>\n",
       "    <tr>\n",
       "      <th>imUrl</th>\n",
       "      <td>http://ecx.images-amazon.com/images/I/31mCncNu...</td>\n",
       "      <td>http://ecx.images-amazon.com/images/I/314qZjYe...</td>\n",
       "      <td>http://ecx.images-amazon.com/images/I/413tGhqo...</td>\n",
       "      <td>http://ecx.images-amazon.com/images/I/31QZTHxv...</td>\n",
       "      <td>http://ecx.images-amazon.com/images/I/31UsrgT5...</td>\n",
       "    </tr>\n",
       "    <tr>\n",
       "      <th>price</th>\n",
       "      <td>6.99</td>\n",
       "      <td>6.79</td>\n",
       "      <td>64.98</td>\n",
       "      <td>NaN</td>\n",
       "      <td>NaN</td>\n",
       "    </tr>\n",
       "    <tr>\n",
       "      <th>related</th>\n",
       "      <td>{'also_viewed': ['B00JO8II76', 'B00DGN4R1Q', '...</td>\n",
       "      <td>{'also_bought': ['0000031852', '0000031895', '...</td>\n",
       "      <td>{'also_bought': ['B000BMTCK6', 'B0006JCGUM', '...</td>\n",
       "      <td>{'also_viewed': ['B008MTRT1O', 'B00BUG47S4', '...</td>\n",
       "      <td>{'also_viewed': ['B00A6JD8EA', 'B00BFL4FTA', '...</td>\n",
       "    </tr>\n",
       "    <tr>\n",
       "      <th>salesRank</th>\n",
       "      <td>{'Clothing': 1233557}</td>\n",
       "      <td>{'Sports &amp;amp; Outdoors': 8547}</td>\n",
       "      <td>{'Kitchen &amp; Dining': 16987}</td>\n",
       "      <td>{'Clothing': 1180499}</td>\n",
       "      <td>{'Clothing': 1038084}</td>\n",
       "    </tr>\n",
       "    <tr>\n",
       "      <th>title</th>\n",
       "      <td>Purple Sequin Tiny Dancer Tutu Ballet Dance Fa...</td>\n",
       "      <td>Ballet Dress-Up Fairy Tutu</td>\n",
       "      <td>SHINING IMAGE HUGE PINK LEATHER JEWELRY BOX / ...</td>\n",
       "      <td>RiZ Women's Beautify Crafted &amp;frac12; Rimmed F...</td>\n",
       "      <td>Lantin White Visor Wrap Around Ski Style Aviat...</td>\n",
       "    </tr>\n",
       "  </tbody>\n",
       "</table>\n",
       "</div>"
      ],
      "text/plain": [
       "                                                             0  \\\n",
       "asin                                                0000037214   \n",
       "brand                                               Big Dreams   \n",
       "categories   [['Clothing, Shoes & Jewelry', 'Girls'], ['Clo...   \n",
       "description                                                NaN   \n",
       "imUrl        http://ecx.images-amazon.com/images/I/31mCncNu...   \n",
       "price                                                     6.99   \n",
       "related      {'also_viewed': ['B00JO8II76', 'B00DGN4R1Q', '...   \n",
       "salesRank                                {'Clothing': 1233557}   \n",
       "title        Purple Sequin Tiny Dancer Tutu Ballet Dance Fa...   \n",
       "\n",
       "                                                             1  \\\n",
       "asin                                                0000031887   \n",
       "brand                                           Boutique Cutie   \n",
       "categories   [['Clothing, Shoes & Jewelry', 'Girls', 'Cloth...   \n",
       "description  This adorable basic ballerina tutu is perfect ...   \n",
       "imUrl        http://ecx.images-amazon.com/images/I/314qZjYe...   \n",
       "price                                                     6.79   \n",
       "related      {'also_bought': ['0000031852', '0000031895', '...   \n",
       "salesRank                      {'Sports &amp; Outdoors': 8547}   \n",
       "title                               Ballet Dress-Up Fairy Tutu   \n",
       "\n",
       "                                                             2  \\\n",
       "asin                                                0123456479   \n",
       "brand                                                      NaN   \n",
       "categories   [['Clothing, Shoes & Jewelry', 'Novelty, Costu...   \n",
       "description  Elegance par excellence. Hand-crafted of the f...   \n",
       "imUrl        http://ecx.images-amazon.com/images/I/413tGhqo...   \n",
       "price                                                    64.98   \n",
       "related      {'also_bought': ['B000BMTCK6', 'B0006JCGUM', '...   \n",
       "salesRank                          {'Kitchen & Dining': 16987}   \n",
       "title        SHINING IMAGE HUGE PINK LEATHER JEWELRY BOX / ...   \n",
       "\n",
       "                                                             3  \\\n",
       "asin                                                0456844570   \n",
       "brand                                                      NaN   \n",
       "categories   [['Clothing, Shoes & Jewelry', 'Women', 'Acces...   \n",
       "description                                                NaN   \n",
       "imUrl        http://ecx.images-amazon.com/images/I/31QZTHxv...   \n",
       "price                                                      NaN   \n",
       "related      {'also_viewed': ['B008MTRT1O', 'B00BUG47S4', '...   \n",
       "salesRank                                {'Clothing': 1180499}   \n",
       "title        RiZ Women's Beautify Crafted &frac12; Rimmed F...   \n",
       "\n",
       "                                                             4  \n",
       "asin                                                0456808574  \n",
       "brand                                                      NaN  \n",
       "categories   [['Clothing, Shoes & Jewelry', 'Women', 'Acces...  \n",
       "description                                                NaN  \n",
       "imUrl        http://ecx.images-amazon.com/images/I/31UsrgT5...  \n",
       "price                                                      NaN  \n",
       "related      {'also_viewed': ['B00A6JD8EA', 'B00BFL4FTA', '...  \n",
       "salesRank                                {'Clothing': 1038084}  \n",
       "title        Lantin White Visor Wrap Around Ski Style Aviat...  "
      ]
     },
     "execution_count": 25,
     "metadata": {},
     "output_type": "execute_result"
    }
   ],
   "source": [
    "meta_Clothing_Shoes_and_Jewelry_df.head(5).T"
   ]
  },
  {
   "cell_type": "code",
   "execution_count": null,
   "metadata": {},
   "outputs": [],
   "source": [
    "# Product description based recommender"
   ]
  },
  {
   "cell_type": "code",
   "execution_count": 26,
   "metadata": {},
   "outputs": [],
   "source": [
    "meta_Clothing_Shoes_and_Jewelry_df['description'] = meta_Clothing_Shoes_and_Jewelry_df['description'].fillna('')"
   ]
  },
  {
   "cell_type": "code",
   "execution_count": 27,
   "metadata": {},
   "outputs": [],
   "source": [
    "new_df = meta_Clothing_Shoes_and_Jewelry_df.head(600)"
   ]
  },
  {
   "cell_type": "code",
   "execution_count": 28,
   "metadata": {},
   "outputs": [
    {
     "data": {
      "text/plain": [
       "(600, 9)"
      ]
     },
     "execution_count": 28,
     "metadata": {},
     "output_type": "execute_result"
    }
   ],
   "source": [
    "new_df.shape"
   ]
  },
  {
   "cell_type": "code",
   "execution_count": 29,
   "metadata": {},
   "outputs": [
    {
     "data": {
      "text/html": [
       "<div>\n",
       "<style scoped>\n",
       "    .dataframe tbody tr th:only-of-type {\n",
       "        vertical-align: middle;\n",
       "    }\n",
       "\n",
       "    .dataframe tbody tr th {\n",
       "        vertical-align: top;\n",
       "    }\n",
       "\n",
       "    .dataframe thead th {\n",
       "        text-align: right;\n",
       "    }\n",
       "</style>\n",
       "<table border=\"1\" class=\"dataframe\">\n",
       "  <thead>\n",
       "    <tr style=\"text-align: right;\">\n",
       "      <th></th>\n",
       "      <th>asin</th>\n",
       "      <th>brand</th>\n",
       "      <th>categories</th>\n",
       "      <th>description</th>\n",
       "      <th>imUrl</th>\n",
       "      <th>price</th>\n",
       "      <th>related</th>\n",
       "      <th>salesRank</th>\n",
       "      <th>title</th>\n",
       "    </tr>\n",
       "  </thead>\n",
       "  <tbody>\n",
       "    <tr>\n",
       "      <th>0</th>\n",
       "      <td>0000037214</td>\n",
       "      <td>Big Dreams</td>\n",
       "      <td>[['Clothing, Shoes &amp; Jewelry', 'Girls'], ['Clo...</td>\n",
       "      <td></td>\n",
       "      <td>http://ecx.images-amazon.com/images/I/31mCncNu...</td>\n",
       "      <td>6.99</td>\n",
       "      <td>{'also_viewed': ['B00JO8II76', 'B00DGN4R1Q', '...</td>\n",
       "      <td>{'Clothing': 1233557}</td>\n",
       "      <td>Purple Sequin Tiny Dancer Tutu Ballet Dance Fa...</td>\n",
       "    </tr>\n",
       "    <tr>\n",
       "      <th>1</th>\n",
       "      <td>0000031887</td>\n",
       "      <td>Boutique Cutie</td>\n",
       "      <td>[['Clothing, Shoes &amp; Jewelry', 'Girls', 'Cloth...</td>\n",
       "      <td>This adorable basic ballerina tutu is perfect ...</td>\n",
       "      <td>http://ecx.images-amazon.com/images/I/314qZjYe...</td>\n",
       "      <td>6.79</td>\n",
       "      <td>{'also_bought': ['0000031852', '0000031895', '...</td>\n",
       "      <td>{'Sports &amp;amp; Outdoors': 8547}</td>\n",
       "      <td>Ballet Dress-Up Fairy Tutu</td>\n",
       "    </tr>\n",
       "    <tr>\n",
       "      <th>2</th>\n",
       "      <td>0123456479</td>\n",
       "      <td>NaN</td>\n",
       "      <td>[['Clothing, Shoes &amp; Jewelry', 'Novelty, Costu...</td>\n",
       "      <td>Elegance par excellence. Hand-crafted of the f...</td>\n",
       "      <td>http://ecx.images-amazon.com/images/I/413tGhqo...</td>\n",
       "      <td>64.98</td>\n",
       "      <td>{'also_bought': ['B000BMTCK6', 'B0006JCGUM', '...</td>\n",
       "      <td>{'Kitchen &amp; Dining': 16987}</td>\n",
       "      <td>SHINING IMAGE HUGE PINK LEATHER JEWELRY BOX / ...</td>\n",
       "    </tr>\n",
       "    <tr>\n",
       "      <th>3</th>\n",
       "      <td>0456844570</td>\n",
       "      <td>NaN</td>\n",
       "      <td>[['Clothing, Shoes &amp; Jewelry', 'Women', 'Acces...</td>\n",
       "      <td></td>\n",
       "      <td>http://ecx.images-amazon.com/images/I/31QZTHxv...</td>\n",
       "      <td>NaN</td>\n",
       "      <td>{'also_viewed': ['B008MTRT1O', 'B00BUG47S4', '...</td>\n",
       "      <td>{'Clothing': 1180499}</td>\n",
       "      <td>RiZ Women's Beautify Crafted &amp;frac12; Rimmed F...</td>\n",
       "    </tr>\n",
       "    <tr>\n",
       "      <th>4</th>\n",
       "      <td>0456808574</td>\n",
       "      <td>NaN</td>\n",
       "      <td>[['Clothing, Shoes &amp; Jewelry', 'Women', 'Acces...</td>\n",
       "      <td></td>\n",
       "      <td>http://ecx.images-amazon.com/images/I/31UsrgT5...</td>\n",
       "      <td>NaN</td>\n",
       "      <td>{'also_viewed': ['B00A6JD8EA', 'B00BFL4FTA', '...</td>\n",
       "      <td>{'Clothing': 1038084}</td>\n",
       "      <td>Lantin White Visor Wrap Around Ski Style Aviat...</td>\n",
       "    </tr>\n",
       "  </tbody>\n",
       "</table>\n",
       "</div>"
      ],
      "text/plain": [
       "         asin           brand  \\\n",
       "0  0000037214      Big Dreams   \n",
       "1  0000031887  Boutique Cutie   \n",
       "2  0123456479             NaN   \n",
       "3  0456844570             NaN   \n",
       "4  0456808574             NaN   \n",
       "\n",
       "                                          categories  \\\n",
       "0  [['Clothing, Shoes & Jewelry', 'Girls'], ['Clo...   \n",
       "1  [['Clothing, Shoes & Jewelry', 'Girls', 'Cloth...   \n",
       "2  [['Clothing, Shoes & Jewelry', 'Novelty, Costu...   \n",
       "3  [['Clothing, Shoes & Jewelry', 'Women', 'Acces...   \n",
       "4  [['Clothing, Shoes & Jewelry', 'Women', 'Acces...   \n",
       "\n",
       "                                         description  \\\n",
       "0                                                      \n",
       "1  This adorable basic ballerina tutu is perfect ...   \n",
       "2  Elegance par excellence. Hand-crafted of the f...   \n",
       "3                                                      \n",
       "4                                                      \n",
       "\n",
       "                                               imUrl  price  \\\n",
       "0  http://ecx.images-amazon.com/images/I/31mCncNu...   6.99   \n",
       "1  http://ecx.images-amazon.com/images/I/314qZjYe...   6.79   \n",
       "2  http://ecx.images-amazon.com/images/I/413tGhqo...  64.98   \n",
       "3  http://ecx.images-amazon.com/images/I/31QZTHxv...    NaN   \n",
       "4  http://ecx.images-amazon.com/images/I/31UsrgT5...    NaN   \n",
       "\n",
       "                                             related  \\\n",
       "0  {'also_viewed': ['B00JO8II76', 'B00DGN4R1Q', '...   \n",
       "1  {'also_bought': ['0000031852', '0000031895', '...   \n",
       "2  {'also_bought': ['B000BMTCK6', 'B0006JCGUM', '...   \n",
       "3  {'also_viewed': ['B008MTRT1O', 'B00BUG47S4', '...   \n",
       "4  {'also_viewed': ['B00A6JD8EA', 'B00BFL4FTA', '...   \n",
       "\n",
       "                         salesRank  \\\n",
       "0            {'Clothing': 1233557}   \n",
       "1  {'Sports &amp; Outdoors': 8547}   \n",
       "2      {'Kitchen & Dining': 16987}   \n",
       "3            {'Clothing': 1180499}   \n",
       "4            {'Clothing': 1038084}   \n",
       "\n",
       "                                               title  \n",
       "0  Purple Sequin Tiny Dancer Tutu Ballet Dance Fa...  \n",
       "1                         Ballet Dress-Up Fairy Tutu  \n",
       "2  SHINING IMAGE HUGE PINK LEATHER JEWELRY BOX / ...  \n",
       "3  RiZ Women's Beautify Crafted &frac12; Rimmed F...  \n",
       "4  Lantin White Visor Wrap Around Ski Style Aviat...  "
      ]
     },
     "execution_count": 29,
     "metadata": {},
     "output_type": "execute_result"
    }
   ],
   "source": [
    "new_df.head(5)"
   ]
  },
  {
   "cell_type": "code",
   "execution_count": 30,
   "metadata": {},
   "outputs": [],
   "source": [
    "#Define a TF-IDF Vectorizer Object. Remove all english stop words such as 'the', 'a'\n",
    "tf_idf = TfidfVectorizer(analyzer='word',ngram_range=(1, 2),min_df=0, stop_words='english')\n",
    "tfidf_matrix = tf_idf.fit_transform(new_df['description'])"
   ]
  },
  {
   "cell_type": "code",
   "execution_count": 31,
   "metadata": {},
   "outputs": [
    {
     "data": {
      "text/plain": [
       "(600, 10866)"
      ]
     },
     "execution_count": 31,
     "metadata": {},
     "output_type": "execute_result"
    }
   ],
   "source": [
    "tfidf_matrix.shape"
   ]
  },
  {
   "cell_type": "code",
   "execution_count": 32,
   "metadata": {},
   "outputs": [],
   "source": [
    "# Since we have used TF-IDF Vectorizer, calculating the Dot Product will directly give us the Cosine Similarity Score. \n",
    "#Therefore, we will use sklearn's linear_kernel instead of cosine_similarities since it is much faster."
   ]
  },
  {
   "cell_type": "code",
   "execution_count": 33,
   "metadata": {},
   "outputs": [],
   "source": [
    "cosine_similarity = linear_kernel(tfidf_matrix, tfidf_matrix)"
   ]
  },
  {
   "cell_type": "code",
   "execution_count": 34,
   "metadata": {},
   "outputs": [],
   "source": [
    "# We now have a pairwise cosine similarity matrix for all the products in our dataset. \n",
    "#The next step is to write a function that returns the 10 most similar products based on the cosine similarity score."
   ]
  },
  {
   "cell_type": "code",
   "execution_count": 35,
   "metadata": {},
   "outputs": [
    {
     "data": {
      "text/html": [
       "<div>\n",
       "<style scoped>\n",
       "    .dataframe tbody tr th:only-of-type {\n",
       "        vertical-align: middle;\n",
       "    }\n",
       "\n",
       "    .dataframe tbody tr th {\n",
       "        vertical-align: top;\n",
       "    }\n",
       "\n",
       "    .dataframe thead th {\n",
       "        text-align: right;\n",
       "    }\n",
       "</style>\n",
       "<table border=\"1\" class=\"dataframe\">\n",
       "  <thead>\n",
       "    <tr style=\"text-align: right;\">\n",
       "      <th></th>\n",
       "      <th>index</th>\n",
       "      <th>asin</th>\n",
       "      <th>brand</th>\n",
       "      <th>categories</th>\n",
       "      <th>description</th>\n",
       "      <th>imUrl</th>\n",
       "      <th>price</th>\n",
       "      <th>related</th>\n",
       "      <th>salesRank</th>\n",
       "      <th>title</th>\n",
       "    </tr>\n",
       "  </thead>\n",
       "  <tbody>\n",
       "    <tr>\n",
       "      <th>0</th>\n",
       "      <td>0</td>\n",
       "      <td>0000037214</td>\n",
       "      <td>Big Dreams</td>\n",
       "      <td>[['Clothing, Shoes &amp; Jewelry', 'Girls'], ['Clo...</td>\n",
       "      <td></td>\n",
       "      <td>http://ecx.images-amazon.com/images/I/31mCncNu...</td>\n",
       "      <td>6.99</td>\n",
       "      <td>{'also_viewed': ['B00JO8II76', 'B00DGN4R1Q', '...</td>\n",
       "      <td>{'Clothing': 1233557}</td>\n",
       "      <td>Purple Sequin Tiny Dancer Tutu Ballet Dance Fa...</td>\n",
       "    </tr>\n",
       "    <tr>\n",
       "      <th>1</th>\n",
       "      <td>1</td>\n",
       "      <td>0000031887</td>\n",
       "      <td>Boutique Cutie</td>\n",
       "      <td>[['Clothing, Shoes &amp; Jewelry', 'Girls', 'Cloth...</td>\n",
       "      <td>This adorable basic ballerina tutu is perfect ...</td>\n",
       "      <td>http://ecx.images-amazon.com/images/I/314qZjYe...</td>\n",
       "      <td>6.79</td>\n",
       "      <td>{'also_bought': ['0000031852', '0000031895', '...</td>\n",
       "      <td>{'Sports &amp;amp; Outdoors': 8547}</td>\n",
       "      <td>Ballet Dress-Up Fairy Tutu</td>\n",
       "    </tr>\n",
       "    <tr>\n",
       "      <th>2</th>\n",
       "      <td>2</td>\n",
       "      <td>0123456479</td>\n",
       "      <td>NaN</td>\n",
       "      <td>[['Clothing, Shoes &amp; Jewelry', 'Novelty, Costu...</td>\n",
       "      <td>Elegance par excellence. Hand-crafted of the f...</td>\n",
       "      <td>http://ecx.images-amazon.com/images/I/413tGhqo...</td>\n",
       "      <td>64.98</td>\n",
       "      <td>{'also_bought': ['B000BMTCK6', 'B0006JCGUM', '...</td>\n",
       "      <td>{'Kitchen &amp; Dining': 16987}</td>\n",
       "      <td>SHINING IMAGE HUGE PINK LEATHER JEWELRY BOX / ...</td>\n",
       "    </tr>\n",
       "    <tr>\n",
       "      <th>3</th>\n",
       "      <td>3</td>\n",
       "      <td>0456844570</td>\n",
       "      <td>NaN</td>\n",
       "      <td>[['Clothing, Shoes &amp; Jewelry', 'Women', 'Acces...</td>\n",
       "      <td></td>\n",
       "      <td>http://ecx.images-amazon.com/images/I/31QZTHxv...</td>\n",
       "      <td>NaN</td>\n",
       "      <td>{'also_viewed': ['B008MTRT1O', 'B00BUG47S4', '...</td>\n",
       "      <td>{'Clothing': 1180499}</td>\n",
       "      <td>RiZ Women's Beautify Crafted &amp;frac12; Rimmed F...</td>\n",
       "    </tr>\n",
       "    <tr>\n",
       "      <th>4</th>\n",
       "      <td>4</td>\n",
       "      <td>0456808574</td>\n",
       "      <td>NaN</td>\n",
       "      <td>[['Clothing, Shoes &amp; Jewelry', 'Women', 'Acces...</td>\n",
       "      <td></td>\n",
       "      <td>http://ecx.images-amazon.com/images/I/31UsrgT5...</td>\n",
       "      <td>NaN</td>\n",
       "      <td>{'also_viewed': ['B00A6JD8EA', 'B00BFL4FTA', '...</td>\n",
       "      <td>{'Clothing': 1038084}</td>\n",
       "      <td>Lantin White Visor Wrap Around Ski Style Aviat...</td>\n",
       "    </tr>\n",
       "  </tbody>\n",
       "</table>\n",
       "</div>"
      ],
      "text/plain": [
       "   index        asin           brand  \\\n",
       "0      0  0000037214      Big Dreams   \n",
       "1      1  0000031887  Boutique Cutie   \n",
       "2      2  0123456479             NaN   \n",
       "3      3  0456844570             NaN   \n",
       "4      4  0456808574             NaN   \n",
       "\n",
       "                                          categories  \\\n",
       "0  [['Clothing, Shoes & Jewelry', 'Girls'], ['Clo...   \n",
       "1  [['Clothing, Shoes & Jewelry', 'Girls', 'Cloth...   \n",
       "2  [['Clothing, Shoes & Jewelry', 'Novelty, Costu...   \n",
       "3  [['Clothing, Shoes & Jewelry', 'Women', 'Acces...   \n",
       "4  [['Clothing, Shoes & Jewelry', 'Women', 'Acces...   \n",
       "\n",
       "                                         description  \\\n",
       "0                                                      \n",
       "1  This adorable basic ballerina tutu is perfect ...   \n",
       "2  Elegance par excellence. Hand-crafted of the f...   \n",
       "3                                                      \n",
       "4                                                      \n",
       "\n",
       "                                               imUrl  price  \\\n",
       "0  http://ecx.images-amazon.com/images/I/31mCncNu...   6.99   \n",
       "1  http://ecx.images-amazon.com/images/I/314qZjYe...   6.79   \n",
       "2  http://ecx.images-amazon.com/images/I/413tGhqo...  64.98   \n",
       "3  http://ecx.images-amazon.com/images/I/31QZTHxv...    NaN   \n",
       "4  http://ecx.images-amazon.com/images/I/31UsrgT5...    NaN   \n",
       "\n",
       "                                             related  \\\n",
       "0  {'also_viewed': ['B00JO8II76', 'B00DGN4R1Q', '...   \n",
       "1  {'also_bought': ['0000031852', '0000031895', '...   \n",
       "2  {'also_bought': ['B000BMTCK6', 'B0006JCGUM', '...   \n",
       "3  {'also_viewed': ['B008MTRT1O', 'B00BUG47S4', '...   \n",
       "4  {'also_viewed': ['B00A6JD8EA', 'B00BFL4FTA', '...   \n",
       "\n",
       "                         salesRank  \\\n",
       "0            {'Clothing': 1233557}   \n",
       "1  {'Sports &amp; Outdoors': 8547}   \n",
       "2      {'Kitchen & Dining': 16987}   \n",
       "3            {'Clothing': 1180499}   \n",
       "4            {'Clothing': 1038084}   \n",
       "\n",
       "                                               title  \n",
       "0  Purple Sequin Tiny Dancer Tutu Ballet Dance Fa...  \n",
       "1                         Ballet Dress-Up Fairy Tutu  \n",
       "2  SHINING IMAGE HUGE PINK LEATHER JEWELRY BOX / ...  \n",
       "3  RiZ Women's Beautify Crafted &frac12; Rimmed F...  \n",
       "4  Lantin White Visor Wrap Around Ski Style Aviat...  "
      ]
     },
     "execution_count": 35,
     "metadata": {},
     "output_type": "execute_result"
    }
   ],
   "source": [
    "new_df  =  new_df.reset_index()\n",
    "titles = new_df['title']\n",
    "prod_id  = new_df['asin']\n",
    "#indices = pd.Series(new_df.index, index=new_df['title'])\n",
    "new_df.head(5)\n"
   ]
  },
  {
   "cell_type": "code",
   "execution_count": 38,
   "metadata": {},
   "outputs": [],
   "source": []
  },
  {
   "cell_type": "code",
   "execution_count": 58,
   "metadata": {},
   "outputs": [
    {
     "data": {
      "text/plain": [
       "\"'\""
      ]
     },
     "execution_count": 58,
     "metadata": {},
     "output_type": "execute_result"
    }
   ],
   "source": []
  },
  {
   "cell_type": "code",
   "execution_count": 39,
   "metadata": {},
   "outputs": [
    {
     "data": {
      "text/plain": [
       "(600, 10)"
      ]
     },
     "execution_count": 39,
     "metadata": {},
     "output_type": "execute_result"
    }
   ],
   "source": [
    "new_df.shape"
   ]
  },
  {
   "cell_type": "code",
   "execution_count": 40,
   "metadata": {},
   "outputs": [],
   "source": [
    "indices = pd.Series(new_df.index, index=new_df['title'])"
   ]
  },
  {
   "cell_type": "code",
   "execution_count": 41,
   "metadata": {},
   "outputs": [],
   "source": [
    "\n",
    "# recommend 10 most similar products\n",
    "def get_recommendations(title):\n",
    "    idx = indices[title]\n",
    "    sim_scores = list(enumerate(cosine_similarity[idx]))\n",
    "    sim_scores = sorted(sim_scores, key=lambda x: x[1], reverse=True)\n",
    "    sim_scores = sim_scores[1:11]\n",
    "    product_indices = [i[0] for i in sim_scores]\n",
    "    return category.iloc[product_indices]"
   ]
  },
  {
   "cell_type": "code",
   "execution_count": 44,
   "metadata": {},
   "outputs": [
    {
     "data": {
      "text/plain": [
       "211    [['Clothing, Shoes & Jewelry', 'Novelty, Costu...\n",
       "74     [['Clothing, Shoes & Jewelry', 'Women', 'Watch...\n",
       "367    [['Clothing, Shoes & Jewelry', 'Novelty, Costu...\n",
       "17     [['Clothing, Shoes & Jewelry', 'Novelty, Costu...\n",
       "25     [['Clothing, Shoes & Jewelry', 'Men', 'Watches...\n",
       "28     [['Clothing, Shoes & Jewelry', 'Men', 'Watches...\n",
       "375    [['Clothing, Shoes & Jewelry', 'Novelty, Costu...\n",
       "82     [['Clothing, Shoes & Jewelry', 'Men', 'Watches...\n",
       "280    [['Clothing, Shoes & Jewelry', 'Novelty, Costu...\n",
       "114    [['Clothing, Shoes & Jewelry', 'Novelty, Costu...\n",
       "Name: categories, dtype: object"
      ]
     },
     "execution_count": 44,
     "metadata": {},
     "output_type": "execute_result"
    }
   ],
   "source": [
    "get_recommendations('Ballet Dress-Up Fairy Tutu')"
   ]
  },
  {
   "cell_type": "code",
   "execution_count": 70,
   "metadata": {},
   "outputs": [],
   "source": [
    "#reviews_Clothing_Shoes_and_Jewelry_df.head(5).T"
   ]
  },
  {
   "cell_type": "code",
   "execution_count": 82,
   "metadata": {},
   "outputs": [
    {
     "name": "stdout",
     "output_type": "stream",
     "text": [
      "<class 'pandas.core.frame.DataFrame'>\n",
      "Int64Index: 1000000 entries, 0 to 999999\n",
      "Data columns (total 9 columns):\n",
      "asin           1000000 non-null object\n",
      "brand          70961 non-null object\n",
      "categories     1000000 non-null object\n",
      "description    1000000 non-null object\n",
      "imUrl          999923 non-null object\n",
      "price          344625 non-null float64\n",
      "related        622429 non-null object\n",
      "salesRank      941910 non-null object\n",
      "title          999396 non-null object\n",
      "dtypes: float64(1), object(8)\n",
      "memory usage: 76.3+ MB\n"
     ]
    }
   ],
   "source": [
    "meta_Clothing_Shoes_and_Jewelry_df.info()"
   ]
  },
  {
   "cell_type": "code",
   "execution_count": null,
   "metadata": {},
   "outputs": [],
   "source": []
  },
  {
   "cell_type": "markdown",
   "metadata": {},
   "source": [
    "# Work in Progress: In the process of building better content based filtering using Categories field in meta data:"
   ]
  },
  {
   "cell_type": "code",
   "execution_count": null,
   "metadata": {},
   "outputs": [],
   "source": []
  },
  {
   "cell_type": "code",
   "execution_count": 59,
   "metadata": {},
   "outputs": [],
   "source": [
    "new_df['categories'] = new_df['categories'].apply(literal_eval)"
   ]
  },
  {
   "cell_type": "code",
   "execution_count": 165,
   "metadata": {},
   "outputs": [],
   "source": [
    "category = new_df['categories']\n"
   ]
  },
  {
   "cell_type": "code",
   "execution_count": 238,
   "metadata": {},
   "outputs": [],
   "source": [
    "category2 = category[0:3]"
   ]
  },
  {
   "cell_type": "code",
   "execution_count": 134,
   "metadata": {},
   "outputs": [],
   "source": [
    "flat_list = [item for sublist in category2 for item in sublist]"
   ]
  },
  {
   "cell_type": "code",
   "execution_count": 166,
   "metadata": {},
   "outputs": [
    {
     "data": {
      "text/plain": [
       "[['Clothing, Shoes & Jewelry', 'Girls'],\n",
       " ['Clothing, Shoes & Jewelry',\n",
       "  'Novelty, Costumes & More',\n",
       "  'Costumes & Accessories',\n",
       "  'More Accessories',\n",
       "  'Kids & Baby']]"
      ]
     },
     "execution_count": 166,
     "metadata": {},
     "output_type": "execute_result"
    }
   ],
   "source": [
    "category[0]"
   ]
  },
  {
   "cell_type": "code",
   "execution_count": 236,
   "metadata": {},
   "outputs": [],
   "source": [
    "def cat_concat():\n",
    "    flat_list = []\n",
    "    for i in range(0, 2):\n",
    "        x = []\n",
    "        for sublist in category[i]:\n",
    "            for item in sublist:\n",
    "                \n",
    "                x.append(item)\n",
    "        flat_list.append(''.join(x))     \n",
    "    return flat_list"
   ]
  },
  {
   "cell_type": "code",
   "execution_count": 237,
   "metadata": {},
   "outputs": [
    {
     "data": {
      "text/plain": [
       "['Clothing, Shoes & JewelryGirlsClothing, Shoes & JewelryNovelty, Costumes & MoreCostumes & AccessoriesMore AccessoriesKids & Baby',\n",
       " 'Clothing, Shoes & JewelryGirlsClothingActiveActive Skirts']"
      ]
     },
     "execution_count": 237,
     "metadata": {},
     "output_type": "execute_result"
    }
   ],
   "source": [
    "cat_concat()"
   ]
  },
  {
   "cell_type": "code",
   "execution_count": 222,
   "metadata": {},
   "outputs": [],
   "source": [
    "l = ''.join(flat_list).strip(' ')"
   ]
  },
  {
   "cell_type": "code",
   "execution_count": 223,
   "metadata": {},
   "outputs": [
    {
     "data": {
      "text/plain": [
       "'Clothing, Shoes & JewelryGirlsClothing, Shoes & JewelryNovelty, Costumes & MoreCostumes & AccessoriesMore AccessoriesKids & Baby'"
      ]
     },
     "execution_count": 223,
     "metadata": {},
     "output_type": "execute_result"
    }
   ],
   "source": [
    "l"
   ]
  },
  {
   "cell_type": "code",
   "execution_count": 224,
   "metadata": {},
   "outputs": [
    {
     "ename": "AttributeError",
     "evalue": "'str' object has no attribute 'apply'",
     "output_type": "error",
     "traceback": [
      "\u001b[0;31m-------------------------------------------------\u001b[0m",
      "\u001b[0;31mAttributeError\u001b[0m  Traceback (most recent call last)",
      "\u001b[0;32m<ipython-input-224-7bb8c438fc70>\u001b[0m in \u001b[0;36m<module>\u001b[0;34m()\u001b[0m\n\u001b[0;32m----> 1\u001b[0;31m \u001b[0mk\u001b[0m \u001b[0;34m=\u001b[0m \u001b[0ml\u001b[0m\u001b[0;34m.\u001b[0m\u001b[0mapply\u001b[0m\u001b[0;34m(\u001b[0m\u001b[0;32mlambda\u001b[0m \u001b[0mx\u001b[0m\u001b[0;34m:\u001b[0m \u001b[0;34m[\u001b[0m\u001b[0mstr\u001b[0m\u001b[0;34m.\u001b[0m\u001b[0mlower\u001b[0m\u001b[0;34m(\u001b[0m\u001b[0mi\u001b[0m\u001b[0;34m.\u001b[0m\u001b[0mreplace\u001b[0m\u001b[0;34m(\u001b[0m\u001b[0;34m\" \"\u001b[0m\u001b[0;34m,\u001b[0m \u001b[0;34m\"\"\u001b[0m\u001b[0;34m)\u001b[0m\u001b[0;34m)\u001b[0m \u001b[0;32mfor\u001b[0m \u001b[0mi\u001b[0m \u001b[0;32min\u001b[0m \u001b[0mx\u001b[0m\u001b[0;34m]\u001b[0m\u001b[0;34m)\u001b[0m\u001b[0;34m\u001b[0m\u001b[0m\n\u001b[0m",
      "\u001b[0;31mAttributeError\u001b[0m: 'str' object has no attribute 'apply'"
     ]
    }
   ],
   "source": [
    "k = l.apply(lambda x: [str.lower(i.replace(\" \", \"\")) for i in x])"
   ]
  },
  {
   "cell_type": "code",
   "execution_count": 100,
   "metadata": {},
   "outputs": [],
   "source": [
    "#new_df['categories2'] = category1.iloc[indices]"
   ]
  },
  {
   "cell_type": "code",
   "execution_count": 79,
   "metadata": {},
   "outputs": [
    {
     "data": {
      "text/plain": [
       "0    [[Clothing, Shoes & Jewelry, Girls], [Clothing...\n",
       "1    [[Clothing, Shoes & Jewelry, Girls, Clothing, ...\n",
       "2    [[Clothing, Shoes & Jewelry, Novelty, Costumes...\n",
       "Name: categories2, dtype: object"
      ]
     },
     "execution_count": 79,
     "metadata": {},
     "output_type": "execute_result"
    }
   ],
   "source": [
    "new_df['categories2'][0:3]"
   ]
  },
  {
   "cell_type": "code",
   "execution_count": null,
   "metadata": {},
   "outputs": [],
   "source": []
  }
 ],
 "metadata": {
  "kernelspec": {
   "display_name": "Environment (conda_python3)",
   "language": "python",
   "name": "conda_python3"
  },
  "language_info": {
   "codemirror_mode": {
    "name": "ipython",
    "version": 3
   },
   "file_extension": ".py",
   "mimetype": "text/x-python",
   "name": "python",
   "nbconvert_exporter": "python",
   "pygments_lexer": "ipython3",
   "version": "3.6.6"
  }
 },
 "nbformat": 4,
 "nbformat_minor": 2
}
