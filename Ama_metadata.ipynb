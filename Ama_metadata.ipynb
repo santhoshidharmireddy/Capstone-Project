{
 "cells": [
  {
   "cell_type": "code",
   "execution_count": 3,
   "metadata": {},
   "outputs": [],
   "source": [
    "import numpy as np\n",
    "import pandas as pd\n"
   ]
  },
  {
   "cell_type": "code",
   "execution_count": 3,
   "metadata": {},
   "outputs": [],
   "source": [
    "#meta_dat = [i.strip().split(\"::\") for i in open('../metadata.json', 'r',encoding = \"ISO-8859-1\").readlines()]"
   ]
  },
  {
   "cell_type": "code",
   "execution_count": 4,
   "metadata": {},
   "outputs": [],
   "source": [
    "# Reading files stored in EC2 memory\n",
    "#books_ratings = pd.read_csv('../ratings_Books.csv', header=None)"
   ]
  },
  {
   "cell_type": "code",
   "execution_count": 5,
   "metadata": {},
   "outputs": [],
   "source": [
    "#books_ratings.columns = ['UserID','ItemID','rating','Timestamp']"
   ]
  },
  {
   "cell_type": "code",
   "execution_count": 6,
   "metadata": {},
   "outputs": [],
   "source": [
    "#books_ratings.head(5)"
   ]
  },
  {
   "cell_type": "code",
   "execution_count": 5,
   "metadata": {},
   "outputs": [
    {
     "name": "stdout",
     "output_type": "stream",
     "text": [
      "\n",
      "The following command must be run outside of the IPython shell:\n",
      "\n",
      "    $ pip install --upgrade pip \n",
      "\n",
      "The Python package manager (pip) can only be used from outside of IPython.\n",
      "Please reissue the `pip` command in a separate terminal or command prompt.\n",
      "\n",
      "See the Python documentation for more information on how to install packages:\n",
      "\n",
      "    https://docs.python.org/3/installing/\n"
     ]
    }
   ],
   "source": [
    "pip install --upgrade pip "
   ]
  },
  {
   "cell_type": "code",
   "execution_count": 158,
   "metadata": {},
   "outputs": [],
   "source": [
    "# Reading json data files from S3 using lazyread\n",
    "# import boto3\n",
    "# from lazyreader import lazyread\n",
    "# client = boto3.client('s3')\n",
    "# s3_object = client.get_object(Bucket='santhoshi-sparkle', Key='amazon-data/s3-test.json')\n",
    "# body = s3_object['Body']\n",
    "\n",
    "# for doc in lazyread(body, delimiter=b'\\n'):\n",
    "#     print(doc)"
   ]
  },
  {
   "cell_type": "code",
   "execution_count": 7,
   "metadata": {},
   "outputs": [
    {
     "name": "stdout",
     "output_type": "stream",
     "text": [
      "Requirement already up-to-date: pip in /home/ubuntu/anaconda3/envs/python3/lib/python3.6/site-packages (18.0)\n",
      "Requirement already satisfied: lazyreader in /home/ubuntu/anaconda3/envs/python3/lib/python3.6/site-packages (1.0.1)\n"
     ]
    }
   ],
   "source": [
    "import sys\n",
    "!{sys.executable} -m pip install --upgrade pip\n",
    "!{sys.executable} -m pip install lazyreader"
   ]
  },
  {
   "cell_type": "code",
   "execution_count": 70,
   "metadata": {},
   "outputs": [
    {
     "name": "stdout",
     "output_type": "stream",
     "text": [
      "b\"{'asin': '0001048791', 'salesRank': {'Books': 6334800}, 'imUrl': 'http://ecx.images-amazon.com/images/I/51MKP0T4DBL.jpg', 'categories': [['Books']], 'title': 'The Crucible: Performed by Stuart Pankin, Jerome Dempsey &amp; Cast'}\\n\"\n",
      "b\"{'asin': '0001048775', 'description': 'William Shakespeare is widely regarded as the greatest playwright the world has seen. He produced an astonishing amount of work; 37 plays, 154 sonnets, and 5 poems. He died on 23rd April 1616, aged 52, and was buried in the Holy Trinity Church, Stratford.', 'title': 'Measure for Measure: Complete &amp; Unabridged', 'imUrl': 'http://ecx.images-amazon.com/images/I/5166EBHDQYL.jpg', 'salesRank': {'Books': 13243226}, 'categories': [['Books']]}\\n\"\n",
      "b'{\\'asin\\': \\'0001048236\\', \\'categories\\': [[\\'Books\\']], \\'description\\': \"&#34;One thing is certain, Sherlockians, put aside your Baring-GouldAnnotated, your Folio SocietyIllustrated-for the time being, the Oxford is the edition to curl up with on a winter\\'s night&#34;--The Chicago Tribune&#34;An incomparable gift book; or, should you find it impossible to surrender up such treasures, the best of gifts to oneself&#34;--USA Today&#34;To the true Sherlockian, this will be a treasure; to otherwise diverted detective story fans, it is a rich lode for discovery&#34;--Denver Post&#34;The complete and authentic adventures of the legendary detective--expertly edited and annotated by a team of Holmes scholars....in a handsome, boxed set....A lovely gift&#34;--The Christian Science Monitor&#34;Here in nine volumes...are all the adventures of Holmes and Watson. Each book has an introduction, something new and fascinating for even the most devoted Holmesians plus a series of intelligent notes at the back of each volume.&#34;--Oxford Times&#34;TheOxford Sherlock Holmes, a new edition of the stories, is a splendid piece of publishing. Nine compact volumes, beautifully produced, each with a stimulating introduction; clear type, accurate texts, a handy chronology, a helpful bibliography. And, most valuable of all, explanatory notes running to 50 pages or more per volume.&#34; --John Gross, writing inSunday Telegraph--This text refers to thePaperbackedition.\", \\'title\\': \\'The Sherlock Holmes Audio Collection\\', \\'price\\': 9.26, \\'salesRank\\': {\\'Books\\': 8973864}, \\'imUrl\\': \\'http://ecx.images-amazon.com/images/I/51DH145C5JL.jpg\\', \\'related\\': {\\'also_viewed\\': [\\'1442300191\\', \\'9626349786\\', \\'1602837155\\', \\'1598879162\\', \\'1400115159\\', \\'1478396202\\', \\'1408426250\\', \\'B007PM2A4A\\', \\'1609980603\\'], \\'buy_after_viewing\\': [\\'0312089457\\']}}\\n'\n",
      "b'{\\'asin\\': \\'0000401048\\', \\'title\\': \"The rogue of publishers\\' row;: Confessions of a publisher (A Banner Book)\", \\'imUrl\\': \\'http://ecx.images-amazon.com/images/I/41bchvIfgaL.jpg\\', \\'related\\': {\\'also_viewed\\': [\\'068240103X\\']}, \\'salesRank\\': {\\'Books\\': 6448843}, \\'categories\\': [[\\'Books\\']]}\\n'\n"
     ]
    }
   ],
   "source": [
    "import boto3\n",
    "import lazyreader\n",
    "from lazyreader import lazyread\n",
    "client = boto3.client('s3')\n",
    "s3_object = client.get_object(Bucket='santhoshi-sparkle', Key='amazon-data/meta_Books.json')\n",
    "body = s3_object['Body']\n",
    "count = 1\n",
    "\n",
    "for doc in lazyread(body, delimiter=b'\\n'):\n",
    "    print(doc)\n",
    "    count = count +1\n",
    "    if count > 4:\n",
    "        break"
   ]
  },
  {
   "cell_type": "code",
   "execution_count": 9,
   "metadata": {},
   "outputs": [
    {
     "name": "stdout",
     "output_type": "stream",
     "text": [
      "Requirement already satisfied: smart_open in /home/ubuntu/anaconda3/envs/python3/lib/python3.6/site-packages (1.6.0)\n",
      "Requirement already satisfied: boto3 in /home/ubuntu/anaconda3/envs/python3/lib/python3.6/site-packages (from smart_open) (1.7.60)\n",
      "Requirement already satisfied: boto>=2.32 in /home/ubuntu/anaconda3/envs/python3/lib/python3.6/site-packages (from smart_open) (2.49.0)\n",
      "Requirement already satisfied: bz2file in /home/ubuntu/anaconda3/envs/python3/lib/python3.6/site-packages (from smart_open) (0.98)\n",
      "Requirement already satisfied: requests in /home/ubuntu/anaconda3/envs/python3/lib/python3.6/site-packages (from smart_open) (2.19.1)\n",
      "Requirement already satisfied: jmespath<1.0.0,>=0.7.1 in /home/ubuntu/anaconda3/envs/python3/lib/python3.6/site-packages (from boto3->smart_open) (0.9.3)\n",
      "Requirement already satisfied: botocore<1.11.0,>=1.10.60 in /home/ubuntu/anaconda3/envs/python3/lib/python3.6/site-packages (from boto3->smart_open) (1.10.60)\n",
      "Requirement already satisfied: s3transfer<0.2.0,>=0.1.10 in /home/ubuntu/anaconda3/envs/python3/lib/python3.6/site-packages (from boto3->smart_open) (0.1.13)\n",
      "Requirement already satisfied: chardet<3.1.0,>=3.0.2 in /home/ubuntu/anaconda3/envs/python3/lib/python3.6/site-packages (from requests->smart_open) (3.0.4)\n",
      "Requirement already satisfied: idna<2.8,>=2.5 in /home/ubuntu/anaconda3/envs/python3/lib/python3.6/site-packages (from requests->smart_open) (2.7)\n",
      "Requirement already satisfied: certifi>=2017.4.17 in /home/ubuntu/anaconda3/envs/python3/lib/python3.6/site-packages (from requests->smart_open) (2018.4.16)\n",
      "Requirement already satisfied: urllib3<1.24,>=1.21.1 in /home/ubuntu/anaconda3/envs/python3/lib/python3.6/site-packages (from requests->smart_open) (1.23)\n",
      "Requirement already satisfied: docutils>=0.10 in /home/ubuntu/anaconda3/envs/python3/lib/python3.6/site-packages (from botocore<1.11.0,>=1.10.60->boto3->smart_open) (0.14)\n",
      "Requirement already satisfied: python-dateutil<3.0.0,>=2.1; python_version >= \"2.7\" in /home/ubuntu/anaconda3/envs/python3/lib/python3.6/site-packages (from botocore<1.11.0,>=1.10.60->boto3->smart_open) (2.7.3)\n",
      "Requirement already satisfied: six>=1.5 in /home/ubuntu/anaconda3/envs/python3/lib/python3.6/site-packages (from python-dateutil<3.0.0,>=2.1; python_version >= \"2.7\"->botocore<1.11.0,>=1.10.60->boto3->smart_open) (1.11.0)\n"
     ]
    }
   ],
   "source": [
    "!{sys.executable} -m pip install \n",
    "\n",
    "\n",
    "smart_open"
   ]
  },
  {
   "cell_type": "code",
   "execution_count": 10,
   "metadata": {},
   "outputs": [],
   "source": [
    "from smart_open import smart_open"
   ]
  },
  {
   "cell_type": "code",
   "execution_count": 159,
   "metadata": {},
   "outputs": [],
   "source": [
    "# Reding csv file from S3 and converting it into dataframe\n",
    "initial_df = pd.read_csv(smart_open('s3://santhoshi-sparkle/amazon-data/ratings_Books.csv'), header = None)"
   ]
  },
  {
   "cell_type": "code",
   "execution_count": 12,
   "metadata": {},
   "outputs": [],
   "source": [
    "initial_df.columns = ['UserID','ItemID','rating','Timestamp']"
   ]
  },
  {
   "cell_type": "code",
   "execution_count": 114,
   "metadata": {},
   "outputs": [],
   "source": [
    "#initial_df['Timestamp'] = pd.to_datetime(initial_df.Timestamp,unit='s')"
   ]
  },
  {
   "cell_type": "code",
   "execution_count": 117,
   "metadata": {},
   "outputs": [
    {
     "name": "stdout",
     "output_type": "stream",
     "text": [
      "<class 'pandas.core.frame.DataFrame'>\n",
      "RangeIndex: 22507155 entries, 0 to 22507154\n",
      "Data columns (total 4 columns):\n",
      "UserID       object\n",
      "ItemID       object\n",
      "rating       float64\n",
      "Timestamp    int64\n",
      "dtypes: float64(1), int64(1), object(2)\n",
      "memory usage: 686.9+ MB\n"
     ]
    }
   ],
   "source": [
    "#initial_df['new'] = initial_df['Timestamp'].dt.date\n",
    "initial_df.info()"
   ]
  },
  {
   "cell_type": "code",
   "execution_count": 15,
   "metadata": {},
   "outputs": [],
   "source": [
    "initial_df.head(5)\n",
    "new_df = initial_df.drop('Timestamp', axis = 1)"
   ]
  },
  {
   "cell_type": "code",
   "execution_count": 18,
   "metadata": {},
   "outputs": [],
   "source": [
    "missings = new_df.isnull().sum()"
   ]
  },
  {
   "cell_type": "code",
   "execution_count": 48,
   "metadata": {},
   "outputs": [
    {
     "data": {
      "text/plain": [
       "UserID    0\n",
       "ItemID    0\n",
       "rating    0\n",
       "dtype: int64"
      ]
     },
     "execution_count": 48,
     "metadata": {},
     "output_type": "execute_result"
    }
   ],
   "source": [
    "initial_df.shape\n",
    "missings"
   ]
  },
  {
   "cell_type": "code",
   "execution_count": 157,
   "metadata": {},
   "outputs": [],
   "source": [
    "import json\n",
    "import ast \n",
    "records = []\n",
    "count = 1\n",
    "for line in smart_open('s3://santhoshi-sparkle/amazon-data/meta_Books.json'):\n",
    "    mydict = ast.literal_eval(line.decode(\"utf-8\"))\n",
    "    count = count + 1\n",
    "    records.append(mydict)\n",
    "    if count > 4:\n",
    "        break\n",
    " "
   ]
  },
  {
   "cell_type": "code",
   "execution_count": 156,
   "metadata": {},
   "outputs": [
    {
     "data": {
      "text/plain": [
       "[{'asin': '0001048791',\n",
       "  'salesRank': {'Books': 6334800},\n",
       "  'imUrl': 'http://ecx.images-amazon.com/images/I/51MKP0T4DBL.jpg',\n",
       "  'categories': [['Books']],\n",
       "  'title': 'The Crucible: Performed by Stuart Pankin, Jerome Dempsey &amp; Cast'},\n",
       " {'asin': '0001048775',\n",
       "  'description': 'William Shakespeare is widely regarded as the greatest playwright the world has seen. He produced an astonishing amount of work; 37 plays, 154 sonnets, and 5 poems. He died on 23rd April 1616, aged 52, and was buried in the Holy Trinity Church, Stratford.',\n",
       "  'title': 'Measure for Measure: Complete &amp; Unabridged',\n",
       "  'imUrl': 'http://ecx.images-amazon.com/images/I/5166EBHDQYL.jpg',\n",
       "  'salesRank': {'Books': 13243226},\n",
       "  'categories': [['Books']]},\n",
       " {'asin': '0001048236',\n",
       "  'categories': [['Books']],\n",
       "  'description': \"&#34;One thing is certain, Sherlockians, put aside your Baring-GouldAnnotated, your Folio SocietyIllustrated-for the time being, the Oxford is the edition to curl up with on a winter's night&#34;--The Chicago Tribune&#34;An incomparable gift book; or, should you find it impossible to surrender up such treasures, the best of gifts to oneself&#34;--USA Today&#34;To the true Sherlockian, this will be a treasure; to otherwise diverted detective story fans, it is a rich lode for discovery&#34;--Denver Post&#34;The complete and authentic adventures of the legendary detective--expertly edited and annotated by a team of Holmes scholars....in a handsome, boxed set....A lovely gift&#34;--The Christian Science Monitor&#34;Here in nine volumes...are all the adventures of Holmes and Watson. Each book has an introduction, something new and fascinating for even the most devoted Holmesians plus a series of intelligent notes at the back of each volume.&#34;--Oxford Times&#34;TheOxford Sherlock Holmes, a new edition of the stories, is a splendid piece of publishing. Nine compact volumes, beautifully produced, each with a stimulating introduction; clear type, accurate texts, a handy chronology, a helpful bibliography. And, most valuable of all, explanatory notes running to 50 pages or more per volume.&#34; --John Gross, writing inSunday Telegraph--This text refers to thePaperbackedition.\",\n",
       "  'title': 'The Sherlock Holmes Audio Collection',\n",
       "  'price': 9.26,\n",
       "  'salesRank': {'Books': 8973864},\n",
       "  'imUrl': 'http://ecx.images-amazon.com/images/I/51DH145C5JL.jpg',\n",
       "  'related': {'also_viewed': ['1442300191',\n",
       "    '9626349786',\n",
       "    '1602837155',\n",
       "    '1598879162',\n",
       "    '1400115159',\n",
       "    '1478396202',\n",
       "    '1408426250',\n",
       "    'B007PM2A4A',\n",
       "    '1609980603'],\n",
       "   'buy_after_viewing': ['0312089457']}},\n",
       " {'asin': '0000401048',\n",
       "  'title': \"The rogue of publishers' row;: Confessions of a publisher (A Banner Book)\",\n",
       "  'imUrl': 'http://ecx.images-amazon.com/images/I/41bchvIfgaL.jpg',\n",
       "  'related': {'also_viewed': ['068240103X']},\n",
       "  'salesRank': {'Books': 6448843},\n",
       "  'categories': [['Books']]}]"
      ]
     },
     "execution_count": 156,
     "metadata": {},
     "output_type": "execute_result"
    }
   ],
   "source": [
    "records"
   ]
  },
  {
   "cell_type": "code",
   "execution_count": 162,
   "metadata": {},
   "outputs": [
    {
     "data": {
      "text/html": [
       "<div>\n",
       "<style scoped>\n",
       "    .dataframe tbody tr th:only-of-type {\n",
       "        vertical-align: middle;\n",
       "    }\n",
       "\n",
       "    .dataframe tbody tr th {\n",
       "        vertical-align: top;\n",
       "    }\n",
       "\n",
       "    .dataframe thead th {\n",
       "        text-align: right;\n",
       "    }\n",
       "</style>\n",
       "<table border=\"1\" class=\"dataframe\">\n",
       "  <thead>\n",
       "    <tr style=\"text-align: right;\">\n",
       "      <th></th>\n",
       "      <th>0</th>\n",
       "      <th>1</th>\n",
       "      <th>2</th>\n",
       "      <th>3</th>\n",
       "    </tr>\n",
       "  </thead>\n",
       "  <tbody>\n",
       "    <tr>\n",
       "      <th>asin</th>\n",
       "      <td>0001048791</td>\n",
       "      <td>0001048775</td>\n",
       "      <td>0001048236</td>\n",
       "      <td>0000401048</td>\n",
       "    </tr>\n",
       "    <tr>\n",
       "      <th>categories</th>\n",
       "      <td>[[Books]]</td>\n",
       "      <td>[[Books]]</td>\n",
       "      <td>[[Books]]</td>\n",
       "      <td>[[Books]]</td>\n",
       "    </tr>\n",
       "    <tr>\n",
       "      <th>description</th>\n",
       "      <td>NaN</td>\n",
       "      <td>William Shakespeare is widely regarded as the ...</td>\n",
       "      <td>&amp;#34;One thing is certain, Sherlockians, put a...</td>\n",
       "      <td>NaN</td>\n",
       "    </tr>\n",
       "    <tr>\n",
       "      <th>imUrl</th>\n",
       "      <td>http://ecx.images-amazon.com/images/I/51MKP0T4...</td>\n",
       "      <td>http://ecx.images-amazon.com/images/I/5166EBHD...</td>\n",
       "      <td>http://ecx.images-amazon.com/images/I/51DH145C...</td>\n",
       "      <td>http://ecx.images-amazon.com/images/I/41bchvIf...</td>\n",
       "    </tr>\n",
       "    <tr>\n",
       "      <th>price</th>\n",
       "      <td>NaN</td>\n",
       "      <td>NaN</td>\n",
       "      <td>9.26</td>\n",
       "      <td>NaN</td>\n",
       "    </tr>\n",
       "    <tr>\n",
       "      <th>related</th>\n",
       "      <td>NaN</td>\n",
       "      <td>NaN</td>\n",
       "      <td>{'also_viewed': ['1442300191', '9626349786', '...</td>\n",
       "      <td>{'also_viewed': ['068240103X']}</td>\n",
       "    </tr>\n",
       "    <tr>\n",
       "      <th>salesRank</th>\n",
       "      <td>{'Books': 6334800}</td>\n",
       "      <td>{'Books': 13243226}</td>\n",
       "      <td>{'Books': 8973864}</td>\n",
       "      <td>{'Books': 6448843}</td>\n",
       "    </tr>\n",
       "    <tr>\n",
       "      <th>title</th>\n",
       "      <td>The Crucible: Performed by Stuart Pankin, Jero...</td>\n",
       "      <td>Measure for Measure: Complete &amp;amp; Unabridged</td>\n",
       "      <td>The Sherlock Holmes Audio Collection</td>\n",
       "      <td>The rogue of publishers' row;: Confessions of ...</td>\n",
       "    </tr>\n",
       "  </tbody>\n",
       "</table>\n",
       "</div>"
      ],
      "text/plain": [
       "                                                             0  \\\n",
       "asin                                                0001048791   \n",
       "categories                                           [[Books]]   \n",
       "description                                                NaN   \n",
       "imUrl        http://ecx.images-amazon.com/images/I/51MKP0T4...   \n",
       "price                                                      NaN   \n",
       "related                                                    NaN   \n",
       "salesRank                                   {'Books': 6334800}   \n",
       "title        The Crucible: Performed by Stuart Pankin, Jero...   \n",
       "\n",
       "                                                             1  \\\n",
       "asin                                                0001048775   \n",
       "categories                                           [[Books]]   \n",
       "description  William Shakespeare is widely regarded as the ...   \n",
       "imUrl        http://ecx.images-amazon.com/images/I/5166EBHD...   \n",
       "price                                                      NaN   \n",
       "related                                                    NaN   \n",
       "salesRank                                  {'Books': 13243226}   \n",
       "title           Measure for Measure: Complete &amp; Unabridged   \n",
       "\n",
       "                                                             2  \\\n",
       "asin                                                0001048236   \n",
       "categories                                           [[Books]]   \n",
       "description  &#34;One thing is certain, Sherlockians, put a...   \n",
       "imUrl        http://ecx.images-amazon.com/images/I/51DH145C...   \n",
       "price                                                     9.26   \n",
       "related      {'also_viewed': ['1442300191', '9626349786', '...   \n",
       "salesRank                                   {'Books': 8973864}   \n",
       "title                     The Sherlock Holmes Audio Collection   \n",
       "\n",
       "                                                             3  \n",
       "asin                                                0000401048  \n",
       "categories                                           [[Books]]  \n",
       "description                                                NaN  \n",
       "imUrl        http://ecx.images-amazon.com/images/I/41bchvIf...  \n",
       "price                                                      NaN  \n",
       "related                        {'also_viewed': ['068240103X']}  \n",
       "salesRank                                   {'Books': 6448843}  \n",
       "title        The rogue of publishers' row;: Confessions of ...  "
      ]
     },
     "execution_count": 162,
     "metadata": {},
     "output_type": "execute_result"
    }
   ],
   "source": [
    "# Converting list of dictionaries to dataframe\n",
    "pd.DataFrame(records).T"
   ]
  },
  {
   "cell_type": "code",
   "execution_count": 24,
   "metadata": {},
   "outputs": [],
   "source": [
    "# #Writing dataframes to S3 \n",
    "\n",
    "# from io import StringIO\n",
    "# import boto3\n",
    "\n",
    "# csv_buffer = StringIO()\n",
    "# df.to_csv(csv_buffer)\n",
    "# s3_resource = boto3.resource('s3')\n",
    "# s3_resource.Object(bucket, 'df.csv').put(Body=csv_buffer.getvalue())"
   ]
  }
 ],
 "metadata": {
  "kernelspec": {
   "display_name": "Environment (conda_python3)",
   "language": "python",
   "name": "conda_python3"
  },
  "language_info": {
   "codemirror_mode": {
    "name": "ipython",
    "version": 3
   },
   "file_extension": ".py",
   "mimetype": "text/x-python",
   "name": "python",
   "nbconvert_exporter": "python",
   "pygments_lexer": "ipython3",
   "version": "3.6.6"
  }
 },
 "nbformat": 4,
 "nbformat_minor": 2
}
