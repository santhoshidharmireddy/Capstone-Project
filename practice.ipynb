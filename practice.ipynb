{
 "cells": [
  {
   "cell_type": "markdown",
   "metadata": {},
   "source": [
    "## Recommender System: Walmart"
   ]
  },
  {
   "cell_type": "code",
   "execution_count": 1,
   "metadata": {},
   "outputs": [],
   "source": [
    "import numpy as np\n",
    "import pandas as pd\n",
    "import matplotlib.pyplot as plt\n",
    "%matplotlib inline\n",
    "from sklearn.linear_model import LogisticRegression\n",
    "from sklearn.model_selection import train_test_split\n",
    "import scipy.stats as scs"
   ]
  },
  {
   "cell_type": "code",
   "execution_count": 4,
   "metadata": {},
   "outputs": [],
   "source": [
    "walmart_dat = [i.strip().split(\"::\") for i in open('walmart.dat', 'r',encoding = \"ISO-8859-1\").readlines()]\n",
    "#users_list = [i.strip().split(\"::\") for i in open('data/users.dat', 'r',encoding = \"ISO-8859-1\").readlines()]"
   ]
  },
  {
   "cell_type": "code",
   "execution_count": 5,
   "metadata": {},
   "outputs": [],
   "source": [
    "#movies_list"
   ]
  },
  {
   "cell_type": "code",
   "execution_count": 5,
   "metadata": {},
   "outputs": [
    {
     "data": {
      "text/plain": [
       "31339"
      ]
     },
     "execution_count": 5,
     "metadata": {},
     "output_type": "execute_result"
    }
   ],
   "source": [
    "len(walmart_dat)"
   ]
  },
  {
   "cell_type": "code",
   "execution_count": 6,
   "metadata": {},
   "outputs": [],
   "source": [
    "walmart = np.array(walmart_dat)"
   ]
  },
  {
   "cell_type": "code",
   "execution_count": 7,
   "metadata": {},
   "outputs": [
    {
     "data": {
      "text/plain": [
       "(31339, 1)"
      ]
     },
     "execution_count": 7,
     "metadata": {},
     "output_type": "execute_result"
    }
   ],
   "source": [
    "walmart.shape"
   ]
  },
  {
   "cell_type": "code",
   "execution_count": 15,
   "metadata": {},
   "outputs": [
    {
     "data": {
      "text/plain": [
       "array(['{\"itemId\":33093102,\"name\":\"Apple iPad mini 16GB Wi-Fi + Sprint\",\"salePrice\":259.0,\"upc\":\"885909854134\",\"categoryPath\":\"Electronics/iPad & Tablets/All Tablets\",\"brandName\":\"Apple\",\"productTrackingUrl\":\"http://linksynergy.walmart.com/fs-bin/click?id=|LSNID|&offerid=223073.7200&type=14&catid=8&subid=0&hid=7200&tmpid=1082&RD_PARM1=https%253A%252F%252Fwww.walmart.com%252Fip%252FApple-iPad-mini-16GB-Wi-Fi-Sprint%252F33093102%253Faffp1%253DIx4u7d8Rd_SDMyuH3IGq1wZiP-cPQqvTP3FvW2frjWA%2526affilsrc%253Dapi\",\"productUrl\":\"http://c.affil.walmart.com/t/api06?l=https%3A%2F%2Fwww.walmart.com%2Fip%2FApple-iPad-mini-16GB-Wi-Fi-Sprint%2F33093102%3Faffp1%3DIx4u7d8Rd_SDMyuH3IGq1wZiP-cPQqvTP3FvW2frjWA%26affilsrc%3Dapi%26veh%3Daff%26wmlspartner%3Dreadonlyapi\",\"categoryNode\":\"3944_1078524_1078084\",\"reviews\":[{\"name\":\"Apple iPad mini 16GB Wi-Fi + Sprint\",\"overallRating\":{\"label\":\"Overall\",\"rating\":\"1\"},\"reviewer\":\"Tracey\",\"reviewText\":\"The product was the oldest operating system that wouldn\\'t even allow for updates. The Apple Store was shocked that anyone would have the nerve to still sell this.\",\"title\":\"Worst product\",\"upVotes\":\"42\",\"downVotes\":\"7\"}],\"reviewStatistics\":{\"averageOverallRating\":\"1.0\",\"overallRatingRange\":\"5\",\"ratingDistributions\":[{\"count\":\"1\",\"ratingValue\":\"1\"},{\"ratingValue\":\"2\"},{\"ratingValue\":\"3\"},{\"ratingValue\":\"4\"},{\"ratingValue\":\"5\"}],\"totalReviewCount\":\"1\"},\"availableOnline\":false}'],\n",
       "      dtype='<U6918')"
      ]
     },
     "execution_count": 15,
     "metadata": {},
     "output_type": "execute_result"
    }
   ],
   "source": [
    "walmart[1]\n"
   ]
  },
  {
   "cell_type": "code",
   "execution_count": 32,
   "metadata": {},
   "outputs": [
    {
     "data": {
      "text/plain": [
       "array(['{\"itemId\":33093102,\"name\":\"Apple iPad mini 16GB Wi-Fi + Sprint\",\"salePrice\":259.0,\"upc\":\"885909854134\",\"categoryPath\":\"Electronics/iPad & Tablets/All Tablets\",\"brandName\":\"Apple\",\"productTrackingUrl\":\"http://linksynergy.walmart.com/fs-bin/click?id=|LSNID|&offerid=223073.7200&type=14&catid=8&subid=0&hid=7200&tmpid=1082&RD_PARM1=https%253A%252F%252Fwww.walmart.com%252Fip%252FApple-iPad-mini-16GB-Wi-Fi-Sprint%252F33093102%253Faffp1%253DIx4u7d8Rd_SDMyuH3IGq1wZiP-cPQqvTP3FvW2frjWA%2526affilsrc%253Dapi\",\"productUrl\":\"http://c.affil.walmart.com/t/api06?l=https%3A%2F%2Fwww.walmart.com%2Fip%2FApple-iPad-mini-16GB-Wi-Fi-Sprint%2F33093102%3Faffp1%3DIx4u7d8Rd_SDMyuH3IGq1wZiP-cPQqvTP3FvW2frjWA%26affilsrc%3Dapi%26veh%3Daff%26wmlspartner%3Dreadonlyapi\",\"categoryNode\":\"3944_1078524_1078084\",\"reviews\":[{\"name\":\"Apple iPad mini 16GB Wi-Fi + Sprint\",\"overallRating\":{\"label\":\"Overall\",\"rating\":\"1\"},\"reviewer\":\"Tracey\",\"reviewText\":\"The product was the oldest operating system that wouldn\\'t even allow for updates. The Apple Store was shocked that anyone would have the nerve to still sell this.\",\"title\":\"Worst product\",\"upVotes\":\"42\",\"downVotes\":\"7\"}],\"reviewStatistics\":{\"averageOverallRating\":\"1.0\",\"overallRatingRange\":\"5\",\"ratingDistributions\":[{\"count\":\"1\",\"ratingValue\":\"1\"},{\"ratingValue\":\"2\"},{\"ratingValue\":\"3\"},{\"ratingValue\":\"4\"},{\"ratingValue\":\"5\"}],\"totalReviewCount\":\"1\"},\"availableOnline\":false}'],\n",
       "      dtype='<U6918')"
      ]
     },
     "execution_count": 32,
     "metadata": {},
     "output_type": "execute_result"
    }
   ],
   "source": [
    "#convering a list of dictionaries into columns\n",
    "a = walmart[1]\n",
    "a"
   ]
  },
  {
   "cell_type": "code",
   "execution_count": 33,
   "metadata": {},
   "outputs": [],
   "source": [
    "b = a[0].split(',')"
   ]
  },
  {
   "cell_type": "code",
   "execution_count": 39,
   "metadata": {},
   "outputs": [],
   "source": [
    "\n",
    "# for i in range(0, len(b)):\n",
    "#     print(b[i])     "
   ]
  },
  {
   "cell_type": "code",
   "execution_count": 40,
   "metadata": {},
   "outputs": [],
   "source": [
    "c = pd.DataFrame(b)"
   ]
  },
  {
   "cell_type": "code",
   "execution_count": 42,
   "metadata": {},
   "outputs": [
    {
     "data": {
      "text/html": [
       "<div>\n",
       "<style scoped>\n",
       "    .dataframe tbody tr th:only-of-type {\n",
       "        vertical-align: middle;\n",
       "    }\n",
       "\n",
       "    .dataframe tbody tr th {\n",
       "        vertical-align: top;\n",
       "    }\n",
       "\n",
       "    .dataframe thead th {\n",
       "        text-align: right;\n",
       "    }\n",
       "</style>\n",
       "<table border=\"1\" class=\"dataframe\">\n",
       "  <thead>\n",
       "    <tr style=\"text-align: right;\">\n",
       "      <th></th>\n",
       "      <th>0</th>\n",
       "    </tr>\n",
       "  </thead>\n",
       "  <tbody>\n",
       "    <tr>\n",
       "      <th>0</th>\n",
       "      <td>{\"itemId\":33093102</td>\n",
       "    </tr>\n",
       "    <tr>\n",
       "      <th>1</th>\n",
       "      <td>\"name\":\"Apple iPad mini 16GB Wi-Fi + Sprint\"</td>\n",
       "    </tr>\n",
       "    <tr>\n",
       "      <th>2</th>\n",
       "      <td>\"salePrice\":259.0</td>\n",
       "    </tr>\n",
       "    <tr>\n",
       "      <th>3</th>\n",
       "      <td>\"upc\":\"885909854134\"</td>\n",
       "    </tr>\n",
       "    <tr>\n",
       "      <th>4</th>\n",
       "      <td>\"categoryPath\":\"Electronics/iPad &amp; Tablets/All...</td>\n",
       "    </tr>\n",
       "    <tr>\n",
       "      <th>5</th>\n",
       "      <td>\"brandName\":\"Apple\"</td>\n",
       "    </tr>\n",
       "    <tr>\n",
       "      <th>6</th>\n",
       "      <td>\"productTrackingUrl\":\"http://linksynergy.walma...</td>\n",
       "    </tr>\n",
       "    <tr>\n",
       "      <th>7</th>\n",
       "      <td>\"productUrl\":\"http://c.affil.walmart.com/t/api...</td>\n",
       "    </tr>\n",
       "    <tr>\n",
       "      <th>8</th>\n",
       "      <td>\"categoryNode\":\"3944_1078524_1078084\"</td>\n",
       "    </tr>\n",
       "    <tr>\n",
       "      <th>9</th>\n",
       "      <td>\"reviews\":[{\"name\":\"Apple iPad mini 16GB Wi-Fi...</td>\n",
       "    </tr>\n",
       "    <tr>\n",
       "      <th>10</th>\n",
       "      <td>\"overallRating\":{\"label\":\"Overall\"</td>\n",
       "    </tr>\n",
       "    <tr>\n",
       "      <th>11</th>\n",
       "      <td>\"rating\":\"1\"}</td>\n",
       "    </tr>\n",
       "    <tr>\n",
       "      <th>12</th>\n",
       "      <td>\"reviewer\":\"Tracey\"</td>\n",
       "    </tr>\n",
       "    <tr>\n",
       "      <th>13</th>\n",
       "      <td>\"reviewText\":\"The product was the oldest opera...</td>\n",
       "    </tr>\n",
       "    <tr>\n",
       "      <th>14</th>\n",
       "      <td>\"title\":\"Worst product\"</td>\n",
       "    </tr>\n",
       "    <tr>\n",
       "      <th>15</th>\n",
       "      <td>\"upVotes\":\"42\"</td>\n",
       "    </tr>\n",
       "    <tr>\n",
       "      <th>16</th>\n",
       "      <td>\"downVotes\":\"7\"}]</td>\n",
       "    </tr>\n",
       "    <tr>\n",
       "      <th>17</th>\n",
       "      <td>\"reviewStatistics\":{\"averageOverallRating\":\"1.0\"</td>\n",
       "    </tr>\n",
       "    <tr>\n",
       "      <th>18</th>\n",
       "      <td>\"overallRatingRange\":\"5\"</td>\n",
       "    </tr>\n",
       "    <tr>\n",
       "      <th>19</th>\n",
       "      <td>\"ratingDistributions\":[{\"count\":\"1\"</td>\n",
       "    </tr>\n",
       "    <tr>\n",
       "      <th>20</th>\n",
       "      <td>\"ratingValue\":\"1\"}</td>\n",
       "    </tr>\n",
       "    <tr>\n",
       "      <th>21</th>\n",
       "      <td>{\"ratingValue\":\"2\"}</td>\n",
       "    </tr>\n",
       "    <tr>\n",
       "      <th>22</th>\n",
       "      <td>{\"ratingValue\":\"3\"}</td>\n",
       "    </tr>\n",
       "    <tr>\n",
       "      <th>23</th>\n",
       "      <td>{\"ratingValue\":\"4\"}</td>\n",
       "    </tr>\n",
       "    <tr>\n",
       "      <th>24</th>\n",
       "      <td>{\"ratingValue\":\"5\"}]</td>\n",
       "    </tr>\n",
       "    <tr>\n",
       "      <th>25</th>\n",
       "      <td>\"totalReviewCount\":\"1\"}</td>\n",
       "    </tr>\n",
       "    <tr>\n",
       "      <th>26</th>\n",
       "      <td>\"availableOnline\":false}</td>\n",
       "    </tr>\n",
       "  </tbody>\n",
       "</table>\n",
       "</div>"
      ],
      "text/plain": [
       "                                                    0\n",
       "0                                  {\"itemId\":33093102\n",
       "1        \"name\":\"Apple iPad mini 16GB Wi-Fi + Sprint\"\n",
       "2                                   \"salePrice\":259.0\n",
       "3                                \"upc\":\"885909854134\"\n",
       "4   \"categoryPath\":\"Electronics/iPad & Tablets/All...\n",
       "5                                 \"brandName\":\"Apple\"\n",
       "6   \"productTrackingUrl\":\"http://linksynergy.walma...\n",
       "7   \"productUrl\":\"http://c.affil.walmart.com/t/api...\n",
       "8               \"categoryNode\":\"3944_1078524_1078084\"\n",
       "9   \"reviews\":[{\"name\":\"Apple iPad mini 16GB Wi-Fi...\n",
       "10                 \"overallRating\":{\"label\":\"Overall\"\n",
       "11                                      \"rating\":\"1\"}\n",
       "12                                \"reviewer\":\"Tracey\"\n",
       "13  \"reviewText\":\"The product was the oldest opera...\n",
       "14                            \"title\":\"Worst product\"\n",
       "15                                     \"upVotes\":\"42\"\n",
       "16                                  \"downVotes\":\"7\"}]\n",
       "17   \"reviewStatistics\":{\"averageOverallRating\":\"1.0\"\n",
       "18                           \"overallRatingRange\":\"5\"\n",
       "19                \"ratingDistributions\":[{\"count\":\"1\"\n",
       "20                                 \"ratingValue\":\"1\"}\n",
       "21                                {\"ratingValue\":\"2\"}\n",
       "22                                {\"ratingValue\":\"3\"}\n",
       "23                                {\"ratingValue\":\"4\"}\n",
       "24                               {\"ratingValue\":\"5\"}]\n",
       "25                            \"totalReviewCount\":\"1\"}\n",
       "26                           \"availableOnline\":false}"
      ]
     },
     "execution_count": 42,
     "metadata": {},
     "output_type": "execute_result"
    }
   ],
   "source": [
    "c"
   ]
  },
  {
   "cell_type": "code",
   "execution_count": 3,
   "metadata": {},
   "outputs": [],
   "source": [
    "ama_dat = [i.strip().split(\"::\") for i in open('reviews_Musical_Instruments_5.json', 'r',encoding = \"ISO-8859-1\").readlines()]\n"
   ]
  },
  {
   "cell_type": "code",
   "execution_count": 6,
   "metadata": {},
   "outputs": [],
   "source": [
    "a_mi = np.array(ama_dat)"
   ]
  },
  {
   "cell_type": "code",
   "execution_count": 7,
   "metadata": {},
   "outputs": [
    {
     "data": {
      "text/plain": [
       "array([['{\"reviewerID\": \"A14VAT5EAX3D9S\", \"asin\": \"1384719342\", \"reviewerName\": \"Jake\", \"helpful\": [13, 14], \"reviewText\": \"The product does exactly as it should and is quite affordable.I did not realized it was double screened until it arrived, so it was even better than I had expected.As an added bonus, one of the screens carries a small hint of the smell of an old grape candy I used to buy, so for reminiscent\\'s sake, I cannot stop putting the pop filter next to my nose and smelling it after recording. :DIf you needed a pop filter, this will work just as well as the expensive ones, and it may even come with a pleasing aroma like mine did!Buy this product! :]\", \"overall\": 5.0, \"summary\": \"Jake\", \"unixReviewTime\": 1363392000, \"reviewTime\": \"03 16, 2013\"}'],\n",
       "       ['{\"reviewerID\": \"A195EZSQDW3E21\", \"asin\": \"1384719342\", \"reviewerName\": \"Rick Bennette \\\\\"Rick Bennette\\\\\"\", \"helpful\": [1, 1], \"reviewText\": \"The primary job of this device is to block the breath that would otherwise produce a popping sound, while allowing your voice to pass through with no noticeable reduction of volume or high frequencies. The double cloth filter blocks the pops and lets the voice through with no coloration. The metal clamp mount attaches to the mike stand secure enough to keep it attached. The goose neck needs a little coaxing to stay where you put it.\", \"overall\": 5.0, \"summary\": \"It Does The Job Well\", \"unixReviewTime\": 1377648000, \"reviewTime\": \"08 28, 2013\"}'],\n",
       "       ['{\"reviewerID\": \"A2C00NNG1ZQQG2\", \"asin\": \"1384719342\", \"reviewerName\": \"RustyBill \\\\\"Sunday Rocker\\\\\"\", \"helpful\": [0, 0], \"reviewText\": \"Nice windscreen protects my MXL mic and prevents pops. Only thing is that the gooseneck is only marginally able to hold the screen in position and requires careful positioning of the clamp to avoid sagging.\", \"overall\": 5.0, \"summary\": \"GOOD WINDSCREEN FOR THE MONEY\", \"unixReviewTime\": 1392336000, \"reviewTime\": \"02 14, 2014\"}'],\n",
       "       ['{\"reviewerID\": \"A94QU4C90B1AX\", \"asin\": \"1384719342\", \"reviewerName\": \"SEAN MASLANKA\", \"helpful\": [0, 0], \"reviewText\": \"This pop filter is great. It looks and performs like a studio filter. If you\\'re recording vocals this will eliminate the pops that gets recorded when you sing.\", \"overall\": 5.0, \"summary\": \"No more pops when I record my vocals.\", \"unixReviewTime\": 1392940800, \"reviewTime\": \"02 21, 2014\"}']],\n",
       "      dtype='<U11594')"
      ]
     },
     "execution_count": 7,
     "metadata": {},
     "output_type": "execute_result"
    }
   ],
   "source": [
    "a_mi[1:5]"
   ]
  },
  {
   "cell_type": "code",
   "execution_count": 8,
   "metadata": {},
   "outputs": [],
   "source": [
    "a_mi_ratings = pd.read_csv('ratings_Musical_Instruments.csv', )"
   ]
  },
  {
   "cell_type": "code",
   "execution_count": 9,
   "metadata": {},
   "outputs": [
    {
     "data": {
      "text/plain": [
       "(500175, 4)"
      ]
     },
     "execution_count": 9,
     "metadata": {},
     "output_type": "execute_result"
    }
   ],
   "source": [
    "a_mi_ratings.shape"
   ]
  },
  {
   "cell_type": "code",
   "execution_count": 10,
   "metadata": {},
   "outputs": [
    {
     "data": {
      "text/html": [
       "<div>\n",
       "<style scoped>\n",
       "    .dataframe tbody tr th:only-of-type {\n",
       "        vertical-align: middle;\n",
       "    }\n",
       "\n",
       "    .dataframe tbody tr th {\n",
       "        vertical-align: top;\n",
       "    }\n",
       "\n",
       "    .dataframe thead th {\n",
       "        text-align: right;\n",
       "    }\n",
       "</style>\n",
       "<table border=\"1\" class=\"dataframe\">\n",
       "  <thead>\n",
       "    <tr style=\"text-align: right;\">\n",
       "      <th></th>\n",
       "      <th>A1YS9MDZP93857</th>\n",
       "      <th>0006428320</th>\n",
       "      <th>3.0</th>\n",
       "      <th>1394496000</th>\n",
       "    </tr>\n",
       "  </thead>\n",
       "  <tbody>\n",
       "    <tr>\n",
       "      <th>0</th>\n",
       "      <td>A3TS466QBAWB9D</td>\n",
       "      <td>0014072149</td>\n",
       "      <td>5.0</td>\n",
       "      <td>1370476800</td>\n",
       "    </tr>\n",
       "    <tr>\n",
       "      <th>1</th>\n",
       "      <td>A3BUDYITWUSIS7</td>\n",
       "      <td>0041291905</td>\n",
       "      <td>5.0</td>\n",
       "      <td>1381708800</td>\n",
       "    </tr>\n",
       "    <tr>\n",
       "      <th>2</th>\n",
       "      <td>A19K10Z0D2NTZK</td>\n",
       "      <td>0041913574</td>\n",
       "      <td>5.0</td>\n",
       "      <td>1285200000</td>\n",
       "    </tr>\n",
       "    <tr>\n",
       "      <th>3</th>\n",
       "      <td>A14X336IB4JD89</td>\n",
       "      <td>0201891859</td>\n",
       "      <td>1.0</td>\n",
       "      <td>1350432000</td>\n",
       "    </tr>\n",
       "    <tr>\n",
       "      <th>4</th>\n",
       "      <td>A2HR0IL3TC4CKL</td>\n",
       "      <td>0577088726</td>\n",
       "      <td>5.0</td>\n",
       "      <td>1371168000</td>\n",
       "    </tr>\n",
       "  </tbody>\n",
       "</table>\n",
       "</div>"
      ],
      "text/plain": [
       "   A1YS9MDZP93857  0006428320  3.0  1394496000\n",
       "0  A3TS466QBAWB9D  0014072149  5.0  1370476800\n",
       "1  A3BUDYITWUSIS7  0041291905  5.0  1381708800\n",
       "2  A19K10Z0D2NTZK  0041913574  5.0  1285200000\n",
       "3  A14X336IB4JD89  0201891859  1.0  1350432000\n",
       "4  A2HR0IL3TC4CKL  0577088726  5.0  1371168000"
      ]
     },
     "execution_count": 10,
     "metadata": {},
     "output_type": "execute_result"
    }
   ],
   "source": [
    "a_mi_ratings.head(5)"
   ]
  },
  {
   "cell_type": "code",
   "execution_count": null,
   "metadata": {},
   "outputs": [],
   "source": []
  }
 ],
 "metadata": {
  "kernelspec": {
   "display_name": "Python 3",
   "language": "python",
   "name": "python3"
  },
  "language_info": {
   "codemirror_mode": {
    "name": "ipython",
    "version": 3
   },
   "file_extension": ".py",
   "mimetype": "text/x-python",
   "name": "python",
   "nbconvert_exporter": "python",
   "pygments_lexer": "ipython3",
   "version": "3.6.4"
  }
 },
 "nbformat": 4,
 "nbformat_minor": 2
}
